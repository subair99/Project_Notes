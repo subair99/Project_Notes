{
 "cells": [
  {
   "cell_type": "markdown",
   "metadata": {},
   "source": [
    "# Project_Notes_006"
   ]
  },
  {
   "cell_type": "markdown",
   "metadata": {},
   "source": [
    "## New York City Airbnb\n",
    "In this project, a data with 102599 rows and 26 columns will be used to predict New York City Airbnb apartment prices. DecisionTreeRegressor and XGB will be applied and the algorithm with the lowest RMSE tuned so that the best hyperparameters are selected for the final model."
   ]
  },
  {
   "cell_type": "code",
   "execution_count": 1,
   "metadata": {
    "executionInfo": {
     "elapsed": 20,
     "status": "ok",
     "timestamp": 1668126704090,
     "user": {
      "displayName": "AbdulKabir Subair",
      "userId": "00561224018120545100"
     },
     "user_tz": -60
    },
    "id": "MEYQtA27voTj"
   },
   "outputs": [],
   "source": [
    "# Surpress Warnings.\n",
    "import warnings\n",
    "warnings.simplefilter(action='ignore', category=FutureWarning)\n",
    "\n",
    "# Import required modules.\n",
    "import numpy as np\n",
    "import pandas as pd\n",
    "import seaborn as sns\n",
    "import xgboost as xgb\n",
    "import pickle\n",
    "import matplotlib.pyplot as plt\n",
    "from sklearn.tree import DecisionTreeRegressor\n",
    "from sklearn.tree import export_text\n",
    "from sklearn.feature_extraction import DictVectorizer\n",
    "from sklearn.model_selection import train_test_split\n",
    "from sklearn.metrics import mean_squared_error\n",
    "\n",
    "%matplotlib inline"
   ]
  },
  {
   "cell_type": "code",
   "execution_count": 2,
   "metadata": {},
   "outputs": [],
   "source": [
    "# Define path.\n",
    "path = './data/Project_Notes_006_NYC_Airbnb.parquet'"
   ]
  },
  {
   "cell_type": "code",
   "execution_count": 3,
   "metadata": {
    "colab": {
     "base_uri": "https://localhost:8080/"
    },
    "executionInfo": {
     "elapsed": 2575,
     "status": "ok",
     "timestamp": 1668126708911,
     "user": {
      "displayName": "AbdulKabir Subair",
      "userId": "00561224018120545100"
     },
     "user_tz": -60
    },
    "id": "z--zMSpmfKTQ",
    "outputId": "2580c663-0493-48c3-dfe9-732de245519d"
   },
   "outputs": [],
   "source": [
    "# Import the dataset.\n",
    "airbnb = pd.read_parquet(path)"
   ]
  },
  {
   "cell_type": "code",
   "execution_count": 4,
   "metadata": {
    "colab": {
     "base_uri": "https://localhost:8080/",
     "height": 629
    },
    "executionInfo": {
     "elapsed": 522,
     "status": "ok",
     "timestamp": 1668126713039,
     "user": {
      "displayName": "AbdulKabir Subair",
      "userId": "00561224018120545100"
     },
     "user_tz": -60
    },
    "id": "gfDXqSQZz2DL",
    "outputId": "f15f424a-b10b-4609-f76b-3b7ad2df9d90"
   },
   "outputs": [
    {
     "name": "stdout",
     "output_type": "stream",
     "text": [
      "Shape of dataset: (102599, 26)\n",
      "\n"
     ]
    },
    {
     "data": {
      "text/html": [
       "<div>\n",
       "<style scoped>\n",
       "    .dataframe tbody tr th:only-of-type {\n",
       "        vertical-align: middle;\n",
       "    }\n",
       "\n",
       "    .dataframe tbody tr th {\n",
       "        vertical-align: top;\n",
       "    }\n",
       "\n",
       "    .dataframe thead th {\n",
       "        text-align: right;\n",
       "    }\n",
       "</style>\n",
       "<table border=\"1\" class=\"dataframe\">\n",
       "  <thead>\n",
       "    <tr style=\"text-align: right;\">\n",
       "      <th></th>\n",
       "      <th>id</th>\n",
       "      <th>NAME</th>\n",
       "      <th>host id</th>\n",
       "      <th>host_identity_verified</th>\n",
       "      <th>host name</th>\n",
       "      <th>neighbourhood group</th>\n",
       "      <th>neighbourhood</th>\n",
       "      <th>lat</th>\n",
       "      <th>long</th>\n",
       "      <th>country</th>\n",
       "      <th>...</th>\n",
       "      <th>service fee</th>\n",
       "      <th>minimum nights</th>\n",
       "      <th>number of reviews</th>\n",
       "      <th>last review</th>\n",
       "      <th>reviews per month</th>\n",
       "      <th>review rate number</th>\n",
       "      <th>calculated host listings count</th>\n",
       "      <th>availability 365</th>\n",
       "      <th>house_rules</th>\n",
       "      <th>license</th>\n",
       "    </tr>\n",
       "  </thead>\n",
       "  <tbody>\n",
       "    <tr>\n",
       "      <th>0</th>\n",
       "      <td>1001254</td>\n",
       "      <td>Clean &amp; quiet apt home by the park</td>\n",
       "      <td>80014485718</td>\n",
       "      <td>unconfirmed</td>\n",
       "      <td>Madaline</td>\n",
       "      <td>Brooklyn</td>\n",
       "      <td>Kensington</td>\n",
       "      <td>40.64749</td>\n",
       "      <td>-73.97237</td>\n",
       "      <td>United States</td>\n",
       "      <td>...</td>\n",
       "      <td>$193</td>\n",
       "      <td>10.0</td>\n",
       "      <td>9.0</td>\n",
       "      <td>10/19/2021</td>\n",
       "      <td>0.21</td>\n",
       "      <td>4.0</td>\n",
       "      <td>6.0</td>\n",
       "      <td>286.0</td>\n",
       "      <td>Clean up and treat the home the way you'd like...</td>\n",
       "      <td>None</td>\n",
       "    </tr>\n",
       "    <tr>\n",
       "      <th>1</th>\n",
       "      <td>1002102</td>\n",
       "      <td>Skylit Midtown Castle</td>\n",
       "      <td>52335172823</td>\n",
       "      <td>verified</td>\n",
       "      <td>Jenna</td>\n",
       "      <td>Manhattan</td>\n",
       "      <td>Midtown</td>\n",
       "      <td>40.75362</td>\n",
       "      <td>-73.98377</td>\n",
       "      <td>United States</td>\n",
       "      <td>...</td>\n",
       "      <td>$28</td>\n",
       "      <td>30.0</td>\n",
       "      <td>45.0</td>\n",
       "      <td>5/21/2022</td>\n",
       "      <td>0.38</td>\n",
       "      <td>4.0</td>\n",
       "      <td>2.0</td>\n",
       "      <td>228.0</td>\n",
       "      <td>Pet friendly but please confirm with me if the...</td>\n",
       "      <td>None</td>\n",
       "    </tr>\n",
       "    <tr>\n",
       "      <th>2</th>\n",
       "      <td>1002403</td>\n",
       "      <td>THE VILLAGE OF HARLEM....NEW YORK !</td>\n",
       "      <td>78829239556</td>\n",
       "      <td>None</td>\n",
       "      <td>Elise</td>\n",
       "      <td>Manhattan</td>\n",
       "      <td>Harlem</td>\n",
       "      <td>40.80902</td>\n",
       "      <td>-73.94190</td>\n",
       "      <td>United States</td>\n",
       "      <td>...</td>\n",
       "      <td>$124</td>\n",
       "      <td>3.0</td>\n",
       "      <td>0.0</td>\n",
       "      <td>None</td>\n",
       "      <td>NaN</td>\n",
       "      <td>5.0</td>\n",
       "      <td>1.0</td>\n",
       "      <td>352.0</td>\n",
       "      <td>I encourage you to use my kitchen, cooking and...</td>\n",
       "      <td>None</td>\n",
       "    </tr>\n",
       "    <tr>\n",
       "      <th>3</th>\n",
       "      <td>1002755</td>\n",
       "      <td>None</td>\n",
       "      <td>85098326012</td>\n",
       "      <td>unconfirmed</td>\n",
       "      <td>Garry</td>\n",
       "      <td>Brooklyn</td>\n",
       "      <td>Clinton Hill</td>\n",
       "      <td>40.68514</td>\n",
       "      <td>-73.95976</td>\n",
       "      <td>United States</td>\n",
       "      <td>...</td>\n",
       "      <td>$74</td>\n",
       "      <td>30.0</td>\n",
       "      <td>270.0</td>\n",
       "      <td>7/5/2019</td>\n",
       "      <td>4.64</td>\n",
       "      <td>4.0</td>\n",
       "      <td>1.0</td>\n",
       "      <td>322.0</td>\n",
       "      <td>None</td>\n",
       "      <td>None</td>\n",
       "    </tr>\n",
       "    <tr>\n",
       "      <th>4</th>\n",
       "      <td>1003689</td>\n",
       "      <td>Entire Apt: Spacious Studio/Loft by central park</td>\n",
       "      <td>92037596077</td>\n",
       "      <td>verified</td>\n",
       "      <td>Lyndon</td>\n",
       "      <td>Manhattan</td>\n",
       "      <td>East Harlem</td>\n",
       "      <td>40.79851</td>\n",
       "      <td>-73.94399</td>\n",
       "      <td>United States</td>\n",
       "      <td>...</td>\n",
       "      <td>$41</td>\n",
       "      <td>10.0</td>\n",
       "      <td>9.0</td>\n",
       "      <td>11/19/2018</td>\n",
       "      <td>0.10</td>\n",
       "      <td>3.0</td>\n",
       "      <td>1.0</td>\n",
       "      <td>289.0</td>\n",
       "      <td>Please no smoking in the house, porch or on th...</td>\n",
       "      <td>None</td>\n",
       "    </tr>\n",
       "  </tbody>\n",
       "</table>\n",
       "<p>5 rows × 26 columns</p>\n",
       "</div>"
      ],
      "text/plain": [
       "        id                                              NAME      host id  \\\n",
       "0  1001254                Clean & quiet apt home by the park  80014485718   \n",
       "1  1002102                             Skylit Midtown Castle  52335172823   \n",
       "2  1002403               THE VILLAGE OF HARLEM....NEW YORK !  78829239556   \n",
       "3  1002755                                              None  85098326012   \n",
       "4  1003689  Entire Apt: Spacious Studio/Loft by central park  92037596077   \n",
       "\n",
       "  host_identity_verified host name neighbourhood group neighbourhood  \\\n",
       "0            unconfirmed  Madaline            Brooklyn    Kensington   \n",
       "1               verified     Jenna           Manhattan       Midtown   \n",
       "2                   None     Elise           Manhattan        Harlem   \n",
       "3            unconfirmed     Garry            Brooklyn  Clinton Hill   \n",
       "4               verified    Lyndon           Manhattan   East Harlem   \n",
       "\n",
       "        lat      long        country  ... service fee minimum nights  \\\n",
       "0  40.64749 -73.97237  United States  ...       $193            10.0   \n",
       "1  40.75362 -73.98377  United States  ...        $28            30.0   \n",
       "2  40.80902 -73.94190  United States  ...       $124             3.0   \n",
       "3  40.68514 -73.95976  United States  ...        $74            30.0   \n",
       "4  40.79851 -73.94399  United States  ...        $41            10.0   \n",
       "\n",
       "  number of reviews last review  reviews per month review rate number  \\\n",
       "0               9.0  10/19/2021               0.21                4.0   \n",
       "1              45.0   5/21/2022               0.38                4.0   \n",
       "2               0.0        None                NaN                5.0   \n",
       "3             270.0    7/5/2019               4.64                4.0   \n",
       "4               9.0  11/19/2018               0.10                3.0   \n",
       "\n",
       "  calculated host listings count  availability 365  \\\n",
       "0                            6.0             286.0   \n",
       "1                            2.0             228.0   \n",
       "2                            1.0             352.0   \n",
       "3                            1.0             322.0   \n",
       "4                            1.0             289.0   \n",
       "\n",
       "                                         house_rules license  \n",
       "0  Clean up and treat the home the way you'd like...    None  \n",
       "1  Pet friendly but please confirm with me if the...    None  \n",
       "2  I encourage you to use my kitchen, cooking and...    None  \n",
       "3                                               None    None  \n",
       "4  Please no smoking in the house, porch or on th...    None  \n",
       "\n",
       "[5 rows x 26 columns]"
      ]
     },
     "execution_count": 4,
     "metadata": {},
     "output_type": "execute_result"
    }
   ],
   "source": [
    "# Print the shape and head of the dataframe.\n",
    "print(f'Shape of dataset: {airbnb.shape}\\n')\n",
    "airbnb.head()"
   ]
  },
  {
   "cell_type": "code",
   "execution_count": 5,
   "metadata": {
    "colab": {
     "base_uri": "https://localhost:8080/"
    },
    "executionInfo": {
     "elapsed": 10,
     "status": "ok",
     "timestamp": 1668126714407,
     "user": {
      "displayName": "AbdulKabir Subair",
      "userId": "00561224018120545100"
     },
     "user_tz": -60
    },
    "id": "eMls0tUNIOr0",
    "outputId": "d0a907c4-7342-45d6-ec7f-d2c2051763b7"
   },
   "outputs": [
    {
     "name": "stdout",
     "output_type": "stream",
     "text": [
      "<class 'pandas.core.frame.DataFrame'>\n",
      "RangeIndex: 102599 entries, 0 to 102598\n",
      "Data columns (total 26 columns):\n",
      " #   Column                          Non-Null Count   Dtype  \n",
      "---  ------                          --------------   -----  \n",
      " 0   id                              102599 non-null  int64  \n",
      " 1   NAME                            102349 non-null  object \n",
      " 2   host id                         102599 non-null  int64  \n",
      " 3   host_identity_verified          102310 non-null  object \n",
      " 4   host name                       102193 non-null  object \n",
      " 5   neighbourhood group             102570 non-null  object \n",
      " 6   neighbourhood                   102583 non-null  object \n",
      " 7   lat                             102591 non-null  float64\n",
      " 8   long                            102591 non-null  float64\n",
      " 9   country                         102067 non-null  object \n",
      " 10  country code                    102468 non-null  object \n",
      " 11  instant_bookable                102494 non-null  object \n",
      " 12  cancellation_policy             102523 non-null  object \n",
      " 13  room type                       102599 non-null  object \n",
      " 14  Construction year               102385 non-null  float64\n",
      " 15  price                           102352 non-null  object \n",
      " 16  service fee                     102326 non-null  object \n",
      " 17  minimum nights                  102190 non-null  float64\n",
      " 18  number of reviews               102416 non-null  float64\n",
      " 19  last review                     86706 non-null   object \n",
      " 20  reviews per month               86720 non-null   float64\n",
      " 21  review rate number              102273 non-null  float64\n",
      " 22  calculated host listings count  102280 non-null  float64\n",
      " 23  availability 365                102151 non-null  float64\n",
      " 24  house_rules                     50468 non-null   object \n",
      " 25  license                         2 non-null       object \n",
      "dtypes: float64(9), int64(2), object(15)\n",
      "memory usage: 20.4+ MB\n"
     ]
    }
   ],
   "source": [
    "# Check info of dataframe.\n",
    "airbnb.info()"
   ]
  },
  {
   "cell_type": "code",
   "execution_count": 6,
   "metadata": {
    "colab": {
     "base_uri": "https://localhost:8080/"
    },
    "executionInfo": {
     "elapsed": 15,
     "status": "ok",
     "timestamp": 1668126716120,
     "user": {
      "displayName": "AbdulKabir Subair",
      "userId": "00561224018120545100"
     },
     "user_tz": -60
    },
    "id": "JMPRXGee2-0Z",
    "outputId": "5b146837-a1cb-460a-d0f6-4b6f91484316"
   },
   "outputs": [
    {
     "data": {
      "text/plain": [
       "Index(['id', 'NAME', 'host id', 'host_identity_verified', 'host name',\n",
       "       'neighbourhood group', 'neighbourhood', 'lat', 'long', 'country',\n",
       "       'country code', 'instant_bookable', 'cancellation_policy', 'room type',\n",
       "       'Construction year', 'price', 'service fee', 'minimum nights',\n",
       "       'number of reviews', 'last review', 'reviews per month',\n",
       "       'review rate number', 'calculated host listings count',\n",
       "       'availability 365', 'house_rules', 'license'],\n",
       "      dtype='object')"
      ]
     },
     "execution_count": 6,
     "metadata": {},
     "output_type": "execute_result"
    }
   ],
   "source": [
    "# List all features.\n",
    "airbnb.columns"
   ]
  },
  {
   "cell_type": "code",
   "execution_count": 7,
   "metadata": {
    "executionInfo": {
     "elapsed": 13,
     "status": "ok",
     "timestamp": 1668126716120,
     "user": {
      "displayName": "AbdulKabir Subair",
      "userId": "00561224018120545100"
     },
     "user_tz": -60
    },
    "id": "vWMZjGep2-4Q"
   },
   "outputs": [],
   "source": [
    "# Define required columns and new dataframe.\n",
    "cols = ['host_identity_verified', 'neighbourhood group', 'lat', 'long', 'instant_bookable', \n",
    "        'cancellation_policy', 'room type', 'Construction year', 'service fee', 'price']\n",
    "\n",
    "df = airbnb[cols]"
   ]
  },
  {
   "cell_type": "code",
   "execution_count": 8,
   "metadata": {
    "colab": {
     "base_uri": "https://localhost:8080/",
     "height": 320
    },
    "executionInfo": {
     "elapsed": 14,
     "status": "ok",
     "timestamp": 1668126716122,
     "user": {
      "displayName": "AbdulKabir Subair",
      "userId": "00561224018120545100"
     },
     "user_tz": -60
    },
    "id": "azmiJSY8JWbp",
    "outputId": "80ddd79a-b27b-40ab-8e8a-38ea11f38bb3"
   },
   "outputs": [
    {
     "name": "stdout",
     "output_type": "stream",
     "text": [
      "Shape of dataframe: (102599, 10)\n",
      "\n"
     ]
    },
    {
     "data": {
      "text/html": [
       "<div>\n",
       "<style scoped>\n",
       "    .dataframe tbody tr th:only-of-type {\n",
       "        vertical-align: middle;\n",
       "    }\n",
       "\n",
       "    .dataframe tbody tr th {\n",
       "        vertical-align: top;\n",
       "    }\n",
       "\n",
       "    .dataframe thead th {\n",
       "        text-align: right;\n",
       "    }\n",
       "</style>\n",
       "<table border=\"1\" class=\"dataframe\">\n",
       "  <thead>\n",
       "    <tr style=\"text-align: right;\">\n",
       "      <th></th>\n",
       "      <th>id</th>\n",
       "      <th>NAME</th>\n",
       "      <th>host id</th>\n",
       "      <th>host_identity_verified</th>\n",
       "      <th>host name</th>\n",
       "      <th>neighbourhood group</th>\n",
       "      <th>neighbourhood</th>\n",
       "      <th>lat</th>\n",
       "      <th>long</th>\n",
       "      <th>country</th>\n",
       "      <th>...</th>\n",
       "      <th>service fee</th>\n",
       "      <th>minimum nights</th>\n",
       "      <th>number of reviews</th>\n",
       "      <th>last review</th>\n",
       "      <th>reviews per month</th>\n",
       "      <th>review rate number</th>\n",
       "      <th>calculated host listings count</th>\n",
       "      <th>availability 365</th>\n",
       "      <th>house_rules</th>\n",
       "      <th>license</th>\n",
       "    </tr>\n",
       "  </thead>\n",
       "  <tbody>\n",
       "    <tr>\n",
       "      <th>0</th>\n",
       "      <td>1001254</td>\n",
       "      <td>Clean &amp; quiet apt home by the park</td>\n",
       "      <td>80014485718</td>\n",
       "      <td>unconfirmed</td>\n",
       "      <td>Madaline</td>\n",
       "      <td>Brooklyn</td>\n",
       "      <td>Kensington</td>\n",
       "      <td>40.64749</td>\n",
       "      <td>-73.97237</td>\n",
       "      <td>United States</td>\n",
       "      <td>...</td>\n",
       "      <td>$193</td>\n",
       "      <td>10.0</td>\n",
       "      <td>9.0</td>\n",
       "      <td>10/19/2021</td>\n",
       "      <td>0.21</td>\n",
       "      <td>4.0</td>\n",
       "      <td>6.0</td>\n",
       "      <td>286.0</td>\n",
       "      <td>Clean up and treat the home the way you'd like...</td>\n",
       "      <td>None</td>\n",
       "    </tr>\n",
       "    <tr>\n",
       "      <th>1</th>\n",
       "      <td>1002102</td>\n",
       "      <td>Skylit Midtown Castle</td>\n",
       "      <td>52335172823</td>\n",
       "      <td>verified</td>\n",
       "      <td>Jenna</td>\n",
       "      <td>Manhattan</td>\n",
       "      <td>Midtown</td>\n",
       "      <td>40.75362</td>\n",
       "      <td>-73.98377</td>\n",
       "      <td>United States</td>\n",
       "      <td>...</td>\n",
       "      <td>$28</td>\n",
       "      <td>30.0</td>\n",
       "      <td>45.0</td>\n",
       "      <td>5/21/2022</td>\n",
       "      <td>0.38</td>\n",
       "      <td>4.0</td>\n",
       "      <td>2.0</td>\n",
       "      <td>228.0</td>\n",
       "      <td>Pet friendly but please confirm with me if the...</td>\n",
       "      <td>None</td>\n",
       "    </tr>\n",
       "    <tr>\n",
       "      <th>2</th>\n",
       "      <td>1002403</td>\n",
       "      <td>THE VILLAGE OF HARLEM....NEW YORK !</td>\n",
       "      <td>78829239556</td>\n",
       "      <td>None</td>\n",
       "      <td>Elise</td>\n",
       "      <td>Manhattan</td>\n",
       "      <td>Harlem</td>\n",
       "      <td>40.80902</td>\n",
       "      <td>-73.94190</td>\n",
       "      <td>United States</td>\n",
       "      <td>...</td>\n",
       "      <td>$124</td>\n",
       "      <td>3.0</td>\n",
       "      <td>0.0</td>\n",
       "      <td>None</td>\n",
       "      <td>NaN</td>\n",
       "      <td>5.0</td>\n",
       "      <td>1.0</td>\n",
       "      <td>352.0</td>\n",
       "      <td>I encourage you to use my kitchen, cooking and...</td>\n",
       "      <td>None</td>\n",
       "    </tr>\n",
       "    <tr>\n",
       "      <th>3</th>\n",
       "      <td>1002755</td>\n",
       "      <td>None</td>\n",
       "      <td>85098326012</td>\n",
       "      <td>unconfirmed</td>\n",
       "      <td>Garry</td>\n",
       "      <td>Brooklyn</td>\n",
       "      <td>Clinton Hill</td>\n",
       "      <td>40.68514</td>\n",
       "      <td>-73.95976</td>\n",
       "      <td>United States</td>\n",
       "      <td>...</td>\n",
       "      <td>$74</td>\n",
       "      <td>30.0</td>\n",
       "      <td>270.0</td>\n",
       "      <td>7/5/2019</td>\n",
       "      <td>4.64</td>\n",
       "      <td>4.0</td>\n",
       "      <td>1.0</td>\n",
       "      <td>322.0</td>\n",
       "      <td>None</td>\n",
       "      <td>None</td>\n",
       "    </tr>\n",
       "    <tr>\n",
       "      <th>4</th>\n",
       "      <td>1003689</td>\n",
       "      <td>Entire Apt: Spacious Studio/Loft by central park</td>\n",
       "      <td>92037596077</td>\n",
       "      <td>verified</td>\n",
       "      <td>Lyndon</td>\n",
       "      <td>Manhattan</td>\n",
       "      <td>East Harlem</td>\n",
       "      <td>40.79851</td>\n",
       "      <td>-73.94399</td>\n",
       "      <td>United States</td>\n",
       "      <td>...</td>\n",
       "      <td>$41</td>\n",
       "      <td>10.0</td>\n",
       "      <td>9.0</td>\n",
       "      <td>11/19/2018</td>\n",
       "      <td>0.10</td>\n",
       "      <td>3.0</td>\n",
       "      <td>1.0</td>\n",
       "      <td>289.0</td>\n",
       "      <td>Please no smoking in the house, porch or on th...</td>\n",
       "      <td>None</td>\n",
       "    </tr>\n",
       "  </tbody>\n",
       "</table>\n",
       "<p>5 rows × 26 columns</p>\n",
       "</div>"
      ],
      "text/plain": [
       "        id                                              NAME      host id  \\\n",
       "0  1001254                Clean & quiet apt home by the park  80014485718   \n",
       "1  1002102                             Skylit Midtown Castle  52335172823   \n",
       "2  1002403               THE VILLAGE OF HARLEM....NEW YORK !  78829239556   \n",
       "3  1002755                                              None  85098326012   \n",
       "4  1003689  Entire Apt: Spacious Studio/Loft by central park  92037596077   \n",
       "\n",
       "  host_identity_verified host name neighbourhood group neighbourhood  \\\n",
       "0            unconfirmed  Madaline            Brooklyn    Kensington   \n",
       "1               verified     Jenna           Manhattan       Midtown   \n",
       "2                   None     Elise           Manhattan        Harlem   \n",
       "3            unconfirmed     Garry            Brooklyn  Clinton Hill   \n",
       "4               verified    Lyndon           Manhattan   East Harlem   \n",
       "\n",
       "        lat      long        country  ... service fee minimum nights  \\\n",
       "0  40.64749 -73.97237  United States  ...       $193            10.0   \n",
       "1  40.75362 -73.98377  United States  ...        $28            30.0   \n",
       "2  40.80902 -73.94190  United States  ...       $124             3.0   \n",
       "3  40.68514 -73.95976  United States  ...        $74            30.0   \n",
       "4  40.79851 -73.94399  United States  ...        $41            10.0   \n",
       "\n",
       "  number of reviews last review  reviews per month review rate number  \\\n",
       "0               9.0  10/19/2021               0.21                4.0   \n",
       "1              45.0   5/21/2022               0.38                4.0   \n",
       "2               0.0        None                NaN                5.0   \n",
       "3             270.0    7/5/2019               4.64                4.0   \n",
       "4               9.0  11/19/2018               0.10                3.0   \n",
       "\n",
       "  calculated host listings count  availability 365  \\\n",
       "0                            6.0             286.0   \n",
       "1                            2.0             228.0   \n",
       "2                            1.0             352.0   \n",
       "3                            1.0             322.0   \n",
       "4                            1.0             289.0   \n",
       "\n",
       "                                         house_rules license  \n",
       "0  Clean up and treat the home the way you'd like...    None  \n",
       "1  Pet friendly but please confirm with me if the...    None  \n",
       "2  I encourage you to use my kitchen, cooking and...    None  \n",
       "3                                               None    None  \n",
       "4  Please no smoking in the house, porch or on th...    None  \n",
       "\n",
       "[5 rows x 26 columns]"
      ]
     },
     "execution_count": 8,
     "metadata": {},
     "output_type": "execute_result"
    }
   ],
   "source": [
    "# Print the shape and head of the new dataframe.\n",
    "print(f'Shape of dataframe: {df.shape}\\n')\n",
    "airbnb.head()"
   ]
  },
  {
   "cell_type": "code",
   "execution_count": 9,
   "metadata": {
    "colab": {
     "base_uri": "https://localhost:8080/"
    },
    "executionInfo": {
     "elapsed": 13,
     "status": "ok",
     "timestamp": 1668126716123,
     "user": {
      "displayName": "AbdulKabir Subair",
      "userId": "00561224018120545100"
     },
     "user_tz": -60
    },
    "id": "WtRh_crQKtIr",
    "outputId": "fe61e304-2fa1-4331-aede-b5b4c30328ab"
   },
   "outputs": [
    {
     "data": {
      "text/plain": [
       "Index(['host_identity_verified', 'neighbourhood_group', 'lat', 'long',\n",
       "       'instant_bookable', 'cancellation_policy', 'room_type',\n",
       "       'construction_year', 'service_fee', 'price'],\n",
       "      dtype='object')"
      ]
     },
     "execution_count": 9,
     "metadata": {},
     "output_type": "execute_result"
    }
   ],
   "source": [
    "# Replace spaces in column names with underscore.\n",
    "df.columns = df.columns.str.lower().str.replace(' ', '_')\n",
    "df.columns"
   ]
  },
  {
   "cell_type": "code",
   "execution_count": 10,
   "metadata": {
    "colab": {
     "base_uri": "https://localhost:8080/"
    },
    "executionInfo": {
     "elapsed": 678,
     "status": "ok",
     "timestamp": 1668126717468,
     "user": {
      "displayName": "AbdulKabir Subair",
      "userId": "00561224018120545100"
     },
     "user_tz": -60
    },
    "id": "0LkCqupPD--5",
    "outputId": "af6f8ee3-b353-4846-da27-3fe4f84eab4c"
   },
   "outputs": [
    {
     "data": {
      "text/plain": [
       "host_identity_verified    289\n",
       "neighbourhood_group        29\n",
       "lat                         8\n",
       "long                        8\n",
       "instant_bookable          105\n",
       "cancellation_policy        76\n",
       "room_type                   0\n",
       "construction_year         214\n",
       "service_fee               273\n",
       "price                     247\n",
       "dtype: int64"
      ]
     },
     "execution_count": 10,
     "metadata": {},
     "output_type": "execute_result"
    }
   ],
   "source": [
    "# Check for missing values.\n",
    "df.isnull().sum()"
   ]
  },
  {
   "cell_type": "code",
   "execution_count": 11,
   "metadata": {
    "colab": {
     "base_uri": "https://localhost:8080/"
    },
    "executionInfo": {
     "elapsed": 18,
     "status": "ok",
     "timestamp": 1668126717468,
     "user": {
      "displayName": "AbdulKabir Subair",
      "userId": "00561224018120545100"
     },
     "user_tz": -60
    },
    "id": "fnNnsoRQL2Fg",
    "outputId": "c15ac300-1041-4e0f-b73f-0575c740fcc9"
   },
   "outputs": [
    {
     "data": {
      "text/plain": [
       "host_identity_verified    0\n",
       "neighbourhood_group       0\n",
       "lat                       0\n",
       "long                      0\n",
       "instant_bookable          0\n",
       "cancellation_policy       0\n",
       "room_type                 0\n",
       "construction_year         0\n",
       "service_fee               0\n",
       "price                     0\n",
       "dtype: int64"
      ]
     },
     "execution_count": 11,
     "metadata": {},
     "output_type": "execute_result"
    }
   ],
   "source": [
    "# Remove data with null values.\n",
    "df = df.dropna()\n",
    "df.isnull().sum()"
   ]
  },
  {
   "cell_type": "code",
   "execution_count": 12,
   "metadata": {
    "colab": {
     "base_uri": "https://localhost:8080/"
    },
    "executionInfo": {
     "elapsed": 15,
     "status": "ok",
     "timestamp": 1668126717469,
     "user": {
      "displayName": "AbdulKabir Subair",
      "userId": "00561224018120545100"
     },
     "user_tz": -60
    },
    "id": "g9XyiWC4L2I3",
    "outputId": "c24851ca-f5a5-4537-f55e-09126dafc1e3"
   },
   "outputs": [
    {
     "name": "stdout",
     "output_type": "stream",
     "text": [
      "<class 'pandas.core.frame.DataFrame'>\n",
      "Index: 101535 entries, 0 to 102598\n",
      "Data columns (total 10 columns):\n",
      " #   Column                  Non-Null Count   Dtype  \n",
      "---  ------                  --------------   -----  \n",
      " 0   host_identity_verified  101535 non-null  object \n",
      " 1   neighbourhood_group     101535 non-null  object \n",
      " 2   lat                     101535 non-null  float64\n",
      " 3   long                    101535 non-null  float64\n",
      " 4   instant_bookable        101535 non-null  object \n",
      " 5   cancellation_policy     101535 non-null  object \n",
      " 6   room_type               101535 non-null  object \n",
      " 7   construction_year       101535 non-null  float64\n",
      " 8   service_fee             101535 non-null  object \n",
      " 9   price                   101535 non-null  object \n",
      "dtypes: float64(3), object(7)\n",
      "memory usage: 8.5+ MB\n"
     ]
    }
   ],
   "source": [
    "# Check data types.\n",
    "df.info()"
   ]
  },
  {
   "cell_type": "code",
   "execution_count": 13,
   "metadata": {
    "colab": {
     "base_uri": "https://localhost:8080/",
     "height": 409
    },
    "executionInfo": {
     "elapsed": 14,
     "status": "ok",
     "timestamp": 1668126717471,
     "user": {
      "displayName": "AbdulKabir Subair",
      "userId": "00561224018120545100"
     },
     "user_tz": -60
    },
    "id": "3kkL8FU52-8S",
    "outputId": "a41b9439-10ca-4bb6-8931-4362645a0405"
   },
   "outputs": [
    {
     "data": {
      "text/html": [
       "<div>\n",
       "<style scoped>\n",
       "    .dataframe tbody tr th:only-of-type {\n",
       "        vertical-align: middle;\n",
       "    }\n",
       "\n",
       "    .dataframe tbody tr th {\n",
       "        vertical-align: top;\n",
       "    }\n",
       "\n",
       "    .dataframe thead th {\n",
       "        text-align: right;\n",
       "    }\n",
       "</style>\n",
       "<table border=\"1\" class=\"dataframe\">\n",
       "  <thead>\n",
       "    <tr style=\"text-align: right;\">\n",
       "      <th></th>\n",
       "      <th>host_identity_verified</th>\n",
       "      <th>neighbourhood_group</th>\n",
       "      <th>lat</th>\n",
       "      <th>long</th>\n",
       "      <th>instant_bookable</th>\n",
       "      <th>cancellation_policy</th>\n",
       "      <th>room_type</th>\n",
       "      <th>construction_year</th>\n",
       "      <th>service_fee</th>\n",
       "      <th>price</th>\n",
       "    </tr>\n",
       "  </thead>\n",
       "  <tbody>\n",
       "    <tr>\n",
       "      <th>0</th>\n",
       "      <td>unconfirmed</td>\n",
       "      <td>Brooklyn</td>\n",
       "      <td>40.64749</td>\n",
       "      <td>-73.97237</td>\n",
       "      <td>False</td>\n",
       "      <td>strict</td>\n",
       "      <td>Private room</td>\n",
       "      <td>2020.0</td>\n",
       "      <td>193</td>\n",
       "      <td>966</td>\n",
       "    </tr>\n",
       "    <tr>\n",
       "      <th>1</th>\n",
       "      <td>verified</td>\n",
       "      <td>Manhattan</td>\n",
       "      <td>40.75362</td>\n",
       "      <td>-73.98377</td>\n",
       "      <td>False</td>\n",
       "      <td>moderate</td>\n",
       "      <td>Entire home/apt</td>\n",
       "      <td>2007.0</td>\n",
       "      <td>28</td>\n",
       "      <td>142</td>\n",
       "    </tr>\n",
       "    <tr>\n",
       "      <th>3</th>\n",
       "      <td>unconfirmed</td>\n",
       "      <td>Brooklyn</td>\n",
       "      <td>40.68514</td>\n",
       "      <td>-73.95976</td>\n",
       "      <td>True</td>\n",
       "      <td>moderate</td>\n",
       "      <td>Entire home/apt</td>\n",
       "      <td>2005.0</td>\n",
       "      <td>74</td>\n",
       "      <td>368</td>\n",
       "    </tr>\n",
       "    <tr>\n",
       "      <th>4</th>\n",
       "      <td>verified</td>\n",
       "      <td>Manhattan</td>\n",
       "      <td>40.79851</td>\n",
       "      <td>-73.94399</td>\n",
       "      <td>False</td>\n",
       "      <td>moderate</td>\n",
       "      <td>Entire home/apt</td>\n",
       "      <td>2009.0</td>\n",
       "      <td>41</td>\n",
       "      <td>204</td>\n",
       "    </tr>\n",
       "    <tr>\n",
       "      <th>5</th>\n",
       "      <td>verified</td>\n",
       "      <td>Manhattan</td>\n",
       "      <td>40.74767</td>\n",
       "      <td>-73.97500</td>\n",
       "      <td>True</td>\n",
       "      <td>flexible</td>\n",
       "      <td>Entire home/apt</td>\n",
       "      <td>2013.0</td>\n",
       "      <td>115</td>\n",
       "      <td>577</td>\n",
       "    </tr>\n",
       "  </tbody>\n",
       "</table>\n",
       "</div>"
      ],
      "text/plain": [
       "  host_identity_verified neighbourhood_group       lat      long  \\\n",
       "0            unconfirmed            Brooklyn  40.64749 -73.97237   \n",
       "1               verified           Manhattan  40.75362 -73.98377   \n",
       "3            unconfirmed            Brooklyn  40.68514 -73.95976   \n",
       "4               verified           Manhattan  40.79851 -73.94399   \n",
       "5               verified           Manhattan  40.74767 -73.97500   \n",
       "\n",
       "  instant_bookable cancellation_policy        room_type  construction_year  \\\n",
       "0            False              strict     Private room             2020.0   \n",
       "1            False            moderate  Entire home/apt             2007.0   \n",
       "3             True            moderate  Entire home/apt             2005.0   \n",
       "4            False            moderate  Entire home/apt             2009.0   \n",
       "5             True            flexible  Entire home/apt             2013.0   \n",
       "\n",
       "  service_fee price  \n",
       "0        193   966   \n",
       "1         28   142   \n",
       "3         74   368   \n",
       "4         41   204   \n",
       "5        115   577   "
      ]
     },
     "execution_count": 13,
     "metadata": {},
     "output_type": "execute_result"
    }
   ],
   "source": [
    "# Remove ',' and '$' signs from price and service_fee columns.\n",
    "df['price'] = df.price.str.replace(',', '')\n",
    "df['price'] = df.price.str.replace('$', '')\n",
    "df['service_fee'] = df.service_fee.str.replace(',', '')\n",
    "df['service_fee'] = df.service_fee.str.replace('$', '')\n",
    "df.head()"
   ]
  },
  {
   "cell_type": "code",
   "execution_count": 14,
   "metadata": {
    "colab": {
     "base_uri": "https://localhost:8080/"
    },
    "executionInfo": {
     "elapsed": 495,
     "status": "ok",
     "timestamp": 1668126717957,
     "user": {
      "displayName": "AbdulKabir Subair",
      "userId": "00561224018120545100"
     },
     "user_tz": -60
    },
    "id": "pSK_Fk-EL2ML",
    "outputId": "212780a5-d584-4a99-ba66-1213a84ae824"
   },
   "outputs": [
    {
     "name": "stdout",
     "output_type": "stream",
     "text": [
      "<class 'pandas.core.frame.DataFrame'>\n",
      "Index: 101535 entries, 0 to 102598\n",
      "Data columns (total 10 columns):\n",
      " #   Column                  Non-Null Count   Dtype  \n",
      "---  ------                  --------------   -----  \n",
      " 0   host_identity_verified  101535 non-null  object \n",
      " 1   neighbourhood_group     101535 non-null  object \n",
      " 2   lat                     101535 non-null  float64\n",
      " 3   long                    101535 non-null  float64\n",
      " 4   instant_bookable        101535 non-null  int64  \n",
      " 5   cancellation_policy     101535 non-null  object \n",
      " 6   room_type               101535 non-null  object \n",
      " 7   construction_year       101535 non-null  int64  \n",
      " 8   service_fee             101535 non-null  int64  \n",
      " 9   price                   101535 non-null  int64  \n",
      "dtypes: float64(2), int64(4), object(4)\n",
      "memory usage: 8.5+ MB\n"
     ]
    }
   ],
   "source": [
    "# Change the type of instant_bookable, construction_year, service_fee and price.\n",
    "df['instant_bookable'] = df.instant_bookable.astype('int64')\n",
    "df['construction_year'] = df.construction_year.astype('int64')\n",
    "df['service_fee'] = df.service_fee.astype('int64')\n",
    "df['price'] = df.price.astype('int64')\n",
    "df.info()"
   ]
  },
  {
   "cell_type": "code",
   "execution_count": 15,
   "metadata": {},
   "outputs": [
    {
     "data": {
      "text/html": [
       "<div>\n",
       "<style scoped>\n",
       "    .dataframe tbody tr th:only-of-type {\n",
       "        vertical-align: middle;\n",
       "    }\n",
       "\n",
       "    .dataframe tbody tr th {\n",
       "        vertical-align: top;\n",
       "    }\n",
       "\n",
       "    .dataframe thead th {\n",
       "        text-align: right;\n",
       "    }\n",
       "</style>\n",
       "<table border=\"1\" class=\"dataframe\">\n",
       "  <thead>\n",
       "    <tr style=\"text-align: right;\">\n",
       "      <th></th>\n",
       "      <th>host_identity_verified</th>\n",
       "      <th>neighbourhood_group</th>\n",
       "      <th>lat</th>\n",
       "      <th>long</th>\n",
       "      <th>instant_bookable</th>\n",
       "      <th>cancellation_policy</th>\n",
       "      <th>room_type</th>\n",
       "      <th>construction_year</th>\n",
       "      <th>service_fee</th>\n",
       "      <th>price</th>\n",
       "    </tr>\n",
       "  </thead>\n",
       "  <tbody>\n",
       "    <tr>\n",
       "      <th>0</th>\n",
       "      <td>unconfirmed</td>\n",
       "      <td>Brooklyn</td>\n",
       "      <td>40.64749</td>\n",
       "      <td>-73.97237</td>\n",
       "      <td>0</td>\n",
       "      <td>strict</td>\n",
       "      <td>Private room</td>\n",
       "      <td>2020</td>\n",
       "      <td>193</td>\n",
       "      <td>966</td>\n",
       "    </tr>\n",
       "    <tr>\n",
       "      <th>1</th>\n",
       "      <td>verified</td>\n",
       "      <td>Manhattan</td>\n",
       "      <td>40.75362</td>\n",
       "      <td>-73.98377</td>\n",
       "      <td>0</td>\n",
       "      <td>moderate</td>\n",
       "      <td>Entire home/apt</td>\n",
       "      <td>2007</td>\n",
       "      <td>28</td>\n",
       "      <td>142</td>\n",
       "    </tr>\n",
       "    <tr>\n",
       "      <th>3</th>\n",
       "      <td>unconfirmed</td>\n",
       "      <td>Brooklyn</td>\n",
       "      <td>40.68514</td>\n",
       "      <td>-73.95976</td>\n",
       "      <td>1</td>\n",
       "      <td>moderate</td>\n",
       "      <td>Entire home/apt</td>\n",
       "      <td>2005</td>\n",
       "      <td>74</td>\n",
       "      <td>368</td>\n",
       "    </tr>\n",
       "    <tr>\n",
       "      <th>4</th>\n",
       "      <td>verified</td>\n",
       "      <td>Manhattan</td>\n",
       "      <td>40.79851</td>\n",
       "      <td>-73.94399</td>\n",
       "      <td>0</td>\n",
       "      <td>moderate</td>\n",
       "      <td>Entire home/apt</td>\n",
       "      <td>2009</td>\n",
       "      <td>41</td>\n",
       "      <td>204</td>\n",
       "    </tr>\n",
       "    <tr>\n",
       "      <th>5</th>\n",
       "      <td>verified</td>\n",
       "      <td>Manhattan</td>\n",
       "      <td>40.74767</td>\n",
       "      <td>-73.97500</td>\n",
       "      <td>1</td>\n",
       "      <td>flexible</td>\n",
       "      <td>Entire home/apt</td>\n",
       "      <td>2013</td>\n",
       "      <td>115</td>\n",
       "      <td>577</td>\n",
       "    </tr>\n",
       "  </tbody>\n",
       "</table>\n",
       "</div>"
      ],
      "text/plain": [
       "  host_identity_verified neighbourhood_group       lat      long  \\\n",
       "0            unconfirmed            Brooklyn  40.64749 -73.97237   \n",
       "1               verified           Manhattan  40.75362 -73.98377   \n",
       "3            unconfirmed            Brooklyn  40.68514 -73.95976   \n",
       "4               verified           Manhattan  40.79851 -73.94399   \n",
       "5               verified           Manhattan  40.74767 -73.97500   \n",
       "\n",
       "   instant_bookable cancellation_policy        room_type  construction_year  \\\n",
       "0                 0              strict     Private room               2020   \n",
       "1                 0            moderate  Entire home/apt               2007   \n",
       "3                 1            moderate  Entire home/apt               2005   \n",
       "4                 0            moderate  Entire home/apt               2009   \n",
       "5                 1            flexible  Entire home/apt               2013   \n",
       "\n",
       "   service_fee  price  \n",
       "0          193    966  \n",
       "1           28    142  \n",
       "3           74    368  \n",
       "4           41    204  \n",
       "5          115    577  "
      ]
     },
     "execution_count": 15,
     "metadata": {},
     "output_type": "execute_result"
    }
   ],
   "source": [
    "# Check the head of the dataframe again.\n",
    "df.head()"
   ]
  },
  {
   "cell_type": "code",
   "execution_count": 16,
   "metadata": {
    "colab": {
     "base_uri": "https://localhost:8080/"
    },
    "executionInfo": {
     "elapsed": 9,
     "status": "ok",
     "timestamp": 1668126717958,
     "user": {
      "displayName": "AbdulKabir Subair",
      "userId": "00561224018120545100"
     },
     "user_tz": -60
    },
    "id": "WyDRmwclT7NU",
    "outputId": "80cabdfc-4292-4703-f4d8-39d01d67e434"
   },
   "outputs": [
    {
     "name": "stdout",
     "output_type": "stream",
     "text": [
      "host_identity_verified\n",
      "unconfirmed    50801\n",
      "verified       50734\n",
      "Name: count, dtype: int64\n",
      "\n",
      "neighbourhood_group\n",
      "Manhattan        43357\n",
      "Brooklyn         41395\n",
      "Queens           13152\n",
      "Bronx             2687\n",
      "Staten Island      943\n",
      "brookln              1\n",
      "Name: count, dtype: int64\n",
      "\n",
      "cancellation_policy\n",
      "moderate    34020\n",
      "strict      33806\n",
      "flexible    33709\n",
      "Name: count, dtype: int64\n",
      "\n",
      "room_type\n",
      "Entire home/apt    53145\n",
      "Private room       46068\n",
      "Shared room         2208\n",
      "Hotel room           114\n",
      "Name: count, dtype: int64\n",
      "\n"
     ]
    }
   ],
   "source": [
    "# Check for dimentionality\n",
    "object = df.select_dtypes(include='object')\n",
    "\n",
    "for col in object.columns:\n",
    "    print(object[col].value_counts())\n",
    "    print()"
   ]
  },
  {
   "cell_type": "code",
   "execution_count": 17,
   "metadata": {},
   "outputs": [],
   "source": [
    "# Convert 'brookln' in neighbourhood_group to 'Brooklyn'.\n",
    "df.neighbourhood_group.replace('brookln', 'Brooklyn', inplace=True)"
   ]
  },
  {
   "cell_type": "code",
   "execution_count": 18,
   "metadata": {},
   "outputs": [
    {
     "data": {
      "text/plain": [
       "neighbourhood_group\n",
       "Manhattan        43357\n",
       "Brooklyn         41396\n",
       "Queens           13152\n",
       "Bronx             2687\n",
       "Staten Island      943\n",
       "Name: count, dtype: int64"
      ]
     },
     "execution_count": 18,
     "metadata": {},
     "output_type": "execute_result"
    }
   ],
   "source": [
    "# Check dimentionality of neighbourhood_group.\n",
    "df.neighbourhood_group.value_counts()"
   ]
  },
  {
   "cell_type": "code",
   "execution_count": 19,
   "metadata": {
    "executionInfo": {
     "elapsed": 5,
     "status": "ok",
     "timestamp": 1668126717958,
     "user": {
      "displayName": "AbdulKabir Subair",
      "userId": "00561224018120545100"
     },
     "user_tz": -60
    },
    "id": "Q1ETtFlH5oXC"
   },
   "outputs": [],
   "source": [
    "# Split dataset to train, test and validation sets.\n",
    "df_full_train, df_test = train_test_split(df, test_size=0.2, random_state=1)\n",
    "df_train, df_val = train_test_split(df_full_train, test_size=0.25, random_state=1)\n",
    "\n",
    "# Reset index.\n",
    "df_train.reset_index(drop=True)\n",
    "df_val.reset_index(drop=True)\n",
    "\n",
    "# Extract y_train and y_val.\n",
    "y_train = df_train.price.values\n",
    "y_val = df_val.price.values\n",
    "\n",
    "# Remove 'price' column from df_train and df_val.\n",
    "del df_train['price']\n",
    "del df_val['price']"
   ]
  },
  {
   "cell_type": "code",
   "execution_count": 20,
   "metadata": {
    "executionInfo": {
     "elapsed": 1467,
     "status": "ok",
     "timestamp": 1668126719421,
     "user": {
      "displayName": "AbdulKabir Subair",
      "userId": "00561224018120545100"
     },
     "user_tz": -60
    },
    "id": "sX_45W-s7q82"
   },
   "outputs": [],
   "source": [
    "# Convert df_train and df_val to dictionaries.\n",
    "train_dict = df_train.to_dict(orient='records')\n",
    "val_dict = df_val.to_dict(orient='records')\n",
    "\n",
    "# Implement dictvectorizer.\n",
    "dv = DictVectorizer()\n",
    "X_train = dv.fit_transform(train_dict)\n",
    "X_val = dv.transform(val_dict)"
   ]
  },
  {
   "cell_type": "code",
   "execution_count": 21,
   "metadata": {
    "colab": {
     "base_uri": "https://localhost:8080/"
    },
    "executionInfo": {
     "elapsed": 8552,
     "status": "ok",
     "timestamp": 1668126727962,
     "user": {
      "displayName": "AbdulKabir Subair",
      "userId": "00561224018120545100"
     },
     "user_tz": -60
    },
    "id": "pPJBPBy_8EzI",
    "outputId": "b4be828a-15a4-47f1-a18f-2ba6150815c9"
   },
   "outputs": [
    {
     "data": {
      "text/html": [
       "<style>#sk-container-id-1 {color: black;}#sk-container-id-1 pre{padding: 0;}#sk-container-id-1 div.sk-toggleable {background-color: white;}#sk-container-id-1 label.sk-toggleable__label {cursor: pointer;display: block;width: 100%;margin-bottom: 0;padding: 0.3em;box-sizing: border-box;text-align: center;}#sk-container-id-1 label.sk-toggleable__label-arrow:before {content: \"▸\";float: left;margin-right: 0.25em;color: #696969;}#sk-container-id-1 label.sk-toggleable__label-arrow:hover:before {color: black;}#sk-container-id-1 div.sk-estimator:hover label.sk-toggleable__label-arrow:before {color: black;}#sk-container-id-1 div.sk-toggleable__content {max-height: 0;max-width: 0;overflow: hidden;text-align: left;background-color: #f0f8ff;}#sk-container-id-1 div.sk-toggleable__content pre {margin: 0.2em;color: black;border-radius: 0.25em;background-color: #f0f8ff;}#sk-container-id-1 input.sk-toggleable__control:checked~div.sk-toggleable__content {max-height: 200px;max-width: 100%;overflow: auto;}#sk-container-id-1 input.sk-toggleable__control:checked~label.sk-toggleable__label-arrow:before {content: \"▾\";}#sk-container-id-1 div.sk-estimator input.sk-toggleable__control:checked~label.sk-toggleable__label {background-color: #d4ebff;}#sk-container-id-1 div.sk-label input.sk-toggleable__control:checked~label.sk-toggleable__label {background-color: #d4ebff;}#sk-container-id-1 input.sk-hidden--visually {border: 0;clip: rect(1px 1px 1px 1px);clip: rect(1px, 1px, 1px, 1px);height: 1px;margin: -1px;overflow: hidden;padding: 0;position: absolute;width: 1px;}#sk-container-id-1 div.sk-estimator {font-family: monospace;background-color: #f0f8ff;border: 1px dotted black;border-radius: 0.25em;box-sizing: border-box;margin-bottom: 0.5em;}#sk-container-id-1 div.sk-estimator:hover {background-color: #d4ebff;}#sk-container-id-1 div.sk-parallel-item::after {content: \"\";width: 100%;border-bottom: 1px solid gray;flex-grow: 1;}#sk-container-id-1 div.sk-label:hover label.sk-toggleable__label {background-color: #d4ebff;}#sk-container-id-1 div.sk-serial::before {content: \"\";position: absolute;border-left: 1px solid gray;box-sizing: border-box;top: 0;bottom: 0;left: 50%;z-index: 0;}#sk-container-id-1 div.sk-serial {display: flex;flex-direction: column;align-items: center;background-color: white;padding-right: 0.2em;padding-left: 0.2em;position: relative;}#sk-container-id-1 div.sk-item {position: relative;z-index: 1;}#sk-container-id-1 div.sk-parallel {display: flex;align-items: stretch;justify-content: center;background-color: white;position: relative;}#sk-container-id-1 div.sk-item::before, #sk-container-id-1 div.sk-parallel-item::before {content: \"\";position: absolute;border-left: 1px solid gray;box-sizing: border-box;top: 0;bottom: 0;left: 50%;z-index: -1;}#sk-container-id-1 div.sk-parallel-item {display: flex;flex-direction: column;z-index: 1;position: relative;background-color: white;}#sk-container-id-1 div.sk-parallel-item:first-child::after {align-self: flex-end;width: 50%;}#sk-container-id-1 div.sk-parallel-item:last-child::after {align-self: flex-start;width: 50%;}#sk-container-id-1 div.sk-parallel-item:only-child::after {width: 0;}#sk-container-id-1 div.sk-dashed-wrapped {border: 1px dashed gray;margin: 0 0.4em 0.5em 0.4em;box-sizing: border-box;padding-bottom: 0.4em;background-color: white;}#sk-container-id-1 div.sk-label label {font-family: monospace;font-weight: bold;display: inline-block;line-height: 1.2em;}#sk-container-id-1 div.sk-label-container {text-align: center;}#sk-container-id-1 div.sk-container {/* jupyter's `normalize.less` sets `[hidden] { display: none; }` but bootstrap.min.css set `[hidden] { display: none !important; }` so we also need the `!important` here to be able to override the default hidden behavior on the sphinx rendered scikit-learn.org. See: https://github.com/scikit-learn/scikit-learn/issues/21755 */display: inline-block !important;position: relative;}#sk-container-id-1 div.sk-text-repr-fallback {display: none;}</style><div id=\"sk-container-id-1\" class=\"sk-top-container\"><div class=\"sk-text-repr-fallback\"><pre>DecisionTreeRegressor()</pre><b>In a Jupyter environment, please rerun this cell to show the HTML representation or trust the notebook. <br />On GitHub, the HTML representation is unable to render, please try loading this page with nbviewer.org.</b></div><div class=\"sk-container\" hidden><div class=\"sk-item\"><div class=\"sk-estimator sk-toggleable\"><input class=\"sk-toggleable__control sk-hidden--visually\" id=\"sk-estimator-id-1\" type=\"checkbox\" checked><label for=\"sk-estimator-id-1\" class=\"sk-toggleable__label sk-toggleable__label-arrow\">DecisionTreeRegressor</label><div class=\"sk-toggleable__content\"><pre>DecisionTreeRegressor()</pre></div></div></div></div></div>"
      ],
      "text/plain": [
       "DecisionTreeRegressor()"
      ]
     },
     "execution_count": 21,
     "metadata": {},
     "output_type": "execute_result"
    }
   ],
   "source": [
    "# Train a decision tree regressor model.\n",
    "dtr = DecisionTreeRegressor()\n",
    "dtr.fit(X_train, y_train)"
   ]
  },
  {
   "cell_type": "code",
   "execution_count": 22,
   "metadata": {
    "colab": {
     "base_uri": "https://localhost:8080/"
    },
    "executionInfo": {
     "elapsed": 20,
     "status": "ok",
     "timestamp": 1668126727964,
     "user": {
      "displayName": "AbdulKabir Subair",
      "userId": "00561224018120545100"
     },
     "user_tz": -60
    },
    "id": "rcvpX7dH9Ebw",
    "outputId": "206e80f8-2e14-4ed9-a5e9-6627020337c2"
   },
   "outputs": [
    {
     "name": "stdout",
     "output_type": "stream",
     "text": [
      "RMSE_val_dtr: 1.6997069723325644\n"
     ]
    }
   ],
   "source": [
    "# Calculate the RMSE of dtr.\n",
    "pred_val_dtr = dtr.predict(X_val)\n",
    "RMSE_val_dtr = np.sqrt(mean_squared_error(y_val, pred_val_dtr))\n",
    "print('RMSE_val_dtr:', RMSE_val_dtr)"
   ]
  },
  {
   "cell_type": "code",
   "execution_count": 23,
   "metadata": {
    "colab": {
     "base_uri": "https://localhost:8080/"
    },
    "executionInfo": {
     "elapsed": 8,
     "status": "ok",
     "timestamp": 1668127255036,
     "user": {
      "displayName": "AbdulKabir Subair",
      "userId": "00561224018120545100"
     },
     "user_tz": -60
    },
    "id": "F2yihX7h1Fc5",
    "outputId": "786e27bc-3008-4ec2-c905-f9536b89bb61"
   },
   "outputs": [],
   "source": [
    "# Train an XGB model.\n",
    "features = list(dv.get_feature_names_out())\n",
    "dtrain = xgb.DMatrix(X_train, label=y_train, feature_names=features)\n",
    "dval = xgb.DMatrix(X_val, label=y_val, feature_names=features)"
   ]
  },
  {
   "cell_type": "code",
   "execution_count": 24,
   "metadata": {
    "executionInfo": {
     "elapsed": 9343,
     "status": "ok",
     "timestamp": 1668127264375,
     "user": {
      "displayName": "AbdulKabir Subair",
      "userId": "00561224018120545100"
     },
     "user_tz": -60
    },
    "id": "-6irZReV1Fhd"
   },
   "outputs": [],
   "source": [
    "# Create a function for the xgb parameters.\n",
    "def set_xgb_params(eta_e, max_d, min_c):\n",
    "    xgb_params = {\n",
    "                  'eta': eta_e,\n",
    "                  'max_depth': max_d,\n",
    "                  'min_child_weight': min_c,\n",
    "    \n",
    "                  'objective': 'reg:squarederror',\n",
    "                  'nthread': 8,\n",
    "    \n",
    "                  'seed': 1,\n",
    "                  'verbosity': 1\n",
    "                  }\n",
    "    return xgb_params"
   ]
  },
  {
   "cell_type": "code",
   "execution_count": 25,
   "metadata": {},
   "outputs": [],
   "source": [
    "# Run the model.\n",
    "xgb_params = set_xgb_params(0.3, 6, 1)\n",
    "model = xgb.train(xgb_params, dtrain, num_boost_round=200)"
   ]
  },
  {
   "cell_type": "code",
   "execution_count": 26,
   "metadata": {
    "colab": {
     "base_uri": "https://localhost:8080/"
    },
    "executionInfo": {
     "elapsed": 5,
     "status": "ok",
     "timestamp": 1668127264385,
     "user": {
      "displayName": "AbdulKabir Subair",
      "userId": "00561224018120545100"
     },
     "user_tz": -60
    },
    "id": "aFHmi1f48j9Q",
    "outputId": "cfbef348-5494-4a65-f8e5-ee343e407eb4"
   },
   "outputs": [
    {
     "name": "stdout",
     "output_type": "stream",
     "text": [
      "RMSE_val_xgb: 1.383520541648735\n"
     ]
    }
   ],
   "source": [
    "# Calculate the RMSE of xgb.\n",
    "pred_val_xgb = model.predict(dval)\n",
    "RMSE_val_xgb = np.sqrt(mean_squared_error(y_val, pred_val_xgb))\n",
    "print('RMSE_val_xgb:', RMSE_val_xgb)"
   ]
  },
  {
   "cell_type": "markdown",
   "metadata": {},
   "source": [
    "XGB is the better model"
   ]
  },
  {
   "cell_type": "code",
   "execution_count": 27,
   "metadata": {
    "executionInfo": {
     "elapsed": 10787,
     "status": "ok",
     "timestamp": 1668127275171,
     "user": {
      "displayName": "AbdulKabir Subair",
      "userId": "00561224018120545100"
     },
     "user_tz": -60
    },
    "id": "ToVmjtnm9W3U"
   },
   "outputs": [],
   "source": [
    "%%capture output\n",
    "\n",
    "xgb_params = set_xgb_params(0.3, 6, 1)\n",
    "\n",
    "watchlist  = [(dtrain,'train'), (dval,'eval')]\n",
    "\n",
    "model = xgb.train(xgb_params, dtrain, num_boost_round=200,\n",
    "                  verbose_eval=5,\n",
    "                  evals=watchlist)"
   ]
  },
  {
   "cell_type": "code",
   "execution_count": 28,
   "metadata": {
    "colab": {
     "base_uri": "https://localhost:8080/",
     "height": 140
    },
    "executionInfo": {
     "elapsed": 9,
     "status": "ok",
     "timestamp": 1668127275182,
     "user": {
      "displayName": "AbdulKabir Subair",
      "userId": "00561224018120545100"
     },
     "user_tz": -60
    },
    "id": "0dS4QoWy_k5w",
    "outputId": "b4d74f38-ab6e-4317-9d98-41bc51e396fc"
   },
   "outputs": [
    {
     "data": {
      "text/plain": [
       "'[0]\\ttrain-rmse:232.03469\\teval-rmse:232.41274\\n[5]\\ttrain-rmse:39.12922\\teval-rmse:39.18844\\n[10]\\ttrain-rmse:6.78423\\teval-rmse:6.78736\\n[15]\\ttrain-rmse:1.86358\\teval-rmse:1.85931\\n[20]\\ttrain-rmse:1.45235\\teval-rmse:1.45514\\n[25]\\ttrain-rmse:1.41590\\teval-rmse:1.42570\\n[30]\\ttrain-rmse:1.40244\\teval-rmse:1.42197\\n[35]\\ttrain-rmse:1.39244\\teval-rmse:1.41790\\n[40]\\ttrain-rmse:1.38256\\teval-rmse:1.41461\\n[45]\\ttrain-rmse:1.37288\\teval-rmse:1.41208\\n[50]\\ttrain-rmse:1.36559\\teval-rmse:1.41064\\n[55]\\ttrain-rmse:1.35830\\teval-rmse:1.40980\\n[60]\\ttrain-rmse:1.34990\\teval-rmse:1.40724\\n[65]\\ttrain-rmse:1.34387\\teval-rmse:1.40656\\n[70]\\ttrain-rmse:1.33685\\teval-rmse:1.40530\\n[75]\\ttrain-rmse:1.32908\\teval-rmse:1.40396\\n[80]\\ttrain-rmse:1.32297\\teval-rmse:1.40305\\n[85]\\ttrain-rmse:1.31619\\teval-rmse:1.40175\\n[90]\\ttrain-rmse:1.30948\\teval-rmse:1.40099\\n[95]\\ttrain-rmse:1.30203\\teval-rmse:1.39990\\n[100]\\ttrain-rmse:1.29548\\teval-rmse:1.39949\\n[105]\\ttrain-rmse:1.28927\\teval-rmse:1.39849\\n[110]\\ttrain-rmse:1.28379\\teval-rmse:1.39726\\n[115]\\ttrain-rmse:1.27810\\teval-rmse:1.39612\\n[120]\\ttrain-rmse:1.27198\\teval-rmse:1.39450\\n[125]\\ttrain-rmse:1.26584\\teval-rmse:1.39335\\n[130]\\ttrain-rmse:1.26027\\teval-rmse:1.39231\\n[135]\\ttrain-rmse:1.25399\\teval-rmse:1.39121\\n[140]\\ttrain-rmse:1.24887\\teval-rmse:1.39078\\n[145]\\ttrain-rmse:1.24280\\teval-rmse:1.38956\\n[150]\\ttrain-rmse:1.23851\\teval-rmse:1.38930\\n[155]\\ttrain-rmse:1.23283\\teval-rmse:1.38874\\n[160]\\ttrain-rmse:1.22854\\teval-rmse:1.38813\\n[165]\\ttrain-rmse:1.22402\\teval-rmse:1.38743\\n[170]\\ttrain-rmse:1.21835\\teval-rmse:1.38641\\n[175]\\ttrain-rmse:1.21420\\teval-rmse:1.38558\\n[180]\\ttrain-rmse:1.21038\\teval-rmse:1.38489\\n[185]\\ttrain-rmse:1.20458\\teval-rmse:1.38459\\n[190]\\ttrain-rmse:1.19987\\teval-rmse:1.38427\\n[195]\\ttrain-rmse:1.19648\\teval-rmse:1.38422\\n[199]\\ttrain-rmse:1.19248\\teval-rmse:1.38352\\n'"
      ]
     },
     "execution_count": 28,
     "metadata": {},
     "output_type": "execute_result"
    }
   ],
   "source": [
    "# Show the captured output.\n",
    "output.stdout"
   ]
  },
  {
   "cell_type": "code",
   "execution_count": 29,
   "metadata": {
    "colab": {
     "base_uri": "https://localhost:8080/"
    },
    "executionInfo": {
     "elapsed": 8,
     "status": "ok",
     "timestamp": 1668127275182,
     "user": {
      "displayName": "AbdulKabir Subair",
      "userId": "00561224018120545100"
     },
     "user_tz": -60
    },
    "id": "4RXMYyFOCmL6",
    "outputId": "09801f3d-0631-401a-bc95-a1ca3235b6a4"
   },
   "outputs": [
    {
     "name": "stdout",
     "output_type": "stream",
     "text": [
      "[0]\ttrain-rmse:232.03469\teval-rmse:232.41274\n",
      "[5]\ttrain-rmse:39.12922\teval-rmse:39.18844\n",
      "[10]\ttrain-rmse:6.78423\teval-rmse:6.78736\n",
      "[15]\ttrain-rmse:1.86358\teval-rmse:1.85931\n",
      "[20]\ttrain-rmse:1.45235\teval-rmse:1.45514\n",
      "[25]\ttrain-rmse:1.41590\teval-rmse:1.42570\n",
      "[30]\ttrain-rmse:1.40244\teval-rmse:1.42197\n",
      "[35]\ttrain-rmse:1.39244\teval-rmse:1.41790\n",
      "[40]\ttrain-rmse:1.38256\teval-rmse:1.41461\n",
      "[45]\ttrain-rmse:1.37288\teval-rmse:1.41208\n",
      "[50]\ttrain-rmse:1.36559\teval-rmse:1.41064\n",
      "[55]\ttrain-rmse:1.35830\teval-rmse:1.40980\n",
      "[60]\ttrain-rmse:1.34990\teval-rmse:1.40724\n",
      "[65]\ttrain-rmse:1.34387\teval-rmse:1.40656\n",
      "[70]\ttrain-rmse:1.33685\teval-rmse:1.40530\n",
      "[75]\ttrain-rmse:1.32908\teval-rmse:1.40396\n",
      "[80]\ttrain-rmse:1.32297\teval-rmse:1.40305\n",
      "[85]\ttrain-rmse:1.31619\teval-rmse:1.40175\n",
      "[90]\ttrain-rmse:1.30948\teval-rmse:1.40099\n",
      "[95]\ttrain-rmse:1.30203\teval-rmse:1.39990\n",
      "[100]\ttrain-rmse:1.29548\teval-rmse:1.39949\n",
      "[105]\ttrain-rmse:1.28927\teval-rmse:1.39849\n",
      "[110]\ttrain-rmse:1.28379\teval-rmse:1.39726\n",
      "[115]\ttrain-rmse:1.27810\teval-rmse:1.39612\n",
      "[120]\ttrain-rmse:1.27198\teval-rmse:1.39450\n",
      "[125]\ttrain-rmse:1.26584\teval-rmse:1.39335\n",
      "[130]\ttrain-rmse:1.26027\teval-rmse:1.39231\n",
      "[135]\ttrain-rmse:1.25399\teval-rmse:1.39121\n",
      "[140]\ttrain-rmse:1.24887\teval-rmse:1.39078\n",
      "[145]\ttrain-rmse:1.24280\teval-rmse:1.38956\n",
      "[150]\ttrain-rmse:1.23851\teval-rmse:1.38930\n",
      "[155]\ttrain-rmse:1.23283\teval-rmse:1.38874\n",
      "[160]\ttrain-rmse:1.22854\teval-rmse:1.38813\n",
      "[165]\ttrain-rmse:1.22402\teval-rmse:1.38743\n",
      "[170]\ttrain-rmse:1.21835\teval-rmse:1.38641\n",
      "[175]\ttrain-rmse:1.21420\teval-rmse:1.38558\n",
      "[180]\ttrain-rmse:1.21038\teval-rmse:1.38489\n",
      "[185]\ttrain-rmse:1.20458\teval-rmse:1.38459\n",
      "[190]\ttrain-rmse:1.19987\teval-rmse:1.38427\n",
      "[195]\ttrain-rmse:1.19648\teval-rmse:1.38422\n",
      "[199]\ttrain-rmse:1.19248\teval-rmse:1.38352\n",
      "\n"
     ]
    }
   ],
   "source": [
    "# print the output.\n",
    "print(output.stdout)"
   ]
  },
  {
   "cell_type": "code",
   "execution_count": 30,
   "metadata": {
    "executionInfo": {
     "elapsed": 4,
     "status": "ok",
     "timestamp": 1668127275184,
     "user": {
      "displayName": "AbdulKabir Subair",
      "userId": "00561224018120545100"
     },
     "user_tz": -60
    },
    "id": "umlu3vieHjtN"
   },
   "outputs": [],
   "source": [
    "# Function to convert output to dataframe\n",
    "def parse_xgb_output(output):\n",
    "    results = []\n",
    "    \n",
    "    for line in output.stdout.strip().split('\\n'):\n",
    "        it_line, train_line, val_line = line.split('\\t')\n",
    "\n",
    "        it = int(it_line.strip('[]'))\n",
    "        train = float(train_line.split(':')[1])\n",
    "        val = float(val_line.split(':')[1])\n",
    "\n",
    "        results.append((it, train, val))\n",
    "\n",
    "        columns = ['num_iter', 'train_rmse', 'val_rmse']\n",
    "        df_results = pd.DataFrame(results, columns=columns)\n",
    "\n",
    "    return df_results"
   ]
  },
  {
   "cell_type": "code",
   "execution_count": 31,
   "metadata": {
    "colab": {
     "base_uri": "https://localhost:8080/",
     "height": 1000
    },
    "executionInfo": {
     "elapsed": 4,
     "status": "ok",
     "timestamp": 1668127275184,
     "user": {
      "displayName": "AbdulKabir Subair",
      "userId": "00561224018120545100"
     },
     "user_tz": -60
    },
    "id": "RNDwuIw3J83Z",
    "outputId": "b234b171-b19d-4bcd-f2e3-4c46b8640fd9"
   },
   "outputs": [
    {
     "data": {
      "text/html": [
       "<div>\n",
       "<style scoped>\n",
       "    .dataframe tbody tr th:only-of-type {\n",
       "        vertical-align: middle;\n",
       "    }\n",
       "\n",
       "    .dataframe tbody tr th {\n",
       "        vertical-align: top;\n",
       "    }\n",
       "\n",
       "    .dataframe thead th {\n",
       "        text-align: right;\n",
       "    }\n",
       "</style>\n",
       "<table border=\"1\" class=\"dataframe\">\n",
       "  <thead>\n",
       "    <tr style=\"text-align: right;\">\n",
       "      <th></th>\n",
       "      <th>num_iter</th>\n",
       "      <th>train_rmse</th>\n",
       "      <th>val_rmse</th>\n",
       "    </tr>\n",
       "  </thead>\n",
       "  <tbody>\n",
       "    <tr>\n",
       "      <th>0</th>\n",
       "      <td>0</td>\n",
       "      <td>232.03469</td>\n",
       "      <td>232.41274</td>\n",
       "    </tr>\n",
       "    <tr>\n",
       "      <th>1</th>\n",
       "      <td>5</td>\n",
       "      <td>39.12922</td>\n",
       "      <td>39.18844</td>\n",
       "    </tr>\n",
       "    <tr>\n",
       "      <th>2</th>\n",
       "      <td>10</td>\n",
       "      <td>6.78423</td>\n",
       "      <td>6.78736</td>\n",
       "    </tr>\n",
       "    <tr>\n",
       "      <th>3</th>\n",
       "      <td>15</td>\n",
       "      <td>1.86358</td>\n",
       "      <td>1.85931</td>\n",
       "    </tr>\n",
       "    <tr>\n",
       "      <th>4</th>\n",
       "      <td>20</td>\n",
       "      <td>1.45235</td>\n",
       "      <td>1.45514</td>\n",
       "    </tr>\n",
       "    <tr>\n",
       "      <th>5</th>\n",
       "      <td>25</td>\n",
       "      <td>1.41590</td>\n",
       "      <td>1.42570</td>\n",
       "    </tr>\n",
       "    <tr>\n",
       "      <th>6</th>\n",
       "      <td>30</td>\n",
       "      <td>1.40244</td>\n",
       "      <td>1.42197</td>\n",
       "    </tr>\n",
       "    <tr>\n",
       "      <th>7</th>\n",
       "      <td>35</td>\n",
       "      <td>1.39244</td>\n",
       "      <td>1.41790</td>\n",
       "    </tr>\n",
       "    <tr>\n",
       "      <th>8</th>\n",
       "      <td>40</td>\n",
       "      <td>1.38256</td>\n",
       "      <td>1.41461</td>\n",
       "    </tr>\n",
       "    <tr>\n",
       "      <th>9</th>\n",
       "      <td>45</td>\n",
       "      <td>1.37288</td>\n",
       "      <td>1.41208</td>\n",
       "    </tr>\n",
       "    <tr>\n",
       "      <th>10</th>\n",
       "      <td>50</td>\n",
       "      <td>1.36559</td>\n",
       "      <td>1.41064</td>\n",
       "    </tr>\n",
       "    <tr>\n",
       "      <th>11</th>\n",
       "      <td>55</td>\n",
       "      <td>1.35830</td>\n",
       "      <td>1.40980</td>\n",
       "    </tr>\n",
       "    <tr>\n",
       "      <th>12</th>\n",
       "      <td>60</td>\n",
       "      <td>1.34990</td>\n",
       "      <td>1.40724</td>\n",
       "    </tr>\n",
       "    <tr>\n",
       "      <th>13</th>\n",
       "      <td>65</td>\n",
       "      <td>1.34387</td>\n",
       "      <td>1.40656</td>\n",
       "    </tr>\n",
       "    <tr>\n",
       "      <th>14</th>\n",
       "      <td>70</td>\n",
       "      <td>1.33685</td>\n",
       "      <td>1.40530</td>\n",
       "    </tr>\n",
       "    <tr>\n",
       "      <th>15</th>\n",
       "      <td>75</td>\n",
       "      <td>1.32908</td>\n",
       "      <td>1.40396</td>\n",
       "    </tr>\n",
       "    <tr>\n",
       "      <th>16</th>\n",
       "      <td>80</td>\n",
       "      <td>1.32297</td>\n",
       "      <td>1.40305</td>\n",
       "    </tr>\n",
       "    <tr>\n",
       "      <th>17</th>\n",
       "      <td>85</td>\n",
       "      <td>1.31619</td>\n",
       "      <td>1.40175</td>\n",
       "    </tr>\n",
       "    <tr>\n",
       "      <th>18</th>\n",
       "      <td>90</td>\n",
       "      <td>1.30948</td>\n",
       "      <td>1.40099</td>\n",
       "    </tr>\n",
       "    <tr>\n",
       "      <th>19</th>\n",
       "      <td>95</td>\n",
       "      <td>1.30203</td>\n",
       "      <td>1.39990</td>\n",
       "    </tr>\n",
       "    <tr>\n",
       "      <th>20</th>\n",
       "      <td>100</td>\n",
       "      <td>1.29548</td>\n",
       "      <td>1.39949</td>\n",
       "    </tr>\n",
       "    <tr>\n",
       "      <th>21</th>\n",
       "      <td>105</td>\n",
       "      <td>1.28927</td>\n",
       "      <td>1.39849</td>\n",
       "    </tr>\n",
       "    <tr>\n",
       "      <th>22</th>\n",
       "      <td>110</td>\n",
       "      <td>1.28379</td>\n",
       "      <td>1.39726</td>\n",
       "    </tr>\n",
       "    <tr>\n",
       "      <th>23</th>\n",
       "      <td>115</td>\n",
       "      <td>1.27810</td>\n",
       "      <td>1.39612</td>\n",
       "    </tr>\n",
       "    <tr>\n",
       "      <th>24</th>\n",
       "      <td>120</td>\n",
       "      <td>1.27198</td>\n",
       "      <td>1.39450</td>\n",
       "    </tr>\n",
       "    <tr>\n",
       "      <th>25</th>\n",
       "      <td>125</td>\n",
       "      <td>1.26584</td>\n",
       "      <td>1.39335</td>\n",
       "    </tr>\n",
       "    <tr>\n",
       "      <th>26</th>\n",
       "      <td>130</td>\n",
       "      <td>1.26027</td>\n",
       "      <td>1.39231</td>\n",
       "    </tr>\n",
       "    <tr>\n",
       "      <th>27</th>\n",
       "      <td>135</td>\n",
       "      <td>1.25399</td>\n",
       "      <td>1.39121</td>\n",
       "    </tr>\n",
       "    <tr>\n",
       "      <th>28</th>\n",
       "      <td>140</td>\n",
       "      <td>1.24887</td>\n",
       "      <td>1.39078</td>\n",
       "    </tr>\n",
       "    <tr>\n",
       "      <th>29</th>\n",
       "      <td>145</td>\n",
       "      <td>1.24280</td>\n",
       "      <td>1.38956</td>\n",
       "    </tr>\n",
       "    <tr>\n",
       "      <th>30</th>\n",
       "      <td>150</td>\n",
       "      <td>1.23851</td>\n",
       "      <td>1.38930</td>\n",
       "    </tr>\n",
       "    <tr>\n",
       "      <th>31</th>\n",
       "      <td>155</td>\n",
       "      <td>1.23283</td>\n",
       "      <td>1.38874</td>\n",
       "    </tr>\n",
       "    <tr>\n",
       "      <th>32</th>\n",
       "      <td>160</td>\n",
       "      <td>1.22854</td>\n",
       "      <td>1.38813</td>\n",
       "    </tr>\n",
       "    <tr>\n",
       "      <th>33</th>\n",
       "      <td>165</td>\n",
       "      <td>1.22402</td>\n",
       "      <td>1.38743</td>\n",
       "    </tr>\n",
       "    <tr>\n",
       "      <th>34</th>\n",
       "      <td>170</td>\n",
       "      <td>1.21835</td>\n",
       "      <td>1.38641</td>\n",
       "    </tr>\n",
       "    <tr>\n",
       "      <th>35</th>\n",
       "      <td>175</td>\n",
       "      <td>1.21420</td>\n",
       "      <td>1.38558</td>\n",
       "    </tr>\n",
       "    <tr>\n",
       "      <th>36</th>\n",
       "      <td>180</td>\n",
       "      <td>1.21038</td>\n",
       "      <td>1.38489</td>\n",
       "    </tr>\n",
       "    <tr>\n",
       "      <th>37</th>\n",
       "      <td>185</td>\n",
       "      <td>1.20458</td>\n",
       "      <td>1.38459</td>\n",
       "    </tr>\n",
       "    <tr>\n",
       "      <th>38</th>\n",
       "      <td>190</td>\n",
       "      <td>1.19987</td>\n",
       "      <td>1.38427</td>\n",
       "    </tr>\n",
       "    <tr>\n",
       "      <th>39</th>\n",
       "      <td>195</td>\n",
       "      <td>1.19648</td>\n",
       "      <td>1.38422</td>\n",
       "    </tr>\n",
       "    <tr>\n",
       "      <th>40</th>\n",
       "      <td>199</td>\n",
       "      <td>1.19248</td>\n",
       "      <td>1.38352</td>\n",
       "    </tr>\n",
       "  </tbody>\n",
       "</table>\n",
       "</div>"
      ],
      "text/plain": [
       "    num_iter  train_rmse   val_rmse\n",
       "0          0   232.03469  232.41274\n",
       "1          5    39.12922   39.18844\n",
       "2         10     6.78423    6.78736\n",
       "3         15     1.86358    1.85931\n",
       "4         20     1.45235    1.45514\n",
       "5         25     1.41590    1.42570\n",
       "6         30     1.40244    1.42197\n",
       "7         35     1.39244    1.41790\n",
       "8         40     1.38256    1.41461\n",
       "9         45     1.37288    1.41208\n",
       "10        50     1.36559    1.41064\n",
       "11        55     1.35830    1.40980\n",
       "12        60     1.34990    1.40724\n",
       "13        65     1.34387    1.40656\n",
       "14        70     1.33685    1.40530\n",
       "15        75     1.32908    1.40396\n",
       "16        80     1.32297    1.40305\n",
       "17        85     1.31619    1.40175\n",
       "18        90     1.30948    1.40099\n",
       "19        95     1.30203    1.39990\n",
       "20       100     1.29548    1.39949\n",
       "21       105     1.28927    1.39849\n",
       "22       110     1.28379    1.39726\n",
       "23       115     1.27810    1.39612\n",
       "24       120     1.27198    1.39450\n",
       "25       125     1.26584    1.39335\n",
       "26       130     1.26027    1.39231\n",
       "27       135     1.25399    1.39121\n",
       "28       140     1.24887    1.39078\n",
       "29       145     1.24280    1.38956\n",
       "30       150     1.23851    1.38930\n",
       "31       155     1.23283    1.38874\n",
       "32       160     1.22854    1.38813\n",
       "33       165     1.22402    1.38743\n",
       "34       170     1.21835    1.38641\n",
       "35       175     1.21420    1.38558\n",
       "36       180     1.21038    1.38489\n",
       "37       185     1.20458    1.38459\n",
       "38       190     1.19987    1.38427\n",
       "39       195     1.19648    1.38422\n",
       "40       199     1.19248    1.38352"
      ]
     },
     "execution_count": 31,
     "metadata": {},
     "output_type": "execute_result"
    }
   ],
   "source": [
    "# Convert the output\n",
    "df_score = parse_xgb_output(output)\n",
    "df_score"
   ]
  },
  {
   "cell_type": "code",
   "execution_count": 32,
   "metadata": {
    "colab": {
     "base_uri": "https://localhost:8080/",
     "height": 592
    },
    "executionInfo": {
     "elapsed": 4,
     "status": "ok",
     "timestamp": 1668127275185,
     "user": {
      "displayName": "AbdulKabir Subair",
      "userId": "00561224018120545100"
     },
     "user_tz": -60
    },
    "id": "iPNmrbWSKGZk",
    "outputId": "d6c63283-678c-4e29-cafd-d002bf9f266c"
   },
   "outputs": [
    {
     "data": {
      "image/png": "[encoded data removed]",
      "text/plain": [
       "<Figure size 1000x1000 with 1 Axes>"
      ]
     },
     "metadata": {},
     "output_type": "display_data"
    }
   ],
   "source": [
    "# Plot the output train and val scores.\n",
    "plt.figure(figsize = (10, 10))\n",
    "plt.plot(df_score.num_iter, df_score.train_rmse, label='train')\n",
    "plt.plot(df_score.num_iter, df_score.val_rmse, label='val')\n",
    "plt.xlabel('num_iter')\n",
    "plt.ylabel('rmse')\n",
    "plt.title('Plot of the output train and val scores')\n",
    "plt.legend();"
   ]
  },
  {
   "cell_type": "code",
   "execution_count": 33,
   "metadata": {
    "id": "IwAsiOHfGjFQ"
   },
   "outputs": [
    {
     "data": {
      "image/png": "[encoded data removed]",
      "text/plain": [
       "<Figure size 1000x1000 with 1 Axes>"
      ]
     },
     "metadata": {},
     "output_type": "display_data"
    }
   ],
   "source": [
    "# Plot the output train and val scores with rmse between 1.4 and 1.5.\n",
    "plt.figure(figsize = (10, 10))\n",
    "plt.plot(df_score.num_iter, df_score.train_rmse, label='train')\n",
    "plt.plot(df_score.num_iter, df_score.val_rmse, label='val')\n",
    "plt.xlim(15, 30)\n",
    "plt.ylim(1.4, 1.5)\n",
    "plt.xlabel('num_iter')\n",
    "plt.ylabel('rmse')\n",
    "plt.title('Plot of the output train and val scores with rmse between 1.4 and 1.5')\n",
    "plt.legend();"
   ]
  },
  {
   "cell_type": "markdown",
   "metadata": {},
   "source": [
    "Create output for eta = 0.1"
   ]
  },
  {
   "cell_type": "code",
   "execution_count": 34,
   "metadata": {},
   "outputs": [],
   "source": [
    "%%capture output\n",
    "\n",
    "xgb_params = set_xgb_params(0.1, 6, 1)\n",
    "\n",
    "watchlist  = [(dtrain,'train'), (dval,'eval')]\n",
    "\n",
    "model = xgb.train(xgb_params, dtrain,\n",
    "                  num_boost_round=200,\n",
    "                  verbose_eval=5,\n",
    "                  evals=watchlist)"
   ]
  },
  {
   "cell_type": "code",
   "execution_count": 35,
   "metadata": {},
   "outputs": [],
   "source": [
    "eta_0_1 = parse_xgb_output(output)['val_rmse']"
   ]
  },
  {
   "cell_type": "markdown",
   "metadata": {},
   "source": [
    "Create output for eta = 0.2"
   ]
  },
  {
   "cell_type": "code",
   "execution_count": 36,
   "metadata": {},
   "outputs": [],
   "source": [
    "%%capture output\n",
    "\n",
    "xgb_params = set_xgb_params(0.2, 6, 1)\n",
    "\n",
    "watchlist  = [(dtrain,'train'), (dval,'eval')]\n",
    "\n",
    "model = xgb.train(xgb_params, dtrain,\n",
    "                  num_boost_round=200,\n",
    "                  verbose_eval=5,\n",
    "                  evals=watchlist)"
   ]
  },
  {
   "cell_type": "code",
   "execution_count": 37,
   "metadata": {
    "executionInfo": {
     "elapsed": 395,
     "status": "ok",
     "timestamp": 1668118042283,
     "user": {
      "displayName": "AbdulKabir Subair",
      "userId": "00561224018120545100"
     },
     "user_tz": -60
    },
    "id": "KeKm83pnYWk0"
   },
   "outputs": [],
   "source": [
    "eta_0_2 = parse_xgb_output(output)['val_rmse']"
   ]
  },
  {
   "cell_type": "markdown",
   "metadata": {},
   "source": [
    "Create output for eta = 0.3"
   ]
  },
  {
   "cell_type": "code",
   "execution_count": 38,
   "metadata": {},
   "outputs": [],
   "source": [
    "%%capture output\n",
    "\n",
    "xgb_params = set_xgb_params(0.3, 6, 1)\n",
    "\n",
    "watchlist  = [(dtrain,'train'), (dval,'eval')]\n",
    "\n",
    "model = xgb.train(xgb_params, dtrain,\n",
    "                  num_boost_round=200,\n",
    "                  verbose_eval=5,\n",
    "                  evals=watchlist)"
   ]
  },
  {
   "cell_type": "code",
   "execution_count": 39,
   "metadata": {
    "executionInfo": {
     "elapsed": 307,
     "status": "ok",
     "timestamp": 1668118087070,
     "user": {
      "displayName": "AbdulKabir Subair",
      "userId": "00561224018120545100"
     },
     "user_tz": -60
    },
    "id": "Mv8K6pfnYc1u"
   },
   "outputs": [],
   "source": [
    "eta_0_3 = parse_xgb_output(output)['val_rmse']"
   ]
  },
  {
   "cell_type": "markdown",
   "metadata": {},
   "source": [
    "Create output for eta = 0.5"
   ]
  },
  {
   "cell_type": "code",
   "execution_count": 40,
   "metadata": {},
   "outputs": [],
   "source": [
    "%%capture output\n",
    "\n",
    "xgb_params = set_xgb_params(0.5, 6, 1)\n",
    "\n",
    "watchlist  = [(dtrain,'train'), (dval,'eval')]\n",
    "\n",
    "model = xgb.train(xgb_params, dtrain,\n",
    "                  num_boost_round=200,\n",
    "                  verbose_eval=5,\n",
    "                  evals=watchlist)"
   ]
  },
  {
   "cell_type": "code",
   "execution_count": 41,
   "metadata": {
    "executionInfo": {
     "elapsed": 18,
     "status": "ok",
     "timestamp": 1668118118463,
     "user": {
      "displayName": "AbdulKabir Subair",
      "userId": "00561224018120545100"
     },
     "user_tz": -60
    },
    "id": "k4i12sW5lgHU"
   },
   "outputs": [],
   "source": [
    "eta_0_5 = parse_xgb_output(output)['val_rmse']"
   ]
  },
  {
   "cell_type": "code",
   "execution_count": 42,
   "metadata": {
    "colab": {
     "base_uri": "https://localhost:8080/",
     "height": 592
    },
    "executionInfo": {
     "elapsed": 600,
     "status": "ok",
     "timestamp": 1668120290602,
     "user": {
      "displayName": "AbdulKabir Subair",
      "userId": "00561224018120545100"
     },
     "user_tz": -60
    },
    "id": "bd4gBbVvl1gs",
    "outputId": "05a3f17a-7ac2-475b-cbbc-970f3bcfe26e"
   },
   "outputs": [
    {
     "data": {
      "image/png": "[encoded data removed]",
      "text/plain": [
       "<Figure size 1000x1000 with 1 Axes>"
      ]
     },
     "metadata": {},
     "output_type": "display_data"
    }
   ],
   "source": [
    "# Plot the eta outputs.\n",
    "plt.figure(figsize = (10, 10))\n",
    "plt.plot(df_score.num_iter, eta_0_1, label='eta=0.1')\n",
    "plt.plot(df_score.num_iter, eta_0_2, label='eta=0.2')\n",
    "plt.plot(df_score.num_iter, eta_0_3, label='eta=0.3')\n",
    "plt.plot(df_score.num_iter, eta_0_5, label='eta=0.5')\n",
    "plt.xlabel('num_iter')\n",
    "plt.ylabel('rmse')\n",
    "plt.title('Plot of eta outputs')\n",
    "plt.legend();"
   ]
  },
  {
   "cell_type": "code",
   "execution_count": 43,
   "metadata": {
    "colab": {
     "base_uri": "https://localhost:8080/",
     "height": 595
    },
    "executionInfo": {
     "elapsed": 825,
     "status": "ok",
     "timestamp": 1668120297673,
     "user": {
      "displayName": "AbdulKabir Subair",
      "userId": "00561224018120545100"
     },
     "user_tz": -60
    },
    "id": "aXkxJSnDqVQi",
    "outputId": "a089268a-c472-415e-a966-c329c32097e4"
   },
   "outputs": [
    {
     "data": {
      "image/png": "[encoded data removed]",
      "text/plain": [
       "<Figure size 1000x1000 with 1 Axes>"
      ]
     },
     "metadata": {},
     "output_type": "display_data"
    }
   ],
   "source": [
    "# Plot the eta outputs with rmse between 1.35 and 1.45.\n",
    "plt.figure(figsize = (10, 10))\n",
    "plt.plot(df_score.num_iter, eta_0_1, label='eta=0.1')\n",
    "plt.plot(df_score.num_iter, eta_0_2, label='eta=0.2')\n",
    "plt.plot(df_score.num_iter, eta_0_3, label='eta=0.3')\n",
    "plt.plot(df_score.num_iter, eta_0_5, label='eta=0.5')\n",
    "plt.ylim(1.35, 1.45)\n",
    "plt.xlabel('num_iter')\n",
    "plt.ylabel('rmse')\n",
    "plt.title('Plot of eta outputs with rmse between 1.35 and 1.45')\n",
    "plt.legend();"
   ]
  },
  {
   "cell_type": "markdown",
   "metadata": {},
   "source": [
    "The best eta is 0.3"
   ]
  },
  {
   "cell_type": "markdown",
   "metadata": {},
   "source": [
    "Create output for max_depth = 6"
   ]
  },
  {
   "cell_type": "code",
   "execution_count": 44,
   "metadata": {},
   "outputs": [],
   "source": [
    "%%capture output\n",
    "\n",
    "xgb_params = set_xgb_params(0.3, 6, 1)\n",
    "\n",
    "watchlist  = [(dtrain,'train'), (dval,'eval')]\n",
    "\n",
    "model = xgb.train(xgb_params, dtrain,\n",
    "                  num_boost_round=200,\n",
    "                  verbose_eval=5,\n",
    "                  evals=watchlist)"
   ]
  },
  {
   "cell_type": "code",
   "execution_count": 45,
   "metadata": {},
   "outputs": [],
   "source": [
    "max_6 = parse_xgb_output(output)['val_rmse']"
   ]
  },
  {
   "cell_type": "markdown",
   "metadata": {},
   "source": [
    "Create output for max_depth = 10"
   ]
  },
  {
   "cell_type": "code",
   "execution_count": 46,
   "metadata": {},
   "outputs": [],
   "source": [
    "%%capture output\n",
    "\n",
    "xgb_params = set_xgb_params(0.3, 10, 1)\n",
    "\n",
    "watchlist  = [(dtrain,'train'), (dval,'eval')]\n",
    "\n",
    "model = xgb.train(xgb_params, dtrain,\n",
    "                  num_boost_round=200,\n",
    "                  verbose_eval=5,\n",
    "                  evals=watchlist)"
   ]
  },
  {
   "cell_type": "code",
   "execution_count": 47,
   "metadata": {},
   "outputs": [],
   "source": [
    "max_10 = parse_xgb_output(output)['val_rmse']"
   ]
  },
  {
   "cell_type": "markdown",
   "metadata": {},
   "source": [
    "Create output for max_depth = 20"
   ]
  },
  {
   "cell_type": "code",
   "execution_count": 48,
   "metadata": {},
   "outputs": [],
   "source": [
    "%%capture output\n",
    "\n",
    "xgb_params = set_xgb_params(0.3, 20, 1)\n",
    "\n",
    "watchlist  = [(dtrain,'train'), (dval,'eval')]\n",
    "\n",
    "model = xgb.train(xgb_params, dtrain,\n",
    "                  num_boost_round=200,\n",
    "                  verbose_eval=5,\n",
    "                  evals=watchlist)"
   ]
  },
  {
   "cell_type": "code",
   "execution_count": 49,
   "metadata": {},
   "outputs": [],
   "source": [
    "max_20 = parse_xgb_output(output)['val_rmse']"
   ]
  },
  {
   "cell_type": "markdown",
   "metadata": {},
   "source": [
    "Create output for max_depth = 30"
   ]
  },
  {
   "cell_type": "code",
   "execution_count": 50,
   "metadata": {},
   "outputs": [],
   "source": [
    "%%capture output\n",
    "\n",
    "xgb_params = set_xgb_params(0.3, 30, 1)\n",
    "\n",
    "watchlist  = [(dtrain,'train'), (dval,'eval')]\n",
    "\n",
    "model = xgb.train(xgb_params, dtrain,\n",
    "                  num_boost_round=200,\n",
    "                  verbose_eval=5,\n",
    "                  evals=watchlist)"
   ]
  },
  {
   "cell_type": "code",
   "execution_count": 51,
   "metadata": {},
   "outputs": [],
   "source": [
    "max_30 = parse_xgb_output(output)['val_rmse']"
   ]
  },
  {
   "cell_type": "code",
   "execution_count": 52,
   "metadata": {
    "colab": {
     "base_uri": "https://localhost:8080/",
     "height": 592
    },
    "executionInfo": {
     "elapsed": 610,
     "status": "ok",
     "timestamp": 1668120311488,
     "user": {
      "displayName": "AbdulKabir Subair",
      "userId": "00561224018120545100"
     },
     "user_tz": -60
    },
    "id": "u_ZrexiGoply",
    "outputId": "dfc07c1e-a942-4814-9323-b2cf7972adc5"
   },
   "outputs": [
    {
     "data": {
      "image/png": "[encoded data removed]",
      "text/plain": [
       "<Figure size 1000x1000 with 1 Axes>"
      ]
     },
     "metadata": {},
     "output_type": "display_data"
    }
   ],
   "source": [
    "# Plot the max_depth outputs.\n",
    "plt.figure(figsize = (10, 10))\n",
    "plt.plot(df_score.num_iter, max_6, label='max_depth=6')\n",
    "plt.plot(df_score.num_iter, max_10, label='max_depth=10')\n",
    "plt.plot(df_score.num_iter, max_20, label='max_depth=20')\n",
    "plt.plot(df_score.num_iter, max_30, label='max_depth=30')\n",
    "plt.xlabel('num_iter')\n",
    "plt.ylabel('rmse')\n",
    "plt.title('Plot of max_depth outputs')\n",
    "plt.legend();"
   ]
  },
  {
   "cell_type": "code",
   "execution_count": 53,
   "metadata": {
    "colab": {
     "base_uri": "https://localhost:8080/",
     "height": 595
    },
    "executionInfo": {
     "elapsed": 1045,
     "status": "ok",
     "timestamp": 1668120318282,
     "user": {
      "displayName": "AbdulKabir Subair",
      "userId": "00561224018120545100"
     },
     "user_tz": -60
    },
    "id": "f57xvEM8qIze",
    "outputId": "e3f4309f-5be0-44f2-80a2-acf53b02e8fa"
   },
   "outputs": [
    {
     "data": {
      "image/png": "[encoded data removed]",
      "text/plain": [
       "<Figure size 1000x1000 with 1 Axes>"
      ]
     },
     "metadata": {},
     "output_type": "display_data"
    }
   ],
   "source": [
    "# Plot the max_depth outputs with rmse between 1.3 and 1.4.\n",
    "plt.figure(figsize = (10, 10))\n",
    "plt.plot(df_score.num_iter, max_6, label='max_depth=6')\n",
    "plt.plot(df_score.num_iter, max_10, label='max_depth=10')\n",
    "plt.plot(df_score.num_iter, max_20, label='max_depth=20')\n",
    "plt.plot(df_score.num_iter, max_30, label='max_depth=30')\n",
    "plt.ylim(1.3, 1.4)\n",
    "plt.xlabel('num_iter')\n",
    "plt.ylabel('rmse')\n",
    "plt.title('Plot of max_depth outputs with rmse between 1.3 and 1.4')\n",
    "plt.legend();"
   ]
  },
  {
   "cell_type": "markdown",
   "metadata": {},
   "source": [
    "The best max_depth = 20"
   ]
  },
  {
   "cell_type": "markdown",
   "metadata": {},
   "source": [
    "Create output for min_child_weight = 1"
   ]
  },
  {
   "cell_type": "code",
   "execution_count": 54,
   "metadata": {
    "executionInfo": {
     "elapsed": 11429,
     "status": "ok",
     "timestamp": 1668120116658,
     "user": {
      "displayName": "AbdulKabir Subair",
      "userId": "00561224018120545100"
     },
     "user_tz": -60
    },
    "id": "d_6yKg8OL66-"
   },
   "outputs": [],
   "source": [
    "%%capture output\n",
    "\n",
    "xgb_params = set_xgb_params(0.3, 20, 1)\n",
    "\n",
    "watchlist  = [(dtrain,'train'), (dval,'eval')]\n",
    "\n",
    "model = xgb.train(xgb_params, dtrain,\n",
    "                  num_boost_round=200,\n",
    "                  verbose_eval=5,\n",
    "                  evals=watchlist)"
   ]
  },
  {
   "cell_type": "code",
   "execution_count": 55,
   "metadata": {
    "executionInfo": {
     "elapsed": 46,
     "status": "ok",
     "timestamp": 1668120023339,
     "user": {
      "displayName": "AbdulKabir Subair",
      "userId": "00561224018120545100"
     },
     "user_tz": -60
    },
    "id": "BSXtBRljryow"
   },
   "outputs": [],
   "source": [
    "min_1 = parse_xgb_output(output)['val_rmse']"
   ]
  },
  {
   "cell_type": "markdown",
   "metadata": {},
   "source": [
    "Create output for min_child_weight = 3"
   ]
  },
  {
   "cell_type": "code",
   "execution_count": 56,
   "metadata": {},
   "outputs": [],
   "source": [
    "%%capture output\n",
    "\n",
    "xgb_params = set_xgb_params(0.3, 20, 3)\n",
    "\n",
    "watchlist  = [(dtrain,'train'), (dval,'eval')]\n",
    "\n",
    "model = xgb.train(xgb_params, dtrain,\n",
    "                  num_boost_round=200,\n",
    "                  verbose_eval=5,\n",
    "                  evals=watchlist)"
   ]
  },
  {
   "cell_type": "code",
   "execution_count": 57,
   "metadata": {
    "executionInfo": {
     "elapsed": 26,
     "status": "ok",
     "timestamp": 1668120062713,
     "user": {
      "displayName": "AbdulKabir Subair",
      "userId": "00561224018120545100"
     },
     "user_tz": -60
    },
    "id": "YzcC2jWQs4qz"
   },
   "outputs": [],
   "source": [
    "min_3 = parse_xgb_output(output)['val_rmse']"
   ]
  },
  {
   "cell_type": "markdown",
   "metadata": {},
   "source": [
    "Create output for min_child_weight = 10"
   ]
  },
  {
   "cell_type": "code",
   "execution_count": 58,
   "metadata": {},
   "outputs": [],
   "source": [
    "%%capture output\n",
    "\n",
    "xgb_params = set_xgb_params(0.3, 20, 10)\n",
    "\n",
    "watchlist  = [(dtrain,'train'), (dval,'eval')]\n",
    "\n",
    "model = xgb.train(xgb_params, dtrain,\n",
    "                  num_boost_round=200,\n",
    "                  verbose_eval=5,\n",
    "                  evals=watchlist)"
   ]
  },
  {
   "cell_type": "code",
   "execution_count": 59,
   "metadata": {
    "executionInfo": {
     "elapsed": 33,
     "status": "ok",
     "timestamp": 1668120096915,
     "user": {
      "displayName": "AbdulKabir Subair",
      "userId": "00561224018120545100"
     },
     "user_tz": -60
    },
    "id": "OG3ORoiZtA8h"
   },
   "outputs": [],
   "source": [
    "min_10 = parse_xgb_output(output)['val_rmse']"
   ]
  },
  {
   "cell_type": "markdown",
   "metadata": {},
   "source": [
    "Create output for min_child_weight = 20"
   ]
  },
  {
   "cell_type": "code",
   "execution_count": 60,
   "metadata": {},
   "outputs": [],
   "source": [
    "%%capture output\n",
    "\n",
    "xgb_params = set_xgb_params(0.3, 20, 20)\n",
    "\n",
    "watchlist  = [(dtrain,'train'), (dval,'eval')]\n",
    "\n",
    "model = xgb.train(xgb_params, dtrain,\n",
    "                  num_boost_round=200,\n",
    "                  verbose_eval=5,\n",
    "                  evals=watchlist)"
   ]
  },
  {
   "cell_type": "code",
   "execution_count": 61,
   "metadata": {
    "executionInfo": {
     "elapsed": 20,
     "status": "ok",
     "timestamp": 1668120116663,
     "user": {
      "displayName": "AbdulKabir Subair",
      "userId": "00561224018120545100"
     },
     "user_tz": -60
    },
    "id": "onmkhbKstIvI"
   },
   "outputs": [],
   "source": [
    "min_20 = parse_xgb_output(output)['val_rmse']"
   ]
  },
  {
   "cell_type": "code",
   "execution_count": 62,
   "metadata": {},
   "outputs": [
    {
     "data": {
      "image/png": "[encoded data removed]",
      "text/plain": [
       "<Figure size 1000x1000 with 1 Axes>"
      ]
     },
     "metadata": {},
     "output_type": "display_data"
    }
   ],
   "source": [
    "# Plot the max_depth outputs.\n",
    "plt.figure(figsize = (10, 10))\n",
    "plt.plot(df_score.num_iter, min_1, label='min_child_weight=1')\n",
    "plt.plot(df_score.num_iter, min_3, label='min_child_weight=3')\n",
    "plt.plot(df_score.num_iter, min_10, label='min_child_weight=10')\n",
    "plt.plot(df_score.num_iter, min_20, label='min_child_weight=20')\n",
    "plt.xlabel('num_iter')\n",
    "plt.ylabel('rmse')\n",
    "plt.title('Plot of min_child_weight outputs')\n",
    "plt.legend();"
   ]
  },
  {
   "cell_type": "code",
   "execution_count": 63,
   "metadata": {
    "colab": {
     "base_uri": "https://localhost:8080/",
     "height": 595
    },
    "executionInfo": {
     "elapsed": 433,
     "status": "ok",
     "timestamp": 1668120348086,
     "user": {
      "displayName": "AbdulKabir Subair",
      "userId": "00561224018120545100"
     },
     "user_tz": -60
    },
    "id": "sE0r0_7stODB",
    "outputId": "73b372d9-bbbd-41c1-f37d-10fbf5638db8"
   },
   "outputs": [
    {
     "data": {
      "image/png": "[encoded data removed]",
      "text/plain": [
       "<Figure size 1000x1000 with 1 Axes>"
      ]
     },
     "metadata": {},
     "output_type": "display_data"
    }
   ],
   "source": [
    "# Plot the max_depth outputs h rmse between 1.3 and 1.4.\n",
    "plt.figure(figsize = (10, 10))\n",
    "plt.plot(df_score.num_iter, min_1, label='min_child_weight=1')\n",
    "plt.plot(df_score.num_iter, min_3, label='min_child_weight=3')\n",
    "plt.plot(df_score.num_iter, min_10, label='min_child_weight=10')\n",
    "plt.plot(df_score.num_iter, min_20, label='min_child_weight=20')\n",
    "plt.ylim(1.3, 1.4)\n",
    "plt.xlabel('num_iter')\n",
    "plt.ylabel('rmse')\n",
    "plt.title('Plot of min_child_weight outputs h rmse between 1.3 and 1.4')\n",
    "plt.legend();"
   ]
  },
  {
   "cell_type": "markdown",
   "metadata": {},
   "source": [
    "The best min_child_weight = 3"
   ]
  },
  {
   "cell_type": "code",
   "execution_count": 64,
   "metadata": {
    "executionInfo": {
     "elapsed": 5219,
     "status": "ok",
     "timestamp": 1668123222375,
     "user": {
      "displayName": "AbdulKabir Subair",
      "userId": "00561224018120545100"
     },
     "user_tz": -60
    },
    "id": "wAkeidqfuK6J"
   },
   "outputs": [],
   "source": [
    "# Use the best parameter to find the model rmse.\n",
    "\n",
    "xgb_params = set_xgb_params(0.3, 20, 3)\n",
    "\n",
    "model = xgb.train(xgb_params, dtrain, num_boost_round=200)"
   ]
  },
  {
   "cell_type": "code",
   "execution_count": 65,
   "metadata": {
    "colab": {
     "base_uri": "https://localhost:8080/"
    },
    "executionInfo": {
     "elapsed": 454,
     "status": "ok",
     "timestamp": 1668123227427,
     "user": {
      "displayName": "AbdulKabir Subair",
      "userId": "00561224018120545100"
     },
     "user_tz": -60
    },
    "id": "awHp2vFowRRg",
    "outputId": "69b87ba4-d4f0-4193-baa5-91aef783dc75"
   },
   "outputs": [
    {
     "name": "stdout",
     "output_type": "stream",
     "text": [
      "RMSE_val_xgb: 1.3121185139396214\n"
     ]
    }
   ],
   "source": [
    "# Calculate the best RMSE of xgb.\n",
    "pred_val_xgb = model.predict(dval)\n",
    "RMSE_val_xgb = np.sqrt(mean_squared_error(y_val, pred_val_xgb))\n",
    "print('RMSE_val_xgb:', RMSE_val_xgb)"
   ]
  },
  {
   "cell_type": "code",
   "execution_count": 66,
   "metadata": {
    "colab": {
     "base_uri": "https://localhost:8080/"
    },
    "executionInfo": {
     "elapsed": 2594,
     "status": "ok",
     "timestamp": 1668123077253,
     "user": {
      "displayName": "AbdulKabir Subair",
      "userId": "00561224018120545100"
     },
     "user_tz": -60
    },
    "id": "M8RcQ40rwXwA",
    "outputId": "cb6c9d1d-2728-4fe6-fea5-9acf6111b72b"
   },
   "outputs": [],
   "source": [
    "# Training with full train.\n",
    "df_full_train = df_full_train.reset_index(drop=True)\n",
    "df_test = df_test.reset_index(drop=True)\n",
    "\n",
    "y_full_train = df_full_train.price.values\n",
    "y_test = df_test.price.values\n",
    "\n",
    "del df_full_train['price']\n",
    "del df_test['price']\n",
    "\n",
    "full_train_dict = df_full_train.to_dict(orient='records')\n",
    "test_dict = df_test.to_dict(orient='records')\n",
    "\n",
    "X_full_train = dv.fit_transform(full_train_dict)\n",
    "X_test = dv.transform(test_dict)\n",
    "\n",
    "features = list(dv.get_feature_names_out())\n",
    "\n",
    "dfull_train = xgb.DMatrix(X_full_train, label=y_full_train, \n",
    "                          feature_names=features)\n",
    "\n",
    "dtest = xgb.DMatrix(X_test, label=y_test, \n",
    "                    feature_names=features)"
   ]
  },
  {
   "cell_type": "code",
   "execution_count": 67,
   "metadata": {
    "executionInfo": {
     "elapsed": 5074,
     "status": "ok",
     "timestamp": 1668123106038,
     "user": {
      "displayName": "AbdulKabir Subair",
      "userId": "00561224018120545100"
     },
     "user_tz": -60
    },
    "id": "uCsUJG5H3_BC"
   },
   "outputs": [],
   "source": [
    "# Fit the model.\n",
    "xgb_params = set_xgb_params(0.3, 20, 3)\n",
    "\n",
    "# Build model.\n",
    "final_model = xgb.train(xgb_params, dfull_train, num_boost_round=200)"
   ]
  },
  {
   "cell_type": "code",
   "execution_count": 68,
   "metadata": {
    "colab": {
     "base_uri": "https://localhost:8080/"
    },
    "executionInfo": {
     "elapsed": 363,
     "status": "ok",
     "timestamp": 1668123110206,
     "user": {
      "displayName": "AbdulKabir Subair",
      "userId": "00561224018120545100"
     },
     "user_tz": -60
    },
    "id": "D-RPDfEcy8-q",
    "outputId": "5aaa1882-e0bd-4682-d1fe-be0ee48b80b0"
   },
   "outputs": [
    {
     "name": "stdout",
     "output_type": "stream",
     "text": [
      "RMSE_test_xgb: 1.2356099756582724\n"
     ]
    }
   ],
   "source": [
    "# Calculate the RMSE of xgb with X_test.\n",
    "pred_test_xgb = final_model.predict(dtest)\n",
    "RMSE_test_xgb = np.sqrt(mean_squared_error(y_test, pred_test_xgb))\n",
    "print('RMSE_test_xgb:', RMSE_test_xgb)"
   ]
  },
  {
   "cell_type": "code",
   "execution_count": 69,
   "metadata": {},
   "outputs": [],
   "source": [
    "# Save the model to disk.\n",
    "filename = './data/Project_Notes_006_model.pkl'\n",
    "pickle.dump(final_model, open(filename, 'wb'))"
   ]
  },
  {
   "cell_type": "code",
   "execution_count": 70,
   "metadata": {},
   "outputs": [],
   "source": [
    "# load the model from disk.\n",
    "pickled_model = pickle.load(open(filename, 'rb'))"
   ]
  },
  {
   "cell_type": "code",
   "execution_count": 71,
   "metadata": {},
   "outputs": [
    {
     "data": {
      "text/plain": [
       "host_identity_verified           verified\n",
       "neighbourhood_group              Brooklyn\n",
       "lat                               40.6848\n",
       "long                            -73.96219\n",
       "instant_bookable                        0\n",
       "cancellation_policy              flexible\n",
       "room_type                 Entire home/apt\n",
       "construction_year                    2006\n",
       "service_fee                           140\n",
       "price                                 701\n",
       "Name: 325, dtype: object"
      ]
     },
     "execution_count": 71,
     "metadata": {},
     "output_type": "execute_result"
    }
   ],
   "source": [
    "# Select data to predict.\n",
    "raw_data = df.iloc[200, :]\n",
    "raw_data"
   ]
  },
  {
   "cell_type": "code",
   "execution_count": 72,
   "metadata": {},
   "outputs": [],
   "source": [
    "# Create dictionary for prediction.\n",
    "raw_data = {\n",
    "            'host_identity_verified': 'verified',\n",
    "            'neighbourhood_group': 'Brooklyn',\n",
    "            'lat': 40.6848,\n",
    "            'long': -73.9621,\n",
    "            'instant_bookable': False,\n",
    "            'cancellation_policy': 'flexible',\n",
    "            'room_type': 'Entire home/apt',\n",
    "            'construction_year': 2006,\n",
    "            'service_fee': 140\n",
    "            }"
   ]
  },
  {
   "cell_type": "code",
   "execution_count": 73,
   "metadata": {},
   "outputs": [],
   "source": [
    "# Function to process raw data\n",
    "def process_data(data):\n",
    "    features = list(dv.get_feature_names_out())\n",
    "    trans = dv.transform(data)\n",
    "    dmatrix = xgb.DMatrix(trans, label=y_full_train, feature_names=features)\n",
    "    return dmatrix"
   ]
  },
  {
   "cell_type": "code",
   "execution_count": 74,
   "metadata": {},
   "outputs": [
    {
     "data": {
      "text/plain": [
       "701.0894"
      ]
     },
     "execution_count": 74,
     "metadata": {},
     "output_type": "execute_result"
    }
   ],
   "source": [
    "# Predict data.\n",
    "trans_data = process_data(raw_data)\n",
    "the_prediction = pickled_model.predict(trans_data)\n",
    "the_prediction[0]"
   ]
  },
  {
   "cell_type": "code",
   "execution_count": 75,
   "metadata": {},
   "outputs": [
    {
     "data": {
      "text/plain": [
       "host_identity_verified        unconfirmed\n",
       "neighbourhood_group             Manhattan\n",
       "lat                              40.78587\n",
       "long                            -73.94764\n",
       "instant_bookable                        1\n",
       "cancellation_policy              moderate\n",
       "room_type                 Entire home/apt\n",
       "construction_year                    2012\n",
       "service_fee                           140\n",
       "price                                 698\n",
       "Name: 4293, dtype: object"
      ]
     },
     "execution_count": 75,
     "metadata": {},
     "output_type": "execute_result"
    }
   ],
   "source": [
    "# Select another data to predict.\n",
    "raw_data = df.iloc[4002, :]\n",
    "raw_data"
   ]
  },
  {
   "cell_type": "code",
   "execution_count": 76,
   "metadata": {},
   "outputs": [],
   "source": [
    "# Create dictionary for prediction.\n",
    "raw_data = {\n",
    "            'host_identity_verified': 'unconfirmed',\n",
    "            'neighbourhood_group': 'Manhattan',\n",
    "            'lat': 40.78587,\n",
    "            'long': -73.94764,\n",
    "            'instant_bookable': False,\n",
    "            'cancellation_policy': 'moderate',\n",
    "            'room_type': 'Entire home/apt',\n",
    "            'construction_year': 2012,\n",
    "            'service_fee': 140\n",
    "            }"
   ]
  },
  {
   "cell_type": "code",
   "execution_count": 77,
   "metadata": {},
   "outputs": [
    {
     "data": {
      "text/plain": [
       "697.70483"
      ]
     },
     "execution_count": 77,
     "metadata": {},
     "output_type": "execute_result"
    }
   ],
   "source": [
    "# Predict data.\n",
    "trans_data = process_data(raw_data)\n",
    "the_prediction = pickled_model.predict(trans_data)\n",
    "the_prediction[0]"
   ]
  },
  {
   "cell_type": "code",
   "execution_count": 78,
   "metadata": {},
   "outputs": [
    {
     "data": {
      "text/plain": [
       "host_identity_verified        unconfirmed\n",
       "neighbourhood_group                Queens\n",
       "lat                              40.74267\n",
       "long                            -73.78737\n",
       "instant_bookable                        1\n",
       "cancellation_policy              flexible\n",
       "room_type                 Entire home/apt\n",
       "construction_year                    2009\n",
       "service_fee                           194\n",
       "price                                 972\n",
       "Name: 10557, dtype: object"
      ]
     },
     "execution_count": 78,
     "metadata": {},
     "output_type": "execute_result"
    }
   ],
   "source": [
    "# Select another data to predict.\n",
    "raw_data = df.iloc[10202, :]\n",
    "raw_data"
   ]
  },
  {
   "cell_type": "code",
   "execution_count": 79,
   "metadata": {},
   "outputs": [],
   "source": [
    "# Create dictionary for prediction.\n",
    "raw_data = {\n",
    "            'host_identity_verified': 'unconfirmed',\n",
    "            'neighbourhood_group': 'Queens',\n",
    "            'lat': 40.74267,\n",
    "            'long': -73.78737,\n",
    "            'instant_bookable': True,\n",
    "            'cancellation_policy': 'flexible',\n",
    "            'room_type': 'Private room',\n",
    "            'construction_year': 2009,\n",
    "            'service_fee': 194\n",
    "            }"
   ]
  },
  {
   "cell_type": "code",
   "execution_count": 80,
   "metadata": {},
   "outputs": [
    {
     "data": {
      "text/plain": [
       "971.7574"
      ]
     },
     "execution_count": 80,
     "metadata": {},
     "output_type": "execute_result"
    }
   ],
   "source": [
    "# Predict data.\n",
    "trans_data = process_data(raw_data)\n",
    "the_prediction = pickled_model.predict(trans_data)\n",
    "the_prediction[0]"
   ]
  }
 ],
 "metadata": {
  "colab": {
   "authorship_tag": "ABX9TyPDvAAc3JS5cNxkxUxzJqYe",
   "collapsed_sections": [],
   "mount_file_id": "1s8teDWDZ2yZ-eusLxDVSTwX_sfkuk738",
   "provenance": [
    {
     "file_id": "1wv7e9dfDR6ef8rsX31l5XlMe3RBSPbHO",
     "timestamp": 1668082406722
    },
    {
     "file_id": "1ZTNBKrda46hCZJPWKHUat88wG1ifo8pV",
     "timestamp": 1667293623994
    },
    {
     "file_id": "1YGil_IMDLsFeab22s7OS4Ffb2fUMQS2v",
     "timestamp": 1665942497889
    }
   ]
  },
  "kernelspec": {
   "display_name": "Python 3 (ipykernel)",
   "language": "python",
   "name": "python3"
  },
  "language_info": {
   "codemirror_mode": {
    "name": "ipython",
    "version": 3
   },
   "file_extension": ".py",
   "mimetype": "text/x-python",
   "name": "python",
   "nbconvert_exporter": "python",
   "pygments_lexer": "ipython3",
   "version": "3.11.5"
  }
 },
 "nbformat": 4,
 "nbformat_minor": 4
}
