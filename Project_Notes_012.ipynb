{
 "cells": [
  {
   "cell_type": "markdown",
   "id": "61e044d1-db2a-4374-b503-f4829a752c19",
   "metadata": {},
   "source": [
    "# Project_Notes_012"
   ]
  },
  {
   "cell_type": "markdown",
   "id": "a489226f-ad40-41a7-9ccb-8eb103f9b7fa",
   "metadata": {},
   "source": [
    "## Forecasting Renewable Energy Generation Reload\n",
    "In this project, the data of Project_Notes_011 will be analysed using deep learing with the obtained result compared with the essemble and xgb results."
   ]
  },
  {
   "cell_type": "code",
   "execution_count": 1,
   "id": "c2b80f74-c512-4b8b-9978-17a9d94d309a",
   "metadata": {},
   "outputs": [
    {
     "name": "stdout",
     "output_type": "stream",
     "text": [
      "WARNING:tensorflow:From C:\\Users\\a\\anaconda3\\Lib\\site-packages\\keras\\src\\losses.py:2976: The name tf.losses.sparse_softmax_cross_entropy is deprecated. Please use tf.compat.v1.losses.sparse_softmax_cross_entropy instead.\n",
      "\n"
     ]
    }
   ],
   "source": [
    "# Import required modules.\n",
    "import pandas as pd\n",
    "import numpy as np\n",
    "from tensorflow import keras\n",
    "from tensorflow.keras import layers\n",
    "from sklearn.model_selection import train_test_split\n",
    "from sklearn.preprocessing import MinMaxScaler\n",
    "from sklearn.pipeline import make_pipeline\n",
    "from tensorflow.keras.callbacks import EarlyStopping"
   ]
  },
  {
   "cell_type": "code",
   "execution_count": 2,
   "id": "8f04a29c-d9a0-4be0-a0b9-6547d16e21d6",
   "metadata": {},
   "outputs": [],
   "source": [
    "# Setup plotting\n",
    "import matplotlib.pyplot as plt\n",
    "plt.style.use('seaborn-v0_8-whitegrid')"
   ]
  },
  {
   "cell_type": "code",
   "execution_count": 3,
   "id": "992b3f05-2250-4074-9ca2-ee71ca1efe80",
   "metadata": {},
   "outputs": [],
   "source": [
    "# Set Matplotlib defaults\n",
    "plt.rc('figure', autolayout=True)\n",
    "plt.rc('axes', labelweight='bold', labelsize='large',\n",
    "       titleweight='bold', titlesize=18, titlepad=10)"
   ]
  },
  {
   "cell_type": "code",
   "execution_count": 4,
   "id": "c3b687f5-7a91-460d-853b-0a9879c46914",
   "metadata": {},
   "outputs": [],
   "source": [
    "# load the saved file.\n",
    "df = pd.read_parquet('./data/Project_Notes_011_renewable_data.parquet')"
   ]
  },
  {
   "cell_type": "code",
   "execution_count": 5,
   "id": "24bcbdf9-8fbb-44ef-94ff-0eeb79665280",
   "metadata": {},
   "outputs": [],
   "source": [
    "# Subset categorical and numerical columns\n",
    "num_features = df.select_dtypes(include=\"number\").columns.to_list()\n",
    "cat_features = df.select_dtypes(exclude=\"number\").columns.to_list()"
   ]
  },
  {
   "cell_type": "code",
   "execution_count": 6,
   "id": "a6b0bafa-25fd-4b10-9d20-56567ef8cd0c",
   "metadata": {},
   "outputs": [],
   "source": [
    "# Create masks for the cat_features columns.\n",
    "mask_traffic = {'Low': 1, 'Moderate': 2, 'High': 3}\n",
    "mask_preference = {'Morning': 1, 'Afternoon': 2, 'Evening': 3}\n",
    "mask_others = {'Low': 1, 'Mid': 2, 'High': 3, 'Unknown': 3}"
   ]
  },
  {
   "cell_type": "code",
   "execution_count": 7,
   "id": "0a933d58-08d1-4990-9b30-8e24cc535e5e",
   "metadata": {},
   "outputs": [],
   "source": [
    "# Create a function to apply the masks.\n",
    "def mask_unique(df):\n",
    "    df['traffic'] = df['traffic'].map(mask_traffic)\n",
    "    df['preference'] = df['preference'].map(mask_preference)\n",
    "    df['fog'] = df['fog'].map(mask_others)\n",
    "    df['rain'] = df['rain'].map(mask_others)\n",
    "    df['snow'] = df['snow'].map(mask_others)\n",
    "    df['hail'] = df['hail'].map(mask_others)\n",
    "    return df"
   ]
  },
  {
   "cell_type": "code",
   "execution_count": 8,
   "id": "34684e08-4719-4b71-bd20-5ae3f98a66cd",
   "metadata": {},
   "outputs": [],
   "source": [
    "# Apply the mask function.\n",
    "df = mask_unique(df)"
   ]
  },
  {
   "cell_type": "code",
   "execution_count": 9,
   "id": "00c021f5-d376-49b9-b813-524b306c3b48",
   "metadata": {},
   "outputs": [],
   "source": [
    "# Prepare X the features and y the target.\n",
    "X = df.copy()\n",
    "y = X.pop('delivery')"
   ]
  },
  {
   "cell_type": "code",
   "execution_count": 10,
   "id": "5ae3b57e-ae76-41f3-a1f5-c59b4cd6d33a",
   "metadata": {},
   "outputs": [],
   "source": [
    "# Apply scaler to X and y.\n",
    "scalar_X, scalar_y = MinMaxScaler(), MinMaxScaler()\n",
    "scalar_X.fit(X)\n",
    "scalar_y.fit(np.array(y).reshape(-1, 1))\n",
    "X = scalar_X.transform(X)\n",
    "y = scalar_y.transform(np.array(y).reshape(-1, 1))"
   ]
  },
  {
   "cell_type": "code",
   "execution_count": 11,
   "id": "e810707c-fbe3-4744-9d3d-d881a091f40e",
   "metadata": {},
   "outputs": [],
   "source": [
    "# Split the data.\n",
    "X_train, X_valid, y_train, y_valid = train_test_split(X, y, test_size=0.2, random_state=42)"
   ]
  },
  {
   "cell_type": "code",
   "execution_count": 12,
   "id": "b0b5461e-f028-41a4-a3db-89937ef0fc27",
   "metadata": {},
   "outputs": [
    {
     "data": {
      "text/plain": [
       "[13]"
      ]
     },
     "execution_count": 12,
     "metadata": {},
     "output_type": "execute_result"
    }
   ],
   "source": [
    "# Define the input shape.\n",
    "input_shape = [X.shape[1]]\n",
    "input_shape"
   ]
  },
  {
   "cell_type": "code",
   "execution_count": 13,
   "id": "8ed644f0-76e6-4ec7-ad47-6a087d66350a",
   "metadata": {},
   "outputs": [
    {
     "name": "stdout",
     "output_type": "stream",
     "text": [
      "WARNING:tensorflow:From C:\\Users\\a\\anaconda3\\Lib\\site-packages\\keras\\src\\backend.py:873: The name tf.get_default_graph is deprecated. Please use tf.compat.v1.get_default_graph instead.\n",
      "\n"
     ]
    }
   ],
   "source": [
    "# Create the model.\n",
    "model = keras.Sequential([\n",
    "    layers.Dense(128, activation='relu', input_shape=input_shape),\n",
    "    layers.Dense(64, activation='relu'),\n",
    "    layers.Dense(1),\n",
    "])"
   ]
  },
  {
   "cell_type": "code",
   "execution_count": 14,
   "id": "bd515c7c-8fbe-4962-9694-62d4d401b44d",
   "metadata": {},
   "outputs": [
    {
     "name": "stdout",
     "output_type": "stream",
     "text": [
      "WARNING:tensorflow:From C:\\Users\\a\\anaconda3\\Lib\\site-packages\\keras\\src\\optimizers\\__init__.py:309: The name tf.train.Optimizer is deprecated. Please use tf.compat.v1.train.Optimizer instead.\n",
      "\n"
     ]
    }
   ],
   "source": [
    "# Add Loss and Optimizer.\n",
    "model.compile(\n",
    "    optimizer='adam',\n",
    "    loss='mae',\n",
    ")"
   ]
  },
  {
   "cell_type": "code",
   "execution_count": 15,
   "id": "e7e453ef-a86d-44c3-804a-383eb7ef9609",
   "metadata": {},
   "outputs": [
    {
     "name": "stdout",
     "output_type": "stream",
     "text": [
      "Epoch 1/100\n",
      "WARNING:tensorflow:From C:\\Users\\a\\anaconda3\\Lib\\site-packages\\keras\\src\\utils\\tf_utils.py:492: The name tf.ragged.RaggedTensorValue is deprecated. Please use tf.compat.v1.ragged.RaggedTensorValue instead.\n",
      "\n",
      "202/202 [==============================] - 2s 5ms/step - loss: 0.1125 - val_loss: 0.0981\n",
      "Epoch 2/100\n",
      "202/202 [==============================] - 1s 4ms/step - loss: 0.0968 - val_loss: 0.0960\n",
      "Epoch 3/100\n",
      "202/202 [==============================] - 1s 5ms/step - loss: 0.0952 - val_loss: 0.0946\n",
      "Epoch 4/100\n",
      "202/202 [==============================] - 1s 4ms/step - loss: 0.0945 - val_loss: 0.0942\n",
      "Epoch 5/100\n",
      "202/202 [==============================] - 1s 4ms/step - loss: 0.0944 - val_loss: 0.0945\n",
      "Epoch 6/100\n",
      "202/202 [==============================] - 1s 4ms/step - loss: 0.0942 - val_loss: 0.0936\n",
      "Epoch 7/100\n",
      "202/202 [==============================] - 1s 4ms/step - loss: 0.0936 - val_loss: 0.0935\n",
      "Epoch 8/100\n",
      "202/202 [==============================] - 1s 4ms/step - loss: 0.0935 - val_loss: 0.0933\n",
      "Epoch 9/100\n",
      "202/202 [==============================] - 1s 4ms/step - loss: 0.0930 - val_loss: 0.0934\n",
      "Epoch 10/100\n",
      "202/202 [==============================] - 1s 4ms/step - loss: 0.0931 - val_loss: 0.0930\n",
      "Epoch 11/100\n",
      "202/202 [==============================] - 1s 4ms/step - loss: 0.0929 - val_loss: 0.0933\n",
      "Epoch 12/100\n",
      "202/202 [==============================] - 1s 4ms/step - loss: 0.0925 - val_loss: 0.0930\n",
      "Epoch 13/100\n",
      "202/202 [==============================] - 1s 4ms/step - loss: 0.0924 - val_loss: 0.0927\n",
      "Epoch 14/100\n",
      "202/202 [==============================] - 1s 4ms/step - loss: 0.0924 - val_loss: 0.0930\n",
      "Epoch 15/100\n",
      "202/202 [==============================] - 1s 4ms/step - loss: 0.0925 - val_loss: 0.0925\n",
      "Epoch 16/100\n",
      "202/202 [==============================] - 1s 4ms/step - loss: 0.0922 - val_loss: 0.0927\n",
      "Epoch 17/100\n",
      "202/202 [==============================] - 1s 4ms/step - loss: 0.0920 - val_loss: 0.0935\n",
      "Epoch 18/100\n",
      "202/202 [==============================] - 1s 5ms/step - loss: 0.0920 - val_loss: 0.0949\n",
      "Epoch 19/100\n",
      "202/202 [==============================] - 1s 4ms/step - loss: 0.0919 - val_loss: 0.0942\n",
      "Epoch 20/100\n",
      "202/202 [==============================] - 1s 4ms/step - loss: 0.0920 - val_loss: 0.0928\n",
      "Epoch 21/100\n",
      "202/202 [==============================] - 1s 4ms/step - loss: 0.0918 - val_loss: 0.0928\n",
      "Epoch 22/100\n",
      "202/202 [==============================] - 1s 4ms/step - loss: 0.0918 - val_loss: 0.0928\n",
      "Epoch 23/100\n",
      "202/202 [==============================] - 1s 4ms/step - loss: 0.0921 - val_loss: 0.0937\n",
      "Epoch 24/100\n",
      "202/202 [==============================] - 1s 4ms/step - loss: 0.0920 - val_loss: 0.0938\n",
      "Epoch 25/100\n",
      "202/202 [==============================] - 1s 4ms/step - loss: 0.0917 - val_loss: 0.0929\n",
      "Epoch 26/100\n",
      "202/202 [==============================] - 1s 4ms/step - loss: 0.0916 - val_loss: 0.0929\n",
      "Epoch 27/100\n",
      "202/202 [==============================] - 1s 4ms/step - loss: 0.0917 - val_loss: 0.0929\n",
      "Epoch 28/100\n",
      "202/202 [==============================] - 1s 4ms/step - loss: 0.0914 - val_loss: 0.0927\n",
      "Epoch 29/100\n",
      "202/202 [==============================] - 1s 4ms/step - loss: 0.0917 - val_loss: 0.0934\n",
      "Epoch 30/100\n",
      "202/202 [==============================] - 1s 4ms/step - loss: 0.0915 - val_loss: 0.0925\n",
      "Epoch 31/100\n",
      "202/202 [==============================] - 1s 4ms/step - loss: 0.0914 - val_loss: 0.0926\n",
      "Epoch 32/100\n",
      "202/202 [==============================] - 1s 5ms/step - loss: 0.0913 - val_loss: 0.0932\n",
      "Epoch 33/100\n",
      "202/202 [==============================] - 1s 4ms/step - loss: 0.0916 - val_loss: 0.0950\n",
      "Epoch 34/100\n",
      "202/202 [==============================] - 1s 4ms/step - loss: 0.0914 - val_loss: 0.0931\n",
      "Epoch 35/100\n",
      "202/202 [==============================] - 1s 4ms/step - loss: 0.0913 - val_loss: 0.0925\n",
      "Epoch 36/100\n",
      "202/202 [==============================] - 1s 4ms/step - loss: 0.0912 - val_loss: 0.0931\n",
      "Epoch 37/100\n",
      "202/202 [==============================] - 1s 4ms/step - loss: 0.0912 - val_loss: 0.0931\n",
      "Epoch 38/100\n",
      "202/202 [==============================] - 1s 4ms/step - loss: 0.0912 - val_loss: 0.0925\n",
      "Epoch 39/100\n",
      "202/202 [==============================] - 1s 4ms/step - loss: 0.0912 - val_loss: 0.0929\n",
      "Epoch 40/100\n",
      "202/202 [==============================] - 1s 4ms/step - loss: 0.0911 - val_loss: 0.0922\n",
      "Epoch 41/100\n",
      "202/202 [==============================] - 1s 4ms/step - loss: 0.0910 - val_loss: 0.0923\n",
      "Epoch 42/100\n",
      "202/202 [==============================] - 1s 4ms/step - loss: 0.0910 - val_loss: 0.0930\n",
      "Epoch 43/100\n",
      "202/202 [==============================] - 1s 4ms/step - loss: 0.0909 - val_loss: 0.0941\n",
      "Epoch 44/100\n",
      "202/202 [==============================] - 1s 4ms/step - loss: 0.0909 - val_loss: 0.0949\n",
      "Epoch 45/100\n",
      "202/202 [==============================] - 1s 5ms/step - loss: 0.0909 - val_loss: 0.0923\n",
      "Epoch 46/100\n",
      "202/202 [==============================] - 1s 4ms/step - loss: 0.0911 - val_loss: 0.0923\n",
      "Epoch 47/100\n",
      "202/202 [==============================] - 1s 4ms/step - loss: 0.0907 - val_loss: 0.0928\n",
      "Epoch 48/100\n",
      "202/202 [==============================] - 1s 4ms/step - loss: 0.0907 - val_loss: 0.0923\n",
      "Epoch 49/100\n",
      "202/202 [==============================] - 1s 4ms/step - loss: 0.0905 - val_loss: 0.0925\n",
      "Epoch 50/100\n",
      "202/202 [==============================] - 1s 6ms/step - loss: 0.0906 - val_loss: 0.0931\n",
      "Epoch 51/100\n",
      "202/202 [==============================] - 1s 4ms/step - loss: 0.0905 - val_loss: 0.0925\n",
      "Epoch 52/100\n",
      "202/202 [==============================] - 1s 5ms/step - loss: 0.0905 - val_loss: 0.0924\n",
      "Epoch 53/100\n",
      "202/202 [==============================] - 1s 4ms/step - loss: 0.0906 - val_loss: 0.0923\n",
      "Epoch 54/100\n",
      "202/202 [==============================] - 1s 4ms/step - loss: 0.0904 - val_loss: 0.0927\n",
      "Epoch 55/100\n",
      "202/202 [==============================] - 1s 4ms/step - loss: 0.0902 - val_loss: 0.0925\n",
      "Epoch 56/100\n",
      "202/202 [==============================] - 1s 5ms/step - loss: 0.0902 - val_loss: 0.0927\n",
      "Epoch 57/100\n",
      "202/202 [==============================] - 1s 4ms/step - loss: 0.0902 - val_loss: 0.0934\n",
      "Epoch 58/100\n",
      "202/202 [==============================] - 1s 5ms/step - loss: 0.0902 - val_loss: 0.0932\n",
      "Epoch 59/100\n",
      "202/202 [==============================] - 1s 4ms/step - loss: 0.0901 - val_loss: 0.0923\n",
      "Epoch 60/100\n",
      "202/202 [==============================] - 1s 4ms/step - loss: 0.0901 - val_loss: 0.0922\n",
      "Epoch 61/100\n",
      "202/202 [==============================] - 1s 5ms/step - loss: 0.0900 - val_loss: 0.0922\n",
      "Epoch 62/100\n",
      "202/202 [==============================] - 1s 4ms/step - loss: 0.0899 - val_loss: 0.0922\n",
      "Epoch 63/100\n",
      "202/202 [==============================] - 1s 4ms/step - loss: 0.0898 - val_loss: 0.0923\n",
      "Epoch 64/100\n",
      "202/202 [==============================] - 1s 4ms/step - loss: 0.0898 - val_loss: 0.0938\n",
      "Epoch 65/100\n",
      "202/202 [==============================] - 1s 4ms/step - loss: 0.0898 - val_loss: 0.0924\n",
      "Epoch 66/100\n",
      "202/202 [==============================] - 1s 4ms/step - loss: 0.0898 - val_loss: 0.0923\n",
      "Epoch 67/100\n",
      "202/202 [==============================] - 1s 5ms/step - loss: 0.0899 - val_loss: 0.0931\n",
      "Epoch 68/100\n",
      "202/202 [==============================] - 1s 4ms/step - loss: 0.0896 - val_loss: 0.0923\n",
      "Epoch 69/100\n",
      "202/202 [==============================] - 1s 4ms/step - loss: 0.0896 - val_loss: 0.0923\n",
      "Epoch 70/100\n",
      "202/202 [==============================] - 1s 4ms/step - loss: 0.0895 - val_loss: 0.0923\n",
      "Epoch 71/100\n",
      "202/202 [==============================] - 1s 4ms/step - loss: 0.0895 - val_loss: 0.0925\n",
      "Epoch 72/100\n",
      "202/202 [==============================] - 1s 4ms/step - loss: 0.0894 - val_loss: 0.0928\n",
      "Epoch 73/100\n",
      "202/202 [==============================] - 1s 5ms/step - loss: 0.0894 - val_loss: 0.0928\n",
      "Epoch 74/100\n",
      "202/202 [==============================] - 1s 4ms/step - loss: 0.0895 - val_loss: 0.0923\n",
      "Epoch 75/100\n",
      "202/202 [==============================] - 1s 4ms/step - loss: 0.0895 - val_loss: 0.0926\n",
      "Epoch 76/100\n",
      "202/202 [==============================] - 1s 4ms/step - loss: 0.0893 - val_loss: 0.0931\n",
      "Epoch 77/100\n",
      "202/202 [==============================] - 1s 5ms/step - loss: 0.0893 - val_loss: 0.0923\n",
      "Epoch 78/100\n",
      "202/202 [==============================] - 1s 4ms/step - loss: 0.0893 - val_loss: 0.0929\n",
      "Epoch 79/100\n",
      "202/202 [==============================] - 1s 4ms/step - loss: 0.0892 - val_loss: 0.0923\n",
      "Epoch 80/100\n",
      "202/202 [==============================] - 1s 4ms/step - loss: 0.0893 - val_loss: 0.0924\n",
      "Epoch 81/100\n",
      "202/202 [==============================] - 1s 4ms/step - loss: 0.0891 - val_loss: 0.0935\n",
      "Epoch 82/100\n",
      "202/202 [==============================] - 1s 4ms/step - loss: 0.0892 - val_loss: 0.0929\n",
      "Epoch 83/100\n",
      "202/202 [==============================] - 1s 4ms/step - loss: 0.0891 - val_loss: 0.0925\n",
      "Epoch 84/100\n",
      "202/202 [==============================] - 1s 4ms/step - loss: 0.0891 - val_loss: 0.0929\n",
      "Epoch 85/100\n",
      "202/202 [==============================] - 1s 4ms/step - loss: 0.0890 - val_loss: 0.0925\n",
      "Epoch 86/100\n",
      "202/202 [==============================] - 1s 4ms/step - loss: 0.0891 - val_loss: 0.0926\n",
      "Epoch 87/100\n",
      "202/202 [==============================] - 1s 5ms/step - loss: 0.0890 - val_loss: 0.0925\n",
      "Epoch 88/100\n",
      "202/202 [==============================] - 1s 4ms/step - loss: 0.0889 - val_loss: 0.0925\n",
      "Epoch 89/100\n",
      "202/202 [==============================] - 1s 6ms/step - loss: 0.0888 - val_loss: 0.0924\n",
      "Epoch 90/100\n",
      "202/202 [==============================] - 1s 4ms/step - loss: 0.0889 - val_loss: 0.0927\n",
      "Epoch 91/100\n",
      "202/202 [==============================] - 1s 4ms/step - loss: 0.0889 - val_loss: 0.0927\n",
      "Epoch 92/100\n",
      "202/202 [==============================] - 1s 4ms/step - loss: 0.0888 - val_loss: 0.0925\n",
      "Epoch 93/100\n",
      "202/202 [==============================] - 1s 4ms/step - loss: 0.0888 - val_loss: 0.0928\n",
      "Epoch 94/100\n",
      "202/202 [==============================] - 1s 4ms/step - loss: 0.0889 - val_loss: 0.0930\n",
      "Epoch 95/100\n",
      "202/202 [==============================] - 1s 4ms/step - loss: 0.0887 - val_loss: 0.0927\n",
      "Epoch 96/100\n",
      "202/202 [==============================] - 1s 5ms/step - loss: 0.0887 - val_loss: 0.0933\n",
      "Epoch 97/100\n",
      "202/202 [==============================] - 1s 4ms/step - loss: 0.0886 - val_loss: 0.0936\n",
      "Epoch 98/100\n",
      "202/202 [==============================] - 1s 4ms/step - loss: 0.0886 - val_loss: 0.0930\n",
      "Epoch 99/100\n",
      "202/202 [==============================] - 1s 4ms/step - loss: 0.0886 - val_loss: 0.0927\n",
      "Epoch 100/100\n",
      "202/202 [==============================] - 1s 4ms/step - loss: 0.0885 - val_loss: 0.0928\n"
     ]
    }
   ],
   "source": [
    "# Train the model.\n",
    "history = model.fit(\n",
    "    X_train, y_train,\n",
    "    validation_data=(X_valid, y_valid),\n",
    "    batch_size=512,\n",
    "    epochs=100\n",
    ")"
   ]
  },
  {
   "cell_type": "code",
   "execution_count": 16,
   "id": "55765c65-39bd-4806-a68d-447fdb0a4a76",
   "metadata": {
    "scrolled": true
   },
   "outputs": [
    {
     "name": "stdout",
     "output_type": "stream",
     "text": [
      "Minimum Validation Loss: 0.0922\n",
      "Minimum Validation index: 59\n"
     ]
    },
    {
     "data": {
      "image/png": "[encoded data removed]",
      "text/plain": [
       "<Figure size 640x480 with 1 Axes>"
      ]
     },
     "metadata": {},
     "output_type": "display_data"
    }
   ],
   "source": [
    "# Plot the loss against the val_loss.\n",
    "history_df = pd.DataFrame(history.history)\n",
    "history_df.loc[0:, ['loss', 'val_loss']].plot()\n",
    "print(f\"Minimum Validation Loss: {history_df['val_loss'].min():0.4f}\")\n",
    "print(f\"Minimum Validation index: {history_df[history_df['val_loss'] == history_df['val_loss'].min()].index[0]}\")"
   ]
  },
  {
   "cell_type": "code",
   "execution_count": 17,
   "id": "3a3e02f4-6aaf-4f88-968c-576f9808851b",
   "metadata": {},
   "outputs": [],
   "source": [
    "# Create function to predict the raw data\n",
    "def predict_data(raw_data):\n",
    "    data_frame = pd.DataFrame(raw_data, index=[0])\n",
    "    data_scale = scalar_X.transform(data_frame )\n",
    "    data_predict = model.predict(data_scale)[0][0]\n",
    "    data_inverse = scalar_y.inverse_transform(np.array(data_predict).reshape(-1, 1))[0][0]\n",
    "    return data_inverse"
   ]
  },
  {
   "cell_type": "code",
   "execution_count": 18,
   "id": "4371e9ea-c5c4-4798-869b-fa92b20fdffb",
   "metadata": {},
   "outputs": [
    {
     "data": {
      "text/plain": [
       "traffic          1.000000\n",
       "packages         7.000000\n",
       "preference       2.000000\n",
       "distance       134.105783\n",
       "fog              2.000000\n",
       "rain             1.000000\n",
       "snow             2.000000\n",
       "hail             3.000000\n",
       "year          2023.000000\n",
       "month            4.000000\n",
       "day             17.000000\n",
       "hour            10.000000\n",
       "minute          15.000000\n",
       "delivery         7.665117\n",
       "Name: 22, dtype: float64"
      ]
     },
     "execution_count": 18,
     "metadata": {},
     "output_type": "execute_result"
    }
   ],
   "source": [
    "# Get the sample data to use.\n",
    "sample_data = df.loc[22]\n",
    "sample_data"
   ]
  },
  {
   "cell_type": "code",
   "execution_count": 20,
   "id": "c62f144d-7628-4da3-97f1-9b982c7a274f",
   "metadata": {},
   "outputs": [
    {
     "data": {
      "text/plain": [
       "{'traffic': 1.0,\n",
       " 'packages': 7.0,\n",
       " 'preference': 2.0,\n",
       " 'distance': 134.10578342021049,\n",
       " 'fog': 2.0,\n",
       " 'rain': 1.0,\n",
       " 'snow': 2.0,\n",
       " 'hail': 3.0,\n",
       " 'year': 2023.0,\n",
       " 'month': 4.0,\n",
       " 'day': 17.0,\n",
       " 'hour': 10.0,\n",
       " 'minute': 15.0}"
      ]
     },
     "execution_count": 20,
     "metadata": {},
     "output_type": "execute_result"
    }
   ],
   "source": [
    "# Extract raw data.\n",
    "raw_data = {\n",
    "    'traffic': sample_data.loc['traffic'],\n",
    "    'packages': sample_data.loc['packages'],\n",
    "    'preference': sample_data.loc['preference'],\n",
    "    'distance': sample_data.loc['distance'],\n",
    "    'fog': sample_data.loc['fog'],\n",
    "    'rain': sample_data.loc['rain'],\n",
    "    'snow': sample_data.loc['snow'],\n",
    "    'hail': sample_data.loc['hail'],\n",
    "    'year': sample_data.loc['year'],\n",
    "    'month': sample_data.loc['month'],\n",
    "    'day': sample_data.loc['day'],\n",
    "    'hour': sample_data.loc['hour'],\n",
    "    'minute': sample_data.loc['minute']\n",
    "}\n",
    "\n",
    "raw_data"
   ]
  },
  {
   "cell_type": "code",
   "execution_count": 21,
   "id": "106d71ff-4a29-440a-9167-d4a3075a9bc4",
   "metadata": {},
   "outputs": [
    {
     "name": "stdout",
     "output_type": "stream",
     "text": [
      "1/1 [==============================] - 0s 216ms/step\n"
     ]
    },
    {
     "data": {
      "text/plain": [
       "7.6658254"
      ]
     },
     "execution_count": 21,
     "metadata": {},
     "output_type": "execute_result"
    }
   ],
   "source": [
    "# Compute prediction\n",
    "prediction = predict_data(raw_data)\n",
    "prediction"
   ]
  },
  {
   "cell_type": "code",
   "execution_count": 22,
   "id": "251b9464-64f5-4bab-b5f8-f7f53e7a38ba",
   "metadata": {},
   "outputs": [
    {
     "data": {
      "text/plain": [
       "traffic          1.000000\n",
       "packages         1.000000\n",
       "preference       2.000000\n",
       "distance       120.157517\n",
       "fog              3.000000\n",
       "rain             3.000000\n",
       "snow             2.000000\n",
       "hail             3.000000\n",
       "year          2020.000000\n",
       "month            8.000000\n",
       "day              6.000000\n",
       "hour            10.000000\n",
       "minute          29.000000\n",
       "delivery         5.867858\n",
       "Name: 199, dtype: float64"
      ]
     },
     "execution_count": 22,
     "metadata": {},
     "output_type": "execute_result"
    }
   ],
   "source": [
    "# Get the sample data to use.\n",
    "sample_data = df.loc[199]\n",
    "sample_data"
   ]
  },
  {
   "cell_type": "code",
   "execution_count": 23,
   "id": "3bd20012-c97a-4d52-840f-b8f142fbc3f5",
   "metadata": {},
   "outputs": [
    {
     "data": {
      "text/plain": [
       "{'traffic': 1.0,\n",
       " 'packages': 1.0,\n",
       " 'preference': 2.0,\n",
       " 'distance': 120.15751736289026,\n",
       " 'fog': 3.0,\n",
       " 'rain': 3.0,\n",
       " 'snow': 2.0,\n",
       " 'hail': 3.0,\n",
       " 'year': 2020.0,\n",
       " 'month': 8.0,\n",
       " 'day': 6.0,\n",
       " 'hour': 10.0,\n",
       " 'minute': 29.0}"
      ]
     },
     "execution_count": 23,
     "metadata": {},
     "output_type": "execute_result"
    }
   ],
   "source": [
    "# Extract raw data.\n",
    "raw_data = {\n",
    "    'traffic': sample_data.loc['traffic'],\n",
    "    'packages': sample_data.loc['packages'],\n",
    "    'preference': sample_data.loc['preference'],\n",
    "    'distance': sample_data.loc['distance'],\n",
    "    'fog': sample_data.loc['fog'],\n",
    "    'rain': sample_data.loc['rain'],\n",
    "    'snow': sample_data.loc['snow'],\n",
    "    'hail': sample_data.loc['hail'],\n",
    "    'year': sample_data.loc['year'],\n",
    "    'month': sample_data.loc['month'],\n",
    "    'day': sample_data.loc['day'],\n",
    "    'hour': sample_data.loc['hour'],\n",
    "    'minute': sample_data.loc['minute']\n",
    "}\n",
    "\n",
    "raw_data"
   ]
  },
  {
   "cell_type": "code",
   "execution_count": 24,
   "id": "3b288858-6dd7-4add-9144-29a2f3bb1185",
   "metadata": {},
   "outputs": [
    {
     "name": "stdout",
     "output_type": "stream",
     "text": [
      "1/1 [==============================] - 0s 24ms/step\n"
     ]
    },
    {
     "data": {
      "text/plain": [
       "5.441031"
      ]
     },
     "execution_count": 24,
     "metadata": {},
     "output_type": "execute_result"
    }
   ],
   "source": [
    "# Compute prediction\n",
    "prediction = predict_data(raw_data)\n",
    "prediction"
   ]
  },
  {
   "cell_type": "code",
   "execution_count": 25,
   "id": "9b628fe6-fda1-4919-919b-fc9f11270f65",
   "metadata": {},
   "outputs": [
    {
     "data": {
      "text/plain": [
       "traffic          3.000000\n",
       "packages        20.000000\n",
       "preference       3.000000\n",
       "distance       171.415035\n",
       "fog              1.000000\n",
       "rain             1.000000\n",
       "snow             1.000000\n",
       "hail             1.000000\n",
       "year          2021.000000\n",
       "month            7.000000\n",
       "day              2.000000\n",
       "hour             8.000000\n",
       "minute           6.000000\n",
       "delivery        14.218450\n",
       "Name: 303, dtype: float64"
      ]
     },
     "execution_count": 25,
     "metadata": {},
     "output_type": "execute_result"
    }
   ],
   "source": [
    "# Get the sample data to use.\n",
    "sample_data = df.loc[303]\n",
    "sample_data"
   ]
  },
  {
   "cell_type": "code",
   "execution_count": 26,
   "id": "9dcef396-3d80-43eb-9f3b-606d67768ce5",
   "metadata": {},
   "outputs": [
    {
     "data": {
      "text/plain": [
       "{'traffic': 3.0,\n",
       " 'packages': 20.0,\n",
       " 'preference': 3.0,\n",
       " 'distance': 171.41503459195576,\n",
       " 'fog': 1.0,\n",
       " 'rain': 1.0,\n",
       " 'snow': 1.0,\n",
       " 'hail': 1.0,\n",
       " 'year': 2021.0,\n",
       " 'month': 7.0,\n",
       " 'day': 2.0,\n",
       " 'hour': 8.0,\n",
       " 'minute': 6.0}"
      ]
     },
     "execution_count": 26,
     "metadata": {},
     "output_type": "execute_result"
    }
   ],
   "source": [
    "# Extract raw data.\n",
    "raw_data = {\n",
    "    'traffic': sample_data.loc['traffic'],\n",
    "    'packages': sample_data.loc['packages'],\n",
    "    'preference': sample_data.loc['preference'],\n",
    "    'distance': sample_data.loc['distance'],\n",
    "    'fog': sample_data.loc['fog'],\n",
    "    'rain': sample_data.loc['rain'],\n",
    "    'snow': sample_data.loc['snow'],\n",
    "    'hail': sample_data.loc['hail'],\n",
    "    'year': sample_data.loc['year'],\n",
    "    'month': sample_data.loc['month'],\n",
    "    'day': sample_data.loc['day'],\n",
    "    'hour': sample_data.loc['hour'],\n",
    "    'minute': sample_data.loc['minute']\n",
    "}\n",
    "\n",
    "raw_data"
   ]
  },
  {
   "cell_type": "code",
   "execution_count": 27,
   "id": "1b099744-0d02-4a23-8bf2-d3e7366fadf8",
   "metadata": {},
   "outputs": [
    {
     "name": "stdout",
     "output_type": "stream",
     "text": [
      "1/1 [==============================] - 0s 47ms/step\n"
     ]
    },
    {
     "data": {
      "text/plain": [
       "12.341938"
      ]
     },
     "execution_count": 27,
     "metadata": {},
     "output_type": "execute_result"
    }
   ],
   "source": [
    "# Compute prediction\n",
    "prediction = predict_data(raw_data)\n",
    "prediction"
   ]
  },
  {
   "cell_type": "markdown",
   "id": "ab5ee4e0-439a-4e02-aaf8-99de2eb72092",
   "metadata": {},
   "source": [
    "### Define Early Stopping Callback"
   ]
  },
  {
   "cell_type": "code",
   "execution_count": 28,
   "id": "06b70e82-f754-4e4e-a39b-484f75fe820f",
   "metadata": {
    "scrolled": true
   },
   "outputs": [
    {
     "name": "stdout",
     "output_type": "stream",
     "text": [
      "Minimum Validation Loss: 0.0928\n",
      "Minimum Validation index: 20\n"
     ]
    },
    {
     "data": {
      "image/png": "[encoded data removed]",
      "text/plain": [
       "<Figure size 640x480 with 1 Axes>"
      ]
     },
     "metadata": {},
     "output_type": "display_data"
    }
   ],
   "source": [
    "# Define an early stopping callback\n",
    "early_stopping = EarlyStopping(\n",
    "    min_delta=0.001, # minimium amount of change to count as an improvement\n",
    "    patience=10, # how many epochs to wait before stopping\n",
    "    restore_best_weights=True,\n",
    ")\n",
    "\n",
    "# Create the model.\n",
    "model = keras.Sequential([\n",
    "    layers.Dense(128, activation='relu', input_shape=input_shape),\n",
    "    layers.Dense(64, activation='relu'),    \n",
    "    layers.Dense(1)\n",
    "])\n",
    "\n",
    "# Add Loss and Optimizer.\n",
    "model.compile(\n",
    "    optimizer='adam',\n",
    "    loss='mae'\n",
    ")\n",
    "\n",
    "# Split the data.\n",
    "X_train, X_valid, y_train, y_valid = train_test_split(X, y, test_size=0.2, random_state=42)\n",
    "\n",
    "# Train the model.\n",
    "history = model.fit(\n",
    "    X_train, y_train,\n",
    "    validation_data=(X_valid, y_valid),\n",
    "    batch_size=512,\n",
    "    epochs=100,\n",
    "    verbose=0,    \n",
    "    callbacks=[early_stopping]\n",
    ")\n",
    "\n",
    "# Plot the history.\n",
    "history_df = pd.DataFrame(history.history)\n",
    "history_df.loc[:, ['loss', 'val_loss']].plot()\n",
    "print(f\"Minimum Validation Loss: {history_df['val_loss'].min():0.4f}\")\n",
    "print(f\"Minimum Validation index: {history_df[history_df['val_loss'] == history_df['val_loss'].min()].index[0]}\")"
   ]
  },
  {
   "cell_type": "code",
   "execution_count": 29,
   "id": "dbb44763-a100-4a46-802b-643605104d7c",
   "metadata": {},
   "outputs": [
    {
     "data": {
      "text/plain": [
       "traffic          1.000000\n",
       "packages         7.000000\n",
       "preference       2.000000\n",
       "distance       134.105783\n",
       "fog              2.000000\n",
       "rain             1.000000\n",
       "snow             2.000000\n",
       "hail             3.000000\n",
       "year          2023.000000\n",
       "month            4.000000\n",
       "day             17.000000\n",
       "hour            10.000000\n",
       "minute          15.000000\n",
       "delivery         7.665117\n",
       "Name: 22, dtype: float64"
      ]
     },
     "execution_count": 29,
     "metadata": {},
     "output_type": "execute_result"
    }
   ],
   "source": [
    "# Get the sample data to use.\n",
    "sample_data = df.loc[22]\n",
    "sample_data"
   ]
  },
  {
   "cell_type": "code",
   "execution_count": 30,
   "id": "980d4d61-a26e-4e75-a936-dc0230864a16",
   "metadata": {},
   "outputs": [
    {
     "data": {
      "text/plain": [
       "{'traffic': 1.0,\n",
       " 'packages': 7.0,\n",
       " 'preference': 2.0,\n",
       " 'distance': 134.10578342021049,\n",
       " 'fog': 2.0,\n",
       " 'rain': 1.0,\n",
       " 'snow': 2.0,\n",
       " 'hail': 3.0,\n",
       " 'year': 2023.0,\n",
       " 'month': 4.0,\n",
       " 'day': 17.0,\n",
       " 'hour': 10.0,\n",
       " 'minute': 15.0}"
      ]
     },
     "execution_count": 30,
     "metadata": {},
     "output_type": "execute_result"
    }
   ],
   "source": [
    "# Extract raw data.\n",
    "raw_data = {\n",
    "    'traffic': sample_data.loc['traffic'],\n",
    "    'packages': sample_data.loc['packages'],\n",
    "    'preference': sample_data.loc['preference'],\n",
    "    'distance': sample_data.loc['distance'],\n",
    "    'fog': sample_data.loc['fog'],\n",
    "    'rain': sample_data.loc['rain'],\n",
    "    'snow': sample_data.loc['snow'],\n",
    "    'hail': sample_data.loc['hail'],\n",
    "    'year': sample_data.loc['year'],\n",
    "    'month': sample_data.loc['month'],\n",
    "    'day': sample_data.loc['day'],\n",
    "    'hour': sample_data.loc['hour'],\n",
    "    'minute': sample_data.loc['minute']\n",
    "}\n",
    "\n",
    "raw_data"
   ]
  },
  {
   "cell_type": "code",
   "execution_count": 31,
   "id": "11095d63-ee47-46ad-8f73-72701b7ecf09",
   "metadata": {},
   "outputs": [
    {
     "name": "stdout",
     "output_type": "stream",
     "text": [
      "1/1 [==============================] - 0s 125ms/step\n"
     ]
    },
    {
     "data": {
      "text/plain": [
       "7.571627"
      ]
     },
     "execution_count": 31,
     "metadata": {},
     "output_type": "execute_result"
    }
   ],
   "source": [
    "# Compute prediction\n",
    "prediction = predict_data(raw_data)\n",
    "prediction"
   ]
  },
  {
   "cell_type": "code",
   "execution_count": 32,
   "id": "2a625c87-3af1-4c50-80a6-6625a4172dea",
   "metadata": {},
   "outputs": [
    {
     "data": {
      "text/plain": [
       "traffic          1.000000\n",
       "packages         1.000000\n",
       "preference       2.000000\n",
       "distance       120.157517\n",
       "fog              3.000000\n",
       "rain             3.000000\n",
       "snow             2.000000\n",
       "hail             3.000000\n",
       "year          2020.000000\n",
       "month            8.000000\n",
       "day              6.000000\n",
       "hour            10.000000\n",
       "minute          29.000000\n",
       "delivery         5.867858\n",
       "Name: 199, dtype: float64"
      ]
     },
     "execution_count": 32,
     "metadata": {},
     "output_type": "execute_result"
    }
   ],
   "source": [
    "# Get the sample data to use.\n",
    "sample_data = df.loc[199]\n",
    "sample_data"
   ]
  },
  {
   "cell_type": "code",
   "execution_count": 33,
   "id": "fd695e01-e060-4ede-b938-b35cbaab0844",
   "metadata": {},
   "outputs": [
    {
     "data": {
      "text/plain": [
       "{'traffic': 1.0,\n",
       " 'packages': 1.0,\n",
       " 'preference': 2.0,\n",
       " 'distance': 120.15751736289026,\n",
       " 'fog': 3.0,\n",
       " 'rain': 3.0,\n",
       " 'snow': 2.0,\n",
       " 'hail': 3.0,\n",
       " 'year': 2020.0,\n",
       " 'month': 8.0,\n",
       " 'day': 6.0,\n",
       " 'hour': 10.0,\n",
       " 'minute': 29.0}"
      ]
     },
     "execution_count": 33,
     "metadata": {},
     "output_type": "execute_result"
    }
   ],
   "source": [
    "# Extract raw data.\n",
    "raw_data = {\n",
    "    'traffic': sample_data.loc['traffic'],\n",
    "    'packages': sample_data.loc['packages'],\n",
    "    'preference': sample_data.loc['preference'],\n",
    "    'distance': sample_data.loc['distance'],\n",
    "    'fog': sample_data.loc['fog'],\n",
    "    'rain': sample_data.loc['rain'],\n",
    "    'snow': sample_data.loc['snow'],\n",
    "    'hail': sample_data.loc['hail'],\n",
    "    'year': sample_data.loc['year'],\n",
    "    'month': sample_data.loc['month'],\n",
    "    'day': sample_data.loc['day'],\n",
    "    'hour': sample_data.loc['hour'],\n",
    "    'minute': sample_data.loc['minute']\n",
    "}\n",
    "\n",
    "raw_data"
   ]
  },
  {
   "cell_type": "code",
   "execution_count": 34,
   "id": "1359afbd-59d4-4e44-a81a-af493aa7e470",
   "metadata": {},
   "outputs": [
    {
     "name": "stdout",
     "output_type": "stream",
     "text": [
      "1/1 [==============================] - 0s 16ms/step\n"
     ]
    },
    {
     "data": {
      "text/plain": [
       "5.0638065"
      ]
     },
     "execution_count": 34,
     "metadata": {},
     "output_type": "execute_result"
    }
   ],
   "source": [
    "# Compute prediction\n",
    "prediction = predict_data(raw_data)\n",
    "prediction"
   ]
  },
  {
   "cell_type": "code",
   "execution_count": 35,
   "id": "e3c14bf6-ead2-4595-8dba-6f44d231d456",
   "metadata": {},
   "outputs": [
    {
     "data": {
      "text/plain": [
       "traffic          3.000000\n",
       "packages        20.000000\n",
       "preference       3.000000\n",
       "distance       171.415035\n",
       "fog              1.000000\n",
       "rain             1.000000\n",
       "snow             1.000000\n",
       "hail             1.000000\n",
       "year          2021.000000\n",
       "month            7.000000\n",
       "day              2.000000\n",
       "hour             8.000000\n",
       "minute           6.000000\n",
       "delivery        14.218450\n",
       "Name: 303, dtype: float64"
      ]
     },
     "execution_count": 35,
     "metadata": {},
     "output_type": "execute_result"
    }
   ],
   "source": [
    "# Get the sample data to use.\n",
    "sample_data = df.loc[303]\n",
    "sample_data"
   ]
  },
  {
   "cell_type": "code",
   "execution_count": 36,
   "id": "5dd924fc-f026-44d8-a294-4e56f060604d",
   "metadata": {},
   "outputs": [
    {
     "data": {
      "text/plain": [
       "{'traffic': 3.0,\n",
       " 'packages': 20.0,\n",
       " 'preference': 3.0,\n",
       " 'distance': 171.41503459195576,\n",
       " 'fog': 1.0,\n",
       " 'rain': 1.0,\n",
       " 'snow': 1.0,\n",
       " 'hail': 1.0,\n",
       " 'year': 2021.0,\n",
       " 'month': 7.0,\n",
       " 'day': 2.0,\n",
       " 'hour': 8.0,\n",
       " 'minute': 6.0}"
      ]
     },
     "execution_count": 36,
     "metadata": {},
     "output_type": "execute_result"
    }
   ],
   "source": [
    "# Extract raw data.\n",
    "raw_data = {\n",
    "    'traffic': sample_data.loc['traffic'],\n",
    "    'packages': sample_data.loc['packages'],\n",
    "    'preference': sample_data.loc['preference'],\n",
    "    'distance': sample_data.loc['distance'],\n",
    "    'fog': sample_data.loc['fog'],\n",
    "    'rain': sample_data.loc['rain'],\n",
    "    'snow': sample_data.loc['snow'],\n",
    "    'hail': sample_data.loc['hail'],\n",
    "    'year': sample_data.loc['year'],\n",
    "    'month': sample_data.loc['month'],\n",
    "    'day': sample_data.loc['day'],\n",
    "    'hour': sample_data.loc['hour'],\n",
    "    'minute': sample_data.loc['minute']\n",
    "}\n",
    "\n",
    "raw_data"
   ]
  },
  {
   "cell_type": "code",
   "execution_count": 37,
   "id": "50ef8463-ee9d-47dd-898b-63e54b945a00",
   "metadata": {},
   "outputs": [
    {
     "name": "stdout",
     "output_type": "stream",
     "text": [
      "1/1 [==============================] - 0s 32ms/step\n"
     ]
    },
    {
     "data": {
      "text/plain": [
       "12.658952"
      ]
     },
     "execution_count": 37,
     "metadata": {},
     "output_type": "execute_result"
    }
   ],
   "source": [
    "# Compute prediction.\n",
    "prediction = predict_data(raw_data)\n",
    "prediction"
   ]
  },
  {
   "cell_type": "markdown",
   "id": "35b4d46d-1ecf-4d5f-9140-97684fcfd51e",
   "metadata": {},
   "source": [
    "### Dropout and Batch Normalization"
   ]
  },
  {
   "cell_type": "code",
   "execution_count": 38,
   "id": "fac4f509-1cd5-44dd-80f5-788616b80d49",
   "metadata": {},
   "outputs": [
    {
     "name": "stdout",
     "output_type": "stream",
     "text": [
      "Minimum Validation Loss: 0.0924\n",
      "Minimum Validation index: 95\n"
     ]
    },
    {
     "data": {
      "image/png": "[encoded data removed]",
      "text/plain": [
       "<Figure size 640x480 with 1 Axes>"
      ]
     },
     "metadata": {},
     "output_type": "display_data"
    }
   ],
   "source": [
    "# Add two 30% dropout layers, one after 128 and one after 64\n",
    "model = keras.Sequential([\n",
    "    layers.Dense(128, activation='relu', input_shape=input_shape),\n",
    "    layers.Dropout(rate=0.3),\n",
    "    layers.Dense(64, activation='relu'),\n",
    "    layers.Dropout(rate=0.3),\n",
    "    layers.Dense(1)\n",
    "])\n",
    "\n",
    "# Add Loss and Optimizer.\n",
    "model.compile(\n",
    "    optimizer='adam',\n",
    "    loss='mae',\n",
    ")\n",
    "\n",
    "# Train the model.\n",
    "history = model.fit(\n",
    "    X_train, y_train,\n",
    "    validation_data=(X_valid, y_valid),\n",
    "    batch_size=512,\n",
    "    epochs=100,\n",
    "    verbose=0\n",
    ")\n",
    "\n",
    "# Plot the history.\n",
    "history_df = pd.DataFrame(history.history)\n",
    "history_df.loc[:, ['loss', 'val_loss']].plot()\n",
    "print(f\"Minimum Validation Loss: {history_df['val_loss'].min():0.4f}\")\n",
    "print(f\"Minimum Validation index: {history_df[history_df['val_loss'] == history_df['val_loss'].min()].index[0]}\")"
   ]
  },
  {
   "cell_type": "code",
   "execution_count": 39,
   "id": "ef9dc47f-88af-4743-812e-2e0f823941f8",
   "metadata": {},
   "outputs": [
    {
     "data": {
      "text/plain": [
       "traffic          1.000000\n",
       "packages         7.000000\n",
       "preference       2.000000\n",
       "distance       134.105783\n",
       "fog              2.000000\n",
       "rain             1.000000\n",
       "snow             2.000000\n",
       "hail             3.000000\n",
       "year          2023.000000\n",
       "month            4.000000\n",
       "day             17.000000\n",
       "hour            10.000000\n",
       "minute          15.000000\n",
       "delivery         7.665117\n",
       "Name: 22, dtype: float64"
      ]
     },
     "execution_count": 39,
     "metadata": {},
     "output_type": "execute_result"
    }
   ],
   "source": [
    "# Get the sample data to use.\n",
    "sample_data = df.loc[22]\n",
    "sample_data"
   ]
  },
  {
   "cell_type": "code",
   "execution_count": 40,
   "id": "61b55182-cdca-4a8d-8613-7b79364d0162",
   "metadata": {},
   "outputs": [
    {
     "data": {
      "text/plain": [
       "{'traffic': 1.0,\n",
       " 'packages': 7.0,\n",
       " 'preference': 2.0,\n",
       " 'distance': 134.10578342021049,\n",
       " 'fog': 2.0,\n",
       " 'rain': 1.0,\n",
       " 'snow': 2.0,\n",
       " 'hail': 3.0,\n",
       " 'year': 2023.0,\n",
       " 'month': 4.0,\n",
       " 'day': 17.0,\n",
       " 'hour': 10.0,\n",
       " 'minute': 15.0}"
      ]
     },
     "execution_count": 40,
     "metadata": {},
     "output_type": "execute_result"
    }
   ],
   "source": [
    "# Extract raw data.\n",
    "raw_data = {\n",
    "    'traffic': sample_data.loc['traffic'],\n",
    "    'packages': sample_data.loc['packages'],\n",
    "    'preference': sample_data.loc['preference'],\n",
    "    'distance': sample_data.loc['distance'],\n",
    "    'fog': sample_data.loc['fog'],\n",
    "    'rain': sample_data.loc['rain'],\n",
    "    'snow': sample_data.loc['snow'],\n",
    "    'hail': sample_data.loc['hail'],\n",
    "    'year': sample_data.loc['year'],\n",
    "    'month': sample_data.loc['month'],\n",
    "    'day': sample_data.loc['day'],\n",
    "    'hour': sample_data.loc['hour'],\n",
    "    'minute': sample_data.loc['minute']\n",
    "}\n",
    "\n",
    "raw_data"
   ]
  },
  {
   "cell_type": "code",
   "execution_count": 41,
   "id": "68c0cb95-521d-4da8-9622-c428b5206ab9",
   "metadata": {},
   "outputs": [
    {
     "name": "stdout",
     "output_type": "stream",
     "text": [
      "1/1 [==============================] - 0s 94ms/step\n"
     ]
    },
    {
     "data": {
      "text/plain": [
       "7.5437083"
      ]
     },
     "execution_count": 41,
     "metadata": {},
     "output_type": "execute_result"
    }
   ],
   "source": [
    "# Compute prediction.\n",
    "prediction = predict_data(raw_data)\n",
    "prediction"
   ]
  },
  {
   "cell_type": "code",
   "execution_count": 42,
   "id": "67cc4744-8209-452c-9716-e5cce58fa90f",
   "metadata": {},
   "outputs": [
    {
     "data": {
      "text/plain": [
       "traffic          1.000000\n",
       "packages         1.000000\n",
       "preference       2.000000\n",
       "distance       120.157517\n",
       "fog              3.000000\n",
       "rain             3.000000\n",
       "snow             2.000000\n",
       "hail             3.000000\n",
       "year          2020.000000\n",
       "month            8.000000\n",
       "day              6.000000\n",
       "hour            10.000000\n",
       "minute          29.000000\n",
       "delivery         5.867858\n",
       "Name: 199, dtype: float64"
      ]
     },
     "execution_count": 42,
     "metadata": {},
     "output_type": "execute_result"
    }
   ],
   "source": [
    "# Get the sample data to use.\n",
    "sample_data = df.loc[199]\n",
    "sample_data"
   ]
  },
  {
   "cell_type": "code",
   "execution_count": 43,
   "id": "a73603b8-0747-4a86-a835-3cba4e503a4c",
   "metadata": {},
   "outputs": [
    {
     "data": {
      "text/plain": [
       "{'traffic': 1.0,\n",
       " 'packages': 1.0,\n",
       " 'preference': 2.0,\n",
       " 'distance': 120.15751736289026,\n",
       " 'fog': 3.0,\n",
       " 'rain': 3.0,\n",
       " 'snow': 2.0,\n",
       " 'hail': 3.0,\n",
       " 'year': 2020.0,\n",
       " 'month': 8.0,\n",
       " 'day': 6.0,\n",
       " 'hour': 10.0,\n",
       " 'minute': 29.0}"
      ]
     },
     "execution_count": 43,
     "metadata": {},
     "output_type": "execute_result"
    }
   ],
   "source": [
    "# Extract raw data.\n",
    "raw_data = {\n",
    "    'traffic': sample_data.loc['traffic'],\n",
    "    'packages': sample_data.loc['packages'],\n",
    "    'preference': sample_data.loc['preference'],\n",
    "    'distance': sample_data.loc['distance'],\n",
    "    'fog': sample_data.loc['fog'],\n",
    "    'rain': sample_data.loc['rain'],\n",
    "    'snow': sample_data.loc['snow'],\n",
    "    'hail': sample_data.loc['hail'],\n",
    "    'year': sample_data.loc['year'],\n",
    "    'month': sample_data.loc['month'],\n",
    "    'day': sample_data.loc['day'],\n",
    "    'hour': sample_data.loc['hour'],\n",
    "    'minute': sample_data.loc['minute']\n",
    "}\n",
    "\n",
    "raw_data"
   ]
  },
  {
   "cell_type": "code",
   "execution_count": 44,
   "id": "18839e5e-61cd-47c1-862a-360465f903f2",
   "metadata": {},
   "outputs": [
    {
     "name": "stdout",
     "output_type": "stream",
     "text": [
      "1/1 [==============================] - 0s 39ms/step\n"
     ]
    },
    {
     "data": {
      "text/plain": [
       "5.6716375"
      ]
     },
     "execution_count": 44,
     "metadata": {},
     "output_type": "execute_result"
    }
   ],
   "source": [
    "# Compute prediction.\n",
    "prediction = predict_data(raw_data)\n",
    "prediction"
   ]
  },
  {
   "cell_type": "code",
   "execution_count": 45,
   "id": "7248c3cb-da5d-448c-82a6-58a8089fa468",
   "metadata": {},
   "outputs": [
    {
     "data": {
      "text/plain": [
       "traffic          3.000000\n",
       "packages        20.000000\n",
       "preference       3.000000\n",
       "distance       171.415035\n",
       "fog              1.000000\n",
       "rain             1.000000\n",
       "snow             1.000000\n",
       "hail             1.000000\n",
       "year          2021.000000\n",
       "month            7.000000\n",
       "day              2.000000\n",
       "hour             8.000000\n",
       "minute           6.000000\n",
       "delivery        14.218450\n",
       "Name: 303, dtype: float64"
      ]
     },
     "execution_count": 45,
     "metadata": {},
     "output_type": "execute_result"
    }
   ],
   "source": [
    "# Get the sample data to use.\n",
    "sample_data = df.loc[303]\n",
    "sample_data"
   ]
  },
  {
   "cell_type": "code",
   "execution_count": 46,
   "id": "970fd4d9-f4e5-495d-ad4b-ef21a2a57eb6",
   "metadata": {},
   "outputs": [
    {
     "data": {
      "text/plain": [
       "{'traffic': 3.0,\n",
       " 'packages': 20.0,\n",
       " 'preference': 3.0,\n",
       " 'distance': 171.41503459195576,\n",
       " 'fog': 1.0,\n",
       " 'rain': 1.0,\n",
       " 'snow': 1.0,\n",
       " 'hail': 1.0,\n",
       " 'year': 2021.0,\n",
       " 'month': 7.0,\n",
       " 'day': 2.0,\n",
       " 'hour': 8.0,\n",
       " 'minute': 6.0}"
      ]
     },
     "execution_count": 46,
     "metadata": {},
     "output_type": "execute_result"
    }
   ],
   "source": [
    "# Extract raw data.\n",
    "raw_data = {\n",
    "    'traffic': sample_data.loc['traffic'],\n",
    "    'packages': sample_data.loc['packages'],\n",
    "    'preference': sample_data.loc['preference'],\n",
    "    'distance': sample_data.loc['distance'],\n",
    "    'fog': sample_data.loc['fog'],\n",
    "    'rain': sample_data.loc['rain'],\n",
    "    'snow': sample_data.loc['snow'],\n",
    "    'hail': sample_data.loc['hail'],\n",
    "    'year': sample_data.loc['year'],\n",
    "    'month': sample_data.loc['month'],\n",
    "    'day': sample_data.loc['day'],\n",
    "    'hour': sample_data.loc['hour'],\n",
    "    'minute': sample_data.loc['minute']\n",
    "}\n",
    "\n",
    "raw_data"
   ]
  },
  {
   "cell_type": "code",
   "execution_count": 47,
   "id": "81044e01-572d-453d-b89f-7c9d546c13a3",
   "metadata": {},
   "outputs": [
    {
     "name": "stdout",
     "output_type": "stream",
     "text": [
      "1/1 [==============================] - 0s 55ms/step\n"
     ]
    },
    {
     "data": {
      "text/plain": [
       "11.840632"
      ]
     },
     "execution_count": 47,
     "metadata": {},
     "output_type": "execute_result"
    }
   ],
   "source": [
    "# Compute prediction.\n",
    "prediction = predict_data(raw_data)\n",
    "prediction"
   ]
  },
  {
   "cell_type": "markdown",
   "id": "a8503bf6-a5e6-49f9-9da8-9b13f4602b87",
   "metadata": {},
   "source": [
    "### Add Batch Normalization Layers"
   ]
  },
  {
   "cell_type": "code",
   "execution_count": 48,
   "id": "bc3436c1-24c2-4eaa-8869-075baf42c118",
   "metadata": {},
   "outputs": [
    {
     "name": "stdout",
     "output_type": "stream",
     "text": [
      "WARNING:tensorflow:From C:\\Users\\a\\anaconda3\\Lib\\site-packages\\keras\\src\\engine\\base_layer_utils.py:384: The name tf.executing_eagerly_outside_functions is deprecated. Please use tf.compat.v1.executing_eagerly_outside_functions instead.\n",
      "\n",
      "Minimum Validation Loss: 0.1136\n",
      "Minimum Validation index: 87\n"
     ]
    },
    {
     "data": {
      "image/png": "[encoded data removed]",
      "text/plain": [
       "<Figure size 640x480 with 1 Axes>"
      ]
     },
     "metadata": {},
     "output_type": "display_data"
    }
   ],
   "source": [
    "# Add a BatchNormalization layer before each Dense layer\n",
    "model = keras.Sequential([\n",
    "    layers.BatchNormalization(),\n",
    "    layers.Dense(512, activation='relu', input_shape=input_shape),\n",
    "    layers.BatchNormalization(),\n",
    "    layers.Dense(512, activation='relu'),\n",
    "    layers.BatchNormalization(),\n",
    "    layers.Dense(512, activation='relu'),\n",
    "    layers.BatchNormalization(),\n",
    "    layers.Dense(1),\n",
    "])\n",
    "\n",
    "# Add Loss and Optimizer.\n",
    "model.compile(\n",
    "    optimizer='sgd',\n",
    "    loss='mae',\n",
    "    metrics=['mae'],\n",
    ")\n",
    "\n",
    "# Define epochs.\n",
    "EPOCHS = 100\n",
    "\n",
    "# Train the model.\n",
    "history = model.fit(\n",
    "    X_train, y_train,\n",
    "    validation_data=(X_valid, y_valid),\n",
    "    batch_size=64,\n",
    "    epochs=EPOCHS,\n",
    "    verbose=0\n",
    ")\n",
    "\n",
    "# Plot the history.\n",
    "history_df = pd.DataFrame(history.history)\n",
    "history_df.loc[:, ['loss', 'val_loss']].plot()\n",
    "print(f\"Minimum Validation Loss: {history_df['val_loss'].min():0.4f}\")\n",
    "print(f\"Minimum Validation index: {history_df[history_df['val_loss'] == history_df['val_loss'].min()].index[0]}\")"
   ]
  },
  {
   "cell_type": "code",
   "execution_count": 49,
   "id": "11ab34d4-0956-40d1-af97-d992f85b29ba",
   "metadata": {},
   "outputs": [
    {
     "data": {
      "text/plain": [
       "traffic          1.000000\n",
       "packages         7.000000\n",
       "preference       2.000000\n",
       "distance       134.105783\n",
       "fog              2.000000\n",
       "rain             1.000000\n",
       "snow             2.000000\n",
       "hail             3.000000\n",
       "year          2023.000000\n",
       "month            4.000000\n",
       "day             17.000000\n",
       "hour            10.000000\n",
       "minute          15.000000\n",
       "delivery         7.665117\n",
       "Name: 22, dtype: float64"
      ]
     },
     "execution_count": 49,
     "metadata": {},
     "output_type": "execute_result"
    }
   ],
   "source": [
    "# Get the sample data to use.\n",
    "sample_data = df.loc[22]\n",
    "sample_data"
   ]
  },
  {
   "cell_type": "code",
   "execution_count": 50,
   "id": "f86878b4-552b-4064-9de2-c5980341e4b5",
   "metadata": {},
   "outputs": [
    {
     "data": {
      "text/plain": [
       "{'traffic': 1.0,\n",
       " 'packages': 7.0,\n",
       " 'preference': 2.0,\n",
       " 'distance': 134.10578342021049,\n",
       " 'fog': 2.0,\n",
       " 'rain': 1.0,\n",
       " 'snow': 2.0,\n",
       " 'hail': 3.0,\n",
       " 'year': 2023.0,\n",
       " 'month': 4.0,\n",
       " 'day': 17.0,\n",
       " 'hour': 10.0,\n",
       " 'minute': 15.0}"
      ]
     },
     "execution_count": 50,
     "metadata": {},
     "output_type": "execute_result"
    }
   ],
   "source": [
    "# Extract raw data.\n",
    "raw_data = {\n",
    "    'traffic': sample_data.loc['traffic'],\n",
    "    'packages': sample_data.loc['packages'],\n",
    "    'preference': sample_data.loc['preference'],\n",
    "    'distance': sample_data.loc['distance'],\n",
    "    'fog': sample_data.loc['fog'],\n",
    "    'rain': sample_data.loc['rain'],\n",
    "    'snow': sample_data.loc['snow'],\n",
    "    'hail': sample_data.loc['hail'],\n",
    "    'year': sample_data.loc['year'],\n",
    "    'month': sample_data.loc['month'],\n",
    "    'day': sample_data.loc['day'],\n",
    "    'hour': sample_data.loc['hour'],\n",
    "    'minute': sample_data.loc['minute']\n",
    "}\n",
    "\n",
    "raw_data"
   ]
  },
  {
   "cell_type": "code",
   "execution_count": 51,
   "id": "f599b5c4-93de-42c2-b879-f1433c510dd5",
   "metadata": {},
   "outputs": [
    {
     "name": "stdout",
     "output_type": "stream",
     "text": [
      "1/1 [==============================] - 0s 242ms/step\n"
     ]
    },
    {
     "data": {
      "text/plain": [
       "7.911981"
      ]
     },
     "execution_count": 51,
     "metadata": {},
     "output_type": "execute_result"
    }
   ],
   "source": [
    "# Compute prediction.\n",
    "prediction = predict_data(raw_data)\n",
    "prediction"
   ]
  },
  {
   "cell_type": "code",
   "execution_count": 52,
   "id": "7eac112e-94b1-4325-a864-790efc3b4a51",
   "metadata": {},
   "outputs": [
    {
     "data": {
      "text/plain": [
       "traffic          1.000000\n",
       "packages         1.000000\n",
       "preference       2.000000\n",
       "distance       120.157517\n",
       "fog              3.000000\n",
       "rain             3.000000\n",
       "snow             2.000000\n",
       "hail             3.000000\n",
       "year          2020.000000\n",
       "month            8.000000\n",
       "day              6.000000\n",
       "hour            10.000000\n",
       "minute          29.000000\n",
       "delivery         5.867858\n",
       "Name: 199, dtype: float64"
      ]
     },
     "execution_count": 52,
     "metadata": {},
     "output_type": "execute_result"
    }
   ],
   "source": [
    "# Get the sample data to use.\n",
    "sample_data = df.loc[199]\n",
    "sample_data"
   ]
  },
  {
   "cell_type": "code",
   "execution_count": 53,
   "id": "b388e23a-413c-4353-9cce-8d3929d7e07d",
   "metadata": {},
   "outputs": [
    {
     "data": {
      "text/plain": [
       "{'traffic': 1.0,\n",
       " 'packages': 1.0,\n",
       " 'preference': 2.0,\n",
       " 'distance': 120.15751736289026,\n",
       " 'fog': 3.0,\n",
       " 'rain': 3.0,\n",
       " 'snow': 2.0,\n",
       " 'hail': 3.0,\n",
       " 'year': 2020.0,\n",
       " 'month': 8.0,\n",
       " 'day': 6.0,\n",
       " 'hour': 10.0,\n",
       " 'minute': 29.0}"
      ]
     },
     "execution_count": 53,
     "metadata": {},
     "output_type": "execute_result"
    }
   ],
   "source": [
    "# Extract raw data.\n",
    "raw_data = {\n",
    "    'traffic': sample_data.loc['traffic'],\n",
    "    'packages': sample_data.loc['packages'],\n",
    "    'preference': sample_data.loc['preference'],\n",
    "    'distance': sample_data.loc['distance'],\n",
    "    'fog': sample_data.loc['fog'],\n",
    "    'rain': sample_data.loc['rain'],\n",
    "    'snow': sample_data.loc['snow'],\n",
    "    'hail': sample_data.loc['hail'],\n",
    "    'year': sample_data.loc['year'],\n",
    "    'month': sample_data.loc['month'],\n",
    "    'day': sample_data.loc['day'],\n",
    "    'hour': sample_data.loc['hour'],\n",
    "    'minute': sample_data.loc['minute']\n",
    "}\n",
    "\n",
    "raw_data"
   ]
  },
  {
   "cell_type": "code",
   "execution_count": 54,
   "id": "7f192e01-cb52-4b46-823f-350c963e3d38",
   "metadata": {},
   "outputs": [
    {
     "name": "stdout",
     "output_type": "stream",
     "text": [
      "1/1 [==============================] - 0s 60ms/step\n"
     ]
    },
    {
     "data": {
      "text/plain": [
       "4.4832397"
      ]
     },
     "execution_count": 54,
     "metadata": {},
     "output_type": "execute_result"
    }
   ],
   "source": [
    "# Compute prediction.\n",
    "prediction = predict_data(raw_data)\n",
    "prediction"
   ]
  },
  {
   "cell_type": "code",
   "execution_count": 55,
   "id": "d75256df-9a24-49cf-99a8-d02bd5ff681c",
   "metadata": {},
   "outputs": [
    {
     "data": {
      "text/plain": [
       "traffic          3.000000\n",
       "packages        20.000000\n",
       "preference       3.000000\n",
       "distance       171.415035\n",
       "fog              1.000000\n",
       "rain             1.000000\n",
       "snow             1.000000\n",
       "hail             1.000000\n",
       "year          2021.000000\n",
       "month            7.000000\n",
       "day              2.000000\n",
       "hour             8.000000\n",
       "minute           6.000000\n",
       "delivery        14.218450\n",
       "Name: 303, dtype: float64"
      ]
     },
     "execution_count": 55,
     "metadata": {},
     "output_type": "execute_result"
    }
   ],
   "source": [
    "# Get the sample data to use.\n",
    "sample_data = df.loc[303]\n",
    "sample_data"
   ]
  },
  {
   "cell_type": "code",
   "execution_count": 56,
   "id": "210e02da-cde5-4bd5-b59d-d307ed1e3dc1",
   "metadata": {},
   "outputs": [
    {
     "data": {
      "text/plain": [
       "{'traffic': 3.0,\n",
       " 'packages': 20.0,\n",
       " 'preference': 3.0,\n",
       " 'distance': 171.41503459195576,\n",
       " 'fog': 1.0,\n",
       " 'rain': 1.0,\n",
       " 'snow': 1.0,\n",
       " 'hail': 1.0,\n",
       " 'year': 2021.0,\n",
       " 'month': 7.0,\n",
       " 'day': 2.0,\n",
       " 'hour': 8.0,\n",
       " 'minute': 6.0}"
      ]
     },
     "execution_count": 56,
     "metadata": {},
     "output_type": "execute_result"
    }
   ],
   "source": [
    "# Extract raw data.\n",
    "raw_data = {\n",
    "    'traffic': sample_data.loc['traffic'],\n",
    "    'packages': sample_data.loc['packages'],\n",
    "    'preference': sample_data.loc['preference'],\n",
    "    'distance': sample_data.loc['distance'],\n",
    "    'fog': sample_data.loc['fog'],\n",
    "    'rain': sample_data.loc['rain'],\n",
    "    'snow': sample_data.loc['snow'],\n",
    "    'hail': sample_data.loc['hail'],\n",
    "    'year': sample_data.loc['year'],\n",
    "    'month': sample_data.loc['month'],\n",
    "    'day': sample_data.loc['day'],\n",
    "    'hour': sample_data.loc['hour'],\n",
    "    'minute': sample_data.loc['minute']\n",
    "}\n",
    "\n",
    "raw_data"
   ]
  },
  {
   "cell_type": "code",
   "execution_count": 57,
   "id": "ce3bbd2a-8fcb-44e3-93b4-bff17ebb1ee4",
   "metadata": {},
   "outputs": [
    {
     "name": "stdout",
     "output_type": "stream",
     "text": [
      "1/1 [==============================] - 0s 31ms/step\n"
     ]
    },
    {
     "data": {
      "text/plain": [
       "13.851521"
      ]
     },
     "execution_count": 57,
     "metadata": {},
     "output_type": "execute_result"
    }
   ],
   "source": [
    "# Compute prediction.\n",
    "prediction = predict_data(raw_data)\n",
    "prediction"
   ]
  }
 ],
 "metadata": {
  "kernelspec": {
   "display_name": "Python 3 (ipykernel)",
   "language": "python",
   "name": "python3"
  },
  "language_info": {
   "codemirror_mode": {
    "name": "ipython",
    "version": 3
   },
   "file_extension": ".py",
   "mimetype": "text/x-python",
   "name": "python",
   "nbconvert_exporter": "python",
   "pygments_lexer": "ipython3",
   "version": "3.11.5"
  }
 },
 "nbformat": 4,
 "nbformat_minor": 5
}
