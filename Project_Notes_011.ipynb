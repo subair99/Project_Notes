{
 "cells": [
  {
   "cell_type": "markdown",
   "metadata": {},
   "source": [
    "# Project_Notes_011"
   ]
  },
  {
   "cell_type": "markdown",
   "metadata": {},
   "source": [
    "## Forecasting Renewable Energy Generation\n",
    "In this project, a data with 131008 rows and 12 columns will be used to predict delivery time in hours for the delivery of renewable energy. The data will be visualised using histogram, heat map and boxplot for numerical columns, while the object columns will utilise bar plots and the duplicates, missing values and outliners will be treated with appropriate methods. The first model will be formulated with ensembling while xgboost will be used to compare the result obtained."
   ]
  },
  {
   "cell_type": "markdown",
   "metadata": {
    "id": "L5cmqMfcO2qP"
   },
   "source": [
    "### Data Understanding"
   ]
  },
  {
   "cell_type": "code",
   "execution_count": 1,
   "metadata": {
    "executionInfo": {
     "elapsed": 10,
     "status": "ok",
     "timestamp": 1698015886744,
     "user": {
      "displayName": "Efemena Ikpro",
      "userId": "07524339756286888285"
     },
     "user_tz": -60
    },
    "id": "FeaUXId3jHHH"
   },
   "outputs": [],
   "source": [
    "# Import required packages.\n",
    "import pandas as pd\n",
    "import numpy as np\n",
    "import matplotlib.pyplot as plt\n",
    "import seaborn as sns\n",
    "import pickle\n",
    "import gzip\n",
    "from datetime import date\n",
    "from datetime import time\n",
    "from sklearn.pipeline import make_pipeline\n",
    "from sklearn.compose import make_column_transformer\n",
    "from sklearn.preprocessing import StandardScaler\n",
    "from category_encoders import OrdinalEncoder\n",
    "from sklearn.model_selection import (\n",
    "                                        train_test_split, \n",
    "                                        RandomizedSearchCV, \n",
    "                                        GridSearchCV\n",
    "                                    )\n",
    "from sklearn.metrics import mean_squared_error, mean_absolute_error\n",
    "from sklearn.tree import DecisionTreeRegressor\n",
    "from sklearn.neighbors import KNeighborsRegressor\n",
    "from sklearn.ensemble import (\n",
    "                                RandomForestRegressor, \n",
    "                                GradientBoostingRegressor,\n",
    "                                VotingRegressor, \n",
    "                                StackingRegressor\n",
    "                            )\n",
    "from sklearn.linear_model import (\n",
    "                                    LinearRegression, \n",
    "                                    Lasso, \n",
    "                                    Ridge, \n",
    "                                    ElasticNet\n",
    "                                )\n",
    "from xgboost import XGBRegressor"
   ]
  },
  {
   "cell_type": "code",
   "execution_count": 2,
   "metadata": {
    "executionInfo": {
     "elapsed": 765,
     "status": "ok",
     "timestamp": 1698015888681,
     "user": {
      "displayName": "Efemena Ikpro",
      "userId": "07524339756286888285"
     },
     "user_tz": -60
    },
    "id": "MMW2sp9pkK30"
   },
   "outputs": [],
   "source": [
    "# load the data.\n",
    "df = pd.read_csv('./data/Project_Notes_011_renewable_data.csv')"
   ]
  },
  {
   "cell_type": "code",
   "execution_count": 3,
   "metadata": {},
   "outputs": [
    {
     "data": {
      "text/plain": [
       "(131008, 12)"
      ]
     },
     "execution_count": 3,
     "metadata": {},
     "output_type": "execute_result"
    }
   ],
   "source": [
    "# Check the shape of data.\n",
    "df.shape"
   ]
  },
  {
   "cell_type": "code",
   "execution_count": 4,
   "metadata": {},
   "outputs": [
    {
     "name": "stdout",
     "output_type": "stream",
     "text": [
      "<class 'pandas.core.frame.DataFrame'>\n",
      "RangeIndex: 131008 entries, 0 to 131007\n",
      "Data columns (total 12 columns):\n",
      " #   Column                                 Non-Null Count   Dtype  \n",
      "---  ------                                 --------------   -----  \n",
      " 0   Delivery_ID                            131005 non-null  float64\n",
      " 1   Delivery_Start_Date                    131007 non-null  object \n",
      " 2   Delivery_Start_Time                    131007 non-null  object \n",
      " 3   Traffic_Conditions                     131008 non-null  object \n",
      " 4   Number_of_Packages                     131006 non-null  float64\n",
      " 5   Customer_Preference_for_Delivery_Time  131008 non-null  object \n",
      " 6   Distance_(miles)                       131007 non-null  float64\n",
      " 7   fog                                    52244 non-null   object \n",
      " 8   rain                                   52269 non-null   object \n",
      " 9   snow                                   39180 non-null   object \n",
      " 10  hail                                   26231 non-null   object \n",
      " 11  Historical_Delivery_Time_(hours)       131007 non-null  float64\n",
      "dtypes: float64(4), object(8)\n",
      "memory usage: 12.0+ MB\n"
     ]
    }
   ],
   "source": [
    "# Check the info of data.\n",
    "df.info()"
   ]
  },
  {
   "cell_type": "code",
   "execution_count": 5,
   "metadata": {
    "colab": {
     "base_uri": "https://localhost:8080/",
     "height": 383
    },
    "executionInfo": {
     "elapsed": 624,
     "status": "ok",
     "timestamp": 1698015889681,
     "user": {
      "displayName": "Efemena Ikpro",
      "userId": "07524339756286888285"
     },
     "user_tz": -60
    },
    "id": "Jj1IjkRLkTKc",
    "outputId": "43dbc135-4b33-42a2-91bd-85df7e0548cf"
   },
   "outputs": [
    {
     "data": {
      "text/html": [
       "<div>\n",
       "<style scoped>\n",
       "    .dataframe tbody tr th:only-of-type {\n",
       "        vertical-align: middle;\n",
       "    }\n",
       "\n",
       "    .dataframe tbody tr th {\n",
       "        vertical-align: top;\n",
       "    }\n",
       "\n",
       "    .dataframe thead th {\n",
       "        text-align: right;\n",
       "    }\n",
       "</style>\n",
       "<table border=\"1\" class=\"dataframe\">\n",
       "  <thead>\n",
       "    <tr style=\"text-align: right;\">\n",
       "      <th></th>\n",
       "      <th>Delivery_ID</th>\n",
       "      <th>Delivery_Start_Date</th>\n",
       "      <th>Delivery_Start_Time</th>\n",
       "      <th>Traffic_Conditions</th>\n",
       "      <th>Number_of_Packages</th>\n",
       "      <th>Customer_Preference_for_Delivery_Time</th>\n",
       "      <th>Distance_(miles)</th>\n",
       "      <th>fog</th>\n",
       "      <th>rain</th>\n",
       "      <th>snow</th>\n",
       "      <th>hail</th>\n",
       "      <th>Historical_Delivery_Time_(hours)</th>\n",
       "    </tr>\n",
       "  </thead>\n",
       "  <tbody>\n",
       "    <tr>\n",
       "      <th>0</th>\n",
       "      <td>1.0</td>\n",
       "      <td>2020-09-03</td>\n",
       "      <td>12:41:00</td>\n",
       "      <td>Low</td>\n",
       "      <td>7.0</td>\n",
       "      <td>Evening</td>\n",
       "      <td>167.884751</td>\n",
       "      <td>NaN</td>\n",
       "      <td>NaN</td>\n",
       "      <td>Low</td>\n",
       "      <td>NaN</td>\n",
       "      <td>9.294688</td>\n",
       "    </tr>\n",
       "    <tr>\n",
       "      <th>1</th>\n",
       "      <td>2.0</td>\n",
       "      <td>2022-12-22</td>\n",
       "      <td>20:14:00</td>\n",
       "      <td>Low</td>\n",
       "      <td>10.0</td>\n",
       "      <td>Morning</td>\n",
       "      <td>154.154474</td>\n",
       "      <td>Low</td>\n",
       "      <td>NaN</td>\n",
       "      <td>Mid</td>\n",
       "      <td>NaN</td>\n",
       "      <td>9.303765</td>\n",
       "    </tr>\n",
       "    <tr>\n",
       "      <th>2</th>\n",
       "      <td>3.0</td>\n",
       "      <td>2021-06-05</td>\n",
       "      <td>11:20:00</td>\n",
       "      <td>High</td>\n",
       "      <td>2.0</td>\n",
       "      <td>Afternoon</td>\n",
       "      <td>196.084835</td>\n",
       "      <td>NaN</td>\n",
       "      <td>Mid</td>\n",
       "      <td>NaN</td>\n",
       "      <td>NaN</td>\n",
       "      <td>8.734668</td>\n",
       "    </tr>\n",
       "    <tr>\n",
       "      <th>3</th>\n",
       "      <td>4.0</td>\n",
       "      <td>2023-05-02</td>\n",
       "      <td>05:50:00</td>\n",
       "      <td>High</td>\n",
       "      <td>15.0</td>\n",
       "      <td>Morning</td>\n",
       "      <td>94.010339</td>\n",
       "      <td>NaN</td>\n",
       "      <td>NaN</td>\n",
       "      <td>NaN</td>\n",
       "      <td>NaN</td>\n",
       "      <td>7.806979</td>\n",
       "    </tr>\n",
       "    <tr>\n",
       "      <th>4</th>\n",
       "      <td>5.0</td>\n",
       "      <td>2020-07-07</td>\n",
       "      <td>02:34:00</td>\n",
       "      <td>Moderate</td>\n",
       "      <td>17.0</td>\n",
       "      <td>Evening</td>\n",
       "      <td>202.254271</td>\n",
       "      <td>Mid</td>\n",
       "      <td>NaN</td>\n",
       "      <td>NaN</td>\n",
       "      <td>NaN</td>\n",
       "      <td>12.770403</td>\n",
       "    </tr>\n",
       "  </tbody>\n",
       "</table>\n",
       "</div>"
      ],
      "text/plain": [
       "   Delivery_ID Delivery_Start_Date Delivery_Start_Time Traffic_Conditions  \\\n",
       "0          1.0          2020-09-03            12:41:00                Low   \n",
       "1          2.0          2022-12-22            20:14:00                Low   \n",
       "2          3.0          2021-06-05            11:20:00               High   \n",
       "3          4.0          2023-05-02            05:50:00               High   \n",
       "4          5.0          2020-07-07            02:34:00           Moderate   \n",
       "\n",
       "   Number_of_Packages Customer_Preference_for_Delivery_Time  Distance_(miles)  \\\n",
       "0                 7.0                               Evening        167.884751   \n",
       "1                10.0                               Morning        154.154474   \n",
       "2                 2.0                             Afternoon        196.084835   \n",
       "3                15.0                               Morning         94.010339   \n",
       "4                17.0                               Evening        202.254271   \n",
       "\n",
       "   fog rain snow hail  Historical_Delivery_Time_(hours)  \n",
       "0  NaN  NaN  Low  NaN                          9.294688  \n",
       "1  Low  NaN  Mid  NaN                          9.303765  \n",
       "2  NaN  Mid  NaN  NaN                          8.734668  \n",
       "3  NaN  NaN  NaN  NaN                          7.806979  \n",
       "4  Mid  NaN  NaN  NaN                         12.770403  "
      ]
     },
     "execution_count": 5,
     "metadata": {},
     "output_type": "execute_result"
    }
   ],
   "source": [
    "# Show a few rows of df.\n",
    "df.head()"
   ]
  },
  {
   "cell_type": "code",
   "execution_count": 6,
   "metadata": {},
   "outputs": [],
   "source": [
    "# Define a dictionary to rename some columns.\n",
    "col_dict = {\n",
    "    'Delivery_ID': 'id', \n",
    "    'Delivery_Start_Date': 'date', \n",
    "    'Delivery_Start_Time': 'time', \n",
    "    'Traffic_Conditions': 'traffic', \n",
    "    'Number_of_Packages': 'packages',  \n",
    "    'Customer_Preference_for_Delivery_Time': 'preference', \n",
    "    'Distance_(miles)': 'distance', \n",
    "    'Historical_Delivery_Time_(hours)': 'delivery'\n",
    "}"
   ]
  },
  {
   "cell_type": "code",
   "execution_count": 7,
   "metadata": {},
   "outputs": [],
   "source": [
    "# Rename the required columns.\n",
    "df = df.rename(columns=col_dict)"
   ]
  },
  {
   "cell_type": "code",
   "execution_count": 8,
   "metadata": {},
   "outputs": [
    {
     "data": {
      "text/html": [
       "<div>\n",
       "<style scoped>\n",
       "    .dataframe tbody tr th:only-of-type {\n",
       "        vertical-align: middle;\n",
       "    }\n",
       "\n",
       "    .dataframe tbody tr th {\n",
       "        vertical-align: top;\n",
       "    }\n",
       "\n",
       "    .dataframe thead th {\n",
       "        text-align: right;\n",
       "    }\n",
       "</style>\n",
       "<table border=\"1\" class=\"dataframe\">\n",
       "  <thead>\n",
       "    <tr style=\"text-align: right;\">\n",
       "      <th></th>\n",
       "      <th>id</th>\n",
       "      <th>date</th>\n",
       "      <th>time</th>\n",
       "      <th>traffic</th>\n",
       "      <th>packages</th>\n",
       "      <th>preference</th>\n",
       "      <th>distance</th>\n",
       "      <th>fog</th>\n",
       "      <th>rain</th>\n",
       "      <th>snow</th>\n",
       "      <th>hail</th>\n",
       "      <th>delivery</th>\n",
       "    </tr>\n",
       "  </thead>\n",
       "  <tbody>\n",
       "    <tr>\n",
       "      <th>0</th>\n",
       "      <td>1.0</td>\n",
       "      <td>2020-09-03</td>\n",
       "      <td>12:41:00</td>\n",
       "      <td>Low</td>\n",
       "      <td>7.0</td>\n",
       "      <td>Evening</td>\n",
       "      <td>167.884751</td>\n",
       "      <td>NaN</td>\n",
       "      <td>NaN</td>\n",
       "      <td>Low</td>\n",
       "      <td>NaN</td>\n",
       "      <td>9.294688</td>\n",
       "    </tr>\n",
       "    <tr>\n",
       "      <th>1</th>\n",
       "      <td>2.0</td>\n",
       "      <td>2022-12-22</td>\n",
       "      <td>20:14:00</td>\n",
       "      <td>Low</td>\n",
       "      <td>10.0</td>\n",
       "      <td>Morning</td>\n",
       "      <td>154.154474</td>\n",
       "      <td>Low</td>\n",
       "      <td>NaN</td>\n",
       "      <td>Mid</td>\n",
       "      <td>NaN</td>\n",
       "      <td>9.303765</td>\n",
       "    </tr>\n",
       "    <tr>\n",
       "      <th>2</th>\n",
       "      <td>3.0</td>\n",
       "      <td>2021-06-05</td>\n",
       "      <td>11:20:00</td>\n",
       "      <td>High</td>\n",
       "      <td>2.0</td>\n",
       "      <td>Afternoon</td>\n",
       "      <td>196.084835</td>\n",
       "      <td>NaN</td>\n",
       "      <td>Mid</td>\n",
       "      <td>NaN</td>\n",
       "      <td>NaN</td>\n",
       "      <td>8.734668</td>\n",
       "    </tr>\n",
       "    <tr>\n",
       "      <th>3</th>\n",
       "      <td>4.0</td>\n",
       "      <td>2023-05-02</td>\n",
       "      <td>05:50:00</td>\n",
       "      <td>High</td>\n",
       "      <td>15.0</td>\n",
       "      <td>Morning</td>\n",
       "      <td>94.010339</td>\n",
       "      <td>NaN</td>\n",
       "      <td>NaN</td>\n",
       "      <td>NaN</td>\n",
       "      <td>NaN</td>\n",
       "      <td>7.806979</td>\n",
       "    </tr>\n",
       "    <tr>\n",
       "      <th>4</th>\n",
       "      <td>5.0</td>\n",
       "      <td>2020-07-07</td>\n",
       "      <td>02:34:00</td>\n",
       "      <td>Moderate</td>\n",
       "      <td>17.0</td>\n",
       "      <td>Evening</td>\n",
       "      <td>202.254271</td>\n",
       "      <td>Mid</td>\n",
       "      <td>NaN</td>\n",
       "      <td>NaN</td>\n",
       "      <td>NaN</td>\n",
       "      <td>12.770403</td>\n",
       "    </tr>\n",
       "  </tbody>\n",
       "</table>\n",
       "</div>"
      ],
      "text/plain": [
       "    id        date      time   traffic  packages preference    distance  fog  \\\n",
       "0  1.0  2020-09-03  12:41:00       Low       7.0    Evening  167.884751  NaN   \n",
       "1  2.0  2022-12-22  20:14:00       Low      10.0    Morning  154.154474  Low   \n",
       "2  3.0  2021-06-05  11:20:00      High       2.0  Afternoon  196.084835  NaN   \n",
       "3  4.0  2023-05-02  05:50:00      High      15.0    Morning   94.010339  NaN   \n",
       "4  5.0  2020-07-07  02:34:00  Moderate      17.0    Evening  202.254271  Mid   \n",
       "\n",
       "  rain snow hail   delivery  \n",
       "0  NaN  Low  NaN   9.294688  \n",
       "1  NaN  Mid  NaN   9.303765  \n",
       "2  Mid  NaN  NaN   8.734668  \n",
       "3  NaN  NaN  NaN   7.806979  \n",
       "4  NaN  NaN  NaN  12.770403  "
      ]
     },
     "execution_count": 8,
     "metadata": {},
     "output_type": "execute_result"
    }
   ],
   "source": [
    "# Show a few rows of df.\n",
    "df.head()"
   ]
  },
  {
   "cell_type": "markdown",
   "metadata": {
    "id": "42-onxiwPBzk"
   },
   "source": [
    "### Data Cleaning"
   ]
  },
  {
   "cell_type": "markdown",
   "metadata": {},
   "source": [
    "#### Duplicates"
   ]
  },
  {
   "cell_type": "code",
   "execution_count": 9,
   "metadata": {},
   "outputs": [
    {
     "data": {
      "text/plain": [
       "8"
      ]
     },
     "execution_count": 9,
     "metadata": {},
     "output_type": "execute_result"
    }
   ],
   "source": [
    "# Check for duplicates.\n",
    "df.duplicated().sum()"
   ]
  },
  {
   "cell_type": "code",
   "execution_count": 10,
   "metadata": {},
   "outputs": [],
   "source": [
    "# Remove duplicates.\n",
    "df.drop_duplicates(inplace=True)"
   ]
  },
  {
   "cell_type": "code",
   "execution_count": 11,
   "metadata": {},
   "outputs": [
    {
     "data": {
      "text/plain": [
       "(131000, 12)"
      ]
     },
     "execution_count": 11,
     "metadata": {},
     "output_type": "execute_result"
    }
   ],
   "source": [
    "# Show the shape of df.\n",
    "df.shape"
   ]
  },
  {
   "cell_type": "markdown",
   "metadata": {},
   "source": [
    "#### Missing Values"
   ]
  },
  {
   "cell_type": "code",
   "execution_count": 12,
   "metadata": {
    "colab": {
     "base_uri": "https://localhost:8080/",
     "height": 0
    },
    "executionInfo": {
     "elapsed": 1114,
     "status": "ok",
     "timestamp": 1698015894031,
     "user": {
      "displayName": "Efemena Ikpro",
      "userId": "07524339756286888285"
     },
     "user_tz": -60
    },
    "id": "G46sfW8AkTvR",
    "outputId": "ad1f1923-dfd1-4b30-b2c0-1b1b337edd74"
   },
   "outputs": [
    {
     "data": {
      "text/plain": [
       "id                 3\n",
       "date               1\n",
       "time               1\n",
       "traffic            0\n",
       "packages           2\n",
       "preference         0\n",
       "distance           1\n",
       "fog            78762\n",
       "rain           78735\n",
       "snow           91820\n",
       "hail          104771\n",
       "delivery           1\n",
       "dtype: int64"
      ]
     },
     "execution_count": 12,
     "metadata": {},
     "output_type": "execute_result"
    }
   ],
   "source": [
    "# Check for missing values.\n",
    "df.isna().sum()"
   ]
  },
  {
   "cell_type": "code",
   "execution_count": 13,
   "metadata": {},
   "outputs": [],
   "source": [
    "# Drop the id column.\n",
    "df.drop('id', axis=1, inplace=True)"
   ]
  },
  {
   "cell_type": "code",
   "execution_count": 14,
   "metadata": {},
   "outputs": [
    {
     "data": {
      "text/plain": [
       "(131000, 11)"
      ]
     },
     "execution_count": 14,
     "metadata": {},
     "output_type": "execute_result"
    }
   ],
   "source": [
    "# Show the shape of df.\n",
    "df.shape"
   ]
  },
  {
   "cell_type": "code",
   "execution_count": 15,
   "metadata": {},
   "outputs": [],
   "source": [
    "# Create function to calculate percentage missing values.\n",
    "def miss_percent(df):\n",
    "    miss_val = df.isna().sum()\n",
    "    miss_ind = miss_val.index.to_list()\n",
    "    \n",
    "    for x in range(len(miss_val)):\n",
    "        print(f'Percentage missing in {miss_ind[x]} is: {int(miss_val.iloc[x] / 131000 * 100)}%')"
   ]
  },
  {
   "cell_type": "code",
   "execution_count": 16,
   "metadata": {},
   "outputs": [
    {
     "name": "stdout",
     "output_type": "stream",
     "text": [
      "Percentage missing in date is: 0%\n",
      "Percentage missing in time is: 0%\n",
      "Percentage missing in traffic is: 0%\n",
      "Percentage missing in packages is: 0%\n",
      "Percentage missing in preference is: 0%\n",
      "Percentage missing in distance is: 0%\n",
      "Percentage missing in fog is: 60%\n",
      "Percentage missing in rain is: 60%\n",
      "Percentage missing in snow is: 70%\n",
      "Percentage missing in hail is: 79%\n",
      "Percentage missing in delivery is: 0%\n"
     ]
    }
   ],
   "source": [
    "# Calculate the percentage of missing values in each column.\n",
    "miss_percent(df)"
   ]
  },
  {
   "cell_type": "markdown",
   "metadata": {},
   "source": [
    "The 'id', 'fog', 'rain', 'snow' and 'hail' columns have substantial missing values which will be replaced by 'unknown'."
   ]
  },
  {
   "cell_type": "code",
   "execution_count": 17,
   "metadata": {},
   "outputs": [],
   "source": [
    "# Replace nan in the columns.\n",
    "miss_col = ['fog', 'rain', 'snow', 'hail']\n",
    "miss_mask = {np.nan: 'Unknown'}\n",
    "\n",
    "for col in miss_col:\n",
    "    df.replace({col: miss_mask}, inplace=True)"
   ]
  },
  {
   "cell_type": "code",
   "execution_count": 18,
   "metadata": {},
   "outputs": [
    {
     "data": {
      "text/html": [
       "<div>\n",
       "<style scoped>\n",
       "    .dataframe tbody tr th:only-of-type {\n",
       "        vertical-align: middle;\n",
       "    }\n",
       "\n",
       "    .dataframe tbody tr th {\n",
       "        vertical-align: top;\n",
       "    }\n",
       "\n",
       "    .dataframe thead th {\n",
       "        text-align: right;\n",
       "    }\n",
       "</style>\n",
       "<table border=\"1\" class=\"dataframe\">\n",
       "  <thead>\n",
       "    <tr style=\"text-align: right;\">\n",
       "      <th></th>\n",
       "      <th>date</th>\n",
       "      <th>time</th>\n",
       "      <th>traffic</th>\n",
       "      <th>packages</th>\n",
       "      <th>preference</th>\n",
       "      <th>distance</th>\n",
       "      <th>fog</th>\n",
       "      <th>rain</th>\n",
       "      <th>snow</th>\n",
       "      <th>hail</th>\n",
       "      <th>delivery</th>\n",
       "    </tr>\n",
       "  </thead>\n",
       "  <tbody>\n",
       "    <tr>\n",
       "      <th>0</th>\n",
       "      <td>2020-09-03</td>\n",
       "      <td>12:41:00</td>\n",
       "      <td>Low</td>\n",
       "      <td>7.0</td>\n",
       "      <td>Evening</td>\n",
       "      <td>167.884751</td>\n",
       "      <td>Unknown</td>\n",
       "      <td>Unknown</td>\n",
       "      <td>Low</td>\n",
       "      <td>Unknown</td>\n",
       "      <td>9.294688</td>\n",
       "    </tr>\n",
       "    <tr>\n",
       "      <th>1</th>\n",
       "      <td>2022-12-22</td>\n",
       "      <td>20:14:00</td>\n",
       "      <td>Low</td>\n",
       "      <td>10.0</td>\n",
       "      <td>Morning</td>\n",
       "      <td>154.154474</td>\n",
       "      <td>Low</td>\n",
       "      <td>Unknown</td>\n",
       "      <td>Mid</td>\n",
       "      <td>Unknown</td>\n",
       "      <td>9.303765</td>\n",
       "    </tr>\n",
       "    <tr>\n",
       "      <th>2</th>\n",
       "      <td>2021-06-05</td>\n",
       "      <td>11:20:00</td>\n",
       "      <td>High</td>\n",
       "      <td>2.0</td>\n",
       "      <td>Afternoon</td>\n",
       "      <td>196.084835</td>\n",
       "      <td>Unknown</td>\n",
       "      <td>Mid</td>\n",
       "      <td>Unknown</td>\n",
       "      <td>Unknown</td>\n",
       "      <td>8.734668</td>\n",
       "    </tr>\n",
       "    <tr>\n",
       "      <th>3</th>\n",
       "      <td>2023-05-02</td>\n",
       "      <td>05:50:00</td>\n",
       "      <td>High</td>\n",
       "      <td>15.0</td>\n",
       "      <td>Morning</td>\n",
       "      <td>94.010339</td>\n",
       "      <td>Unknown</td>\n",
       "      <td>Unknown</td>\n",
       "      <td>Unknown</td>\n",
       "      <td>Unknown</td>\n",
       "      <td>7.806979</td>\n",
       "    </tr>\n",
       "    <tr>\n",
       "      <th>4</th>\n",
       "      <td>2020-07-07</td>\n",
       "      <td>02:34:00</td>\n",
       "      <td>Moderate</td>\n",
       "      <td>17.0</td>\n",
       "      <td>Evening</td>\n",
       "      <td>202.254271</td>\n",
       "      <td>Mid</td>\n",
       "      <td>Unknown</td>\n",
       "      <td>Unknown</td>\n",
       "      <td>Unknown</td>\n",
       "      <td>12.770403</td>\n",
       "    </tr>\n",
       "  </tbody>\n",
       "</table>\n",
       "</div>"
      ],
      "text/plain": [
       "         date      time   traffic  packages preference    distance      fog  \\\n",
       "0  2020-09-03  12:41:00       Low       7.0    Evening  167.884751  Unknown   \n",
       "1  2022-12-22  20:14:00       Low      10.0    Morning  154.154474      Low   \n",
       "2  2021-06-05  11:20:00      High       2.0  Afternoon  196.084835  Unknown   \n",
       "3  2023-05-02  05:50:00      High      15.0    Morning   94.010339  Unknown   \n",
       "4  2020-07-07  02:34:00  Moderate      17.0    Evening  202.254271      Mid   \n",
       "\n",
       "      rain     snow     hail   delivery  \n",
       "0  Unknown      Low  Unknown   9.294688  \n",
       "1  Unknown      Mid  Unknown   9.303765  \n",
       "2      Mid  Unknown  Unknown   8.734668  \n",
       "3  Unknown  Unknown  Unknown   7.806979  \n",
       "4  Unknown  Unknown  Unknown  12.770403  "
      ]
     },
     "execution_count": 18,
     "metadata": {},
     "output_type": "execute_result"
    }
   ],
   "source": [
    "# Show a few rows of df.\n",
    "df.head()"
   ]
  },
  {
   "cell_type": "code",
   "execution_count": 19,
   "metadata": {},
   "outputs": [],
   "source": [
    "# Drop other missing values.\n",
    "df.dropna(inplace=True)"
   ]
  },
  {
   "cell_type": "code",
   "execution_count": 20,
   "metadata": {},
   "outputs": [
    {
     "data": {
      "text/plain": [
       "date          0\n",
       "time          0\n",
       "traffic       0\n",
       "packages      0\n",
       "preference    0\n",
       "distance      0\n",
       "fog           0\n",
       "rain          0\n",
       "snow          0\n",
       "hail          0\n",
       "delivery      0\n",
       "dtype: int64"
      ]
     },
     "execution_count": 20,
     "metadata": {},
     "output_type": "execute_result"
    }
   ],
   "source": [
    "# Check for mising values.\n",
    "df.isna().sum()"
   ]
  },
  {
   "cell_type": "code",
   "execution_count": 21,
   "metadata": {},
   "outputs": [
    {
     "data": {
      "text/plain": [
       "(130994, 11)"
      ]
     },
     "execution_count": 21,
     "metadata": {},
     "output_type": "execute_result"
    }
   ],
   "source": [
    "# Check the shape of df.\n",
    "df.shape"
   ]
  },
  {
   "cell_type": "markdown",
   "metadata": {},
   "source": [
    "### Feature Engineering"
   ]
  },
  {
   "cell_type": "code",
   "execution_count": 22,
   "metadata": {},
   "outputs": [],
   "source": [
    "# Split the date column into year, month and day columns.\n",
    "df['year'] = [int(pd.to_datetime(x).year) for x in df['date']]\n",
    "df['month'] = [int(pd.to_datetime(x).month) for x in df['date']]\n",
    "df['day'] = [int(pd.to_datetime(x).day) for x in df['date']]"
   ]
  },
  {
   "cell_type": "code",
   "execution_count": 23,
   "metadata": {},
   "outputs": [],
   "source": [
    "# Split the time column into hour, minute and second columns.\n",
    "df['hour'] = [int(pd.to_datetime(x).hour) for x in df['time']]\n",
    "df['minute'] = [int(pd.to_datetime(x).minute) for x in df['time']]\n",
    "df['second'] = [int(pd.to_datetime(x).second) for x in df['time']]"
   ]
  },
  {
   "cell_type": "code",
   "execution_count": 24,
   "metadata": {},
   "outputs": [
    {
     "data": {
      "text/html": [
       "<div>\n",
       "<style scoped>\n",
       "    .dataframe tbody tr th:only-of-type {\n",
       "        vertical-align: middle;\n",
       "    }\n",
       "\n",
       "    .dataframe tbody tr th {\n",
       "        vertical-align: top;\n",
       "    }\n",
       "\n",
       "    .dataframe thead th {\n",
       "        text-align: right;\n",
       "    }\n",
       "</style>\n",
       "<table border=\"1\" class=\"dataframe\">\n",
       "  <thead>\n",
       "    <tr style=\"text-align: right;\">\n",
       "      <th></th>\n",
       "      <th>date</th>\n",
       "      <th>time</th>\n",
       "      <th>traffic</th>\n",
       "      <th>packages</th>\n",
       "      <th>preference</th>\n",
       "      <th>distance</th>\n",
       "      <th>fog</th>\n",
       "      <th>rain</th>\n",
       "      <th>snow</th>\n",
       "      <th>hail</th>\n",
       "      <th>delivery</th>\n",
       "      <th>year</th>\n",
       "      <th>month</th>\n",
       "      <th>day</th>\n",
       "      <th>hour</th>\n",
       "      <th>minute</th>\n",
       "      <th>second</th>\n",
       "    </tr>\n",
       "  </thead>\n",
       "  <tbody>\n",
       "    <tr>\n",
       "      <th>0</th>\n",
       "      <td>2020-09-03</td>\n",
       "      <td>12:41:00</td>\n",
       "      <td>Low</td>\n",
       "      <td>7.0</td>\n",
       "      <td>Evening</td>\n",
       "      <td>167.884751</td>\n",
       "      <td>Unknown</td>\n",
       "      <td>Unknown</td>\n",
       "      <td>Low</td>\n",
       "      <td>Unknown</td>\n",
       "      <td>9.294688</td>\n",
       "      <td>2020</td>\n",
       "      <td>9</td>\n",
       "      <td>3</td>\n",
       "      <td>12</td>\n",
       "      <td>41</td>\n",
       "      <td>0</td>\n",
       "    </tr>\n",
       "    <tr>\n",
       "      <th>1</th>\n",
       "      <td>2022-12-22</td>\n",
       "      <td>20:14:00</td>\n",
       "      <td>Low</td>\n",
       "      <td>10.0</td>\n",
       "      <td>Morning</td>\n",
       "      <td>154.154474</td>\n",
       "      <td>Low</td>\n",
       "      <td>Unknown</td>\n",
       "      <td>Mid</td>\n",
       "      <td>Unknown</td>\n",
       "      <td>9.303765</td>\n",
       "      <td>2022</td>\n",
       "      <td>12</td>\n",
       "      <td>22</td>\n",
       "      <td>20</td>\n",
       "      <td>14</td>\n",
       "      <td>0</td>\n",
       "    </tr>\n",
       "    <tr>\n",
       "      <th>2</th>\n",
       "      <td>2021-06-05</td>\n",
       "      <td>11:20:00</td>\n",
       "      <td>High</td>\n",
       "      <td>2.0</td>\n",
       "      <td>Afternoon</td>\n",
       "      <td>196.084835</td>\n",
       "      <td>Unknown</td>\n",
       "      <td>Mid</td>\n",
       "      <td>Unknown</td>\n",
       "      <td>Unknown</td>\n",
       "      <td>8.734668</td>\n",
       "      <td>2021</td>\n",
       "      <td>6</td>\n",
       "      <td>5</td>\n",
       "      <td>11</td>\n",
       "      <td>20</td>\n",
       "      <td>0</td>\n",
       "    </tr>\n",
       "    <tr>\n",
       "      <th>3</th>\n",
       "      <td>2023-05-02</td>\n",
       "      <td>05:50:00</td>\n",
       "      <td>High</td>\n",
       "      <td>15.0</td>\n",
       "      <td>Morning</td>\n",
       "      <td>94.010339</td>\n",
       "      <td>Unknown</td>\n",
       "      <td>Unknown</td>\n",
       "      <td>Unknown</td>\n",
       "      <td>Unknown</td>\n",
       "      <td>7.806979</td>\n",
       "      <td>2023</td>\n",
       "      <td>5</td>\n",
       "      <td>2</td>\n",
       "      <td>5</td>\n",
       "      <td>50</td>\n",
       "      <td>0</td>\n",
       "    </tr>\n",
       "    <tr>\n",
       "      <th>4</th>\n",
       "      <td>2020-07-07</td>\n",
       "      <td>02:34:00</td>\n",
       "      <td>Moderate</td>\n",
       "      <td>17.0</td>\n",
       "      <td>Evening</td>\n",
       "      <td>202.254271</td>\n",
       "      <td>Mid</td>\n",
       "      <td>Unknown</td>\n",
       "      <td>Unknown</td>\n",
       "      <td>Unknown</td>\n",
       "      <td>12.770403</td>\n",
       "      <td>2020</td>\n",
       "      <td>7</td>\n",
       "      <td>7</td>\n",
       "      <td>2</td>\n",
       "      <td>34</td>\n",
       "      <td>0</td>\n",
       "    </tr>\n",
       "  </tbody>\n",
       "</table>\n",
       "</div>"
      ],
      "text/plain": [
       "         date      time   traffic  packages preference    distance      fog  \\\n",
       "0  2020-09-03  12:41:00       Low       7.0    Evening  167.884751  Unknown   \n",
       "1  2022-12-22  20:14:00       Low      10.0    Morning  154.154474      Low   \n",
       "2  2021-06-05  11:20:00      High       2.0  Afternoon  196.084835  Unknown   \n",
       "3  2023-05-02  05:50:00      High      15.0    Morning   94.010339  Unknown   \n",
       "4  2020-07-07  02:34:00  Moderate      17.0    Evening  202.254271      Mid   \n",
       "\n",
       "      rain     snow     hail   delivery  year  month  day  hour  minute  \\\n",
       "0  Unknown      Low  Unknown   9.294688  2020      9    3    12      41   \n",
       "1  Unknown      Mid  Unknown   9.303765  2022     12   22    20      14   \n",
       "2      Mid  Unknown  Unknown   8.734668  2021      6    5    11      20   \n",
       "3  Unknown  Unknown  Unknown   7.806979  2023      5    2     5      50   \n",
       "4  Unknown  Unknown  Unknown  12.770403  2020      7    7     2      34   \n",
       "\n",
       "   second  \n",
       "0       0  \n",
       "1       0  \n",
       "2       0  \n",
       "3       0  \n",
       "4       0  "
      ]
     },
     "execution_count": 24,
     "metadata": {},
     "output_type": "execute_result"
    }
   ],
   "source": [
    "# Show a few rows of df.\n",
    "df.head()"
   ]
  },
  {
   "cell_type": "code",
   "execution_count": 25,
   "metadata": {},
   "outputs": [
    {
     "data": {
      "text/plain": [
       "0"
      ]
     },
     "execution_count": 25,
     "metadata": {},
     "output_type": "execute_result"
    }
   ],
   "source": [
    "# Sum the second column.\n",
    "df['second'].sum()"
   ]
  },
  {
   "cell_type": "code",
   "execution_count": 26,
   "metadata": {},
   "outputs": [],
   "source": [
    "# Drop the date, time and time columns after spliting.\n",
    "df.drop(columns=['date', 'time', 'second'], axis=1, inplace=True)"
   ]
  },
  {
   "cell_type": "code",
   "execution_count": 27,
   "metadata": {},
   "outputs": [
    {
     "data": {
      "text/html": [
       "<div>\n",
       "<style scoped>\n",
       "    .dataframe tbody tr th:only-of-type {\n",
       "        vertical-align: middle;\n",
       "    }\n",
       "\n",
       "    .dataframe tbody tr th {\n",
       "        vertical-align: top;\n",
       "    }\n",
       "\n",
       "    .dataframe thead th {\n",
       "        text-align: right;\n",
       "    }\n",
       "</style>\n",
       "<table border=\"1\" class=\"dataframe\">\n",
       "  <thead>\n",
       "    <tr style=\"text-align: right;\">\n",
       "      <th></th>\n",
       "      <th>traffic</th>\n",
       "      <th>packages</th>\n",
       "      <th>preference</th>\n",
       "      <th>distance</th>\n",
       "      <th>fog</th>\n",
       "      <th>rain</th>\n",
       "      <th>snow</th>\n",
       "      <th>hail</th>\n",
       "      <th>delivery</th>\n",
       "      <th>year</th>\n",
       "      <th>month</th>\n",
       "      <th>day</th>\n",
       "      <th>hour</th>\n",
       "      <th>minute</th>\n",
       "    </tr>\n",
       "  </thead>\n",
       "  <tbody>\n",
       "    <tr>\n",
       "      <th>0</th>\n",
       "      <td>Low</td>\n",
       "      <td>7.0</td>\n",
       "      <td>Evening</td>\n",
       "      <td>167.884751</td>\n",
       "      <td>Unknown</td>\n",
       "      <td>Unknown</td>\n",
       "      <td>Low</td>\n",
       "      <td>Unknown</td>\n",
       "      <td>9.294688</td>\n",
       "      <td>2020</td>\n",
       "      <td>9</td>\n",
       "      <td>3</td>\n",
       "      <td>12</td>\n",
       "      <td>41</td>\n",
       "    </tr>\n",
       "    <tr>\n",
       "      <th>1</th>\n",
       "      <td>Low</td>\n",
       "      <td>10.0</td>\n",
       "      <td>Morning</td>\n",
       "      <td>154.154474</td>\n",
       "      <td>Low</td>\n",
       "      <td>Unknown</td>\n",
       "      <td>Mid</td>\n",
       "      <td>Unknown</td>\n",
       "      <td>9.303765</td>\n",
       "      <td>2022</td>\n",
       "      <td>12</td>\n",
       "      <td>22</td>\n",
       "      <td>20</td>\n",
       "      <td>14</td>\n",
       "    </tr>\n",
       "    <tr>\n",
       "      <th>2</th>\n",
       "      <td>High</td>\n",
       "      <td>2.0</td>\n",
       "      <td>Afternoon</td>\n",
       "      <td>196.084835</td>\n",
       "      <td>Unknown</td>\n",
       "      <td>Mid</td>\n",
       "      <td>Unknown</td>\n",
       "      <td>Unknown</td>\n",
       "      <td>8.734668</td>\n",
       "      <td>2021</td>\n",
       "      <td>6</td>\n",
       "      <td>5</td>\n",
       "      <td>11</td>\n",
       "      <td>20</td>\n",
       "    </tr>\n",
       "    <tr>\n",
       "      <th>3</th>\n",
       "      <td>High</td>\n",
       "      <td>15.0</td>\n",
       "      <td>Morning</td>\n",
       "      <td>94.010339</td>\n",
       "      <td>Unknown</td>\n",
       "      <td>Unknown</td>\n",
       "      <td>Unknown</td>\n",
       "      <td>Unknown</td>\n",
       "      <td>7.806979</td>\n",
       "      <td>2023</td>\n",
       "      <td>5</td>\n",
       "      <td>2</td>\n",
       "      <td>5</td>\n",
       "      <td>50</td>\n",
       "    </tr>\n",
       "    <tr>\n",
       "      <th>4</th>\n",
       "      <td>Moderate</td>\n",
       "      <td>17.0</td>\n",
       "      <td>Evening</td>\n",
       "      <td>202.254271</td>\n",
       "      <td>Mid</td>\n",
       "      <td>Unknown</td>\n",
       "      <td>Unknown</td>\n",
       "      <td>Unknown</td>\n",
       "      <td>12.770403</td>\n",
       "      <td>2020</td>\n",
       "      <td>7</td>\n",
       "      <td>7</td>\n",
       "      <td>2</td>\n",
       "      <td>34</td>\n",
       "    </tr>\n",
       "  </tbody>\n",
       "</table>\n",
       "</div>"
      ],
      "text/plain": [
       "    traffic  packages preference    distance      fog     rain     snow  \\\n",
       "0       Low       7.0    Evening  167.884751  Unknown  Unknown      Low   \n",
       "1       Low      10.0    Morning  154.154474      Low  Unknown      Mid   \n",
       "2      High       2.0  Afternoon  196.084835  Unknown      Mid  Unknown   \n",
       "3      High      15.0    Morning   94.010339  Unknown  Unknown  Unknown   \n",
       "4  Moderate      17.0    Evening  202.254271      Mid  Unknown  Unknown   \n",
       "\n",
       "      hail   delivery  year  month  day  hour  minute  \n",
       "0  Unknown   9.294688  2020      9    3    12      41  \n",
       "1  Unknown   9.303765  2022     12   22    20      14  \n",
       "2  Unknown   8.734668  2021      6    5    11      20  \n",
       "3  Unknown   7.806979  2023      5    2     5      50  \n",
       "4  Unknown  12.770403  2020      7    7     2      34  "
      ]
     },
     "execution_count": 27,
     "metadata": {},
     "output_type": "execute_result"
    }
   ],
   "source": [
    "# Show a few rows of df.\n",
    "df.head()"
   ]
  },
  {
   "cell_type": "code",
   "execution_count": 28,
   "metadata": {},
   "outputs": [],
   "source": [
    "# Rearrange df.\n",
    "df = df[['traffic', 'packages', 'preference', 'distance', 'fog', 'rain', \n",
    "         'snow', 'hail', 'year', 'month', 'day', 'hour', 'minute', 'delivery']]"
   ]
  },
  {
   "cell_type": "code",
   "execution_count": 29,
   "metadata": {},
   "outputs": [
    {
     "data": {
      "text/html": [
       "<div>\n",
       "<style scoped>\n",
       "    .dataframe tbody tr th:only-of-type {\n",
       "        vertical-align: middle;\n",
       "    }\n",
       "\n",
       "    .dataframe tbody tr th {\n",
       "        vertical-align: top;\n",
       "    }\n",
       "\n",
       "    .dataframe thead th {\n",
       "        text-align: right;\n",
       "    }\n",
       "</style>\n",
       "<table border=\"1\" class=\"dataframe\">\n",
       "  <thead>\n",
       "    <tr style=\"text-align: right;\">\n",
       "      <th></th>\n",
       "      <th>traffic</th>\n",
       "      <th>packages</th>\n",
       "      <th>preference</th>\n",
       "      <th>distance</th>\n",
       "      <th>fog</th>\n",
       "      <th>rain</th>\n",
       "      <th>snow</th>\n",
       "      <th>hail</th>\n",
       "      <th>year</th>\n",
       "      <th>month</th>\n",
       "      <th>day</th>\n",
       "      <th>hour</th>\n",
       "      <th>minute</th>\n",
       "      <th>delivery</th>\n",
       "    </tr>\n",
       "  </thead>\n",
       "  <tbody>\n",
       "    <tr>\n",
       "      <th>0</th>\n",
       "      <td>Low</td>\n",
       "      <td>7.0</td>\n",
       "      <td>Evening</td>\n",
       "      <td>167.884751</td>\n",
       "      <td>Unknown</td>\n",
       "      <td>Unknown</td>\n",
       "      <td>Low</td>\n",
       "      <td>Unknown</td>\n",
       "      <td>2020</td>\n",
       "      <td>9</td>\n",
       "      <td>3</td>\n",
       "      <td>12</td>\n",
       "      <td>41</td>\n",
       "      <td>9.294688</td>\n",
       "    </tr>\n",
       "    <tr>\n",
       "      <th>1</th>\n",
       "      <td>Low</td>\n",
       "      <td>10.0</td>\n",
       "      <td>Morning</td>\n",
       "      <td>154.154474</td>\n",
       "      <td>Low</td>\n",
       "      <td>Unknown</td>\n",
       "      <td>Mid</td>\n",
       "      <td>Unknown</td>\n",
       "      <td>2022</td>\n",
       "      <td>12</td>\n",
       "      <td>22</td>\n",
       "      <td>20</td>\n",
       "      <td>14</td>\n",
       "      <td>9.303765</td>\n",
       "    </tr>\n",
       "    <tr>\n",
       "      <th>2</th>\n",
       "      <td>High</td>\n",
       "      <td>2.0</td>\n",
       "      <td>Afternoon</td>\n",
       "      <td>196.084835</td>\n",
       "      <td>Unknown</td>\n",
       "      <td>Mid</td>\n",
       "      <td>Unknown</td>\n",
       "      <td>Unknown</td>\n",
       "      <td>2021</td>\n",
       "      <td>6</td>\n",
       "      <td>5</td>\n",
       "      <td>11</td>\n",
       "      <td>20</td>\n",
       "      <td>8.734668</td>\n",
       "    </tr>\n",
       "    <tr>\n",
       "      <th>3</th>\n",
       "      <td>High</td>\n",
       "      <td>15.0</td>\n",
       "      <td>Morning</td>\n",
       "      <td>94.010339</td>\n",
       "      <td>Unknown</td>\n",
       "      <td>Unknown</td>\n",
       "      <td>Unknown</td>\n",
       "      <td>Unknown</td>\n",
       "      <td>2023</td>\n",
       "      <td>5</td>\n",
       "      <td>2</td>\n",
       "      <td>5</td>\n",
       "      <td>50</td>\n",
       "      <td>7.806979</td>\n",
       "    </tr>\n",
       "    <tr>\n",
       "      <th>4</th>\n",
       "      <td>Moderate</td>\n",
       "      <td>17.0</td>\n",
       "      <td>Evening</td>\n",
       "      <td>202.254271</td>\n",
       "      <td>Mid</td>\n",
       "      <td>Unknown</td>\n",
       "      <td>Unknown</td>\n",
       "      <td>Unknown</td>\n",
       "      <td>2020</td>\n",
       "      <td>7</td>\n",
       "      <td>7</td>\n",
       "      <td>2</td>\n",
       "      <td>34</td>\n",
       "      <td>12.770403</td>\n",
       "    </tr>\n",
       "  </tbody>\n",
       "</table>\n",
       "</div>"
      ],
      "text/plain": [
       "    traffic  packages preference    distance      fog     rain     snow  \\\n",
       "0       Low       7.0    Evening  167.884751  Unknown  Unknown      Low   \n",
       "1       Low      10.0    Morning  154.154474      Low  Unknown      Mid   \n",
       "2      High       2.0  Afternoon  196.084835  Unknown      Mid  Unknown   \n",
       "3      High      15.0    Morning   94.010339  Unknown  Unknown  Unknown   \n",
       "4  Moderate      17.0    Evening  202.254271      Mid  Unknown  Unknown   \n",
       "\n",
       "      hail  year  month  day  hour  minute   delivery  \n",
       "0  Unknown  2020      9    3    12      41   9.294688  \n",
       "1  Unknown  2022     12   22    20      14   9.303765  \n",
       "2  Unknown  2021      6    5    11      20   8.734668  \n",
       "3  Unknown  2023      5    2     5      50   7.806979  \n",
       "4  Unknown  2020      7    7     2      34  12.770403  "
      ]
     },
     "execution_count": 29,
     "metadata": {},
     "output_type": "execute_result"
    }
   ],
   "source": [
    "# Show a few rows of df.\n",
    "df.head()"
   ]
  },
  {
   "cell_type": "code",
   "execution_count": 30,
   "metadata": {},
   "outputs": [],
   "source": [
    "# Convert the packages column to integer.\n",
    "df['packages'] = df['packages'].astype('int64')"
   ]
  },
  {
   "cell_type": "code",
   "execution_count": 31,
   "metadata": {},
   "outputs": [
    {
     "name": "stdout",
     "output_type": "stream",
     "text": [
      "<class 'pandas.core.frame.DataFrame'>\n",
      "Index: 130994 entries, 0 to 130999\n",
      "Data columns (total 14 columns):\n",
      " #   Column      Non-Null Count   Dtype  \n",
      "---  ------      --------------   -----  \n",
      " 0   traffic     130994 non-null  object \n",
      " 1   packages    130994 non-null  int64  \n",
      " 2   preference  130994 non-null  object \n",
      " 3   distance    130994 non-null  float64\n",
      " 4   fog         130994 non-null  object \n",
      " 5   rain        130994 non-null  object \n",
      " 6   snow        130994 non-null  object \n",
      " 7   hail        130994 non-null  object \n",
      " 8   year        130994 non-null  int64  \n",
      " 9   month       130994 non-null  int64  \n",
      " 10  day         130994 non-null  int64  \n",
      " 11  hour        130994 non-null  int64  \n",
      " 12  minute      130994 non-null  int64  \n",
      " 13  delivery    130994 non-null  float64\n",
      "dtypes: float64(2), int64(6), object(6)\n",
      "memory usage: 15.0+ MB\n"
     ]
    }
   ],
   "source": [
    "# Check the info of df.\n",
    "df.info()"
   ]
  },
  {
   "cell_type": "markdown",
   "metadata": {
    "id": "GkFyOZ1unNbn"
   },
   "source": [
    "### Exploratory Data Analysis"
   ]
  },
  {
   "cell_type": "code",
   "execution_count": 32,
   "metadata": {},
   "outputs": [],
   "source": [
    "# Subset categorical and numerical columns\n",
    "num_features = df.select_dtypes(include=\"number\").columns.to_list()\n",
    "cat_features = df.select_dtypes(exclude=\"number\").columns.to_list()"
   ]
  },
  {
   "cell_type": "code",
   "execution_count": 33,
   "metadata": {
    "colab": {
     "base_uri": "https://localhost:8080/",
     "height": 721
    },
    "executionInfo": {
     "elapsed": 2051,
     "status": "ok",
     "timestamp": 1698015908274,
     "user": {
      "displayName": "Efemena Ikpro",
      "userId": "07524339756286888285"
     },
     "user_tz": -60
    },
    "id": "0BFVFUWtnBq-",
    "outputId": "91fb9e96-d52f-4c3f-9ead-4dd64c3334fb"
   },
   "outputs": [
    {
     "data": {
      "image/png": "[encoded data removed]",
      "text/plain": [
       "<Figure size 640x480 with 2 Axes>"
      ]
     },
     "metadata": {},
     "output_type": "display_data"
    }
   ],
   "source": [
    "# Create a correlation heatmap.\n",
    "corr_df = df[num_features]\\\n",
    "            .drop('delivery', axis=1)\\\n",
    "            .corr()\n",
    "\n",
    "sns.heatmap(corr_df,\n",
    "            cbar=True,\n",
    "            annot=True,\n",
    "            square=True,\n",
    "            fmt='.2f',\n",
    "            annot_kws={'size': 10},\n",
    "            cmap=\"Blues\")\n",
    "\n",
    "plt.show()"
   ]
  },
  {
   "cell_type": "code",
   "execution_count": 34,
   "metadata": {},
   "outputs": [],
   "source": [
    "# Function to create numerical distribution plot.\n",
    "def distribution_plot(col):\n",
    "    plt.figure(figsize=(8, 4))\n",
    "    df[col].plot(kind='hist', bins=20)\n",
    "    plt.title(f'Distribution of {col}')\n",
    "    plt.xlabel(f'{col}')\n",
    "    plt.ylabel('Frequency')\n",
    "    plt.show()"
   ]
  },
  {
   "cell_type": "code",
   "execution_count": 35,
   "metadata": {},
   "outputs": [
    {
     "data": {
      "image/png": "[encoded data removed]",
      "text/plain": [
       "<Figure size 800x400 with 1 Axes>"
      ]
     },
     "metadata": {},
     "output_type": "display_data"
    },
    {
     "data": {
      "image/png": "[encoded data removed]",
      "text/plain": [
       "<Figure size 800x400 with 1 Axes>"
      ]
     },
     "metadata": {},
     "output_type": "display_data"
    },
    {
     "data": {
      "image/png": "[encoded data removed]",
      "text/plain": [
       "<Figure size 800x400 with 1 Axes>"
      ]
     },
     "metadata": {},
     "output_type": "display_data"
    },
    {
     "data": {
      "image/png": "[encoded data removed]",
      "text/plain": [
       "<Figure size 800x400 with 1 Axes>"
      ]
     },
     "metadata": {},
     "output_type": "display_data"
    },
    {
     "data": {
      "image/png": "[encoded data removed]",
      "text/plain": [
       "<Figure size 800x400 with 1 Axes>"
      ]
     },
     "metadata": {},
     "output_type": "display_data"
    },
    {
     "data": {
      "image/png": "[encoded data removed]",
      "text/plain": [
       "<Figure size 800x400 with 1 Axes>"
      ]
     },
     "metadata": {},
     "output_type": "display_data"
    },
    {
     "data": {
      "image/png": "[encoded data removed]",
      "text/plain": [
       "<Figure size 800x400 with 1 Axes>"
      ]
     },
     "metadata": {},
     "output_type": "display_data"
    },
    {
     "data": {
      "image/png": "[encoded data removed]",
      "text/plain": [
       "<Figure size 800x400 with 1 Axes>"
      ]
     },
     "metadata": {},
     "output_type": "display_data"
    }
   ],
   "source": [
    "# Show distribution plot for num_features.\n",
    "for col in num_features:\n",
    "    distribution_plot(col)"
   ]
  },
  {
   "cell_type": "code",
   "execution_count": 36,
   "metadata": {
    "executionInfo": {
     "elapsed": 301,
     "status": "ok",
     "timestamp": 1698016382117,
     "user": {
      "displayName": "Efemena Ikpro",
      "userId": "07524339756286888285"
     },
     "user_tz": -60
    },
    "id": "VCyzkZBo1geA"
   },
   "outputs": [],
   "source": [
    "# Function to create categorical count plot.\n",
    "def count_plot(col):\n",
    "  plt.figure(figsize=(8, 4))\n",
    "  df[col].value_counts().plot(kind='bar')\n",
    "  plt.title(f'Distribution of {col}')\n",
    "  plt.xlabel(col)\n",
    "  plt.ylabel('Count')\n",
    "  plt.show()"
   ]
  },
  {
   "cell_type": "code",
   "execution_count": 37,
   "metadata": {
    "colab": {
     "base_uri": "https://localhost:8080/",
     "height": 463
    },
    "executionInfo": {
     "elapsed": 1199,
     "status": "ok",
     "timestamp": 1698016397608,
     "user": {
      "displayName": "Efemena Ikpro",
      "userId": "07524339756286888285"
     },
     "user_tz": -60
    },
    "id": "eH3l7ap-qZlF",
    "outputId": "ff57932f-81fe-4de5-a310-950c10a56e14"
   },
   "outputs": [
    {
     "data": {
      "image/png": "[encoded data removed]",
      "text/plain": [
       "<Figure size 800x400 with 1 Axes>"
      ]
     },
     "metadata": {},
     "output_type": "display_data"
    },
    {
     "data": {
      "image/png": "[encoded data removed]",
      "text/plain": [
       "<Figure size 800x400 with 1 Axes>"
      ]
     },
     "metadata": {},
     "output_type": "display_data"
    },
    {
     "data": {
      "image/png": "[encoded data removed]",
      "text/plain": [
       "<Figure size 800x400 with 1 Axes>"
      ]
     },
     "metadata": {},
     "output_type": "display_data"
    },
    {
     "data": {
      "image/png": "[encoded data removed]",
      "text/plain": [
       "<Figure size 800x400 with 1 Axes>"
      ]
     },
     "metadata": {},
     "output_type": "display_data"
    },
    {
     "data": {
      "image/png": "[encoded data removed]",
      "text/plain": [
       "<Figure size 800x400 with 1 Axes>"
      ]
     },
     "metadata": {},
     "output_type": "display_data"
    },
    {
     "data": {
      "image/png": "[encoded data removed]",
      "text/plain": [
       "<Figure size 800x400 with 1 Axes>"
      ]
     },
     "metadata": {},
     "output_type": "display_data"
    }
   ],
   "source": [
    "# Show count plot for cat_features.\n",
    "for col in cat_features:\n",
    "    count_plot(col)"
   ]
  },
  {
   "cell_type": "markdown",
   "metadata": {},
   "source": [
    "### Outliers"
   ]
  },
  {
   "cell_type": "code",
   "execution_count": 38,
   "metadata": {},
   "outputs": [],
   "source": [
    "# Function to create box plot.\n",
    "def box_plot(col):\n",
    "    plt.figure(figsize=(6, 3))\n",
    "    plt.title(f'{col}')\n",
    "    sns.boxplot(x=df[col])\n",
    "    plt.plot()"
   ]
  },
  {
   "cell_type": "code",
   "execution_count": 39,
   "metadata": {},
   "outputs": [
    {
     "data": {
      "image/png": "[encoded data removed]",
      "text/plain": [
       "<Figure size 600x300 with 1 Axes>"
      ]
     },
     "metadata": {},
     "output_type": "display_data"
    },
    {
     "data": {
      "image/png": "[encoded data removed]",
      "text/plain": [
       "<Figure size 600x300 with 1 Axes>"
      ]
     },
     "metadata": {},
     "output_type": "display_data"
    },
    {
     "data": {
      "image/png": "[encoded data removed]",
      "text/plain": [
       "<Figure size 600x300 with 1 Axes>"
      ]
     },
     "metadata": {},
     "output_type": "display_data"
    },
    {
     "data": {
      "image/png": "[encoded data removed]",
      "text/plain": [
       "<Figure size 600x300 with 1 Axes>"
      ]
     },
     "metadata": {},
     "output_type": "display_data"
    },
    {
     "data": {
      "image/png": "[encoded data removed]",
      "text/plain": [
       "<Figure size 600x300 with 1 Axes>"
      ]
     },
     "metadata": {},
     "output_type": "display_data"
    },
    {
     "data": {
      "image/png": "[encoded data removed]",
      "text/plain": [
       "<Figure size 600x300 with 1 Axes>"
      ]
     },
     "metadata": {},
     "output_type": "display_data"
    },
    {
     "data": {
      "image/png": "[encoded data removed]",
      "text/plain": [
       "<Figure size 600x300 with 1 Axes>"
      ]
     },
     "metadata": {},
     "output_type": "display_data"
    },
    {
     "data": {
      "image/png": "[encoded data removed]",
      "text/plain": [
       "<Figure size 600x300 with 1 Axes>"
      ]
     },
     "metadata": {},
     "output_type": "display_data"
    }
   ],
   "source": [
    "# Show box plot for num_features.\n",
    "for col in num_features:\n",
    "    box_plot(col)"
   ]
  },
  {
   "cell_type": "markdown",
   "metadata": {},
   "source": [
    "There is need to explore the distance and delivery columns further."
   ]
  },
  {
   "cell_type": "code",
   "execution_count": 40,
   "metadata": {},
   "outputs": [],
   "source": [
    "# Define the outlier columns.\n",
    "out_col = ['distance', 'delivery']"
   ]
  },
  {
   "cell_type": "code",
   "execution_count": 41,
   "metadata": {},
   "outputs": [
    {
     "name": "stdout",
     "output_type": "stream",
     "text": [
      "df_original_length: 130994\n"
     ]
    }
   ],
   "source": [
    "# Find the length of df.\n",
    "df_original_length = df.shape[0]\n",
    "print(f'df_original_length: {df_original_length}')"
   ]
  },
  {
   "cell_type": "code",
   "execution_count": 42,
   "metadata": {},
   "outputs": [
    {
     "name": "stdout",
     "output_type": "stream",
     "text": [
      "lower limits:\n",
      "distance   -10.163355\n",
      "delivery     0.010900\n",
      "dtype: float64\n",
      "\n",
      "upper limits:\n",
      "distance    259.523281\n",
      "delivery     15.443035\n",
      "dtype: float64\n"
     ]
    }
   ],
   "source": [
    "# Calculate IQR and the limits.\n",
    "Q1, Q3 = df[out_col].quantile(0.25), df[out_col].quantile(0.75)\n",
    "IQR = Q3 - Q1\n",
    "lower, upper = Q1 - 1.5 * IQR, Q3 + 1.5 * IQR\n",
    "\n",
    "print(f'lower limits:\\n{lower}\\n')\n",
    "print(f'upper limits:\\n{upper}')"
   ]
  },
  {
   "cell_type": "code",
   "execution_count": 43,
   "metadata": {},
   "outputs": [],
   "source": [
    "# Create function to remove outliers.\n",
    "def out_remove(df):\n",
    "    for col in out_col:\n",
    "        out_remove = [False if x < lower[col] or x > upper[col] else True for x in df[col]]\n",
    "        df = df[out_remove]\n",
    "    return df"
   ]
  },
  {
   "cell_type": "code",
   "execution_count": 44,
   "metadata": {},
   "outputs": [],
   "source": [
    "# Remove outliers in df.\n",
    "df = out_remove(df)"
   ]
  },
  {
   "cell_type": "code",
   "execution_count": 45,
   "metadata": {},
   "outputs": [
    {
     "name": "stdout",
     "output_type": "stream",
     "text": [
      "df_remain_length: 128830\n"
     ]
    }
   ],
   "source": [
    "# Find new length of df.\n",
    "df_remain_length = df.shape[0]\n",
    "print(f'df_remain_length: {df_remain_length}')"
   ]
  },
  {
   "cell_type": "code",
   "execution_count": 46,
   "metadata": {},
   "outputs": [
    {
     "name": "stdout",
     "output_type": "stream",
     "text": [
      "removed_data: 1.65%\n"
     ]
    }
   ],
   "source": [
    "# Find percentage of removed data.\n",
    "removed_data = (df_original_length - df_remain_length) * 100 / df_original_length\n",
    "print(f'removed_data: {removed_data:.2f}%')"
   ]
  },
  {
   "cell_type": "markdown",
   "metadata": {},
   "source": [
    "### Save The Data To File."
   ]
  },
  {
   "cell_type": "code",
   "execution_count": 47,
   "metadata": {},
   "outputs": [],
   "source": [
    "# Save the file as parquet.\n",
    "df.to_parquet(path='./data/Project_Notes_011_renewable_data.parquet', compression='gzip', index=False)"
   ]
  },
  {
   "cell_type": "code",
   "execution_count": 48,
   "metadata": {},
   "outputs": [],
   "source": [
    "# load the saved file.\n",
    "df_esb = pd.read_parquet('./data/Project_Notes_011_renewable_data.parquet')"
   ]
  },
  {
   "cell_type": "markdown",
   "metadata": {},
   "source": [
    "### Further Feature Engineering"
   ]
  },
  {
   "cell_type": "code",
   "execution_count": 49,
   "metadata": {},
   "outputs": [],
   "source": [
    "# Subset categorical and numerical columns\n",
    "num_features = df_esb.select_dtypes(include=\"number\").columns.to_list()\n",
    "cat_features = df_esb.select_dtypes(exclude=\"number\").columns.to_list()"
   ]
  },
  {
   "cell_type": "code",
   "execution_count": 50,
   "metadata": {},
   "outputs": [
    {
     "name": "stdout",
     "output_type": "stream",
     "text": [
      "Unique values in traffic are: ['High', 'Low', 'Moderate']\n",
      "Unique values in preference are: ['Afternoon', 'Evening', 'Morning']\n",
      "Unique values in fog are: ['High', 'Low', 'Mid', 'Unknown']\n",
      "Unique values in rain are: ['High', 'Low', 'Mid', 'Unknown']\n",
      "Unique values in snow are: ['High', 'Low', 'Mid', 'Unknown']\n",
      "Unique values in hail are: ['High', 'Low', 'Mid', 'Unknown']\n"
     ]
    }
   ],
   "source": [
    "# Get the unique values in the cat_features columns.\n",
    "for col in cat_features:\n",
    "    print(f'Unique values in {col} are: {sorted(list(df_esb[col].unique()))}')"
   ]
  },
  {
   "cell_type": "code",
   "execution_count": 51,
   "metadata": {},
   "outputs": [],
   "source": [
    "# Create masks for the cat_features columns.\n",
    "mask_traffic = {'Low': 1, 'Moderate': 2, 'High': 3}\n",
    "mask_preference = {'Morning': 1, 'Afternoon': 2, 'Evening': 3}\n",
    "mask_others = {'Low': 1, 'Mid': 2, 'High': 3, 'Unknown': 3}"
   ]
  },
  {
   "cell_type": "code",
   "execution_count": 52,
   "metadata": {},
   "outputs": [],
   "source": [
    "# Create a function to apply the masks.\n",
    "def mask_unique(df):\n",
    "    df['traffic'] = df['traffic'].map(mask_traffic)\n",
    "    df['preference'] = df['preference'].map(mask_preference)\n",
    "    df['fog'] = df['fog'].map(mask_others)\n",
    "    df['rain'] = df['rain'].map(mask_others)\n",
    "    df['snow'] = df['snow'].map(mask_others)\n",
    "    df['hail'] = df['hail'].map(mask_others)\n",
    "    return df"
   ]
  },
  {
   "cell_type": "code",
   "execution_count": 53,
   "metadata": {},
   "outputs": [
    {
     "data": {
      "text/html": [
       "<div>\n",
       "<style scoped>\n",
       "    .dataframe tbody tr th:only-of-type {\n",
       "        vertical-align: middle;\n",
       "    }\n",
       "\n",
       "    .dataframe tbody tr th {\n",
       "        vertical-align: top;\n",
       "    }\n",
       "\n",
       "    .dataframe thead th {\n",
       "        text-align: right;\n",
       "    }\n",
       "</style>\n",
       "<table border=\"1\" class=\"dataframe\">\n",
       "  <thead>\n",
       "    <tr style=\"text-align: right;\">\n",
       "      <th></th>\n",
       "      <th>traffic</th>\n",
       "      <th>packages</th>\n",
       "      <th>preference</th>\n",
       "      <th>distance</th>\n",
       "      <th>fog</th>\n",
       "      <th>rain</th>\n",
       "      <th>snow</th>\n",
       "      <th>hail</th>\n",
       "      <th>year</th>\n",
       "      <th>month</th>\n",
       "      <th>day</th>\n",
       "      <th>hour</th>\n",
       "      <th>minute</th>\n",
       "      <th>delivery</th>\n",
       "    </tr>\n",
       "  </thead>\n",
       "  <tbody>\n",
       "    <tr>\n",
       "      <th>0</th>\n",
       "      <td>1</td>\n",
       "      <td>7</td>\n",
       "      <td>3</td>\n",
       "      <td>167.884751</td>\n",
       "      <td>3</td>\n",
       "      <td>3</td>\n",
       "      <td>1</td>\n",
       "      <td>3</td>\n",
       "      <td>2020</td>\n",
       "      <td>9</td>\n",
       "      <td>3</td>\n",
       "      <td>12</td>\n",
       "      <td>41</td>\n",
       "      <td>9.294688</td>\n",
       "    </tr>\n",
       "    <tr>\n",
       "      <th>1</th>\n",
       "      <td>1</td>\n",
       "      <td>10</td>\n",
       "      <td>1</td>\n",
       "      <td>154.154474</td>\n",
       "      <td>1</td>\n",
       "      <td>3</td>\n",
       "      <td>2</td>\n",
       "      <td>3</td>\n",
       "      <td>2022</td>\n",
       "      <td>12</td>\n",
       "      <td>22</td>\n",
       "      <td>20</td>\n",
       "      <td>14</td>\n",
       "      <td>9.303765</td>\n",
       "    </tr>\n",
       "    <tr>\n",
       "      <th>2</th>\n",
       "      <td>3</td>\n",
       "      <td>2</td>\n",
       "      <td>2</td>\n",
       "      <td>196.084835</td>\n",
       "      <td>3</td>\n",
       "      <td>2</td>\n",
       "      <td>3</td>\n",
       "      <td>3</td>\n",
       "      <td>2021</td>\n",
       "      <td>6</td>\n",
       "      <td>5</td>\n",
       "      <td>11</td>\n",
       "      <td>20</td>\n",
       "      <td>8.734668</td>\n",
       "    </tr>\n",
       "    <tr>\n",
       "      <th>3</th>\n",
       "      <td>3</td>\n",
       "      <td>15</td>\n",
       "      <td>1</td>\n",
       "      <td>94.010339</td>\n",
       "      <td>3</td>\n",
       "      <td>3</td>\n",
       "      <td>3</td>\n",
       "      <td>3</td>\n",
       "      <td>2023</td>\n",
       "      <td>5</td>\n",
       "      <td>2</td>\n",
       "      <td>5</td>\n",
       "      <td>50</td>\n",
       "      <td>7.806979</td>\n",
       "    </tr>\n",
       "    <tr>\n",
       "      <th>4</th>\n",
       "      <td>2</td>\n",
       "      <td>17</td>\n",
       "      <td>3</td>\n",
       "      <td>202.254271</td>\n",
       "      <td>2</td>\n",
       "      <td>3</td>\n",
       "      <td>3</td>\n",
       "      <td>3</td>\n",
       "      <td>2020</td>\n",
       "      <td>7</td>\n",
       "      <td>7</td>\n",
       "      <td>2</td>\n",
       "      <td>34</td>\n",
       "      <td>12.770403</td>\n",
       "    </tr>\n",
       "    <tr>\n",
       "      <th>...</th>\n",
       "      <td>...</td>\n",
       "      <td>...</td>\n",
       "      <td>...</td>\n",
       "      <td>...</td>\n",
       "      <td>...</td>\n",
       "      <td>...</td>\n",
       "      <td>...</td>\n",
       "      <td>...</td>\n",
       "      <td>...</td>\n",
       "      <td>...</td>\n",
       "      <td>...</td>\n",
       "      <td>...</td>\n",
       "      <td>...</td>\n",
       "      <td>...</td>\n",
       "    </tr>\n",
       "    <tr>\n",
       "      <th>128825</th>\n",
       "      <td>3</td>\n",
       "      <td>14</td>\n",
       "      <td>2</td>\n",
       "      <td>129.664099</td>\n",
       "      <td>2</td>\n",
       "      <td>3</td>\n",
       "      <td>2</td>\n",
       "      <td>3</td>\n",
       "      <td>2020</td>\n",
       "      <td>1</td>\n",
       "      <td>11</td>\n",
       "      <td>23</td>\n",
       "      <td>19</td>\n",
       "      <td>10.144627</td>\n",
       "    </tr>\n",
       "    <tr>\n",
       "      <th>128826</th>\n",
       "      <td>2</td>\n",
       "      <td>7</td>\n",
       "      <td>2</td>\n",
       "      <td>180.837540</td>\n",
       "      <td>3</td>\n",
       "      <td>1</td>\n",
       "      <td>3</td>\n",
       "      <td>3</td>\n",
       "      <td>2020</td>\n",
       "      <td>6</td>\n",
       "      <td>23</td>\n",
       "      <td>10</td>\n",
       "      <td>44</td>\n",
       "      <td>6.494870</td>\n",
       "    </tr>\n",
       "    <tr>\n",
       "      <th>128827</th>\n",
       "      <td>1</td>\n",
       "      <td>6</td>\n",
       "      <td>3</td>\n",
       "      <td>147.811287</td>\n",
       "      <td>1</td>\n",
       "      <td>1</td>\n",
       "      <td>3</td>\n",
       "      <td>3</td>\n",
       "      <td>2020</td>\n",
       "      <td>6</td>\n",
       "      <td>4</td>\n",
       "      <td>23</td>\n",
       "      <td>13</td>\n",
       "      <td>7.818925</td>\n",
       "    </tr>\n",
       "    <tr>\n",
       "      <th>128828</th>\n",
       "      <td>1</td>\n",
       "      <td>12</td>\n",
       "      <td>3</td>\n",
       "      <td>89.197186</td>\n",
       "      <td>3</td>\n",
       "      <td>3</td>\n",
       "      <td>3</td>\n",
       "      <td>3</td>\n",
       "      <td>2022</td>\n",
       "      <td>12</td>\n",
       "      <td>1</td>\n",
       "      <td>1</td>\n",
       "      <td>5</td>\n",
       "      <td>4.545268</td>\n",
       "    </tr>\n",
       "    <tr>\n",
       "      <th>128829</th>\n",
       "      <td>1</td>\n",
       "      <td>3</td>\n",
       "      <td>3</td>\n",
       "      <td>102.531877</td>\n",
       "      <td>3</td>\n",
       "      <td>3</td>\n",
       "      <td>3</td>\n",
       "      <td>3</td>\n",
       "      <td>2022</td>\n",
       "      <td>12</td>\n",
       "      <td>24</td>\n",
       "      <td>23</td>\n",
       "      <td>49</td>\n",
       "      <td>8.186037</td>\n",
       "    </tr>\n",
       "  </tbody>\n",
       "</table>\n",
       "<p>128830 rows × 14 columns</p>\n",
       "</div>"
      ],
      "text/plain": [
       "        traffic  packages  preference    distance  fog  rain  snow  hail  \\\n",
       "0             1         7           3  167.884751    3     3     1     3   \n",
       "1             1        10           1  154.154474    1     3     2     3   \n",
       "2             3         2           2  196.084835    3     2     3     3   \n",
       "3             3        15           1   94.010339    3     3     3     3   \n",
       "4             2        17           3  202.254271    2     3     3     3   \n",
       "...         ...       ...         ...         ...  ...   ...   ...   ...   \n",
       "128825        3        14           2  129.664099    2     3     2     3   \n",
       "128826        2         7           2  180.837540    3     1     3     3   \n",
       "128827        1         6           3  147.811287    1     1     3     3   \n",
       "128828        1        12           3   89.197186    3     3     3     3   \n",
       "128829        1         3           3  102.531877    3     3     3     3   \n",
       "\n",
       "        year  month  day  hour  minute   delivery  \n",
       "0       2020      9    3    12      41   9.294688  \n",
       "1       2022     12   22    20      14   9.303765  \n",
       "2       2021      6    5    11      20   8.734668  \n",
       "3       2023      5    2     5      50   7.806979  \n",
       "4       2020      7    7     2      34  12.770403  \n",
       "...      ...    ...  ...   ...     ...        ...  \n",
       "128825  2020      1   11    23      19  10.144627  \n",
       "128826  2020      6   23    10      44   6.494870  \n",
       "128827  2020      6    4    23      13   7.818925  \n",
       "128828  2022     12    1     1       5   4.545268  \n",
       "128829  2022     12   24    23      49   8.186037  \n",
       "\n",
       "[128830 rows x 14 columns]"
      ]
     },
     "execution_count": 53,
     "metadata": {},
     "output_type": "execute_result"
    }
   ],
   "source": [
    "# Apply the mask function.\n",
    "mask_unique(df_esb)"
   ]
  },
  {
   "cell_type": "markdown",
   "metadata": {
    "id": "w-ChXWfn3fVu"
   },
   "source": [
    "### Modeling And Selection  \n",
    "**Train tree based/ensemble models**"
   ]
  },
  {
   "cell_type": "code",
   "execution_count": 54,
   "metadata": {},
   "outputs": [],
   "source": [
    "# Prepare X and Y variables\n",
    "X = df_esb.drop(columns=['delivery'], axis=1)\n",
    "y = df_esb['delivery']"
   ]
  },
  {
   "cell_type": "code",
   "execution_count": 55,
   "metadata": {
    "colab": {
     "base_uri": "https://localhost:8080/"
    },
    "executionInfo": {
     "elapsed": 57529,
     "status": "ok",
     "timestamp": 1697699134944,
     "user": {
      "displayName": "Efemena Ikpro",
      "userId": "07524339756286888285"
     },
     "user_tz": 420
    },
    "id": "mzQ79jBX3egA",
    "outputId": "16d0e993-df83-4af9-aad8-6b0c69dda0f3"
   },
   "outputs": [
    {
     "name": "stdout",
     "output_type": "stream",
     "text": [
      "Model: Decision Tree\n",
      "RMSE: 2.55\n",
      "MAE: 2.02\n",
      "MAPE: 28.00%\n",
      "========================================\n",
      "Model: Random Forest\n",
      "RMSE: 1.79\n",
      "MAE: 1.45\n",
      "MAPE: 20.52%\n",
      "========================================\n",
      "Model: Gradient Boosting\n",
      "RMSE: 1.72\n",
      "MAE: 1.40\n",
      "MAPE: 19.74%\n",
      "========================================\n"
     ]
    }
   ],
   "source": [
    "# Split the data into train and test sets.\n",
    "X_train, X_test, y_train, y_test = train_test_split(X, y, test_size=0.2, random_state=42)\n",
    "\n",
    "# Initialize the models.\n",
    "models = {\n",
    "    \"Decision Tree\": DecisionTreeRegressor(random_state=42),\n",
    "    \"Random Forest\": RandomForestRegressor(n_estimators=100, random_state=42),\n",
    "    \"Gradient Boosting\": GradientBoostingRegressor(n_estimators=100, random_state=42)\n",
    "}\n",
    "\n",
    "# Training and evaluation loop.\n",
    "for model_name, model in models.items():\n",
    "    \n",
    "    # Train the model.\n",
    "    model.fit(X_train, y_train)\n",
    "\n",
    "    # Make predictions.\n",
    "    y_pred = model.predict(X_test)\n",
    "\n",
    "    # Calculate RMSE, MAE, and MAPE.\n",
    "    rmse = np.sqrt(mean_squared_error(y_test, y_pred))\n",
    "    mae = mean_absolute_error(y_test, y_pred)\n",
    "    mape = np.mean(np.abs((y_test - y_pred) / y_test)) * 100  # MAPE in percentage\n",
    "\n",
    "    # Print the results.\n",
    "    print(f\"Model: {model_name}\")\n",
    "    print(f\"RMSE: {rmse:.2f}\")\n",
    "    print(f\"MAE: {mae:.2f}\")\n",
    "    print(f\"MAPE: {mape:.2f}%\")\n",
    "    print(\"=\" * 40)"
   ]
  },
  {
   "cell_type": "markdown",
   "metadata": {},
   "source": [
    "**Train Neigbours models**"
   ]
  },
  {
   "cell_type": "code",
   "execution_count": 56,
   "metadata": {
    "colab": {
     "base_uri": "https://localhost:8080/"
    },
    "executionInfo": {
     "elapsed": 5252,
     "status": "ok",
     "timestamp": 1697699159788,
     "user": {
      "displayName": "Efemena Ikpro",
      "userId": "07524339756286888285"
     },
     "user_tz": 420
    },
    "id": "UPnqf7rUwBpn",
    "outputId": "d48f50a1-628e-497a-f4e6-a848339c9a8d"
   },
   "outputs": [
    {
     "name": "stdout",
     "output_type": "stream",
     "text": [
      "Model: KNN (k=1)\n",
      "RMSE: 2.84\n",
      "MAE: 2.25\n",
      "MAPE: 31.86%\n",
      "========================================\n",
      "Model: KNN (k=3)\n",
      "RMSE: 2.32\n",
      "MAE: 1.84\n",
      "MAPE: 26.38%\n",
      "========================================\n",
      "Model: KNN (k=5)\n",
      "RMSE: 2.21\n",
      "MAE: 1.76\n",
      "MAPE: 25.34%\n",
      "========================================\n",
      "Model: KNN (k=7)\n",
      "RMSE: 2.16\n",
      "MAE: 1.73\n",
      "MAPE: 24.92%\n",
      "========================================\n",
      "Model: KNN (k=9)\n",
      "RMSE: 2.13\n",
      "MAE: 1.71\n",
      "MAPE: 24.66%\n",
      "========================================\n"
     ]
    }
   ],
   "source": [
    "# Split the data into train and test sets.\n",
    "X_train, X_test, y_train, y_test = train_test_split(X, y, test_size=0.2, random_state=42)\n",
    "\n",
    "# Initialize the KNN regressor models with different values of k.\n",
    "k_values = [1, 3, 5, 7, 9]  # You can adjust these values\n",
    "models = {f\"KNN (k={k})\": KNeighborsRegressor(n_neighbors=k) for k in k_values}\n",
    "\n",
    "# Training and evaluation loop.\n",
    "for model_name, model in models.items():\n",
    "    # Train the model\n",
    "    model.fit(X_train, y_train)\n",
    "\n",
    "    # Make predictions.\n",
    "    y_pred = model.predict(X_test)\n",
    "\n",
    "    # Calculate RMSE, MAE, and MAPE.\n",
    "    rmse = np.sqrt(mean_squared_error(y_test, y_pred))\n",
    "    mae = mean_absolute_error(y_test, y_pred)\n",
    "    mape = np.mean(np.abs((y_test - y_pred) / y_test)) * 100  # MAPE in percentage\n",
    "\n",
    "    # Print the results.\n",
    "    print(f\"Model: {model_name}\")\n",
    "    print(f\"RMSE: {rmse:.2f}\")\n",
    "    print(f\"MAE: {mae:.2f}\")\n",
    "    print(f\"MAPE: {mape:.2f}%\")\n",
    "    print(\"=\" * 40)"
   ]
  },
  {
   "cell_type": "markdown",
   "metadata": {},
   "source": [
    "**Train Linear models**"
   ]
  },
  {
   "cell_type": "code",
   "execution_count": 57,
   "metadata": {
    "colab": {
     "base_uri": "https://localhost:8080/"
    },
    "executionInfo": {
     "elapsed": 498,
     "status": "ok",
     "timestamp": 1697699676926,
     "user": {
      "displayName": "Efemena Ikpro",
      "userId": "07524339756286888285"
     },
     "user_tz": 420
    },
    "id": "bidOZJO8wiLy",
    "outputId": "5cfce79f-c868-4e36-9450-0306e7f88f9b"
   },
   "outputs": [
    {
     "name": "stdout",
     "output_type": "stream",
     "text": [
      "Model: Linear Regression\n",
      "RMSE: 1.86\n",
      "MAE: 1.50\n",
      "MAPE: 21.17%\n",
      "========================================\n",
      "Model: Lasso Regression\n",
      "RMSE: 2.10\n",
      "MAE: 1.71\n",
      "MAPE: 25.28%\n",
      "========================================\n",
      "Model: Ridge Regression\n",
      "RMSE: 1.86\n",
      "MAE: 1.50\n",
      "MAPE: 21.17%\n",
      "========================================\n",
      "Model: Elastic Net\n",
      "RMSE: 2.06\n",
      "MAE: 1.67\n",
      "MAPE: 24.57%\n",
      "========================================\n"
     ]
    }
   ],
   "source": [
    "# Split the data into train and test sets.\n",
    "X_train, X_test, y_train, y_test = train_test_split(X, y, test_size=0.2, random_state=42)\n",
    "\n",
    "# Initialize the linear models.\n",
    "linear_regressor = LinearRegression()\n",
    "lasso_regressor = Lasso(alpha=1.0)\n",
    "ridge_regressor = Ridge(alpha=1.0)\n",
    "elasticnet_regressor = ElasticNet(alpha=1.0, l1_ratio=0.5)\n",
    "\n",
    "# Create a dictionary of models.\n",
    "models = {\n",
    "    \"Linear Regression\": linear_regressor,\n",
    "    \"Lasso Regression\": lasso_regressor,\n",
    "    \"Ridge Regression\": ridge_regressor,\n",
    "    \"Elastic Net\": elasticnet_regressor\n",
    "}\n",
    "\n",
    "# Training and evaluation loop for each model.\n",
    "for model_name, model in models.items():\n",
    "    \n",
    "    # Train the model.\n",
    "    model.fit(X_train, y_train)\n",
    "\n",
    "    # Make predictions.\n",
    "    y_pred = model.predict(X_test)\n",
    "\n",
    "    # Calculate RMSE, MAE, and MAPE.\n",
    "    rmse = np.sqrt(mean_squared_error(y_test, y_pred))\n",
    "    mae = mean_absolute_error(y_test, y_pred)\n",
    "    mape = np.mean(np.abs((y_test - y_pred) / y_test)) * 100  # MAPE in percentage\n",
    "\n",
    "    # Print the results.\n",
    "    print(f\"Model: {model_name}\")\n",
    "    print(f\"RMSE: {rmse:.2f}\")\n",
    "    print(f\"MAE: {mae:.2f}\")\n",
    "    print(f\"MAPE: {mape:.2f}%\")\n",
    "    print(\"=\" * 40)"
   ]
  },
  {
   "cell_type": "markdown",
   "metadata": {
    "id": "v0CWefalyYxg"
   },
   "source": [
    "The top performing models are : Random Forest, Gradient Boosting and KNN"
   ]
  },
  {
   "cell_type": "markdown",
   "metadata": {
    "id": "1vyaXxIZ4Eht"
   },
   "source": [
    "### Hyperparameter Tuning Using Grid Search"
   ]
  },
  {
   "cell_type": "markdown",
   "metadata": {
    "id": "U-p1-nBPy0rx"
   },
   "source": [
    "**Imporoving Random Forest Using Grid serach**"
   ]
  },
  {
   "cell_type": "code",
   "execution_count": 58,
   "metadata": {
    "colab": {
     "base_uri": "https://localhost:8080/"
    },
    "executionInfo": {
     "elapsed": 592921,
     "status": "ok",
     "timestamp": 1697700701188,
     "user": {
      "displayName": "Efemena Ikpro",
      "userId": "07524339756286888285"
     },
     "user_tz": 420
    },
    "id": "HRJQ4dMn4Deq",
    "outputId": "eb03dee1-1e62-4f2b-8cbd-bf443acc8291"
   },
   "outputs": [
    {
     "name": "stdout",
     "output_type": "stream",
     "text": [
      "Fitting 3 folds for each of 12 candidates, totalling 36 fits\n",
      "Best Hyperparameters:\n",
      "{'max_depth': 20, 'min_samples_leaf': 4, 'min_samples_split': 10, 'n_estimators': 100}\n",
      "RMSE: 1.78\n",
      "MAE: 1.44\n"
     ]
    }
   ],
   "source": [
    "# Split the data into train and test sets.\n",
    "X_train, X_test, y_train, y_test = train_test_split(X, y, test_size=0.3, random_state=42)\n",
    "\n",
    "# Initialize the Random Forest Regressor.\n",
    "rf_regressor = RandomForestRegressor(random_state=42)\n",
    "\n",
    "# Define the hyperparameters and their possible values for the grid search.\n",
    "param_grid = {\n",
    "    'n_estimators': [100],  # Number of trees in the forest\n",
    "    'max_depth': [None, 10, 20],  # Maximum depth of each tree\n",
    "    'min_samples_split': [5, 10],  # Minimum number of samples required to split a node\n",
    "    'min_samples_leaf': [2, 4],   # Minimum number of samples required at each leaf node\n",
    "}\n",
    "\n",
    "# Create the grid search.\n",
    "grid_search = GridSearchCV(estimator=rf_regressor, param_grid=param_grid,\n",
    "                           scoring='neg_mean_squared_error', cv=3, verbose=2, n_jobs=-1)\n",
    "\n",
    "# Perform the grid search on the training data.\n",
    "grid_search.fit(X_train, y_train)\n",
    "\n",
    "# Get the best parameters from the grid search.\n",
    "best_rf_params = grid_search.best_params_\n",
    "\n",
    "# Get the best model from the grid search.\n",
    "best_rf_model = grid_search.best_estimator_\n",
    "\n",
    "# Make predictions.\n",
    "y_pred = best_rf_model.predict(X_test)\n",
    "\n",
    "# Calculate RMSE and MAE.\n",
    "rmse = np.sqrt(mean_squared_error(y_test, y_pred))\n",
    "mae = mean_absolute_error(y_test, y_pred)\n",
    "\n",
    "# Print the best hyperparameters and evaluation metrics.\n",
    "print(\"Best Hyperparameters:\")\n",
    "print(best_rf_params)\n",
    "print(f\"RMSE: {rmse:.2f}\")\n",
    "print(f\"MAE: {mae:.2f}\")"
   ]
  },
  {
   "cell_type": "markdown",
   "metadata": {
    "id": "PBgvnsww0Tiv"
   },
   "source": [
    "### Impoving Gradient Boosting Regressor Using Grid serach"
   ]
  },
  {
   "cell_type": "code",
   "execution_count": 59,
   "metadata": {
    "colab": {
     "base_uri": "https://localhost:8080/"
    },
    "executionInfo": {
     "elapsed": 222949,
     "status": "ok",
     "timestamp": 1697700924124,
     "user": {
      "displayName": "Efemena Ikpro",
      "userId": "07524339756286888285"
     },
     "user_tz": 420
    },
    "id": "4Sg2Wt9u0Ez2",
    "outputId": "f9a20748-31f3-4fe3-f2eb-e28dcc7a420a"
   },
   "outputs": [
    {
     "name": "stdout",
     "output_type": "stream",
     "text": [
      "Fitting 3 folds for each of 9 candidates, totalling 27 fits\n",
      "Best Hyperparameters:\n",
      "{'learning_rate': 0.2, 'max_depth': 3, 'n_estimators': 100}\n",
      "RMSE: 1.72\n",
      "MAE: 1.39\n"
     ]
    }
   ],
   "source": [
    "# Split the data into train and test sets.\n",
    "X_train, X_test, y_train, y_test = train_test_split(X, y, test_size=0.3, random_state=42)\n",
    "\n",
    "# Initialize the Gradient Boosting Regressor.\n",
    "gb_regressor = GradientBoostingRegressor(random_state=42)\n",
    "\n",
    "# Define the hyperparameters and their possible values for the grid search.\n",
    "param_grid = {\n",
    "    'n_estimators': [100],  # Number of boosting stages\n",
    "    'learning_rate': [0.01, 0.1, 0.2],  # Step size shrinkage\n",
    "    'max_depth': [3, 4, 5],  # Maximum depth of individual trees\n",
    "}\n",
    "\n",
    "# Create the grid search.\n",
    "grid_search = GridSearchCV(estimator=gb_regressor, param_grid=param_grid,\n",
    "                           scoring='neg_mean_squared_error', cv=3, verbose=2, n_jobs=-1)\n",
    "\n",
    "# Perform the grid search on the training data.\n",
    "grid_search.fit(X_train, y_train)\n",
    "\n",
    "# Get the best parameters from the grid search.\n",
    "best_gb_params = grid_search.best_params_\n",
    "\n",
    "# Get the best model from the grid search.\n",
    "best_gb_model = grid_search.best_estimator_\n",
    "\n",
    "# Make predictions.\n",
    "y_pred = best_gb_model.predict(X_test)\n",
    "\n",
    "# Calculate RMSE and MAE\n",
    "rmse = np.sqrt(mean_squared_error(y_test, y_pred))\n",
    "mae = mean_absolute_error(y_test, y_pred)\n",
    "\n",
    "# Print the best hyperparameters and evaluation metrics.\n",
    "print(\"Best Hyperparameters:\")\n",
    "print(best_gb_params)\n",
    "print(f\"RMSE: {rmse:.2f}\")\n",
    "print(f\"MAE: {mae:.2f}\")"
   ]
  },
  {
   "cell_type": "markdown",
   "metadata": {
    "id": "R4i-LNUh0C7o"
   },
   "source": [
    "### Improving K Nearest Neighbor Regressor Using Grid Serach"
   ]
  },
  {
   "cell_type": "code",
   "execution_count": 60,
   "metadata": {
    "colab": {
     "base_uri": "https://localhost:8080/"
    },
    "executionInfo": {
     "elapsed": 35679,
     "status": "ok",
     "timestamp": 1697700960958,
     "user": {
      "displayName": "Efemena Ikpro",
      "userId": "07524339756286888285"
     },
     "user_tz": 420
    },
    "id": "b4A-nP3z0mGW",
    "outputId": "1f69f6df-1932-4f70-9314-8f41556cc463"
   },
   "outputs": [
    {
     "name": "stdout",
     "output_type": "stream",
     "text": [
      "Fitting 3 folds for each of 12 candidates, totalling 36 fits\n",
      "Best Hyperparameters:\n",
      "{'n_neighbors': 11, 'weights': 'distance'}\n",
      "RMSE: 2.11\n",
      "MAE: 1.70\n"
     ]
    }
   ],
   "source": [
    "# Split the data into train and test sets.\n",
    "X_train, X_test, y_train, y_test = train_test_split(X, y, test_size=0.2, random_state=42)\n",
    "\n",
    "# Initialize the KNN Regressor.\n",
    "knn_regressor = KNeighborsRegressor()\n",
    "\n",
    "# Define the hyperparameters and their possible values for the grid search.\n",
    "param_grid = {\n",
    "    'n_neighbors': [1, 3, 5, 7, 9, 11],  # Number of neighbors to consider\n",
    "    'weights': ['uniform', 'distance'],  # Weighting strategy for neighbors\n",
    "}\n",
    "\n",
    "# Create the grid search.\n",
    "grid_search = GridSearchCV(estimator=knn_regressor, param_grid=param_grid,\n",
    "                           scoring='neg_mean_squared_error', cv=3, verbose=2, n_jobs=-1)\n",
    "\n",
    "# Perform the grid search on the training data.\n",
    "grid_search.fit(X_train, y_train)\n",
    "\n",
    "# Get the best parameters from the grid search.\n",
    "best_knn_params = grid_search.best_params_\n",
    "\n",
    "# Get the best model from the grid search.\n",
    "best_knn_model = grid_search.best_estimator_\n",
    "\n",
    "# Make predictions.\n",
    "y_pred = best_knn_model.predict(X_test)\n",
    "\n",
    "# Calculate RMSE and MAE.\n",
    "rmse = np.sqrt(mean_squared_error(y_test, y_pred))\n",
    "mae = mean_absolute_error(y_test, y_pred)\n",
    "\n",
    "# Print the best hyperparameters and evaluation metrics.\n",
    "print(\"Best Hyperparameters:\")\n",
    "print(best_knn_params)\n",
    "print(f\"RMSE: {rmse:.2f}\")\n",
    "print(f\"MAE: {mae:.2f}\")"
   ]
  },
  {
   "cell_type": "code",
   "execution_count": 61,
   "metadata": {},
   "outputs": [],
   "source": [
    "# Extract the best parameters of RandomForestRegressor.\n",
    "max_depth = best_rf_params['max_depth']\n",
    "min_samples_leaf = best_rf_params['min_samples_leaf']\n",
    "min_samples_split = best_rf_params['min_samples_split']\n",
    "n_estimators = best_rf_params['n_estimators']"
   ]
  },
  {
   "cell_type": "code",
   "execution_count": 62,
   "metadata": {
    "colab": {
     "base_uri": "https://localhost:8080/",
     "height": 75
    },
    "executionInfo": {
     "elapsed": 44293,
     "status": "ok",
     "timestamp": 1697703125519,
     "user": {
      "displayName": "Efemena Ikpro",
      "userId": "07524339756286888285"
     },
     "user_tz": 420
    },
    "id": "iovydi9G4c4i",
    "outputId": "a0c70d1e-eceb-420f-d417-8077a42faa65"
   },
   "outputs": [
    {
     "data": {
      "text/html": [
       "<style>#sk-container-id-1 {color: black;background-color: white;}#sk-container-id-1 pre{padding: 0;}#sk-container-id-1 div.sk-toggleable {background-color: white;}#sk-container-id-1 label.sk-toggleable__label {cursor: pointer;display: block;width: 100%;margin-bottom: 0;padding: 0.3em;box-sizing: border-box;text-align: center;}#sk-container-id-1 label.sk-toggleable__label-arrow:before {content: \"▸\";float: left;margin-right: 0.25em;color: #696969;}#sk-container-id-1 label.sk-toggleable__label-arrow:hover:before {color: black;}#sk-container-id-1 div.sk-estimator:hover label.sk-toggleable__label-arrow:before {color: black;}#sk-container-id-1 div.sk-toggleable__content {max-height: 0;max-width: 0;overflow: hidden;text-align: left;background-color: #f0f8ff;}#sk-container-id-1 div.sk-toggleable__content pre {margin: 0.2em;color: black;border-radius: 0.25em;background-color: #f0f8ff;}#sk-container-id-1 input.sk-toggleable__control:checked~div.sk-toggleable__content {max-height: 200px;max-width: 100%;overflow: auto;}#sk-container-id-1 input.sk-toggleable__control:checked~label.sk-toggleable__label-arrow:before {content: \"▾\";}#sk-container-id-1 div.sk-estimator input.sk-toggleable__control:checked~label.sk-toggleable__label {background-color: #d4ebff;}#sk-container-id-1 div.sk-label input.sk-toggleable__control:checked~label.sk-toggleable__label {background-color: #d4ebff;}#sk-container-id-1 input.sk-hidden--visually {border: 0;clip: rect(1px 1px 1px 1px);clip: rect(1px, 1px, 1px, 1px);height: 1px;margin: -1px;overflow: hidden;padding: 0;position: absolute;width: 1px;}#sk-container-id-1 div.sk-estimator {font-family: monospace;background-color: #f0f8ff;border: 1px dotted black;border-radius: 0.25em;box-sizing: border-box;margin-bottom: 0.5em;}#sk-container-id-1 div.sk-estimator:hover {background-color: #d4ebff;}#sk-container-id-1 div.sk-parallel-item::after {content: \"\";width: 100%;border-bottom: 1px solid gray;flex-grow: 1;}#sk-container-id-1 div.sk-label:hover label.sk-toggleable__label {background-color: #d4ebff;}#sk-container-id-1 div.sk-serial::before {content: \"\";position: absolute;border-left: 1px solid gray;box-sizing: border-box;top: 0;bottom: 0;left: 50%;z-index: 0;}#sk-container-id-1 div.sk-serial {display: flex;flex-direction: column;align-items: center;background-color: white;padding-right: 0.2em;padding-left: 0.2em;position: relative;}#sk-container-id-1 div.sk-item {position: relative;z-index: 1;}#sk-container-id-1 div.sk-parallel {display: flex;align-items: stretch;justify-content: center;background-color: white;position: relative;}#sk-container-id-1 div.sk-item::before, #sk-container-id-1 div.sk-parallel-item::before {content: \"\";position: absolute;border-left: 1px solid gray;box-sizing: border-box;top: 0;bottom: 0;left: 50%;z-index: -1;}#sk-container-id-1 div.sk-parallel-item {display: flex;flex-direction: column;z-index: 1;position: relative;background-color: white;}#sk-container-id-1 div.sk-parallel-item:first-child::after {align-self: flex-end;width: 50%;}#sk-container-id-1 div.sk-parallel-item:last-child::after {align-self: flex-start;width: 50%;}#sk-container-id-1 div.sk-parallel-item:only-child::after {width: 0;}#sk-container-id-1 div.sk-dashed-wrapped {border: 1px dashed gray;margin: 0 0.4em 0.5em 0.4em;box-sizing: border-box;padding-bottom: 0.4em;background-color: white;}#sk-container-id-1 div.sk-label label {font-family: monospace;font-weight: bold;display: inline-block;line-height: 1.2em;}#sk-container-id-1 div.sk-label-container {text-align: center;}#sk-container-id-1 div.sk-container {/* jupyter's `normalize.less` sets `[hidden] { display: none; }` but bootstrap.min.css set `[hidden] { display: none !important; }` so we also need the `!important` here to be able to override the default hidden behavior on the sphinx rendered scikit-learn.org. See: https://github.com/scikit-learn/scikit-learn/issues/21755 */display: inline-block !important;position: relative;}#sk-container-id-1 div.sk-text-repr-fallback {display: none;}</style><div id=\"sk-container-id-1\" class=\"sk-top-container\"><div class=\"sk-text-repr-fallback\"><pre>RandomForestRegressor(max_depth=20, min_samples_leaf=4, min_samples_split=10)</pre><b>In a Jupyter environment, please rerun this cell to show the HTML representation or trust the notebook. <br />On GitHub, the HTML representation is unable to render, please try loading this page with nbviewer.org.</b></div><div class=\"sk-container\" hidden><div class=\"sk-item\"><div class=\"sk-estimator sk-toggleable\"><input class=\"sk-toggleable__control sk-hidden--visually\" id=\"sk-estimator-id-1\" type=\"checkbox\" checked><label for=\"sk-estimator-id-1\" class=\"sk-toggleable__label sk-toggleable__label-arrow\">RandomForestRegressor</label><div class=\"sk-toggleable__content\"><pre>RandomForestRegressor(max_depth=20, min_samples_leaf=4, min_samples_split=10)</pre></div></div></div></div></div>"
      ],
      "text/plain": [
       "RandomForestRegressor(max_depth=20, min_samples_leaf=4, min_samples_split=10)"
      ]
     },
     "execution_count": 62,
     "metadata": {},
     "output_type": "execute_result"
    }
   ],
   "source": [
    "# Get final RandomForestRegressor model.\n",
    "final_rf = RandomForestRegressor(\n",
    "    n_estimators=n_estimators,\n",
    "    max_depth=max_depth, \n",
    "    min_samples_leaf= min_samples_leaf, \n",
    "    min_samples_split=min_samples_split\n",
    ")\n",
    "\n",
    "final_rf.fit(X_train, y_train)"
   ]
  },
  {
   "cell_type": "code",
   "execution_count": 63,
   "metadata": {},
   "outputs": [],
   "source": [
    "# Extract the best parameters of GradientBoostingRegressor.\n",
    "learning_rate = best_gb_params['learning_rate']\n",
    "max_depth = best_gb_params['max_depth']\n",
    "n_estimators = best_gb_params['n_estimators']"
   ]
  },
  {
   "cell_type": "code",
   "execution_count": 64,
   "metadata": {
    "colab": {
     "base_uri": "https://localhost:8080/",
     "height": 75
    },
    "executionInfo": {
     "elapsed": 17087,
     "status": "ok",
     "timestamp": 1697703242896,
     "user": {
      "displayName": "Efemena Ikpro",
      "userId": "07524339756286888285"
     },
     "user_tz": 420
    },
    "id": "qaxNWDO74fsq",
    "outputId": "9db80d7f-9079-49c9-b427-e61036ec49e6"
   },
   "outputs": [
    {
     "data": {
      "text/html": [
       "<style>#sk-container-id-2 {color: black;background-color: white;}#sk-container-id-2 pre{padding: 0;}#sk-container-id-2 div.sk-toggleable {background-color: white;}#sk-container-id-2 label.sk-toggleable__label {cursor: pointer;display: block;width: 100%;margin-bottom: 0;padding: 0.3em;box-sizing: border-box;text-align: center;}#sk-container-id-2 label.sk-toggleable__label-arrow:before {content: \"▸\";float: left;margin-right: 0.25em;color: #696969;}#sk-container-id-2 label.sk-toggleable__label-arrow:hover:before {color: black;}#sk-container-id-2 div.sk-estimator:hover label.sk-toggleable__label-arrow:before {color: black;}#sk-container-id-2 div.sk-toggleable__content {max-height: 0;max-width: 0;overflow: hidden;text-align: left;background-color: #f0f8ff;}#sk-container-id-2 div.sk-toggleable__content pre {margin: 0.2em;color: black;border-radius: 0.25em;background-color: #f0f8ff;}#sk-container-id-2 input.sk-toggleable__control:checked~div.sk-toggleable__content {max-height: 200px;max-width: 100%;overflow: auto;}#sk-container-id-2 input.sk-toggleable__control:checked~label.sk-toggleable__label-arrow:before {content: \"▾\";}#sk-container-id-2 div.sk-estimator input.sk-toggleable__control:checked~label.sk-toggleable__label {background-color: #d4ebff;}#sk-container-id-2 div.sk-label input.sk-toggleable__control:checked~label.sk-toggleable__label {background-color: #d4ebff;}#sk-container-id-2 input.sk-hidden--visually {border: 0;clip: rect(1px 1px 1px 1px);clip: rect(1px, 1px, 1px, 1px);height: 1px;margin: -1px;overflow: hidden;padding: 0;position: absolute;width: 1px;}#sk-container-id-2 div.sk-estimator {font-family: monospace;background-color: #f0f8ff;border: 1px dotted black;border-radius: 0.25em;box-sizing: border-box;margin-bottom: 0.5em;}#sk-container-id-2 div.sk-estimator:hover {background-color: #d4ebff;}#sk-container-id-2 div.sk-parallel-item::after {content: \"\";width: 100%;border-bottom: 1px solid gray;flex-grow: 1;}#sk-container-id-2 div.sk-label:hover label.sk-toggleable__label {background-color: #d4ebff;}#sk-container-id-2 div.sk-serial::before {content: \"\";position: absolute;border-left: 1px solid gray;box-sizing: border-box;top: 0;bottom: 0;left: 50%;z-index: 0;}#sk-container-id-2 div.sk-serial {display: flex;flex-direction: column;align-items: center;background-color: white;padding-right: 0.2em;padding-left: 0.2em;position: relative;}#sk-container-id-2 div.sk-item {position: relative;z-index: 1;}#sk-container-id-2 div.sk-parallel {display: flex;align-items: stretch;justify-content: center;background-color: white;position: relative;}#sk-container-id-2 div.sk-item::before, #sk-container-id-2 div.sk-parallel-item::before {content: \"\";position: absolute;border-left: 1px solid gray;box-sizing: border-box;top: 0;bottom: 0;left: 50%;z-index: -1;}#sk-container-id-2 div.sk-parallel-item {display: flex;flex-direction: column;z-index: 1;position: relative;background-color: white;}#sk-container-id-2 div.sk-parallel-item:first-child::after {align-self: flex-end;width: 50%;}#sk-container-id-2 div.sk-parallel-item:last-child::after {align-self: flex-start;width: 50%;}#sk-container-id-2 div.sk-parallel-item:only-child::after {width: 0;}#sk-container-id-2 div.sk-dashed-wrapped {border: 1px dashed gray;margin: 0 0.4em 0.5em 0.4em;box-sizing: border-box;padding-bottom: 0.4em;background-color: white;}#sk-container-id-2 div.sk-label label {font-family: monospace;font-weight: bold;display: inline-block;line-height: 1.2em;}#sk-container-id-2 div.sk-label-container {text-align: center;}#sk-container-id-2 div.sk-container {/* jupyter's `normalize.less` sets `[hidden] { display: none; }` but bootstrap.min.css set `[hidden] { display: none !important; }` so we also need the `!important` here to be able to override the default hidden behavior on the sphinx rendered scikit-learn.org. See: https://github.com/scikit-learn/scikit-learn/issues/21755 */display: inline-block !important;position: relative;}#sk-container-id-2 div.sk-text-repr-fallback {display: none;}</style><div id=\"sk-container-id-2\" class=\"sk-top-container\"><div class=\"sk-text-repr-fallback\"><pre>GradientBoostingRegressor(learning_rate=0.2)</pre><b>In a Jupyter environment, please rerun this cell to show the HTML representation or trust the notebook. <br />On GitHub, the HTML representation is unable to render, please try loading this page with nbviewer.org.</b></div><div class=\"sk-container\" hidden><div class=\"sk-item\"><div class=\"sk-estimator sk-toggleable\"><input class=\"sk-toggleable__control sk-hidden--visually\" id=\"sk-estimator-id-2\" type=\"checkbox\" checked><label for=\"sk-estimator-id-2\" class=\"sk-toggleable__label sk-toggleable__label-arrow\">GradientBoostingRegressor</label><div class=\"sk-toggleable__content\"><pre>GradientBoostingRegressor(learning_rate=0.2)</pre></div></div></div></div></div>"
      ],
      "text/plain": [
       "GradientBoostingRegressor(learning_rate=0.2)"
      ]
     },
     "execution_count": 64,
     "metadata": {},
     "output_type": "execute_result"
    }
   ],
   "source": [
    "# Get final GradientBoostingRegressor model.\n",
    "final_gb = GradientBoostingRegressor(\n",
    "    learning_rate=learning_rate, \n",
    "    max_depth=max_depth, \n",
    "    n_estimators=n_estimators\n",
    ")\n",
    "\n",
    "final_gb.fit(X_train, y_train)"
   ]
  },
  {
   "cell_type": "code",
   "execution_count": 65,
   "metadata": {},
   "outputs": [],
   "source": [
    "# Extract the best parameters of KNeighborsRegressor.\n",
    "n_neighbors = best_knn_params['n_neighbors']\n",
    "weights = best_knn_params['weights']"
   ]
  },
  {
   "cell_type": "code",
   "execution_count": 66,
   "metadata": {
    "colab": {
     "base_uri": "https://localhost:8080/",
     "height": 75
    },
    "executionInfo": {
     "elapsed": 1077,
     "status": "ok",
     "timestamp": 1697703362283,
     "user": {
      "displayName": "Efemena Ikpro",
      "userId": "07524339756286888285"
     },
     "user_tz": 420
    },
    "id": "BwoZdP7K_aMe",
    "outputId": "ae782e83-bb26-475e-fb90-d00894cd11b0"
   },
   "outputs": [
    {
     "data": {
      "text/html": [
       "<style>#sk-container-id-3 {color: black;background-color: white;}#sk-container-id-3 pre{padding: 0;}#sk-container-id-3 div.sk-toggleable {background-color: white;}#sk-container-id-3 label.sk-toggleable__label {cursor: pointer;display: block;width: 100%;margin-bottom: 0;padding: 0.3em;box-sizing: border-box;text-align: center;}#sk-container-id-3 label.sk-toggleable__label-arrow:before {content: \"▸\";float: left;margin-right: 0.25em;color: #696969;}#sk-container-id-3 label.sk-toggleable__label-arrow:hover:before {color: black;}#sk-container-id-3 div.sk-estimator:hover label.sk-toggleable__label-arrow:before {color: black;}#sk-container-id-3 div.sk-toggleable__content {max-height: 0;max-width: 0;overflow: hidden;text-align: left;background-color: #f0f8ff;}#sk-container-id-3 div.sk-toggleable__content pre {margin: 0.2em;color: black;border-radius: 0.25em;background-color: #f0f8ff;}#sk-container-id-3 input.sk-toggleable__control:checked~div.sk-toggleable__content {max-height: 200px;max-width: 100%;overflow: auto;}#sk-container-id-3 input.sk-toggleable__control:checked~label.sk-toggleable__label-arrow:before {content: \"▾\";}#sk-container-id-3 div.sk-estimator input.sk-toggleable__control:checked~label.sk-toggleable__label {background-color: #d4ebff;}#sk-container-id-3 div.sk-label input.sk-toggleable__control:checked~label.sk-toggleable__label {background-color: #d4ebff;}#sk-container-id-3 input.sk-hidden--visually {border: 0;clip: rect(1px 1px 1px 1px);clip: rect(1px, 1px, 1px, 1px);height: 1px;margin: -1px;overflow: hidden;padding: 0;position: absolute;width: 1px;}#sk-container-id-3 div.sk-estimator {font-family: monospace;background-color: #f0f8ff;border: 1px dotted black;border-radius: 0.25em;box-sizing: border-box;margin-bottom: 0.5em;}#sk-container-id-3 div.sk-estimator:hover {background-color: #d4ebff;}#sk-container-id-3 div.sk-parallel-item::after {content: \"\";width: 100%;border-bottom: 1px solid gray;flex-grow: 1;}#sk-container-id-3 div.sk-label:hover label.sk-toggleable__label {background-color: #d4ebff;}#sk-container-id-3 div.sk-serial::before {content: \"\";position: absolute;border-left: 1px solid gray;box-sizing: border-box;top: 0;bottom: 0;left: 50%;z-index: 0;}#sk-container-id-3 div.sk-serial {display: flex;flex-direction: column;align-items: center;background-color: white;padding-right: 0.2em;padding-left: 0.2em;position: relative;}#sk-container-id-3 div.sk-item {position: relative;z-index: 1;}#sk-container-id-3 div.sk-parallel {display: flex;align-items: stretch;justify-content: center;background-color: white;position: relative;}#sk-container-id-3 div.sk-item::before, #sk-container-id-3 div.sk-parallel-item::before {content: \"\";position: absolute;border-left: 1px solid gray;box-sizing: border-box;top: 0;bottom: 0;left: 50%;z-index: -1;}#sk-container-id-3 div.sk-parallel-item {display: flex;flex-direction: column;z-index: 1;position: relative;background-color: white;}#sk-container-id-3 div.sk-parallel-item:first-child::after {align-self: flex-end;width: 50%;}#sk-container-id-3 div.sk-parallel-item:last-child::after {align-self: flex-start;width: 50%;}#sk-container-id-3 div.sk-parallel-item:only-child::after {width: 0;}#sk-container-id-3 div.sk-dashed-wrapped {border: 1px dashed gray;margin: 0 0.4em 0.5em 0.4em;box-sizing: border-box;padding-bottom: 0.4em;background-color: white;}#sk-container-id-3 div.sk-label label {font-family: monospace;font-weight: bold;display: inline-block;line-height: 1.2em;}#sk-container-id-3 div.sk-label-container {text-align: center;}#sk-container-id-3 div.sk-container {/* jupyter's `normalize.less` sets `[hidden] { display: none; }` but bootstrap.min.css set `[hidden] { display: none !important; }` so we also need the `!important` here to be able to override the default hidden behavior on the sphinx rendered scikit-learn.org. See: https://github.com/scikit-learn/scikit-learn/issues/21755 */display: inline-block !important;position: relative;}#sk-container-id-3 div.sk-text-repr-fallback {display: none;}</style><div id=\"sk-container-id-3\" class=\"sk-top-container\"><div class=\"sk-text-repr-fallback\"><pre>KNeighborsRegressor(n_neighbors=11, weights=&#x27;distance&#x27;)</pre><b>In a Jupyter environment, please rerun this cell to show the HTML representation or trust the notebook. <br />On GitHub, the HTML representation is unable to render, please try loading this page with nbviewer.org.</b></div><div class=\"sk-container\" hidden><div class=\"sk-item\"><div class=\"sk-estimator sk-toggleable\"><input class=\"sk-toggleable__control sk-hidden--visually\" id=\"sk-estimator-id-3\" type=\"checkbox\" checked><label for=\"sk-estimator-id-3\" class=\"sk-toggleable__label sk-toggleable__label-arrow\">KNeighborsRegressor</label><div class=\"sk-toggleable__content\"><pre>KNeighborsRegressor(n_neighbors=11, weights=&#x27;distance&#x27;)</pre></div></div></div></div></div>"
      ],
      "text/plain": [
       "KNeighborsRegressor(n_neighbors=11, weights='distance')"
      ]
     },
     "execution_count": 66,
     "metadata": {},
     "output_type": "execute_result"
    }
   ],
   "source": [
    "# Get final KNeighborsRegressor model.\n",
    "final_knn = KNeighborsRegressor(n_neighbors=n_neighbors, weights=weights)\n",
    "final_knn.fit(X_train, y_train)"
   ]
  },
  {
   "cell_type": "markdown",
   "metadata": {
    "id": "Qtf0Ubzr4ghr"
   },
   "source": [
    "### Ensembling Models: Stacking Vs Averaging  \n",
    "**Stacking**"
   ]
  },
  {
   "cell_type": "code",
   "execution_count": 67,
   "metadata": {
    "colab": {
     "base_uri": "https://localhost:8080/"
    },
    "executionInfo": {
     "elapsed": 247614,
     "status": "ok",
     "timestamp": 1697703818692,
     "user": {
      "displayName": "Efemena Ikpro",
      "userId": "07524339756286888285"
     },
     "user_tz": 420
    },
    "id": "1ypfzjKY4jfB",
    "outputId": "45ae5aa2-7501-4573-bbf6-d51c28da5cd6"
   },
   "outputs": [
    {
     "name": "stdout",
     "output_type": "stream",
     "text": [
      "Stacking Ensemble RMSE: 1.72\n",
      "Stacking Ensemble MAE: 1.39\n"
     ]
    }
   ],
   "source": [
    "# Initialize the base models.\n",
    "final_rf = RandomForestRegressor(n_estimators=100, max_depth=20, min_samples_leaf=4, min_samples_split=10)\n",
    "final_gb = GradientBoostingRegressor(learning_rate=0.2, max_depth=3, n_estimators=100)\n",
    "final_knn = KNeighborsRegressor(n_neighbors=11, weights=\"distance\")\n",
    "\n",
    "# Create a list of base models.\n",
    "base_models = [('KNN', final_knn), ('GBR', final_gb), ('RFR', final_rf)]\n",
    "\n",
    "# Initialize the meta-model (Linear Regression in this case).\n",
    "meta_model = LinearRegression()\n",
    "\n",
    "# Create the stacking ensemble\n",
    "stacking_regressor = StackingRegressor(estimators=base_models, final_estimator=meta_model)\n",
    "\n",
    "# Fit the stacking ensemble to the data.\n",
    "stacking_regressor.fit(X_train, y_train)\n",
    "\n",
    "# Make predictions.\n",
    "y_pred = stacking_regressor.predict(X_test)\n",
    "\n",
    "# Evaluate the ensemble.\n",
    "rmse = np.sqrt(mean_squared_error(y_test, y_pred))\n",
    "mae = mean_absolute_error(y_test, y_pred)\n",
    "\n",
    "print(f\"Stacking Ensemble RMSE: {rmse:.2f}\")\n",
    "print(f\"Stacking Ensemble MAE: {mae:.2f}\")"
   ]
  },
  {
   "cell_type": "markdown",
   "metadata": {},
   "source": [
    "**Averaging**"
   ]
  },
  {
   "cell_type": "code",
   "execution_count": 68,
   "metadata": {
    "colab": {
     "base_uri": "https://localhost:8080/"
    },
    "executionInfo": {
     "elapsed": 48242,
     "status": "ok",
     "timestamp": 1697703866919,
     "user": {
      "displayName": "Efemena Ikpro",
      "userId": "07524339756286888285"
     },
     "user_tz": 420
    },
    "id": "nRSQaOoJ4nyC",
    "outputId": "f7b1810e-c847-4902-82b4-c4381cfe530c"
   },
   "outputs": [
    {
     "name": "stdout",
     "output_type": "stream",
     "text": [
      "Averaging Ensemble RMSE: 1.78\n",
      "Averaging Ensemble MAE: 1.45\n"
     ]
    }
   ],
   "source": [
    "# Initialize the base models.\n",
    "final_rf = RandomForestRegressor(n_estimators=100, max_depth=20, min_samples_leaf= 4, min_samples_split=10)\n",
    "final_gb = GradientBoostingRegressor(learning_rate=0.2, max_depth=3, n_estimators=100)\n",
    "final_knn = KNeighborsRegressor(n_neighbors=11, weights=\"distance\")\n",
    "\n",
    "# Create a list of base models.\n",
    "base_models = [('KNN', final_knn), ('GBR', final_gb), ('RFR', final_rf)]\n",
    "\n",
    "# Initialize the ensemble (VotingRegressor with averaging).\n",
    "ensemble_regressor = VotingRegressor(estimators=base_models)\n",
    "\n",
    "# Fit the ensemble to the data.\n",
    "ensemble_regressor.fit(X_train, y_train)\n",
    "\n",
    "# Make predictions.\n",
    "y_pred = ensemble_regressor.predict(X_test)\n",
    "\n",
    "# Evaluate the ensemble.\n",
    "rmse = np.sqrt(mean_squared_error(y_test, y_pred))\n",
    "mae = mean_absolute_error(y_test, y_pred)\n",
    "\n",
    "print(f\"Averaging Ensemble RMSE: {rmse:.2f}\")\n",
    "print(f\"Averaging Ensemble MAE: {mae:.2f}\")"
   ]
  },
  {
   "cell_type": "markdown",
   "metadata": {},
   "source": [
    "### Use The Model For Some Predictions"
   ]
  },
  {
   "cell_type": "code",
   "execution_count": 69,
   "metadata": {},
   "outputs": [],
   "source": [
    "# Save the stacking_regressor model.\n",
    "pickle.dump(stacking_regressor, \n",
    "            gzip.open('./data/Project_Notes_011_renewable_esb.pkl', 'wb'), \n",
    "            protocol=pickle.HIGHEST_PROTOCOL)"
   ]
  },
  {
   "cell_type": "code",
   "execution_count": 70,
   "metadata": {},
   "outputs": [],
   "source": [
    "# load the stacking_regressor model.\n",
    "loaded_model = pickle.load(gzip.open('./data/Project_Notes_011_renewable_esb.pkl', 'rb'))"
   ]
  },
  {
   "cell_type": "code",
   "execution_count": 71,
   "metadata": {},
   "outputs": [],
   "source": [
    "# Create function to predict the raw data\n",
    "def predict_data(raw_data):\n",
    "    data_frame = pd.DataFrame(raw_data, index=[0])\n",
    "    data_frame = mask_unique(data_frame)\n",
    "    data_predict = loaded_model.predict(data_frame).round(6)\n",
    "    return data_predict[0]"
   ]
  },
  {
   "cell_type": "code",
   "execution_count": 72,
   "metadata": {},
   "outputs": [
    {
     "data": {
      "text/plain": [
       "traffic              Low\n",
       "packages               2\n",
       "preference       Morning\n",
       "distance      133.539599\n",
       "fog              Unknown\n",
       "rain                 Low\n",
       "snow             Unknown\n",
       "hail             Unknown\n",
       "year                2020\n",
       "month                  3\n",
       "day                    7\n",
       "hour                  10\n",
       "minute                 5\n",
       "delivery        4.738282\n",
       "Name: 2120, dtype: object"
      ]
     },
     "execution_count": 72,
     "metadata": {},
     "output_type": "execute_result"
    }
   ],
   "source": [
    "# Get the sample data to use.\n",
    "sample_data = df.loc[2120]\n",
    "sample_data"
   ]
  },
  {
   "cell_type": "code",
   "execution_count": 73,
   "metadata": {},
   "outputs": [
    {
     "data": {
      "text/plain": [
       "{'traffic': 'Low',\n",
       " 'packages': 2,\n",
       " 'preference': 'Morning',\n",
       " 'distance': 133.53959872358544,\n",
       " 'fog': 'Unknown',\n",
       " 'rain': 'Low',\n",
       " 'snow': 'Unknown',\n",
       " 'hail': 'Unknown',\n",
       " 'year': 2020,\n",
       " 'month': 3,\n",
       " 'day': 7,\n",
       " 'hour': 10,\n",
       " 'minute': 5}"
      ]
     },
     "execution_count": 73,
     "metadata": {},
     "output_type": "execute_result"
    }
   ],
   "source": [
    "raw_data = {\n",
    "    'traffic': sample_data.loc['traffic'],\n",
    "    'packages': sample_data.loc['packages'],\n",
    "    'preference': sample_data.loc['preference'],\n",
    "    'distance': sample_data.loc['distance'],\n",
    "    'fog': sample_data.loc['fog'],\n",
    "    'rain': sample_data.loc['rain'],\n",
    "    'snow': sample_data.loc['snow'],\n",
    "    'hail': sample_data.loc['hail'],\n",
    "    'year': sample_data.loc['year'],\n",
    "    'month': sample_data.loc['month'],\n",
    "    'day': sample_data.loc['day'],\n",
    "    'hour': sample_data.loc['hour'],\n",
    "    'minute': sample_data.loc['minute']\n",
    "}\n",
    "\n",
    "raw_data"
   ]
  },
  {
   "cell_type": "code",
   "execution_count": 74,
   "metadata": {},
   "outputs": [
    {
     "data": {
      "text/plain": [
       "5.332634"
      ]
     },
     "execution_count": 74,
     "metadata": {},
     "output_type": "execute_result"
    }
   ],
   "source": [
    "# Compute prediction\n",
    "prediction = predict_data(raw_data)\n",
    "prediction"
   ]
  },
  {
   "cell_type": "code",
   "execution_count": 75,
   "metadata": {},
   "outputs": [
    {
     "data": {
      "text/plain": [
       "traffic         Moderate\n",
       "packages               3\n",
       "preference       Morning\n",
       "distance      174.223568\n",
       "fog              Unknown\n",
       "rain             Unknown\n",
       "snow             Unknown\n",
       "hail             Unknown\n",
       "year                2023\n",
       "month                  9\n",
       "day                    9\n",
       "hour                   6\n",
       "minute                 6\n",
       "delivery        7.041586\n",
       "Name: 8532, dtype: object"
      ]
     },
     "execution_count": 75,
     "metadata": {},
     "output_type": "execute_result"
    }
   ],
   "source": [
    "# Get the sample data to use.\n",
    "sample_data = df.loc[8532]\n",
    "sample_data"
   ]
  },
  {
   "cell_type": "code",
   "execution_count": 76,
   "metadata": {},
   "outputs": [
    {
     "data": {
      "text/plain": [
       "{'traffic': 'Moderate',\n",
       " 'packages': 3,\n",
       " 'preference': 'Morning',\n",
       " 'distance': 174.22356768163223,\n",
       " 'fog': 'Unknown',\n",
       " 'rain': 'Unknown',\n",
       " 'snow': 'Unknown',\n",
       " 'hail': 'Unknown',\n",
       " 'year': 2023,\n",
       " 'month': 9,\n",
       " 'day': 9,\n",
       " 'hour': 6,\n",
       " 'minute': 6}"
      ]
     },
     "execution_count": 76,
     "metadata": {},
     "output_type": "execute_result"
    }
   ],
   "source": [
    "raw_data = {\n",
    "    'traffic': sample_data.loc['traffic'],\n",
    "    'packages': sample_data.loc['packages'],\n",
    "    'preference': sample_data.loc['preference'],\n",
    "    'distance': sample_data.loc['distance'],\n",
    "    'fog': sample_data.loc['fog'],\n",
    "    'rain': sample_data.loc['rain'],\n",
    "    'snow': sample_data.loc['snow'],\n",
    "    'hail': sample_data.loc['hail'],\n",
    "    'year': sample_data.loc['year'],\n",
    "    'month': sample_data.loc['month'],\n",
    "    'day': sample_data.loc['day'],\n",
    "    'hour': sample_data.loc['hour'],\n",
    "    'minute': sample_data.loc['minute']\n",
    "}\n",
    "\n",
    "raw_data"
   ]
  },
  {
   "cell_type": "code",
   "execution_count": 77,
   "metadata": {},
   "outputs": [
    {
     "data": {
      "text/plain": [
       "7.491504"
      ]
     },
     "execution_count": 77,
     "metadata": {},
     "output_type": "execute_result"
    }
   ],
   "source": [
    "# Compute prediction\n",
    "prediction = predict_data(raw_data)\n",
    "prediction"
   ]
  },
  {
   "cell_type": "code",
   "execution_count": 78,
   "metadata": {},
   "outputs": [
    {
     "data": {
      "text/plain": [
       "traffic              Low\n",
       "packages               5\n",
       "preference       Evening\n",
       "distance      155.316108\n",
       "fog                  Mid\n",
       "rain             Unknown\n",
       "snow             Unknown\n",
       "hail             Unknown\n",
       "year                2022\n",
       "month                  3\n",
       "day                    2\n",
       "hour                  11\n",
       "minute                43\n",
       "delivery        6.745776\n",
       "Name: 11065, dtype: object"
      ]
     },
     "execution_count": 78,
     "metadata": {},
     "output_type": "execute_result"
    }
   ],
   "source": [
    "# Get the sample data to use.\n",
    "sample_data = df.loc[11065]\n",
    "sample_data"
   ]
  },
  {
   "cell_type": "code",
   "execution_count": 79,
   "metadata": {},
   "outputs": [
    {
     "data": {
      "text/plain": [
       "{'traffic': 'Low',\n",
       " 'packages': 5,\n",
       " 'preference': 'Evening',\n",
       " 'distance': 155.3161075954646,\n",
       " 'fog': 'Mid',\n",
       " 'rain': 'Unknown',\n",
       " 'snow': 'Unknown',\n",
       " 'hail': 'Unknown',\n",
       " 'year': 2022,\n",
       " 'month': 3,\n",
       " 'day': 2,\n",
       " 'hour': 11,\n",
       " 'minute': 43}"
      ]
     },
     "execution_count": 79,
     "metadata": {},
     "output_type": "execute_result"
    }
   ],
   "source": [
    "raw_data = {\n",
    "    'traffic': sample_data.loc['traffic'],\n",
    "    'packages': sample_data.loc['packages'],\n",
    "    'preference': sample_data.loc['preference'],\n",
    "    'distance': sample_data.loc['distance'],\n",
    "    'fog': sample_data.loc['fog'],\n",
    "    'rain': sample_data.loc['rain'],\n",
    "    'snow': sample_data.loc['snow'],\n",
    "    'hail': sample_data.loc['hail'],\n",
    "    'year': sample_data.loc['year'],\n",
    "    'month': sample_data.loc['month'],\n",
    "    'day': sample_data.loc['day'],\n",
    "    'hour': sample_data.loc['hour'],\n",
    "    'minute': sample_data.loc['minute']\n",
    "}\n",
    "\n",
    "raw_data"
   ]
  },
  {
   "cell_type": "code",
   "execution_count": 80,
   "metadata": {},
   "outputs": [
    {
     "data": {
      "text/plain": [
       "6.703557"
      ]
     },
     "execution_count": 80,
     "metadata": {},
     "output_type": "execute_result"
    }
   ],
   "source": [
    "# Compute prediction\n",
    "prediction = predict_data(raw_data)\n",
    "prediction"
   ]
  },
  {
   "cell_type": "code",
   "execution_count": 81,
   "metadata": {},
   "outputs": [
    {
     "data": {
      "text/plain": [
       "traffic            High\n",
       "packages             11\n",
       "preference      Morning\n",
       "distance      87.086422\n",
       "fog                 Mid\n",
       "rain                Mid\n",
       "snow                Mid\n",
       "hail                Low\n",
       "year               2022\n",
       "month                 4\n",
       "day                  21\n",
       "hour                  3\n",
       "minute               48\n",
       "delivery      10.840608\n",
       "Name: 759, dtype: object"
      ]
     },
     "execution_count": 81,
     "metadata": {},
     "output_type": "execute_result"
    }
   ],
   "source": [
    "# Get the sample data to use.\n",
    "sample_data = df.loc[759]\n",
    "sample_data"
   ]
  },
  {
   "cell_type": "code",
   "execution_count": 82,
   "metadata": {},
   "outputs": [
    {
     "data": {
      "text/plain": [
       "{'traffic': 'High',\n",
       " 'packages': 11,\n",
       " 'preference': 'Morning',\n",
       " 'distance': 87.08642239422535,\n",
       " 'fog': 'Mid',\n",
       " 'rain': 'Mid',\n",
       " 'snow': 'Mid',\n",
       " 'hail': 'Low',\n",
       " 'year': 2022,\n",
       " 'month': 4,\n",
       " 'day': 21,\n",
       " 'hour': 3,\n",
       " 'minute': 48}"
      ]
     },
     "execution_count": 82,
     "metadata": {},
     "output_type": "execute_result"
    }
   ],
   "source": [
    "raw_data = {\n",
    "    'traffic': sample_data.loc['traffic'],\n",
    "    'packages': sample_data.loc['packages'],\n",
    "    'preference': sample_data.loc['preference'],\n",
    "    'distance': sample_data.loc['distance'],\n",
    "    'fog': sample_data.loc['fog'],\n",
    "    'rain': sample_data.loc['rain'],\n",
    "    'snow': sample_data.loc['snow'],\n",
    "    'hail': sample_data.loc['hail'],\n",
    "    'year': sample_data.loc['year'],\n",
    "    'month': sample_data.loc['month'],\n",
    "    'day': sample_data.loc['day'],\n",
    "    'hour': sample_data.loc['hour'],\n",
    "    'minute': sample_data.loc['minute']\n",
    "}\n",
    "\n",
    "raw_data"
   ]
  },
  {
   "cell_type": "code",
   "execution_count": 83,
   "metadata": {},
   "outputs": [
    {
     "data": {
      "text/plain": [
       "9.73265"
      ]
     },
     "execution_count": 83,
     "metadata": {},
     "output_type": "execute_result"
    }
   ],
   "source": [
    "# Compute prediction\n",
    "prediction = predict_data(raw_data)\n",
    "prediction"
   ]
  },
  {
   "cell_type": "code",
   "execution_count": 84,
   "metadata": {},
   "outputs": [
    {
     "data": {
      "text/plain": [
       "traffic              Low\n",
       "packages               4\n",
       "preference     Afternoon\n",
       "distance      145.937363\n",
       "fog                  Low\n",
       "rain                 Mid\n",
       "snow                 Low\n",
       "hail                 Low\n",
       "year                2023\n",
       "month                  8\n",
       "day                   25\n",
       "hour                  17\n",
       "minute                36\n",
       "delivery         9.77849\n",
       "Name: 129281, dtype: object"
      ]
     },
     "execution_count": 84,
     "metadata": {},
     "output_type": "execute_result"
    }
   ],
   "source": [
    "# Get the sample data to use.\n",
    "sample_data = df.loc[129281]\n",
    "sample_data"
   ]
  },
  {
   "cell_type": "code",
   "execution_count": 85,
   "metadata": {},
   "outputs": [
    {
     "data": {
      "text/plain": [
       "{'traffic': 'Low',\n",
       " 'packages': 4,\n",
       " 'preference': 'Afternoon',\n",
       " 'distance': 145.93736296224964,\n",
       " 'fog': 'Low',\n",
       " 'rain': 'Mid',\n",
       " 'snow': 'Low',\n",
       " 'hail': 'Low',\n",
       " 'year': 2023,\n",
       " 'month': 8,\n",
       " 'day': 25,\n",
       " 'hour': 17,\n",
       " 'minute': 36}"
      ]
     },
     "execution_count": 85,
     "metadata": {},
     "output_type": "execute_result"
    }
   ],
   "source": [
    "raw_data = {\n",
    "    'traffic': sample_data.loc['traffic'],\n",
    "    'packages': sample_data.loc['packages'],\n",
    "    'preference': sample_data.loc['preference'],\n",
    "    'distance': sample_data.loc['distance'],\n",
    "    'fog': sample_data.loc['fog'],\n",
    "    'rain': sample_data.loc['rain'],\n",
    "    'snow': sample_data.loc['snow'],\n",
    "    'hail': sample_data.loc['hail'],\n",
    "    'year': sample_data.loc['year'],\n",
    "    'month': sample_data.loc['month'],\n",
    "    'day': sample_data.loc['day'],\n",
    "    'hour': sample_data.loc['hour'],\n",
    "    'minute': sample_data.loc['minute']\n",
    "}\n",
    "\n",
    "raw_data"
   ]
  },
  {
   "cell_type": "code",
   "execution_count": 86,
   "metadata": {},
   "outputs": [
    {
     "data": {
      "text/plain": [
       "8.734935"
      ]
     },
     "execution_count": 86,
     "metadata": {},
     "output_type": "execute_result"
    }
   ],
   "source": [
    "# Compute prediction\n",
    "prediction = predict_data(raw_data)\n",
    "prediction"
   ]
  },
  {
   "cell_type": "markdown",
   "metadata": {},
   "source": [
    "### Use A XGB Regressor To To Create The Model"
   ]
  },
  {
   "cell_type": "code",
   "execution_count": 87,
   "metadata": {},
   "outputs": [
    {
     "data": {
      "text/html": [
       "<style>#sk-container-id-4 {color: black;background-color: white;}#sk-container-id-4 pre{padding: 0;}#sk-container-id-4 div.sk-toggleable {background-color: white;}#sk-container-id-4 label.sk-toggleable__label {cursor: pointer;display: block;width: 100%;margin-bottom: 0;padding: 0.3em;box-sizing: border-box;text-align: center;}#sk-container-id-4 label.sk-toggleable__label-arrow:before {content: \"▸\";float: left;margin-right: 0.25em;color: #696969;}#sk-container-id-4 label.sk-toggleable__label-arrow:hover:before {color: black;}#sk-container-id-4 div.sk-estimator:hover label.sk-toggleable__label-arrow:before {color: black;}#sk-container-id-4 div.sk-toggleable__content {max-height: 0;max-width: 0;overflow: hidden;text-align: left;background-color: #f0f8ff;}#sk-container-id-4 div.sk-toggleable__content pre {margin: 0.2em;color: black;border-radius: 0.25em;background-color: #f0f8ff;}#sk-container-id-4 input.sk-toggleable__control:checked~div.sk-toggleable__content {max-height: 200px;max-width: 100%;overflow: auto;}#sk-container-id-4 input.sk-toggleable__control:checked~label.sk-toggleable__label-arrow:before {content: \"▾\";}#sk-container-id-4 div.sk-estimator input.sk-toggleable__control:checked~label.sk-toggleable__label {background-color: #d4ebff;}#sk-container-id-4 div.sk-label input.sk-toggleable__control:checked~label.sk-toggleable__label {background-color: #d4ebff;}#sk-container-id-4 input.sk-hidden--visually {border: 0;clip: rect(1px 1px 1px 1px);clip: rect(1px, 1px, 1px, 1px);height: 1px;margin: -1px;overflow: hidden;padding: 0;position: absolute;width: 1px;}#sk-container-id-4 div.sk-estimator {font-family: monospace;background-color: #f0f8ff;border: 1px dotted black;border-radius: 0.25em;box-sizing: border-box;margin-bottom: 0.5em;}#sk-container-id-4 div.sk-estimator:hover {background-color: #d4ebff;}#sk-container-id-4 div.sk-parallel-item::after {content: \"\";width: 100%;border-bottom: 1px solid gray;flex-grow: 1;}#sk-container-id-4 div.sk-label:hover label.sk-toggleable__label {background-color: #d4ebff;}#sk-container-id-4 div.sk-serial::before {content: \"\";position: absolute;border-left: 1px solid gray;box-sizing: border-box;top: 0;bottom: 0;left: 50%;z-index: 0;}#sk-container-id-4 div.sk-serial {display: flex;flex-direction: column;align-items: center;background-color: white;padding-right: 0.2em;padding-left: 0.2em;position: relative;}#sk-container-id-4 div.sk-item {position: relative;z-index: 1;}#sk-container-id-4 div.sk-parallel {display: flex;align-items: stretch;justify-content: center;background-color: white;position: relative;}#sk-container-id-4 div.sk-item::before, #sk-container-id-4 div.sk-parallel-item::before {content: \"\";position: absolute;border-left: 1px solid gray;box-sizing: border-box;top: 0;bottom: 0;left: 50%;z-index: -1;}#sk-container-id-4 div.sk-parallel-item {display: flex;flex-direction: column;z-index: 1;position: relative;background-color: white;}#sk-container-id-4 div.sk-parallel-item:first-child::after {align-self: flex-end;width: 50%;}#sk-container-id-4 div.sk-parallel-item:last-child::after {align-self: flex-start;width: 50%;}#sk-container-id-4 div.sk-parallel-item:only-child::after {width: 0;}#sk-container-id-4 div.sk-dashed-wrapped {border: 1px dashed gray;margin: 0 0.4em 0.5em 0.4em;box-sizing: border-box;padding-bottom: 0.4em;background-color: white;}#sk-container-id-4 div.sk-label label {font-family: monospace;font-weight: bold;display: inline-block;line-height: 1.2em;}#sk-container-id-4 div.sk-label-container {text-align: center;}#sk-container-id-4 div.sk-container {/* jupyter's `normalize.less` sets `[hidden] { display: none; }` but bootstrap.min.css set `[hidden] { display: none !important; }` so we also need the `!important` here to be able to override the default hidden behavior on the sphinx rendered scikit-learn.org. See: https://github.com/scikit-learn/scikit-learn/issues/21755 */display: inline-block !important;position: relative;}#sk-container-id-4 div.sk-text-repr-fallback {display: none;}</style><div id=\"sk-container-id-4\" class=\"sk-top-container\"><div class=\"sk-text-repr-fallback\"><pre>Pipeline(steps=[(&#x27;columntransformer&#x27;,\n",
       "                 ColumnTransformer(transformers=[(&#x27;standardscaler&#x27;,\n",
       "                                                  StandardScaler(),\n",
       "                                                  [&#x27;packages&#x27;, &#x27;distance&#x27;,\n",
       "                                                   &#x27;year&#x27;, &#x27;month&#x27;, &#x27;day&#x27;,\n",
       "                                                   &#x27;hour&#x27;, &#x27;minute&#x27;]),\n",
       "                                                 (&#x27;ordinalencoder&#x27;,\n",
       "                                                  OrdinalEncoder(),\n",
       "                                                  [&#x27;traffic&#x27;, &#x27;preference&#x27;,\n",
       "                                                   &#x27;fog&#x27;, &#x27;rain&#x27;, &#x27;snow&#x27;,\n",
       "                                                   &#x27;hail&#x27;])])),\n",
       "                (&#x27;xgbregressor&#x27;,\n",
       "                 XGBRegressor(base_score=None, booster=None, callbacks=None,\n",
       "                              colsample_bylevel=No...\n",
       "                              feature_types=None, gamma=None, grow_policy=None,\n",
       "                              importance_type=None,\n",
       "                              interaction_constraints=None, learning_rate=None,\n",
       "                              max_bin=None, max_cat_threshold=None,\n",
       "                              max_cat_to_onehot=None, max_delta_step=None,\n",
       "                              max_depth=None, max_leaves=None,\n",
       "                              min_child_weight=None, missing=nan,\n",
       "                              monotone_constraints=None, multi_strategy=None,\n",
       "                              n_estimators=None, n_jobs=None,\n",
       "                              num_parallel_tree=None, random_state=None, ...))])</pre><b>In a Jupyter environment, please rerun this cell to show the HTML representation or trust the notebook. <br />On GitHub, the HTML representation is unable to render, please try loading this page with nbviewer.org.</b></div><div class=\"sk-container\" hidden><div class=\"sk-item sk-dashed-wrapped\"><div class=\"sk-label-container\"><div class=\"sk-label sk-toggleable\"><input class=\"sk-toggleable__control sk-hidden--visually\" id=\"sk-estimator-id-4\" type=\"checkbox\" ><label for=\"sk-estimator-id-4\" class=\"sk-toggleable__label sk-toggleable__label-arrow\">Pipeline</label><div class=\"sk-toggleable__content\"><pre>Pipeline(steps=[(&#x27;columntransformer&#x27;,\n",
       "                 ColumnTransformer(transformers=[(&#x27;standardscaler&#x27;,\n",
       "                                                  StandardScaler(),\n",
       "                                                  [&#x27;packages&#x27;, &#x27;distance&#x27;,\n",
       "                                                   &#x27;year&#x27;, &#x27;month&#x27;, &#x27;day&#x27;,\n",
       "                                                   &#x27;hour&#x27;, &#x27;minute&#x27;]),\n",
       "                                                 (&#x27;ordinalencoder&#x27;,\n",
       "                                                  OrdinalEncoder(),\n",
       "                                                  [&#x27;traffic&#x27;, &#x27;preference&#x27;,\n",
       "                                                   &#x27;fog&#x27;, &#x27;rain&#x27;, &#x27;snow&#x27;,\n",
       "                                                   &#x27;hail&#x27;])])),\n",
       "                (&#x27;xgbregressor&#x27;,\n",
       "                 XGBRegressor(base_score=None, booster=None, callbacks=None,\n",
       "                              colsample_bylevel=No...\n",
       "                              feature_types=None, gamma=None, grow_policy=None,\n",
       "                              importance_type=None,\n",
       "                              interaction_constraints=None, learning_rate=None,\n",
       "                              max_bin=None, max_cat_threshold=None,\n",
       "                              max_cat_to_onehot=None, max_delta_step=None,\n",
       "                              max_depth=None, max_leaves=None,\n",
       "                              min_child_weight=None, missing=nan,\n",
       "                              monotone_constraints=None, multi_strategy=None,\n",
       "                              n_estimators=None, n_jobs=None,\n",
       "                              num_parallel_tree=None, random_state=None, ...))])</pre></div></div></div><div class=\"sk-serial\"><div class=\"sk-item sk-dashed-wrapped\"><div class=\"sk-label-container\"><div class=\"sk-label sk-toggleable\"><input class=\"sk-toggleable__control sk-hidden--visually\" id=\"sk-estimator-id-5\" type=\"checkbox\" ><label for=\"sk-estimator-id-5\" class=\"sk-toggleable__label sk-toggleable__label-arrow\">columntransformer: ColumnTransformer</label><div class=\"sk-toggleable__content\"><pre>ColumnTransformer(transformers=[(&#x27;standardscaler&#x27;, StandardScaler(),\n",
       "                                 [&#x27;packages&#x27;, &#x27;distance&#x27;, &#x27;year&#x27;, &#x27;month&#x27;,\n",
       "                                  &#x27;day&#x27;, &#x27;hour&#x27;, &#x27;minute&#x27;]),\n",
       "                                (&#x27;ordinalencoder&#x27;, OrdinalEncoder(),\n",
       "                                 [&#x27;traffic&#x27;, &#x27;preference&#x27;, &#x27;fog&#x27;, &#x27;rain&#x27;,\n",
       "                                  &#x27;snow&#x27;, &#x27;hail&#x27;])])</pre></div></div></div><div class=\"sk-parallel\"><div class=\"sk-parallel-item\"><div class=\"sk-item\"><div class=\"sk-label-container\"><div class=\"sk-label sk-toggleable\"><input class=\"sk-toggleable__control sk-hidden--visually\" id=\"sk-estimator-id-6\" type=\"checkbox\" ><label for=\"sk-estimator-id-6\" class=\"sk-toggleable__label sk-toggleable__label-arrow\">standardscaler</label><div class=\"sk-toggleable__content\"><pre>[&#x27;packages&#x27;, &#x27;distance&#x27;, &#x27;year&#x27;, &#x27;month&#x27;, &#x27;day&#x27;, &#x27;hour&#x27;, &#x27;minute&#x27;]</pre></div></div></div><div class=\"sk-serial\"><div class=\"sk-item\"><div class=\"sk-estimator sk-toggleable\"><input class=\"sk-toggleable__control sk-hidden--visually\" id=\"sk-estimator-id-7\" type=\"checkbox\" ><label for=\"sk-estimator-id-7\" class=\"sk-toggleable__label sk-toggleable__label-arrow\">StandardScaler</label><div class=\"sk-toggleable__content\"><pre>StandardScaler()</pre></div></div></div></div></div></div><div class=\"sk-parallel-item\"><div class=\"sk-item\"><div class=\"sk-label-container\"><div class=\"sk-label sk-toggleable\"><input class=\"sk-toggleable__control sk-hidden--visually\" id=\"sk-estimator-id-8\" type=\"checkbox\" ><label for=\"sk-estimator-id-8\" class=\"sk-toggleable__label sk-toggleable__label-arrow\">ordinalencoder</label><div class=\"sk-toggleable__content\"><pre>[&#x27;traffic&#x27;, &#x27;preference&#x27;, &#x27;fog&#x27;, &#x27;rain&#x27;, &#x27;snow&#x27;, &#x27;hail&#x27;]</pre></div></div></div><div class=\"sk-serial\"><div class=\"sk-item\"><div class=\"sk-estimator sk-toggleable\"><input class=\"sk-toggleable__control sk-hidden--visually\" id=\"sk-estimator-id-9\" type=\"checkbox\" ><label for=\"sk-estimator-id-9\" class=\"sk-toggleable__label sk-toggleable__label-arrow\">OrdinalEncoder</label><div class=\"sk-toggleable__content\"><pre>OrdinalEncoder()</pre></div></div></div></div></div></div></div></div><div class=\"sk-item\"><div class=\"sk-estimator sk-toggleable\"><input class=\"sk-toggleable__control sk-hidden--visually\" id=\"sk-estimator-id-10\" type=\"checkbox\" ><label for=\"sk-estimator-id-10\" class=\"sk-toggleable__label sk-toggleable__label-arrow\">XGBRegressor</label><div class=\"sk-toggleable__content\"><pre>XGBRegressor(base_score=None, booster=None, callbacks=None,\n",
       "             colsample_bylevel=None, colsample_bynode=None,\n",
       "             colsample_bytree=None, device=None, early_stopping_rounds=None,\n",
       "             enable_categorical=False, eval_metric=None, feature_types=None,\n",
       "             gamma=None, grow_policy=None, importance_type=None,\n",
       "             interaction_constraints=None, learning_rate=None, max_bin=None,\n",
       "             max_cat_threshold=None, max_cat_to_onehot=None,\n",
       "             max_delta_step=None, max_depth=None, max_leaves=None,\n",
       "             min_child_weight=None, missing=nan, monotone_constraints=None,\n",
       "             multi_strategy=None, n_estimators=None, n_jobs=None,\n",
       "             num_parallel_tree=None, random_state=None, ...)</pre></div></div></div></div></div></div></div>"
      ],
      "text/plain": [
       "Pipeline(steps=[('columntransformer',\n",
       "                 ColumnTransformer(transformers=[('standardscaler',\n",
       "                                                  StandardScaler(),\n",
       "                                                  ['packages', 'distance',\n",
       "                                                   'year', 'month', 'day',\n",
       "                                                   'hour', 'minute']),\n",
       "                                                 ('ordinalencoder',\n",
       "                                                  OrdinalEncoder(),\n",
       "                                                  ['traffic', 'preference',\n",
       "                                                   'fog', 'rain', 'snow',\n",
       "                                                   'hail'])])),\n",
       "                ('xgbregressor',\n",
       "                 XGBRegressor(base_score=None, booster=None, callbacks=None,\n",
       "                              colsample_bylevel=No...\n",
       "                              feature_types=None, gamma=None, grow_policy=None,\n",
       "                              importance_type=None,\n",
       "                              interaction_constraints=None, learning_rate=None,\n",
       "                              max_bin=None, max_cat_threshold=None,\n",
       "                              max_cat_to_onehot=None, max_delta_step=None,\n",
       "                              max_depth=None, max_leaves=None,\n",
       "                              min_child_weight=None, missing=nan,\n",
       "                              monotone_constraints=None, multi_strategy=None,\n",
       "                              n_estimators=None, n_jobs=None,\n",
       "                              num_parallel_tree=None, random_state=None, ...))])"
      ]
     },
     "execution_count": 87,
     "metadata": {},
     "output_type": "execute_result"
    }
   ],
   "source": [
    "# load the saved file.\n",
    "df_xgb = pd.read_parquet('./data/Project_Notes_011_renewable_data.parquet')\n",
    "\n",
    "# Prepare X and Y variables\n",
    "X = df_xgb.drop(columns=['delivery'], axis=1)\n",
    "y = df_xgb['delivery']\n",
    "\n",
    "# Subset categorical and numerical columns\n",
    "num_features = X.select_dtypes(include=\"number\").columns.to_list()\n",
    "cat_features = X.select_dtypes(exclude=\"number\").columns.to_list()\n",
    "\n",
    "preprocessor = make_column_transformer(\n",
    "                                        (StandardScaler(), num_features),\n",
    "                                        (OrdinalEncoder(), cat_features)\n",
    "                                       )\n",
    "\n",
    "# Split dataset to train, test and validation sets.\n",
    "X_full_train, X_test, y_full_train, y_test = train_test_split(X, y, test_size=0.2, random_state=1)\n",
    "X_train, X_val, y_train, y_val = train_test_split(X_full_train, y_full_train, test_size=0.25, random_state=1)\n",
    "\n",
    "# Train a xgb regressor model.\n",
    "xgb = make_pipeline(preprocessor, XGBRegressor())\n",
    "xgb.fit(X_train, y_train)"
   ]
  },
  {
   "cell_type": "code",
   "execution_count": 88,
   "metadata": {},
   "outputs": [
    {
     "name": "stdout",
     "output_type": "stream",
     "text": [
      "RMSE: 1.58\n",
      "MAE: 1.31\n"
     ]
    }
   ],
   "source": [
    "# Compute RMSE and MAE.\n",
    "pred_val = xgb.predict(X_val)\n",
    "\n",
    "rmse = np.sqrt(mean_squared_error(y_val, pred_val))\n",
    "mae = mean_absolute_error(y_val, pred_val)\n",
    "\n",
    "print(f\"RMSE: {rmse:.2f}\")\n",
    "print(f\"MAE: {mae:.2f}\")"
   ]
  },
  {
   "cell_type": "code",
   "execution_count": 89,
   "metadata": {},
   "outputs": [
    {
     "data": {
      "text/html": [
       "<style>#sk-container-id-5 {color: black;background-color: white;}#sk-container-id-5 pre{padding: 0;}#sk-container-id-5 div.sk-toggleable {background-color: white;}#sk-container-id-5 label.sk-toggleable__label {cursor: pointer;display: block;width: 100%;margin-bottom: 0;padding: 0.3em;box-sizing: border-box;text-align: center;}#sk-container-id-5 label.sk-toggleable__label-arrow:before {content: \"▸\";float: left;margin-right: 0.25em;color: #696969;}#sk-container-id-5 label.sk-toggleable__label-arrow:hover:before {color: black;}#sk-container-id-5 div.sk-estimator:hover label.sk-toggleable__label-arrow:before {color: black;}#sk-container-id-5 div.sk-toggleable__content {max-height: 0;max-width: 0;overflow: hidden;text-align: left;background-color: #f0f8ff;}#sk-container-id-5 div.sk-toggleable__content pre {margin: 0.2em;color: black;border-radius: 0.25em;background-color: #f0f8ff;}#sk-container-id-5 input.sk-toggleable__control:checked~div.sk-toggleable__content {max-height: 200px;max-width: 100%;overflow: auto;}#sk-container-id-5 input.sk-toggleable__control:checked~label.sk-toggleable__label-arrow:before {content: \"▾\";}#sk-container-id-5 div.sk-estimator input.sk-toggleable__control:checked~label.sk-toggleable__label {background-color: #d4ebff;}#sk-container-id-5 div.sk-label input.sk-toggleable__control:checked~label.sk-toggleable__label {background-color: #d4ebff;}#sk-container-id-5 input.sk-hidden--visually {border: 0;clip: rect(1px 1px 1px 1px);clip: rect(1px, 1px, 1px, 1px);height: 1px;margin: -1px;overflow: hidden;padding: 0;position: absolute;width: 1px;}#sk-container-id-5 div.sk-estimator {font-family: monospace;background-color: #f0f8ff;border: 1px dotted black;border-radius: 0.25em;box-sizing: border-box;margin-bottom: 0.5em;}#sk-container-id-5 div.sk-estimator:hover {background-color: #d4ebff;}#sk-container-id-5 div.sk-parallel-item::after {content: \"\";width: 100%;border-bottom: 1px solid gray;flex-grow: 1;}#sk-container-id-5 div.sk-label:hover label.sk-toggleable__label {background-color: #d4ebff;}#sk-container-id-5 div.sk-serial::before {content: \"\";position: absolute;border-left: 1px solid gray;box-sizing: border-box;top: 0;bottom: 0;left: 50%;z-index: 0;}#sk-container-id-5 div.sk-serial {display: flex;flex-direction: column;align-items: center;background-color: white;padding-right: 0.2em;padding-left: 0.2em;position: relative;}#sk-container-id-5 div.sk-item {position: relative;z-index: 1;}#sk-container-id-5 div.sk-parallel {display: flex;align-items: stretch;justify-content: center;background-color: white;position: relative;}#sk-container-id-5 div.sk-item::before, #sk-container-id-5 div.sk-parallel-item::before {content: \"\";position: absolute;border-left: 1px solid gray;box-sizing: border-box;top: 0;bottom: 0;left: 50%;z-index: -1;}#sk-container-id-5 div.sk-parallel-item {display: flex;flex-direction: column;z-index: 1;position: relative;background-color: white;}#sk-container-id-5 div.sk-parallel-item:first-child::after {align-self: flex-end;width: 50%;}#sk-container-id-5 div.sk-parallel-item:last-child::after {align-self: flex-start;width: 50%;}#sk-container-id-5 div.sk-parallel-item:only-child::after {width: 0;}#sk-container-id-5 div.sk-dashed-wrapped {border: 1px dashed gray;margin: 0 0.4em 0.5em 0.4em;box-sizing: border-box;padding-bottom: 0.4em;background-color: white;}#sk-container-id-5 div.sk-label label {font-family: monospace;font-weight: bold;display: inline-block;line-height: 1.2em;}#sk-container-id-5 div.sk-label-container {text-align: center;}#sk-container-id-5 div.sk-container {/* jupyter's `normalize.less` sets `[hidden] { display: none; }` but bootstrap.min.css set `[hidden] { display: none !important; }` so we also need the `!important` here to be able to override the default hidden behavior on the sphinx rendered scikit-learn.org. See: https://github.com/scikit-learn/scikit-learn/issues/21755 */display: inline-block !important;position: relative;}#sk-container-id-5 div.sk-text-repr-fallback {display: none;}</style><div id=\"sk-container-id-5\" class=\"sk-top-container\"><div class=\"sk-text-repr-fallback\"><pre>RandomizedSearchCV(cv=5,\n",
       "                   estimator=Pipeline(steps=[(&#x27;columntransformer&#x27;,\n",
       "                                              ColumnTransformer(transformers=[(&#x27;standardscaler&#x27;,\n",
       "                                                                               StandardScaler(),\n",
       "                                                                               [&#x27;packages&#x27;,\n",
       "                                                                                &#x27;distance&#x27;,\n",
       "                                                                                &#x27;year&#x27;,\n",
       "                                                                                &#x27;month&#x27;,\n",
       "                                                                                &#x27;day&#x27;,\n",
       "                                                                                &#x27;hour&#x27;,\n",
       "                                                                                &#x27;minute&#x27;]),\n",
       "                                                                              (&#x27;ordinalencoder&#x27;,\n",
       "                                                                               OrdinalEncoder(),\n",
       "                                                                               [&#x27;traffic&#x27;,\n",
       "                                                                                &#x27;preference&#x27;,\n",
       "                                                                                &#x27;fog&#x27;,\n",
       "                                                                                &#x27;rain&#x27;,\n",
       "                                                                                &#x27;snow&#x27;,\n",
       "                                                                                &#x27;hail&#x27;])])),\n",
       "                                             (&#x27;xgbregressor&#x27;,\n",
       "                                              XGBRegressor(base_score=None,\n",
       "                                                           booster=None,\n",
       "                                                           c...\n",
       "                                                           max_depth=None,\n",
       "                                                           max_leaves=None,\n",
       "                                                           min_child_weight=None,\n",
       "                                                           missing=nan,\n",
       "                                                           monotone_constraints=None,\n",
       "                                                           multi_strategy=None,\n",
       "                                                           n_estimators=None,\n",
       "                                                           n_jobs=None,\n",
       "                                                           num_parallel_tree=None,\n",
       "                                                           random_state=None, ...))]),\n",
       "                   n_iter=50, n_jobs=-1,\n",
       "                   param_distributions={&#x27;xgbregressor__eta&#x27;: [0.1, 0.2, 0.3,\n",
       "                                                              0.5, 0.6],\n",
       "                                        &#x27;xgbregressor__max_depth&#x27;: [3, 4, 5, 7,\n",
       "                                                                    10],\n",
       "                                        &#x27;xgbregressor__min_child_weight&#x27;: [20,\n",
       "                                                                           30,\n",
       "                                                                           40,\n",
       "                                                                           50,\n",
       "                                                                           60]})</pre><b>In a Jupyter environment, please rerun this cell to show the HTML representation or trust the notebook. <br />On GitHub, the HTML representation is unable to render, please try loading this page with nbviewer.org.</b></div><div class=\"sk-container\" hidden><div class=\"sk-item sk-dashed-wrapped\"><div class=\"sk-label-container\"><div class=\"sk-label sk-toggleable\"><input class=\"sk-toggleable__control sk-hidden--visually\" id=\"sk-estimator-id-11\" type=\"checkbox\" ><label for=\"sk-estimator-id-11\" class=\"sk-toggleable__label sk-toggleable__label-arrow\">RandomizedSearchCV</label><div class=\"sk-toggleable__content\"><pre>RandomizedSearchCV(cv=5,\n",
       "                   estimator=Pipeline(steps=[(&#x27;columntransformer&#x27;,\n",
       "                                              ColumnTransformer(transformers=[(&#x27;standardscaler&#x27;,\n",
       "                                                                               StandardScaler(),\n",
       "                                                                               [&#x27;packages&#x27;,\n",
       "                                                                                &#x27;distance&#x27;,\n",
       "                                                                                &#x27;year&#x27;,\n",
       "                                                                                &#x27;month&#x27;,\n",
       "                                                                                &#x27;day&#x27;,\n",
       "                                                                                &#x27;hour&#x27;,\n",
       "                                                                                &#x27;minute&#x27;]),\n",
       "                                                                              (&#x27;ordinalencoder&#x27;,\n",
       "                                                                               OrdinalEncoder(),\n",
       "                                                                               [&#x27;traffic&#x27;,\n",
       "                                                                                &#x27;preference&#x27;,\n",
       "                                                                                &#x27;fog&#x27;,\n",
       "                                                                                &#x27;rain&#x27;,\n",
       "                                                                                &#x27;snow&#x27;,\n",
       "                                                                                &#x27;hail&#x27;])])),\n",
       "                                             (&#x27;xgbregressor&#x27;,\n",
       "                                              XGBRegressor(base_score=None,\n",
       "                                                           booster=None,\n",
       "                                                           c...\n",
       "                                                           max_depth=None,\n",
       "                                                           max_leaves=None,\n",
       "                                                           min_child_weight=None,\n",
       "                                                           missing=nan,\n",
       "                                                           monotone_constraints=None,\n",
       "                                                           multi_strategy=None,\n",
       "                                                           n_estimators=None,\n",
       "                                                           n_jobs=None,\n",
       "                                                           num_parallel_tree=None,\n",
       "                                                           random_state=None, ...))]),\n",
       "                   n_iter=50, n_jobs=-1,\n",
       "                   param_distributions={&#x27;xgbregressor__eta&#x27;: [0.1, 0.2, 0.3,\n",
       "                                                              0.5, 0.6],\n",
       "                                        &#x27;xgbregressor__max_depth&#x27;: [3, 4, 5, 7,\n",
       "                                                                    10],\n",
       "                                        &#x27;xgbregressor__min_child_weight&#x27;: [20,\n",
       "                                                                           30,\n",
       "                                                                           40,\n",
       "                                                                           50,\n",
       "                                                                           60]})</pre></div></div></div><div class=\"sk-parallel\"><div class=\"sk-parallel-item\"><div class=\"sk-item\"><div class=\"sk-label-container\"><div class=\"sk-label sk-toggleable\"><input class=\"sk-toggleable__control sk-hidden--visually\" id=\"sk-estimator-id-12\" type=\"checkbox\" ><label for=\"sk-estimator-id-12\" class=\"sk-toggleable__label sk-toggleable__label-arrow\">estimator: Pipeline</label><div class=\"sk-toggleable__content\"><pre>Pipeline(steps=[(&#x27;columntransformer&#x27;,\n",
       "                 ColumnTransformer(transformers=[(&#x27;standardscaler&#x27;,\n",
       "                                                  StandardScaler(),\n",
       "                                                  [&#x27;packages&#x27;, &#x27;distance&#x27;,\n",
       "                                                   &#x27;year&#x27;, &#x27;month&#x27;, &#x27;day&#x27;,\n",
       "                                                   &#x27;hour&#x27;, &#x27;minute&#x27;]),\n",
       "                                                 (&#x27;ordinalencoder&#x27;,\n",
       "                                                  OrdinalEncoder(),\n",
       "                                                  [&#x27;traffic&#x27;, &#x27;preference&#x27;,\n",
       "                                                   &#x27;fog&#x27;, &#x27;rain&#x27;, &#x27;snow&#x27;,\n",
       "                                                   &#x27;hail&#x27;])])),\n",
       "                (&#x27;xgbregressor&#x27;,\n",
       "                 XGBRegressor(base_score=None, booster=None, callbacks=None,\n",
       "                              colsample_bylevel=No...\n",
       "                              feature_types=None, gamma=None, grow_policy=None,\n",
       "                              importance_type=None,\n",
       "                              interaction_constraints=None, learning_rate=None,\n",
       "                              max_bin=None, max_cat_threshold=None,\n",
       "                              max_cat_to_onehot=None, max_delta_step=None,\n",
       "                              max_depth=None, max_leaves=None,\n",
       "                              min_child_weight=None, missing=nan,\n",
       "                              monotone_constraints=None, multi_strategy=None,\n",
       "                              n_estimators=None, n_jobs=None,\n",
       "                              num_parallel_tree=None, random_state=None, ...))])</pre></div></div></div><div class=\"sk-serial\"><div class=\"sk-item\"><div class=\"sk-serial\"><div class=\"sk-item sk-dashed-wrapped\"><div class=\"sk-label-container\"><div class=\"sk-label sk-toggleable\"><input class=\"sk-toggleable__control sk-hidden--visually\" id=\"sk-estimator-id-13\" type=\"checkbox\" ><label for=\"sk-estimator-id-13\" class=\"sk-toggleable__label sk-toggleable__label-arrow\">columntransformer: ColumnTransformer</label><div class=\"sk-toggleable__content\"><pre>ColumnTransformer(transformers=[(&#x27;standardscaler&#x27;, StandardScaler(),\n",
       "                                 [&#x27;packages&#x27;, &#x27;distance&#x27;, &#x27;year&#x27;, &#x27;month&#x27;,\n",
       "                                  &#x27;day&#x27;, &#x27;hour&#x27;, &#x27;minute&#x27;]),\n",
       "                                (&#x27;ordinalencoder&#x27;, OrdinalEncoder(),\n",
       "                                 [&#x27;traffic&#x27;, &#x27;preference&#x27;, &#x27;fog&#x27;, &#x27;rain&#x27;,\n",
       "                                  &#x27;snow&#x27;, &#x27;hail&#x27;])])</pre></div></div></div><div class=\"sk-parallel\"><div class=\"sk-parallel-item\"><div class=\"sk-item\"><div class=\"sk-label-container\"><div class=\"sk-label sk-toggleable\"><input class=\"sk-toggleable__control sk-hidden--visually\" id=\"sk-estimator-id-14\" type=\"checkbox\" ><label for=\"sk-estimator-id-14\" class=\"sk-toggleable__label sk-toggleable__label-arrow\">standardscaler</label><div class=\"sk-toggleable__content\"><pre>[&#x27;packages&#x27;, &#x27;distance&#x27;, &#x27;year&#x27;, &#x27;month&#x27;, &#x27;day&#x27;, &#x27;hour&#x27;, &#x27;minute&#x27;]</pre></div></div></div><div class=\"sk-serial\"><div class=\"sk-item\"><div class=\"sk-estimator sk-toggleable\"><input class=\"sk-toggleable__control sk-hidden--visually\" id=\"sk-estimator-id-15\" type=\"checkbox\" ><label for=\"sk-estimator-id-15\" class=\"sk-toggleable__label sk-toggleable__label-arrow\">StandardScaler</label><div class=\"sk-toggleable__content\"><pre>StandardScaler()</pre></div></div></div></div></div></div><div class=\"sk-parallel-item\"><div class=\"sk-item\"><div class=\"sk-label-container\"><div class=\"sk-label sk-toggleable\"><input class=\"sk-toggleable__control sk-hidden--visually\" id=\"sk-estimator-id-16\" type=\"checkbox\" ><label for=\"sk-estimator-id-16\" class=\"sk-toggleable__label sk-toggleable__label-arrow\">ordinalencoder</label><div class=\"sk-toggleable__content\"><pre>[&#x27;traffic&#x27;, &#x27;preference&#x27;, &#x27;fog&#x27;, &#x27;rain&#x27;, &#x27;snow&#x27;, &#x27;hail&#x27;]</pre></div></div></div><div class=\"sk-serial\"><div class=\"sk-item\"><div class=\"sk-estimator sk-toggleable\"><input class=\"sk-toggleable__control sk-hidden--visually\" id=\"sk-estimator-id-17\" type=\"checkbox\" ><label for=\"sk-estimator-id-17\" class=\"sk-toggleable__label sk-toggleable__label-arrow\">OrdinalEncoder</label><div class=\"sk-toggleable__content\"><pre>OrdinalEncoder()</pre></div></div></div></div></div></div></div></div><div class=\"sk-item\"><div class=\"sk-estimator sk-toggleable\"><input class=\"sk-toggleable__control sk-hidden--visually\" id=\"sk-estimator-id-18\" type=\"checkbox\" ><label for=\"sk-estimator-id-18\" class=\"sk-toggleable__label sk-toggleable__label-arrow\">XGBRegressor</label><div class=\"sk-toggleable__content\"><pre>XGBRegressor(base_score=None, booster=None, callbacks=None,\n",
       "             colsample_bylevel=None, colsample_bynode=None,\n",
       "             colsample_bytree=None, device=None, early_stopping_rounds=None,\n",
       "             enable_categorical=False, eval_metric=None, feature_types=None,\n",
       "             gamma=None, grow_policy=None, importance_type=None,\n",
       "             interaction_constraints=None, learning_rate=None, max_bin=None,\n",
       "             max_cat_threshold=None, max_cat_to_onehot=None,\n",
       "             max_delta_step=None, max_depth=None, max_leaves=None,\n",
       "             min_child_weight=None, missing=nan, monotone_constraints=None,\n",
       "             multi_strategy=None, n_estimators=None, n_jobs=None,\n",
       "             num_parallel_tree=None, random_state=None, ...)</pre></div></div></div></div></div></div></div></div></div></div></div></div>"
      ],
      "text/plain": [
       "RandomizedSearchCV(cv=5,\n",
       "                   estimator=Pipeline(steps=[('columntransformer',\n",
       "                                              ColumnTransformer(transformers=[('standardscaler',\n",
       "                                                                               StandardScaler(),\n",
       "                                                                               ['packages',\n",
       "                                                                                'distance',\n",
       "                                                                                'year',\n",
       "                                                                                'month',\n",
       "                                                                                'day',\n",
       "                                                                                'hour',\n",
       "                                                                                'minute']),\n",
       "                                                                              ('ordinalencoder',\n",
       "                                                                               OrdinalEncoder(),\n",
       "                                                                               ['traffic',\n",
       "                                                                                'preference',\n",
       "                                                                                'fog',\n",
       "                                                                                'rain',\n",
       "                                                                                'snow',\n",
       "                                                                                'hail'])])),\n",
       "                                             ('xgbregressor',\n",
       "                                              XGBRegressor(base_score=None,\n",
       "                                                           booster=None,\n",
       "                                                           c...\n",
       "                                                           max_depth=None,\n",
       "                                                           max_leaves=None,\n",
       "                                                           min_child_weight=None,\n",
       "                                                           missing=nan,\n",
       "                                                           monotone_constraints=None,\n",
       "                                                           multi_strategy=None,\n",
       "                                                           n_estimators=None,\n",
       "                                                           n_jobs=None,\n",
       "                                                           num_parallel_tree=None,\n",
       "                                                           random_state=None, ...))]),\n",
       "                   n_iter=50, n_jobs=-1,\n",
       "                   param_distributions={'xgbregressor__eta': [0.1, 0.2, 0.3,\n",
       "                                                              0.5, 0.6],\n",
       "                                        'xgbregressor__max_depth': [3, 4, 5, 7,\n",
       "                                                                    10],\n",
       "                                        'xgbregressor__min_child_weight': [20,\n",
       "                                                                           30,\n",
       "                                                                           40,\n",
       "                                                                           50,\n",
       "                                                                           60]})"
      ]
     },
     "execution_count": 89,
     "metadata": {},
     "output_type": "execute_result"
    }
   ],
   "source": [
    "# Use RandomizedSearchCV to find the best hyperparameters.\n",
    "xgb = make_pipeline(preprocessor, XGBRegressor())\n",
    "\n",
    "params = {\n",
    "   'xgbregressor__eta': [0.1, 0.2, 0.3, 0.5, 0.6],\n",
    "   'xgbregressor__max_depth': [3, 4, 5, 7, 10],\n",
    "   'xgbregressor__min_child_weight': [20, 30, 40, 50, 60]\n",
    "}\n",
    "\n",
    "gscv = RandomizedSearchCV(\n",
    "   estimator=xgb,\n",
    "   param_distributions=params,\n",
    "   n_iter=50,\n",
    "   cv=5,\n",
    "   n_jobs=-1\n",
    ")\n",
    "\n",
    "gscv.fit(X_train, y_train)"
   ]
  },
  {
   "cell_type": "code",
   "execution_count": 90,
   "metadata": {},
   "outputs": [
    {
     "name": "stdout",
     "output_type": "stream",
     "text": [
      "best_params:\n",
      "{'xgbregressor__min_child_weight': 20, 'xgbregressor__max_depth': 3, 'xgbregressor__eta': 0.2}\n"
     ]
    }
   ],
   "source": [
    "# Get model best parameters.\n",
    "best_params = gscv.best_params_\n",
    "print(f'best_params:\\n{best_params}')"
   ]
  },
  {
   "cell_type": "code",
   "execution_count": 91,
   "metadata": {},
   "outputs": [
    {
     "data": {
      "text/html": [
       "<style>#sk-container-id-6 {color: black;background-color: white;}#sk-container-id-6 pre{padding: 0;}#sk-container-id-6 div.sk-toggleable {background-color: white;}#sk-container-id-6 label.sk-toggleable__label {cursor: pointer;display: block;width: 100%;margin-bottom: 0;padding: 0.3em;box-sizing: border-box;text-align: center;}#sk-container-id-6 label.sk-toggleable__label-arrow:before {content: \"▸\";float: left;margin-right: 0.25em;color: #696969;}#sk-container-id-6 label.sk-toggleable__label-arrow:hover:before {color: black;}#sk-container-id-6 div.sk-estimator:hover label.sk-toggleable__label-arrow:before {color: black;}#sk-container-id-6 div.sk-toggleable__content {max-height: 0;max-width: 0;overflow: hidden;text-align: left;background-color: #f0f8ff;}#sk-container-id-6 div.sk-toggleable__content pre {margin: 0.2em;color: black;border-radius: 0.25em;background-color: #f0f8ff;}#sk-container-id-6 input.sk-toggleable__control:checked~div.sk-toggleable__content {max-height: 200px;max-width: 100%;overflow: auto;}#sk-container-id-6 input.sk-toggleable__control:checked~label.sk-toggleable__label-arrow:before {content: \"▾\";}#sk-container-id-6 div.sk-estimator input.sk-toggleable__control:checked~label.sk-toggleable__label {background-color: #d4ebff;}#sk-container-id-6 div.sk-label input.sk-toggleable__control:checked~label.sk-toggleable__label {background-color: #d4ebff;}#sk-container-id-6 input.sk-hidden--visually {border: 0;clip: rect(1px 1px 1px 1px);clip: rect(1px, 1px, 1px, 1px);height: 1px;margin: -1px;overflow: hidden;padding: 0;position: absolute;width: 1px;}#sk-container-id-6 div.sk-estimator {font-family: monospace;background-color: #f0f8ff;border: 1px dotted black;border-radius: 0.25em;box-sizing: border-box;margin-bottom: 0.5em;}#sk-container-id-6 div.sk-estimator:hover {background-color: #d4ebff;}#sk-container-id-6 div.sk-parallel-item::after {content: \"\";width: 100%;border-bottom: 1px solid gray;flex-grow: 1;}#sk-container-id-6 div.sk-label:hover label.sk-toggleable__label {background-color: #d4ebff;}#sk-container-id-6 div.sk-serial::before {content: \"\";position: absolute;border-left: 1px solid gray;box-sizing: border-box;top: 0;bottom: 0;left: 50%;z-index: 0;}#sk-container-id-6 div.sk-serial {display: flex;flex-direction: column;align-items: center;background-color: white;padding-right: 0.2em;padding-left: 0.2em;position: relative;}#sk-container-id-6 div.sk-item {position: relative;z-index: 1;}#sk-container-id-6 div.sk-parallel {display: flex;align-items: stretch;justify-content: center;background-color: white;position: relative;}#sk-container-id-6 div.sk-item::before, #sk-container-id-6 div.sk-parallel-item::before {content: \"\";position: absolute;border-left: 1px solid gray;box-sizing: border-box;top: 0;bottom: 0;left: 50%;z-index: -1;}#sk-container-id-6 div.sk-parallel-item {display: flex;flex-direction: column;z-index: 1;position: relative;background-color: white;}#sk-container-id-6 div.sk-parallel-item:first-child::after {align-self: flex-end;width: 50%;}#sk-container-id-6 div.sk-parallel-item:last-child::after {align-self: flex-start;width: 50%;}#sk-container-id-6 div.sk-parallel-item:only-child::after {width: 0;}#sk-container-id-6 div.sk-dashed-wrapped {border: 1px dashed gray;margin: 0 0.4em 0.5em 0.4em;box-sizing: border-box;padding-bottom: 0.4em;background-color: white;}#sk-container-id-6 div.sk-label label {font-family: monospace;font-weight: bold;display: inline-block;line-height: 1.2em;}#sk-container-id-6 div.sk-label-container {text-align: center;}#sk-container-id-6 div.sk-container {/* jupyter's `normalize.less` sets `[hidden] { display: none; }` but bootstrap.min.css set `[hidden] { display: none !important; }` so we also need the `!important` here to be able to override the default hidden behavior on the sphinx rendered scikit-learn.org. See: https://github.com/scikit-learn/scikit-learn/issues/21755 */display: inline-block !important;position: relative;}#sk-container-id-6 div.sk-text-repr-fallback {display: none;}</style><div id=\"sk-container-id-6\" class=\"sk-top-container\"><div class=\"sk-text-repr-fallback\"><pre>GridSearchCV(cv=5,\n",
       "             estimator=Pipeline(steps=[(&#x27;columntransformer&#x27;,\n",
       "                                        ColumnTransformer(transformers=[(&#x27;standardscaler&#x27;,\n",
       "                                                                         StandardScaler(),\n",
       "                                                                         [&#x27;packages&#x27;,\n",
       "                                                                          &#x27;distance&#x27;,\n",
       "                                                                          &#x27;year&#x27;,\n",
       "                                                                          &#x27;month&#x27;,\n",
       "                                                                          &#x27;day&#x27;,\n",
       "                                                                          &#x27;hour&#x27;,\n",
       "                                                                          &#x27;minute&#x27;]),\n",
       "                                                                        (&#x27;ordinalencoder&#x27;,\n",
       "                                                                         OrdinalEncoder(),\n",
       "                                                                         [&#x27;traffic&#x27;,\n",
       "                                                                          &#x27;preference&#x27;,\n",
       "                                                                          &#x27;fog&#x27;,\n",
       "                                                                          &#x27;rain&#x27;,\n",
       "                                                                          &#x27;snow&#x27;,\n",
       "                                                                          &#x27;hail&#x27;])])),\n",
       "                                       (&#x27;xgbregressor&#x27;,\n",
       "                                        XGBRegressor(base_score=None,\n",
       "                                                     booster=None,\n",
       "                                                     callbac...\n",
       "                                                     max_cat_to_onehot=None,\n",
       "                                                     max_delta_step=None,\n",
       "                                                     max_depth=None,\n",
       "                                                     max_leaves=None,\n",
       "                                                     min_child_weight=None,\n",
       "                                                     missing=nan,\n",
       "                                                     monotone_constraints=None,\n",
       "                                                     multi_strategy=None,\n",
       "                                                     n_estimators=None,\n",
       "                                                     n_jobs=None,\n",
       "                                                     num_parallel_tree=None,\n",
       "                                                     random_state=None, ...))]),\n",
       "             n_jobs=-1,\n",
       "             param_grid={&#x27;xgbregressor__eta&#x27;: [0.1, 0.2, 0.3],\n",
       "                         &#x27;xgbregressor__max_depth&#x27;: [2, 3, 4],\n",
       "                         &#x27;xgbregressor__min_child_weight&#x27;: [20, 30, 40]})</pre><b>In a Jupyter environment, please rerun this cell to show the HTML representation or trust the notebook. <br />On GitHub, the HTML representation is unable to render, please try loading this page with nbviewer.org.</b></div><div class=\"sk-container\" hidden><div class=\"sk-item sk-dashed-wrapped\"><div class=\"sk-label-container\"><div class=\"sk-label sk-toggleable\"><input class=\"sk-toggleable__control sk-hidden--visually\" id=\"sk-estimator-id-19\" type=\"checkbox\" ><label for=\"sk-estimator-id-19\" class=\"sk-toggleable__label sk-toggleable__label-arrow\">GridSearchCV</label><div class=\"sk-toggleable__content\"><pre>GridSearchCV(cv=5,\n",
       "             estimator=Pipeline(steps=[(&#x27;columntransformer&#x27;,\n",
       "                                        ColumnTransformer(transformers=[(&#x27;standardscaler&#x27;,\n",
       "                                                                         StandardScaler(),\n",
       "                                                                         [&#x27;packages&#x27;,\n",
       "                                                                          &#x27;distance&#x27;,\n",
       "                                                                          &#x27;year&#x27;,\n",
       "                                                                          &#x27;month&#x27;,\n",
       "                                                                          &#x27;day&#x27;,\n",
       "                                                                          &#x27;hour&#x27;,\n",
       "                                                                          &#x27;minute&#x27;]),\n",
       "                                                                        (&#x27;ordinalencoder&#x27;,\n",
       "                                                                         OrdinalEncoder(),\n",
       "                                                                         [&#x27;traffic&#x27;,\n",
       "                                                                          &#x27;preference&#x27;,\n",
       "                                                                          &#x27;fog&#x27;,\n",
       "                                                                          &#x27;rain&#x27;,\n",
       "                                                                          &#x27;snow&#x27;,\n",
       "                                                                          &#x27;hail&#x27;])])),\n",
       "                                       (&#x27;xgbregressor&#x27;,\n",
       "                                        XGBRegressor(base_score=None,\n",
       "                                                     booster=None,\n",
       "                                                     callbac...\n",
       "                                                     max_cat_to_onehot=None,\n",
       "                                                     max_delta_step=None,\n",
       "                                                     max_depth=None,\n",
       "                                                     max_leaves=None,\n",
       "                                                     min_child_weight=None,\n",
       "                                                     missing=nan,\n",
       "                                                     monotone_constraints=None,\n",
       "                                                     multi_strategy=None,\n",
       "                                                     n_estimators=None,\n",
       "                                                     n_jobs=None,\n",
       "                                                     num_parallel_tree=None,\n",
       "                                                     random_state=None, ...))]),\n",
       "             n_jobs=-1,\n",
       "             param_grid={&#x27;xgbregressor__eta&#x27;: [0.1, 0.2, 0.3],\n",
       "                         &#x27;xgbregressor__max_depth&#x27;: [2, 3, 4],\n",
       "                         &#x27;xgbregressor__min_child_weight&#x27;: [20, 30, 40]})</pre></div></div></div><div class=\"sk-parallel\"><div class=\"sk-parallel-item\"><div class=\"sk-item\"><div class=\"sk-label-container\"><div class=\"sk-label sk-toggleable\"><input class=\"sk-toggleable__control sk-hidden--visually\" id=\"sk-estimator-id-20\" type=\"checkbox\" ><label for=\"sk-estimator-id-20\" class=\"sk-toggleable__label sk-toggleable__label-arrow\">estimator: Pipeline</label><div class=\"sk-toggleable__content\"><pre>Pipeline(steps=[(&#x27;columntransformer&#x27;,\n",
       "                 ColumnTransformer(transformers=[(&#x27;standardscaler&#x27;,\n",
       "                                                  StandardScaler(),\n",
       "                                                  [&#x27;packages&#x27;, &#x27;distance&#x27;,\n",
       "                                                   &#x27;year&#x27;, &#x27;month&#x27;, &#x27;day&#x27;,\n",
       "                                                   &#x27;hour&#x27;, &#x27;minute&#x27;]),\n",
       "                                                 (&#x27;ordinalencoder&#x27;,\n",
       "                                                  OrdinalEncoder(),\n",
       "                                                  [&#x27;traffic&#x27;, &#x27;preference&#x27;,\n",
       "                                                   &#x27;fog&#x27;, &#x27;rain&#x27;, &#x27;snow&#x27;,\n",
       "                                                   &#x27;hail&#x27;])])),\n",
       "                (&#x27;xgbregressor&#x27;,\n",
       "                 XGBRegressor(base_score=None, booster=None, callbacks=None,\n",
       "                              colsample_bylevel=No...\n",
       "                              feature_types=None, gamma=None, grow_policy=None,\n",
       "                              importance_type=None,\n",
       "                              interaction_constraints=None, learning_rate=None,\n",
       "                              max_bin=None, max_cat_threshold=None,\n",
       "                              max_cat_to_onehot=None, max_delta_step=None,\n",
       "                              max_depth=None, max_leaves=None,\n",
       "                              min_child_weight=None, missing=nan,\n",
       "                              monotone_constraints=None, multi_strategy=None,\n",
       "                              n_estimators=None, n_jobs=None,\n",
       "                              num_parallel_tree=None, random_state=None, ...))])</pre></div></div></div><div class=\"sk-serial\"><div class=\"sk-item\"><div class=\"sk-serial\"><div class=\"sk-item sk-dashed-wrapped\"><div class=\"sk-label-container\"><div class=\"sk-label sk-toggleable\"><input class=\"sk-toggleable__control sk-hidden--visually\" id=\"sk-estimator-id-21\" type=\"checkbox\" ><label for=\"sk-estimator-id-21\" class=\"sk-toggleable__label sk-toggleable__label-arrow\">columntransformer: ColumnTransformer</label><div class=\"sk-toggleable__content\"><pre>ColumnTransformer(transformers=[(&#x27;standardscaler&#x27;, StandardScaler(),\n",
       "                                 [&#x27;packages&#x27;, &#x27;distance&#x27;, &#x27;year&#x27;, &#x27;month&#x27;,\n",
       "                                  &#x27;day&#x27;, &#x27;hour&#x27;, &#x27;minute&#x27;]),\n",
       "                                (&#x27;ordinalencoder&#x27;, OrdinalEncoder(),\n",
       "                                 [&#x27;traffic&#x27;, &#x27;preference&#x27;, &#x27;fog&#x27;, &#x27;rain&#x27;,\n",
       "                                  &#x27;snow&#x27;, &#x27;hail&#x27;])])</pre></div></div></div><div class=\"sk-parallel\"><div class=\"sk-parallel-item\"><div class=\"sk-item\"><div class=\"sk-label-container\"><div class=\"sk-label sk-toggleable\"><input class=\"sk-toggleable__control sk-hidden--visually\" id=\"sk-estimator-id-22\" type=\"checkbox\" ><label for=\"sk-estimator-id-22\" class=\"sk-toggleable__label sk-toggleable__label-arrow\">standardscaler</label><div class=\"sk-toggleable__content\"><pre>[&#x27;packages&#x27;, &#x27;distance&#x27;, &#x27;year&#x27;, &#x27;month&#x27;, &#x27;day&#x27;, &#x27;hour&#x27;, &#x27;minute&#x27;]</pre></div></div></div><div class=\"sk-serial\"><div class=\"sk-item\"><div class=\"sk-estimator sk-toggleable\"><input class=\"sk-toggleable__control sk-hidden--visually\" id=\"sk-estimator-id-23\" type=\"checkbox\" ><label for=\"sk-estimator-id-23\" class=\"sk-toggleable__label sk-toggleable__label-arrow\">StandardScaler</label><div class=\"sk-toggleable__content\"><pre>StandardScaler()</pre></div></div></div></div></div></div><div class=\"sk-parallel-item\"><div class=\"sk-item\"><div class=\"sk-label-container\"><div class=\"sk-label sk-toggleable\"><input class=\"sk-toggleable__control sk-hidden--visually\" id=\"sk-estimator-id-24\" type=\"checkbox\" ><label for=\"sk-estimator-id-24\" class=\"sk-toggleable__label sk-toggleable__label-arrow\">ordinalencoder</label><div class=\"sk-toggleable__content\"><pre>[&#x27;traffic&#x27;, &#x27;preference&#x27;, &#x27;fog&#x27;, &#x27;rain&#x27;, &#x27;snow&#x27;, &#x27;hail&#x27;]</pre></div></div></div><div class=\"sk-serial\"><div class=\"sk-item\"><div class=\"sk-estimator sk-toggleable\"><input class=\"sk-toggleable__control sk-hidden--visually\" id=\"sk-estimator-id-25\" type=\"checkbox\" ><label for=\"sk-estimator-id-25\" class=\"sk-toggleable__label sk-toggleable__label-arrow\">OrdinalEncoder</label><div class=\"sk-toggleable__content\"><pre>OrdinalEncoder()</pre></div></div></div></div></div></div></div></div><div class=\"sk-item\"><div class=\"sk-estimator sk-toggleable\"><input class=\"sk-toggleable__control sk-hidden--visually\" id=\"sk-estimator-id-26\" type=\"checkbox\" ><label for=\"sk-estimator-id-26\" class=\"sk-toggleable__label sk-toggleable__label-arrow\">XGBRegressor</label><div class=\"sk-toggleable__content\"><pre>XGBRegressor(base_score=None, booster=None, callbacks=None,\n",
       "             colsample_bylevel=None, colsample_bynode=None,\n",
       "             colsample_bytree=None, device=None, early_stopping_rounds=None,\n",
       "             enable_categorical=False, eval_metric=None, feature_types=None,\n",
       "             gamma=None, grow_policy=None, importance_type=None,\n",
       "             interaction_constraints=None, learning_rate=None, max_bin=None,\n",
       "             max_cat_threshold=None, max_cat_to_onehot=None,\n",
       "             max_delta_step=None, max_depth=None, max_leaves=None,\n",
       "             min_child_weight=None, missing=nan, monotone_constraints=None,\n",
       "             multi_strategy=None, n_estimators=None, n_jobs=None,\n",
       "             num_parallel_tree=None, random_state=None, ...)</pre></div></div></div></div></div></div></div></div></div></div></div></div>"
      ],
      "text/plain": [
       "GridSearchCV(cv=5,\n",
       "             estimator=Pipeline(steps=[('columntransformer',\n",
       "                                        ColumnTransformer(transformers=[('standardscaler',\n",
       "                                                                         StandardScaler(),\n",
       "                                                                         ['packages',\n",
       "                                                                          'distance',\n",
       "                                                                          'year',\n",
       "                                                                          'month',\n",
       "                                                                          'day',\n",
       "                                                                          'hour',\n",
       "                                                                          'minute']),\n",
       "                                                                        ('ordinalencoder',\n",
       "                                                                         OrdinalEncoder(),\n",
       "                                                                         ['traffic',\n",
       "                                                                          'preference',\n",
       "                                                                          'fog',\n",
       "                                                                          'rain',\n",
       "                                                                          'snow',\n",
       "                                                                          'hail'])])),\n",
       "                                       ('xgbregressor',\n",
       "                                        XGBRegressor(base_score=None,\n",
       "                                                     booster=None,\n",
       "                                                     callbac...\n",
       "                                                     max_cat_to_onehot=None,\n",
       "                                                     max_delta_step=None,\n",
       "                                                     max_depth=None,\n",
       "                                                     max_leaves=None,\n",
       "                                                     min_child_weight=None,\n",
       "                                                     missing=nan,\n",
       "                                                     monotone_constraints=None,\n",
       "                                                     multi_strategy=None,\n",
       "                                                     n_estimators=None,\n",
       "                                                     n_jobs=None,\n",
       "                                                     num_parallel_tree=None,\n",
       "                                                     random_state=None, ...))]),\n",
       "             n_jobs=-1,\n",
       "             param_grid={'xgbregressor__eta': [0.1, 0.2, 0.3],\n",
       "                         'xgbregressor__max_depth': [2, 3, 4],\n",
       "                         'xgbregressor__min_child_weight': [20, 30, 40]})"
      ]
     },
     "execution_count": 91,
     "metadata": {},
     "output_type": "execute_result"
    }
   ],
   "source": [
    "# Use GridSearchCV to find the best hyperparameters.\n",
    "\n",
    "xgb = make_pipeline(preprocessor, XGBRegressor())\n",
    "\n",
    "params = {\n",
    "   'xgbregressor__eta': [0.1, 0.2, 0.3],\n",
    "   'xgbregressor__max_depth': [2, 3, 4],\n",
    "   'xgbregressor__min_child_weight': [20, 30, 40]\n",
    "}\n",
    "\n",
    "gscv = GridSearchCV(\n",
    "   estimator=xgb,\n",
    "   param_grid=params,\n",
    "   cv=5,\n",
    "   n_jobs=-1\n",
    ")\n",
    "\n",
    "gscv.fit(X_train, y_train)"
   ]
  },
  {
   "cell_type": "code",
   "execution_count": 92,
   "metadata": {},
   "outputs": [
    {
     "name": "stdout",
     "output_type": "stream",
     "text": [
      "best_params:\n",
      "{'xgbregressor__eta': 0.2, 'xgbregressor__max_depth': 3, 'xgbregressor__min_child_weight': 30}\n"
     ]
    }
   ],
   "source": [
    "# Get the best parameters.\n",
    "best_params = gscv.best_params_\n",
    "print(f'best_params:\\n{best_params}')"
   ]
  },
  {
   "cell_type": "code",
   "execution_count": 93,
   "metadata": {},
   "outputs": [],
   "source": [
    "# Get the best estimator.\n",
    "xgb = gscv.best_estimator_"
   ]
  },
  {
   "cell_type": "code",
   "execution_count": 94,
   "metadata": {},
   "outputs": [
    {
     "name": "stdout",
     "output_type": "stream",
     "text": [
      "RMSE: 1.55\n",
      "MAE: 1.29\n"
     ]
    }
   ],
   "source": [
    "# Compute RMSE and MAE.\n",
    "pred_val = xgb.predict(X_val)\n",
    "\n",
    "rmse = np.sqrt(mean_squared_error(y_val, pred_val))\n",
    "mae = mean_absolute_error(y_val, pred_val)\n",
    "\n",
    "print(f\"RMSE: {rmse:.2f}\")\n",
    "print(f\"MAE: {mae:.2f}\")"
   ]
  },
  {
   "cell_type": "code",
   "execution_count": 95,
   "metadata": {},
   "outputs": [
    {
     "name": "stdout",
     "output_type": "stream",
     "text": [
      "eta: 0.2\n",
      "max_depth: 3\n",
      "min_child_weight: 30\n"
     ]
    }
   ],
   "source": [
    "# Extract the parameters.\n",
    "eta = best_params['xgbregressor__eta']\n",
    "max_depth = best_params['xgbregressor__max_depth']\n",
    "min_child_weight = best_params['xgbregressor__min_child_weight']\n",
    "\n",
    "print(f'eta: {eta}')\n",
    "print(f'max_depth: {max_depth}')\n",
    "print(f'min_child_weight: {min_child_weight}')"
   ]
  },
  {
   "cell_type": "code",
   "execution_count": 96,
   "metadata": {},
   "outputs": [
    {
     "data": {
      "text/html": [
       "<style>#sk-container-id-7 {color: black;background-color: white;}#sk-container-id-7 pre{padding: 0;}#sk-container-id-7 div.sk-toggleable {background-color: white;}#sk-container-id-7 label.sk-toggleable__label {cursor: pointer;display: block;width: 100%;margin-bottom: 0;padding: 0.3em;box-sizing: border-box;text-align: center;}#sk-container-id-7 label.sk-toggleable__label-arrow:before {content: \"▸\";float: left;margin-right: 0.25em;color: #696969;}#sk-container-id-7 label.sk-toggleable__label-arrow:hover:before {color: black;}#sk-container-id-7 div.sk-estimator:hover label.sk-toggleable__label-arrow:before {color: black;}#sk-container-id-7 div.sk-toggleable__content {max-height: 0;max-width: 0;overflow: hidden;text-align: left;background-color: #f0f8ff;}#sk-container-id-7 div.sk-toggleable__content pre {margin: 0.2em;color: black;border-radius: 0.25em;background-color: #f0f8ff;}#sk-container-id-7 input.sk-toggleable__control:checked~div.sk-toggleable__content {max-height: 200px;max-width: 100%;overflow: auto;}#sk-container-id-7 input.sk-toggleable__control:checked~label.sk-toggleable__label-arrow:before {content: \"▾\";}#sk-container-id-7 div.sk-estimator input.sk-toggleable__control:checked~label.sk-toggleable__label {background-color: #d4ebff;}#sk-container-id-7 div.sk-label input.sk-toggleable__control:checked~label.sk-toggleable__label {background-color: #d4ebff;}#sk-container-id-7 input.sk-hidden--visually {border: 0;clip: rect(1px 1px 1px 1px);clip: rect(1px, 1px, 1px, 1px);height: 1px;margin: -1px;overflow: hidden;padding: 0;position: absolute;width: 1px;}#sk-container-id-7 div.sk-estimator {font-family: monospace;background-color: #f0f8ff;border: 1px dotted black;border-radius: 0.25em;box-sizing: border-box;margin-bottom: 0.5em;}#sk-container-id-7 div.sk-estimator:hover {background-color: #d4ebff;}#sk-container-id-7 div.sk-parallel-item::after {content: \"\";width: 100%;border-bottom: 1px solid gray;flex-grow: 1;}#sk-container-id-7 div.sk-label:hover label.sk-toggleable__label {background-color: #d4ebff;}#sk-container-id-7 div.sk-serial::before {content: \"\";position: absolute;border-left: 1px solid gray;box-sizing: border-box;top: 0;bottom: 0;left: 50%;z-index: 0;}#sk-container-id-7 div.sk-serial {display: flex;flex-direction: column;align-items: center;background-color: white;padding-right: 0.2em;padding-left: 0.2em;position: relative;}#sk-container-id-7 div.sk-item {position: relative;z-index: 1;}#sk-container-id-7 div.sk-parallel {display: flex;align-items: stretch;justify-content: center;background-color: white;position: relative;}#sk-container-id-7 div.sk-item::before, #sk-container-id-7 div.sk-parallel-item::before {content: \"\";position: absolute;border-left: 1px solid gray;box-sizing: border-box;top: 0;bottom: 0;left: 50%;z-index: -1;}#sk-container-id-7 div.sk-parallel-item {display: flex;flex-direction: column;z-index: 1;position: relative;background-color: white;}#sk-container-id-7 div.sk-parallel-item:first-child::after {align-self: flex-end;width: 50%;}#sk-container-id-7 div.sk-parallel-item:last-child::after {align-self: flex-start;width: 50%;}#sk-container-id-7 div.sk-parallel-item:only-child::after {width: 0;}#sk-container-id-7 div.sk-dashed-wrapped {border: 1px dashed gray;margin: 0 0.4em 0.5em 0.4em;box-sizing: border-box;padding-bottom: 0.4em;background-color: white;}#sk-container-id-7 div.sk-label label {font-family: monospace;font-weight: bold;display: inline-block;line-height: 1.2em;}#sk-container-id-7 div.sk-label-container {text-align: center;}#sk-container-id-7 div.sk-container {/* jupyter's `normalize.less` sets `[hidden] { display: none; }` but bootstrap.min.css set `[hidden] { display: none !important; }` so we also need the `!important` here to be able to override the default hidden behavior on the sphinx rendered scikit-learn.org. See: https://github.com/scikit-learn/scikit-learn/issues/21755 */display: inline-block !important;position: relative;}#sk-container-id-7 div.sk-text-repr-fallback {display: none;}</style><div id=\"sk-container-id-7\" class=\"sk-top-container\"><div class=\"sk-text-repr-fallback\"><pre>Pipeline(steps=[(&#x27;columntransformer&#x27;,\n",
       "                 ColumnTransformer(transformers=[(&#x27;standardscaler&#x27;,\n",
       "                                                  StandardScaler(),\n",
       "                                                  [&#x27;packages&#x27;, &#x27;distance&#x27;,\n",
       "                                                   &#x27;year&#x27;, &#x27;month&#x27;, &#x27;day&#x27;,\n",
       "                                                   &#x27;hour&#x27;, &#x27;minute&#x27;]),\n",
       "                                                 (&#x27;ordinalencoder&#x27;,\n",
       "                                                  OrdinalEncoder(),\n",
       "                                                  [&#x27;traffic&#x27;, &#x27;preference&#x27;,\n",
       "                                                   &#x27;fog&#x27;, &#x27;rain&#x27;, &#x27;snow&#x27;,\n",
       "                                                   &#x27;hail&#x27;])])),\n",
       "                (&#x27;xgbregressor&#x27;,\n",
       "                 XGBRegressor(base_score=None, booster=None, callbacks=None,\n",
       "                              colsample_bylevel=No...\n",
       "                              eval_metric=None, feature_types=None, gamma=None,\n",
       "                              grow_policy=None, importance_type=None,\n",
       "                              interaction_constraints=None, learning_rate=None,\n",
       "                              max_bin=None, max_cat_threshold=None,\n",
       "                              max_cat_to_onehot=None, max_delta_step=None,\n",
       "                              max_depth=3, max_leaves=None, min_child_weight=30,\n",
       "                              missing=nan, monotone_constraints=None,\n",
       "                              multi_strategy=None, n_estimators=None,\n",
       "                              n_jobs=None, num_parallel_tree=None, ...))])</pre><b>In a Jupyter environment, please rerun this cell to show the HTML representation or trust the notebook. <br />On GitHub, the HTML representation is unable to render, please try loading this page with nbviewer.org.</b></div><div class=\"sk-container\" hidden><div class=\"sk-item sk-dashed-wrapped\"><div class=\"sk-label-container\"><div class=\"sk-label sk-toggleable\"><input class=\"sk-toggleable__control sk-hidden--visually\" id=\"sk-estimator-id-27\" type=\"checkbox\" ><label for=\"sk-estimator-id-27\" class=\"sk-toggleable__label sk-toggleable__label-arrow\">Pipeline</label><div class=\"sk-toggleable__content\"><pre>Pipeline(steps=[(&#x27;columntransformer&#x27;,\n",
       "                 ColumnTransformer(transformers=[(&#x27;standardscaler&#x27;,\n",
       "                                                  StandardScaler(),\n",
       "                                                  [&#x27;packages&#x27;, &#x27;distance&#x27;,\n",
       "                                                   &#x27;year&#x27;, &#x27;month&#x27;, &#x27;day&#x27;,\n",
       "                                                   &#x27;hour&#x27;, &#x27;minute&#x27;]),\n",
       "                                                 (&#x27;ordinalencoder&#x27;,\n",
       "                                                  OrdinalEncoder(),\n",
       "                                                  [&#x27;traffic&#x27;, &#x27;preference&#x27;,\n",
       "                                                   &#x27;fog&#x27;, &#x27;rain&#x27;, &#x27;snow&#x27;,\n",
       "                                                   &#x27;hail&#x27;])])),\n",
       "                (&#x27;xgbregressor&#x27;,\n",
       "                 XGBRegressor(base_score=None, booster=None, callbacks=None,\n",
       "                              colsample_bylevel=No...\n",
       "                              eval_metric=None, feature_types=None, gamma=None,\n",
       "                              grow_policy=None, importance_type=None,\n",
       "                              interaction_constraints=None, learning_rate=None,\n",
       "                              max_bin=None, max_cat_threshold=None,\n",
       "                              max_cat_to_onehot=None, max_delta_step=None,\n",
       "                              max_depth=3, max_leaves=None, min_child_weight=30,\n",
       "                              missing=nan, monotone_constraints=None,\n",
       "                              multi_strategy=None, n_estimators=None,\n",
       "                              n_jobs=None, num_parallel_tree=None, ...))])</pre></div></div></div><div class=\"sk-serial\"><div class=\"sk-item sk-dashed-wrapped\"><div class=\"sk-label-container\"><div class=\"sk-label sk-toggleable\"><input class=\"sk-toggleable__control sk-hidden--visually\" id=\"sk-estimator-id-28\" type=\"checkbox\" ><label for=\"sk-estimator-id-28\" class=\"sk-toggleable__label sk-toggleable__label-arrow\">columntransformer: ColumnTransformer</label><div class=\"sk-toggleable__content\"><pre>ColumnTransformer(transformers=[(&#x27;standardscaler&#x27;, StandardScaler(),\n",
       "                                 [&#x27;packages&#x27;, &#x27;distance&#x27;, &#x27;year&#x27;, &#x27;month&#x27;,\n",
       "                                  &#x27;day&#x27;, &#x27;hour&#x27;, &#x27;minute&#x27;]),\n",
       "                                (&#x27;ordinalencoder&#x27;, OrdinalEncoder(),\n",
       "                                 [&#x27;traffic&#x27;, &#x27;preference&#x27;, &#x27;fog&#x27;, &#x27;rain&#x27;,\n",
       "                                  &#x27;snow&#x27;, &#x27;hail&#x27;])])</pre></div></div></div><div class=\"sk-parallel\"><div class=\"sk-parallel-item\"><div class=\"sk-item\"><div class=\"sk-label-container\"><div class=\"sk-label sk-toggleable\"><input class=\"sk-toggleable__control sk-hidden--visually\" id=\"sk-estimator-id-29\" type=\"checkbox\" ><label for=\"sk-estimator-id-29\" class=\"sk-toggleable__label sk-toggleable__label-arrow\">standardscaler</label><div class=\"sk-toggleable__content\"><pre>[&#x27;packages&#x27;, &#x27;distance&#x27;, &#x27;year&#x27;, &#x27;month&#x27;, &#x27;day&#x27;, &#x27;hour&#x27;, &#x27;minute&#x27;]</pre></div></div></div><div class=\"sk-serial\"><div class=\"sk-item\"><div class=\"sk-estimator sk-toggleable\"><input class=\"sk-toggleable__control sk-hidden--visually\" id=\"sk-estimator-id-30\" type=\"checkbox\" ><label for=\"sk-estimator-id-30\" class=\"sk-toggleable__label sk-toggleable__label-arrow\">StandardScaler</label><div class=\"sk-toggleable__content\"><pre>StandardScaler()</pre></div></div></div></div></div></div><div class=\"sk-parallel-item\"><div class=\"sk-item\"><div class=\"sk-label-container\"><div class=\"sk-label sk-toggleable\"><input class=\"sk-toggleable__control sk-hidden--visually\" id=\"sk-estimator-id-31\" type=\"checkbox\" ><label for=\"sk-estimator-id-31\" class=\"sk-toggleable__label sk-toggleable__label-arrow\">ordinalencoder</label><div class=\"sk-toggleable__content\"><pre>[&#x27;traffic&#x27;, &#x27;preference&#x27;, &#x27;fog&#x27;, &#x27;rain&#x27;, &#x27;snow&#x27;, &#x27;hail&#x27;]</pre></div></div></div><div class=\"sk-serial\"><div class=\"sk-item\"><div class=\"sk-estimator sk-toggleable\"><input class=\"sk-toggleable__control sk-hidden--visually\" id=\"sk-estimator-id-32\" type=\"checkbox\" ><label for=\"sk-estimator-id-32\" class=\"sk-toggleable__label sk-toggleable__label-arrow\">OrdinalEncoder</label><div class=\"sk-toggleable__content\"><pre>OrdinalEncoder()</pre></div></div></div></div></div></div></div></div><div class=\"sk-item\"><div class=\"sk-estimator sk-toggleable\"><input class=\"sk-toggleable__control sk-hidden--visually\" id=\"sk-estimator-id-33\" type=\"checkbox\" ><label for=\"sk-estimator-id-33\" class=\"sk-toggleable__label sk-toggleable__label-arrow\">XGBRegressor</label><div class=\"sk-toggleable__content\"><pre>XGBRegressor(base_score=None, booster=None, callbacks=None,\n",
       "             colsample_bylevel=None, colsample_bynode=None,\n",
       "             colsample_bytree=None, device=None, early_stopping_rounds=None,\n",
       "             enable_categorical=False, eta=0.2, eval_metric=None,\n",
       "             feature_types=None, gamma=None, grow_policy=None,\n",
       "             importance_type=None, interaction_constraints=None,\n",
       "             learning_rate=None, max_bin=None, max_cat_threshold=None,\n",
       "             max_cat_to_onehot=None, max_delta_step=None, max_depth=3,\n",
       "             max_leaves=None, min_child_weight=30, missing=nan,\n",
       "             monotone_constraints=None, multi_strategy=None, n_estimators=None,\n",
       "             n_jobs=None, num_parallel_tree=None, ...)</pre></div></div></div></div></div></div></div>"
      ],
      "text/plain": [
       "Pipeline(steps=[('columntransformer',\n",
       "                 ColumnTransformer(transformers=[('standardscaler',\n",
       "                                                  StandardScaler(),\n",
       "                                                  ['packages', 'distance',\n",
       "                                                   'year', 'month', 'day',\n",
       "                                                   'hour', 'minute']),\n",
       "                                                 ('ordinalencoder',\n",
       "                                                  OrdinalEncoder(),\n",
       "                                                  ['traffic', 'preference',\n",
       "                                                   'fog', 'rain', 'snow',\n",
       "                                                   'hail'])])),\n",
       "                ('xgbregressor',\n",
       "                 XGBRegressor(base_score=None, booster=None, callbacks=None,\n",
       "                              colsample_bylevel=No...\n",
       "                              eval_metric=None, feature_types=None, gamma=None,\n",
       "                              grow_policy=None, importance_type=None,\n",
       "                              interaction_constraints=None, learning_rate=None,\n",
       "                              max_bin=None, max_cat_threshold=None,\n",
       "                              max_cat_to_onehot=None, max_delta_step=None,\n",
       "                              max_depth=3, max_leaves=None, min_child_weight=30,\n",
       "                              missing=nan, monotone_constraints=None,\n",
       "                              multi_strategy=None, n_estimators=None,\n",
       "                              n_jobs=None, num_parallel_tree=None, ...))])"
      ]
     },
     "execution_count": 96,
     "metadata": {},
     "output_type": "execute_result"
    }
   ],
   "source": [
    "# Train with full_train.\n",
    "xgb_final = make_pipeline(preprocessor, \n",
    "                          XGBRegressor(eta=eta, \n",
    "                                       max_depth=max_depth, \n",
    "                                       min_child_weight=min_child_weight))\n",
    "\n",
    "xgb_final.fit(X_full_train, y_full_train)"
   ]
  },
  {
   "cell_type": "code",
   "execution_count": 97,
   "metadata": {},
   "outputs": [
    {
     "name": "stdout",
     "output_type": "stream",
     "text": [
      "RMSE: 1.55\n",
      "MAE: 1.30\n"
     ]
    }
   ],
   "source": [
    "# Compute RMSE and MAE.\n",
    "pred_test = xgb_final.predict(X_test)\n",
    "\n",
    "rmse = np.sqrt(mean_squared_error(y_test, pred_test))\n",
    "mae = mean_absolute_error(y_test, pred_test)\n",
    "\n",
    "print(f\"RMSE: {rmse:.2f}\")\n",
    "print(f\"MAE: {mae:.2f}\")"
   ]
  },
  {
   "cell_type": "code",
   "execution_count": 98,
   "metadata": {},
   "outputs": [],
   "source": [
    "# Save the xgb_regressor model.\n",
    "pickle.dump(xgb_final, \n",
    "            gzip.open('./data/Project_Notes_011_renewable_xgb.pkl', 'wb'), \n",
    "            protocol=pickle.HIGHEST_PROTOCOL)"
   ]
  },
  {
   "cell_type": "code",
   "execution_count": 99,
   "metadata": {},
   "outputs": [],
   "source": [
    "# load the xgb_regressor model.\n",
    "loaded_model = pickle.load(gzip.open('./data/Project_Notes_011_renewable_xgb.pkl', 'rb'))"
   ]
  },
  {
   "cell_type": "markdown",
   "metadata": {},
   "source": [
    "### Use The XGB Model For Some Predictions"
   ]
  },
  {
   "cell_type": "code",
   "execution_count": 100,
   "metadata": {},
   "outputs": [],
   "source": [
    "# Create function to predict the raw data\n",
    "def predict_data(raw_data):\n",
    "    data_frame = pd.DataFrame(raw_data, index=[0])\n",
    "    data_predict = loaded_model.predict(data_frame)\n",
    "    return data_predict[0]"
   ]
  },
  {
   "cell_type": "code",
   "execution_count": 101,
   "metadata": {},
   "outputs": [
    {
     "data": {
      "text/plain": [
       "traffic              Low\n",
       "packages               2\n",
       "preference       Morning\n",
       "distance      133.539599\n",
       "fog              Unknown\n",
       "rain                 Low\n",
       "snow             Unknown\n",
       "hail             Unknown\n",
       "year                2020\n",
       "month                  3\n",
       "day                    7\n",
       "hour                  10\n",
       "minute                 5\n",
       "delivery        4.738282\n",
       "Name: 2120, dtype: object"
      ]
     },
     "execution_count": 101,
     "metadata": {},
     "output_type": "execute_result"
    }
   ],
   "source": [
    "# Get the sample data to use.\n",
    "sample_data = df.loc[2120]\n",
    "sample_data"
   ]
  },
  {
   "cell_type": "code",
   "execution_count": 102,
   "metadata": {},
   "outputs": [
    {
     "data": {
      "text/plain": [
       "{'traffic': 'Low',\n",
       " 'packages': 2,\n",
       " 'preference': 'Morning',\n",
       " 'distance': 133.53959872358544,\n",
       " 'fog': 'Unknown',\n",
       " 'rain': 'Low',\n",
       " 'snow': 'Unknown',\n",
       " 'hail': 'Unknown',\n",
       " 'year': 2020,\n",
       " 'month': 3,\n",
       " 'day': 7,\n",
       " 'hour': 10,\n",
       " 'minute': 5}"
      ]
     },
     "execution_count": 102,
     "metadata": {},
     "output_type": "execute_result"
    }
   ],
   "source": [
    "raw_data = {\n",
    "    'traffic': sample_data.loc['traffic'],\n",
    "    'packages': sample_data.loc['packages'],\n",
    "    'preference': sample_data.loc['preference'],\n",
    "    'distance': sample_data.loc['distance'],\n",
    "    'fog': sample_data.loc['fog'],\n",
    "    'rain': sample_data.loc['rain'],\n",
    "    'snow': sample_data.loc['snow'],\n",
    "    'hail': sample_data.loc['hail'],\n",
    "    'year': sample_data.loc['year'],\n",
    "    'month': sample_data.loc['month'],\n",
    "    'day': sample_data.loc['day'],\n",
    "    'hour': sample_data.loc['hour'],\n",
    "    'minute': sample_data.loc['minute']\n",
    "}\n",
    "\n",
    "raw_data"
   ]
  },
  {
   "cell_type": "code",
   "execution_count": 103,
   "metadata": {},
   "outputs": [
    {
     "data": {
      "text/plain": [
       "4.7583795"
      ]
     },
     "execution_count": 103,
     "metadata": {},
     "output_type": "execute_result"
    }
   ],
   "source": [
    "# Compute prediction\n",
    "prediction = predict_data(raw_data)\n",
    "prediction"
   ]
  },
  {
   "cell_type": "code",
   "execution_count": 104,
   "metadata": {},
   "outputs": [
    {
     "data": {
      "text/plain": [
       "traffic         Moderate\n",
       "packages               3\n",
       "preference       Morning\n",
       "distance      174.223568\n",
       "fog              Unknown\n",
       "rain             Unknown\n",
       "snow             Unknown\n",
       "hail             Unknown\n",
       "year                2023\n",
       "month                  9\n",
       "day                    9\n",
       "hour                   6\n",
       "minute                 6\n",
       "delivery        7.041586\n",
       "Name: 8532, dtype: object"
      ]
     },
     "execution_count": 104,
     "metadata": {},
     "output_type": "execute_result"
    }
   ],
   "source": [
    "# Get the sample data to use.\n",
    "sample_data = df.loc[8532]\n",
    "sample_data"
   ]
  },
  {
   "cell_type": "code",
   "execution_count": 105,
   "metadata": {},
   "outputs": [
    {
     "data": {
      "text/plain": [
       "{'traffic': 'Moderate',\n",
       " 'packages': 3,\n",
       " 'preference': 'Morning',\n",
       " 'distance': 174.22356768163223,\n",
       " 'fog': 'Unknown',\n",
       " 'rain': 'Unknown',\n",
       " 'snow': 'Unknown',\n",
       " 'hail': 'Unknown',\n",
       " 'year': 2023,\n",
       " 'month': 9,\n",
       " 'day': 9,\n",
       " 'hour': 6,\n",
       " 'minute': 6}"
      ]
     },
     "execution_count": 105,
     "metadata": {},
     "output_type": "execute_result"
    }
   ],
   "source": [
    "raw_data = {\n",
    "    'traffic': sample_data.loc['traffic'],\n",
    "    'packages': sample_data.loc['packages'],\n",
    "    'preference': sample_data.loc['preference'],\n",
    "    'distance': sample_data.loc['distance'],\n",
    "    'fog': sample_data.loc['fog'],\n",
    "    'rain': sample_data.loc['rain'],\n",
    "    'snow': sample_data.loc['snow'],\n",
    "    'hail': sample_data.loc['hail'],\n",
    "    'year': sample_data.loc['year'],\n",
    "    'month': sample_data.loc['month'],\n",
    "    'day': sample_data.loc['day'],\n",
    "    'hour': sample_data.loc['hour'],\n",
    "    'minute': sample_data.loc['minute']\n",
    "}\n",
    "\n",
    "raw_data"
   ]
  },
  {
   "cell_type": "code",
   "execution_count": 106,
   "metadata": {},
   "outputs": [
    {
     "data": {
      "text/plain": [
       "7.0581007"
      ]
     },
     "execution_count": 106,
     "metadata": {},
     "output_type": "execute_result"
    }
   ],
   "source": [
    "# Compute prediction\n",
    "prediction = predict_data(raw_data)\n",
    "prediction"
   ]
  },
  {
   "cell_type": "code",
   "execution_count": 107,
   "metadata": {},
   "outputs": [
    {
     "data": {
      "text/plain": [
       "traffic              Low\n",
       "packages               5\n",
       "preference       Evening\n",
       "distance      155.316108\n",
       "fog                  Mid\n",
       "rain             Unknown\n",
       "snow             Unknown\n",
       "hail             Unknown\n",
       "year                2022\n",
       "month                  3\n",
       "day                    2\n",
       "hour                  11\n",
       "minute                43\n",
       "delivery        6.745776\n",
       "Name: 11065, dtype: object"
      ]
     },
     "execution_count": 107,
     "metadata": {},
     "output_type": "execute_result"
    }
   ],
   "source": [
    "# Get the sample data to use.\n",
    "sample_data = df.loc[11065]\n",
    "sample_data"
   ]
  },
  {
   "cell_type": "code",
   "execution_count": 108,
   "metadata": {},
   "outputs": [
    {
     "data": {
      "text/plain": [
       "{'traffic': 'Low',\n",
       " 'packages': 5,\n",
       " 'preference': 'Evening',\n",
       " 'distance': 155.3161075954646,\n",
       " 'fog': 'Mid',\n",
       " 'rain': 'Unknown',\n",
       " 'snow': 'Unknown',\n",
       " 'hail': 'Unknown',\n",
       " 'year': 2022,\n",
       " 'month': 3,\n",
       " 'day': 2,\n",
       " 'hour': 11,\n",
       " 'minute': 43}"
      ]
     },
     "execution_count": 108,
     "metadata": {},
     "output_type": "execute_result"
    }
   ],
   "source": [
    "raw_data = {\n",
    "    'traffic': sample_data.loc['traffic'],\n",
    "    'packages': sample_data.loc['packages'],\n",
    "    'preference': sample_data.loc['preference'],\n",
    "    'distance': sample_data.loc['distance'],\n",
    "    'fog': sample_data.loc['fog'],\n",
    "    'rain': sample_data.loc['rain'],\n",
    "    'snow': sample_data.loc['snow'],\n",
    "    'hail': sample_data.loc['hail'],\n",
    "    'year': sample_data.loc['year'],\n",
    "    'month': sample_data.loc['month'],\n",
    "    'day': sample_data.loc['day'],\n",
    "    'hour': sample_data.loc['hour'],\n",
    "    'minute': sample_data.loc['minute']\n",
    "}\n",
    "\n",
    "raw_data"
   ]
  },
  {
   "cell_type": "code",
   "execution_count": 109,
   "metadata": {},
   "outputs": [
    {
     "data": {
      "text/plain": [
       "6.302852"
      ]
     },
     "execution_count": 109,
     "metadata": {},
     "output_type": "execute_result"
    }
   ],
   "source": [
    "# Compute prediction\n",
    "prediction = predict_data(raw_data)\n",
    "prediction"
   ]
  },
  {
   "cell_type": "code",
   "execution_count": 110,
   "metadata": {},
   "outputs": [
    {
     "data": {
      "text/plain": [
       "traffic            High\n",
       "packages             11\n",
       "preference      Morning\n",
       "distance      87.086422\n",
       "fog                 Mid\n",
       "rain                Mid\n",
       "snow                Mid\n",
       "hail                Low\n",
       "year               2022\n",
       "month                 4\n",
       "day                  21\n",
       "hour                  3\n",
       "minute               48\n",
       "delivery      10.840608\n",
       "Name: 759, dtype: object"
      ]
     },
     "execution_count": 110,
     "metadata": {},
     "output_type": "execute_result"
    }
   ],
   "source": [
    "# Get the sample data to use.\n",
    "sample_data = df.loc[759]\n",
    "sample_data"
   ]
  },
  {
   "cell_type": "code",
   "execution_count": 111,
   "metadata": {},
   "outputs": [
    {
     "data": {
      "text/plain": [
       "{'traffic': 'High',\n",
       " 'packages': 11,\n",
       " 'preference': 'Morning',\n",
       " 'distance': 87.08642239422535,\n",
       " 'fog': 'Mid',\n",
       " 'rain': 'Mid',\n",
       " 'snow': 'Mid',\n",
       " 'hail': 'Low',\n",
       " 'year': 2022,\n",
       " 'month': 4,\n",
       " 'day': 21,\n",
       " 'hour': 3,\n",
       " 'minute': 48}"
      ]
     },
     "execution_count": 111,
     "metadata": {},
     "output_type": "execute_result"
    }
   ],
   "source": [
    "raw_data = {\n",
    "    'traffic': sample_data.loc['traffic'],\n",
    "    'packages': sample_data.loc['packages'],\n",
    "    'preference': sample_data.loc['preference'],\n",
    "    'distance': sample_data.loc['distance'],\n",
    "    'fog': sample_data.loc['fog'],\n",
    "    'rain': sample_data.loc['rain'],\n",
    "    'snow': sample_data.loc['snow'],\n",
    "    'hail': sample_data.loc['hail'],\n",
    "    'year': sample_data.loc['year'],\n",
    "    'month': sample_data.loc['month'],\n",
    "    'day': sample_data.loc['day'],\n",
    "    'hour': sample_data.loc['hour'],\n",
    "    'minute': sample_data.loc['minute']\n",
    "}\n",
    "\n",
    "raw_data"
   ]
  },
  {
   "cell_type": "code",
   "execution_count": 112,
   "metadata": {},
   "outputs": [
    {
     "data": {
      "text/plain": [
       "9.57716"
      ]
     },
     "execution_count": 112,
     "metadata": {},
     "output_type": "execute_result"
    }
   ],
   "source": [
    "# Compute prediction\n",
    "prediction = predict_data(raw_data)\n",
    "prediction"
   ]
  },
  {
   "cell_type": "code",
   "execution_count": 113,
   "metadata": {},
   "outputs": [
    {
     "data": {
      "text/plain": [
       "traffic              Low\n",
       "packages               4\n",
       "preference     Afternoon\n",
       "distance      145.937363\n",
       "fog                  Low\n",
       "rain                 Mid\n",
       "snow                 Low\n",
       "hail                 Low\n",
       "year                2023\n",
       "month                  8\n",
       "day                   25\n",
       "hour                  17\n",
       "minute                36\n",
       "delivery         9.77849\n",
       "Name: 129281, dtype: object"
      ]
     },
     "execution_count": 113,
     "metadata": {},
     "output_type": "execute_result"
    }
   ],
   "source": [
    "# Get the sample data to use.\n",
    "sample_data = df.loc[129281]\n",
    "sample_data"
   ]
  },
  {
   "cell_type": "code",
   "execution_count": 114,
   "metadata": {},
   "outputs": [
    {
     "data": {
      "text/plain": [
       "{'traffic': 'Low',\n",
       " 'packages': 4,\n",
       " 'preference': 'Afternoon',\n",
       " 'distance': 145.93736296224964,\n",
       " 'fog': 'Low',\n",
       " 'rain': 'Mid',\n",
       " 'snow': 'Low',\n",
       " 'hail': 'Low',\n",
       " 'year': 2023,\n",
       " 'month': 8,\n",
       " 'day': 25,\n",
       " 'hour': 17,\n",
       " 'minute': 36}"
      ]
     },
     "execution_count": 114,
     "metadata": {},
     "output_type": "execute_result"
    }
   ],
   "source": [
    "raw_data = {\n",
    "    'traffic': sample_data.loc['traffic'],\n",
    "    'packages': sample_data.loc['packages'],\n",
    "    'preference': sample_data.loc['preference'],\n",
    "    'distance': sample_data.loc['distance'],\n",
    "    'fog': sample_data.loc['fog'],\n",
    "    'rain': sample_data.loc['rain'],\n",
    "    'snow': sample_data.loc['snow'],\n",
    "    'hail': sample_data.loc['hail'],\n",
    "    'year': sample_data.loc['year'],\n",
    "    'month': sample_data.loc['month'],\n",
    "    'day': sample_data.loc['day'],\n",
    "    'hour': sample_data.loc['hour'],\n",
    "    'minute': sample_data.loc['minute']\n",
    "}\n",
    "\n",
    "raw_data"
   ]
  },
  {
   "cell_type": "code",
   "execution_count": 115,
   "metadata": {},
   "outputs": [
    {
     "data": {
      "text/plain": [
       "8.530756"
      ]
     },
     "execution_count": 115,
     "metadata": {},
     "output_type": "execute_result"
    }
   ],
   "source": [
    "# Compute prediction\n",
    "prediction = predict_data(raw_data)\n",
    "prediction"
   ]
  }
 ],
 "metadata": {
  "colab": {
   "authorship_tag": "ABX9TyNk+0jwL7KFK68k6la7ai4B",
   "mount_file_id": "10JtOVlQnt7H1I8-2Pi3BraSIKzDQYvLz",
   "provenance": []
  },
  "kernelspec": {
   "display_name": "Python 3 (ipykernel)",
   "language": "python",
   "name": "python3"
  },
  "language_info": {
   "codemirror_mode": {
    "name": "ipython",
    "version": 3
   },
   "file_extension": ".py",
   "mimetype": "text/x-python",
   "name": "python",
   "nbconvert_exporter": "python",
   "pygments_lexer": "ipython3",
   "version": "3.11.5"
  }
 },
 "nbformat": 4,
 "nbformat_minor": 4
}
